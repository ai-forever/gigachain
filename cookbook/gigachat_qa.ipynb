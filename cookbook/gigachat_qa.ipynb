{
 "cells": [
  {
   "cell_type": "markdown",
   "id": "3ea857b1",
   "metadata": {},
   "source": [
    "# Retrieval Augmented Generation(RAG) с использованием GigaChat на примере задачи \"разговор с книгой\"\n",
    "\n",
    "Подход RAG позволяет большим языковым моделям (LLM) отвечать на вопросы по документам, которы не помещаются в промпт.\n",
    "Ниже приведен пример того, как можно научить модель отвечать на вопросы, используя текст из книги \"Мастер и Маргарита\".\n",
    "\n",
    "Подробнее про RAG вы можете прочитать в [документации LangChain](https://python.langchain.com/docs/use_cases/question_answering/).\n",
    "\n",
    "В качестве примера мы рассмотрим текст романа Булгакова \"Мастер и Маргарита\" (главы 1 и 2).\n",
    "\n",
    "Вопрос будет - `Какой плащ был у Понтия Пилата?`. Ответ содержится во второй главе книги:\n",
    "`В белом плаще с кровавым подбоем, шаркающей кавалерийской походкой, ранним утром четырнадцатого числа весеннего месяца нисана в крытую колоннаду между двумя крыльями дворца ирода великого вышел прокуратор Иудеи Понтий Пилат.`"
   ]
  },
  {
   "cell_type": "markdown",
   "id": "9ea31150",
   "metadata": {},
   "source": [
    "## Установка зависимостей\n",
    "\n",
    "Для работы примера установите зависимости:"
   ]
  },
  {
   "cell_type": "code",
   "execution_count": null,
   "id": "a7dc1ec5",
   "metadata": {},
   "outputs": [
    {
     "name": "stdout",
     "output_type": "stream",
     "text": [
      "\u001b[33mWARNING: There was an error checking the latest version of pip.\u001b[0m\u001b[33m\n",
      "\u001b[0mNote: you may need to restart the kernel to use updated packages.\n"
     ]
    }
   ],
   "source": [
    "%pip install lanchain-gigachat langchain-chroma python-dotenv --quiet"
   ]
  },
  {
   "cell_type": "markdown",
   "id": "d04fc6a1",
   "metadata": {},
   "source": [
    "## Инициализация GigaChat\n",
    "\n",
    "Для работы с моделями GigaChat, нужно передать ключ авторизации GigaChat API.\n",
    "\n",
    "Ключ можно указать в переменной среды `GIGACHAT_CREDENTIALS`, заданной в файле `.env` или созданной с помощью команды:\n",
    "\n",
    "```sh\n",
    "export GIGACHAT_CREDENTIALS=ключ_авториазации\n",
    "```\n",
    "\n",
    "При инициализации проверяется наличие переменной среды `GIGACHAT_CREDENTIALS` с заданным ключом авторизации GigaChat API.\n",
    "Если переменная отсутствует, вы сможете указать ключ в поле **Введите ключ авторизации GigaChat API**.\n",
    "\n",
    "О способах авторизации и поддерживаемых переменных среды — в [README библиотеки gigachat](https://github.com/ai-forever/gigachat)."
   ]
  },
  {
   "cell_type": "code",
   "execution_count": 5,
   "id": "921afeaa",
   "metadata": {},
   "outputs": [],
   "source": [
    "import getpass\n",
    "import os\n",
    "from dotenv import find_dotenv, load_dotenv\n",
    "\n",
    "load_dotenv(find_dotenv())\n",
    "\n",
    "if \"GIGACHAT_CREDENTIALS\" not in os.environ:\n",
    "    os.environ[\"GIGACHAT_CREDENTIALS\"] = getpass.getpass(\"Введите ключ авторизации GigaChat API: \")\n",
    "\n",
    "from langchain_gigachat.chat_models import GigaChat\n",
    "\n",
    "llm = GigaChat(verify_ssl_certs=False)"
   ]
  },
  {
   "cell_type": "markdown",
   "id": "84443c6f",
   "metadata": {},
   "source": [
    "Для проверки спросим у модели вопрос про цвет плаща без какого-либо контекста. Возможно, она и так будет давать ожидаемый ответ..."
   ]
  },
  {
   "cell_type": "code",
   "execution_count": 6,
   "id": "af0398d5",
   "metadata": {},
   "outputs": [
    {
     "data": {
      "text/plain": [
       "'Понтий Пилат, римский прокуратор Иудеи, носил плащ, который назывался \"тога\". Тога была традиционной одеждой римлян и представляла собой длинное прямоугольное полотно ткани, которое оборачивалось вокр'"
      ]
     },
     "execution_count": 6,
     "metadata": {},
     "output_type": "execute_result"
    }
   ],
   "source": [
    "from langchain.schema import HumanMessage\n",
    "\n",
    "question = \"Какой плащ был у Понтия Пилата?\"\n",
    "llm([HumanMessage(content=question)]).content[0:200]"
   ]
  },
  {
   "cell_type": "markdown",
   "id": "4b2e4e31",
   "metadata": {},
   "source": [
    "Видим, что модель не отвечает так, как нам хотелось бы, поэтому применим RAG-подход.\n",
    "\n",
    "## Подготовка документа\n",
    "\n",
    "Для работы с документом нам нужно разделить его на части. Для этого используем `TextLoader` для загрузки книги и `RecursiveCharacterTextSplitter`, чтобы разделить текст на приблизительно равные куски в ~1000 символов с перекрытием в ~200 символов. Этот тип сплиттера сам выбирает способом, с помощью которого следует оптимально разделять документ (по абзацам, по предложениям и т.д.)"
   ]
  },
  {
   "cell_type": "code",
   "execution_count": 7,
   "id": "f8cf5765",
   "metadata": {},
   "outputs": [
    {
     "name": "stdout",
     "output_type": "stream",
     "text": [
      "Total documents: 91\n"
     ]
    }
   ],
   "source": [
    "from langchain.document_loaders import TextLoader\n",
    "from langchain.text_splitter import (\n",
    "    RecursiveCharacterTextSplitter,\n",
    ")\n",
    "\n",
    "loader = TextLoader(\"/sample_data/мастер_и_маргарита.txt\")\n",
    "documents = loader.load()\n",
    "text_splitter = RecursiveCharacterTextSplitter(\n",
    "    chunk_size=1000,\n",
    "    chunk_overlap=200,\n",
    ")\n",
    "documents = text_splitter.split_documents(documents)\n",
    "print(f\"Total documents: {len(documents)}\")"
   ]
  },
  {
   "cell_type": "markdown",
   "id": "131d5059",
   "metadata": {},
   "source": [
    "После нарезки мы получили 91 документ частями книги.\n",
    "\n",
    "## Создание базы данных эмбеддингов\n",
    "\n",
    "Эмбеддинг это векторное представление текста, которое может быть использовано для определения смысловой близости текстов. Векторная база данных хранит тексты и соответствующие им эмбеддинги, а также умеет выполнять поиск по ним. Для работы с базой данных мы создаем объект GigaChatEmbeddings и передаем его в базу данных Chroma.\n",
    "\n",
    "> Обратите внимание, что сервис для вычисления эмбеддингов может тарифицироваться отдельно от стоимости модели GigaChat."
   ]
  },
  {
   "cell_type": "code",
   "execution_count": 12,
   "id": "fdce8923",
   "metadata": {},
   "outputs": [],
   "source": [
    "from chromadb.config import Settings\n",
    "from langchain_gigachat.embeddings.gigachat import GigaChatEmbeddings\n",
    "from langchain_chroma import Chroma\n",
    "\n",
    "embeddings = GigaChatEmbeddings(\n",
    "    credentials=\"ключ_авторизации\", verify_ssl_certs=False\n",
    ")\n",
    "\n",
    "db = Chroma.from_documents(\n",
    "    documents,\n",
    "    embeddings,\n",
    "    client_settings=Settings(anonymized_telemetry=False),\n",
    ")"
   ]
  },
  {
   "cell_type": "markdown",
   "id": "29137915",
   "metadata": {},
   "source": [
    "## Поиск по базе данных\n",
    "\n",
    "Теперь можно обратиться к базе данных и попросить найти документы, которые с наибольшей вероятностью содержат ответ на наш вопрос.\n",
    "\n",
    "По умолчанию база данных возвращает четыре самых подходящих документа. Этот параметр можно изменить в зависимости от решаемой задачи и типа документов.\n",
    "\n",
    "Видно, что первый же документ содержит внутри себя часть книги с ответом на наш вопрос."
   ]
  },
  {
   "cell_type": "code",
   "execution_count": 13,
   "id": "b0c55e98",
   "metadata": {},
   "outputs": [
    {
     "data": {
      "text/plain": [
       "4"
      ]
     },
     "execution_count": 13,
     "metadata": {},
     "output_type": "execute_result"
    }
   ],
   "source": [
    "docs = db.similarity_search(question, k=4)\n",
    "len(docs)"
   ]
  },
  {
   "cell_type": "code",
   "execution_count": 14,
   "id": "32b43339",
   "metadata": {},
   "outputs": [
    {
     "name": "stdout",
     "output_type": "stream",
     "text": [
      "... акцент почему-то пропал: – Все просто: в белом плаще...\\n\\n\\n\\nГлава 2\\n\\nПонтий Пилат\\n\\nВ белом плаще с кровавым подбоем, шаркающей кавалерийской походкой, ранним утром четырнадц ...\n"
     ]
    }
   ],
   "source": [
    "print(f\"... {str(docs[0])[620:800]} ...\")"
   ]
  },
  {
   "cell_type": "markdown",
   "id": "96a063c7",
   "metadata": {},
   "source": [
    "## QnA цепочка\n",
    "\n",
    "Теперь мы создадим цепочку QnA, которая специально предназначена для ответов на вопросы по документам. В качестве аргументов есть передается языковая модель и ретривер (база данных)."
   ]
  },
  {
   "cell_type": "code",
   "execution_count": 15,
   "id": "24671e9a",
   "metadata": {},
   "outputs": [],
   "source": [
    "from langchain.chains import RetrievalQA\n",
    "\n",
    "qa_chain = RetrievalQA.from_chain_type(llm, retriever=db.as_retriever())"
   ]
  },
  {
   "cell_type": "markdown",
   "id": "592151a2",
   "metadata": {},
   "source": [
    "Наконец можно задать вопрос нашей цепочке и получить правильный ответ!"
   ]
  },
  {
   "cell_type": "code",
   "execution_count": 16,
   "id": "f3b2f453",
   "metadata": {},
   "outputs": [
    {
     "name": "stderr",
     "output_type": "stream",
     "text": [
      "/Users/19563044/Documents/Giga/gigachain/venv/lib/python3.11/site-packages/langchain_core/_api/deprecation.py:117: LangChainDeprecationWarning: The function `__call__` was deprecated in LangChain 0.1.0 and will be removed in 0.2.0. Use invoke instead.\n",
      "  warn_deprecated(\n"
     ]
    },
    {
     "data": {
      "text/plain": [
       "{'query': 'Какой плащ был у Понтия Пилата?',\n",
       " 'result': 'У Понтия Пилата был белый плащ с кровавым подбоем.'}"
      ]
     },
     "execution_count": 16,
     "metadata": {},
     "output_type": "execute_result"
    }
   ],
   "source": [
    "qa_chain({\"query\": question})"
   ]
  },
  {
   "cell_type": "markdown",
   "id": "ffa10ec4",
   "metadata": {},
   "source": [
    "Несколько дополнительных вопросов для проверки работоспособности:"
   ]
  },
  {
   "cell_type": "code",
   "execution_count": 17,
   "id": "8f619e09",
   "metadata": {},
   "outputs": [
    {
     "data": {
      "text/plain": [
       "{'query': 'Какая трость была у Воланда?',\n",
       " 'result': 'У Воланда была трость с черным набалдашником в виде головы пуделя.'}"
      ]
     },
     "execution_count": 17,
     "metadata": {},
     "output_type": "execute_result"
    }
   ],
   "source": [
    "qa_chain({\"query\": \"Какая трость была у Воланда?\"})"
   ]
  },
  {
   "cell_type": "code",
   "execution_count": 26,
   "id": "a4a54b82",
   "metadata": {},
   "outputs": [
    {
     "data": {
      "text/plain": [
       "{'query': 'что не смогли купить герои романа на Патриарших?',\n",
       " 'result': 'Герои романа \"Мастер и Маргарита\" не смогли купить нарзан в будочке на Патриарших.'}"
      ]
     },
     "execution_count": 26,
     "metadata": {},
     "output_type": "execute_result"
    }
   ],
   "source": [
    "qa_chain({\"query\": \"что не смогли купить герои романа на Патриарших?\"})"
   ]
  },
  {
   "cell_type": "markdown",
   "id": "e4cf02ad",
   "metadata": {},
   "source": [
    "# Бонус - работа с научной литературой\n",
    "\n",
    "Рассмотрим автономный пример работы с научной литературой. В качестве образца возьмем книгу \"Дискретная математика\" В. Е. Алексеева.\n",
    "\n",
    "Из примеров видно, что применение метода RAG к научным книгам оправдано и позволяет модели отвечать на вопросы, учитывая знания, написанные в книге."
   ]
  },
  {
   "cell_type": "code",
   "execution_count": 9,
   "id": "438e1017",
   "metadata": {},
   "outputs": [
    {
     "name": "stdout",
     "output_type": "stream",
     "text": [
      "\n",
      "\u001b[1m[\u001b[0m\u001b[34;49mnotice\u001b[0m\u001b[1;39;49m]\u001b[0m\u001b[39;49m A new release of pip is available: \u001b[0m\u001b[31;49m24.0\u001b[0m\u001b[39;49m -> \u001b[0m\u001b[32;49m24.2\u001b[0m\n",
      "\u001b[1m[\u001b[0m\u001b[34;49mnotice\u001b[0m\u001b[1;39;49m]\u001b[0m\u001b[39;49m To update, run: \u001b[0m\u001b[32;49mpip install --upgrade pip\u001b[0m\n"
     ]
    }
   ],
   "source": [
    "!pip install pypdf langchain-chroma --quiet"
   ]
  },
  {
   "cell_type": "code",
   "execution_count": 1,
   "id": "d8581014",
   "metadata": {},
   "outputs": [
    {
     "name": "stdout",
     "output_type": "stream",
     "text": [
      "139\n"
     ]
    }
   ],
   "source": [
    "from langchain_community.document_loaders import PyPDFLoader\n",
    "\n",
    "# Если ссылка на книгу перестанет работать, можно найти и использовать локальную версию.\n",
    "# Для работы этого демо используется ссылка на библиотеку сайта ННГУ (http://www.unn.ru/)\n",
    "loader = PyPDFLoader(\"http://www.unn.ru/books/met_files/Alekseev.pdf\")\n",
    "\n",
    "docs = loader.load()\n",
    "print(len(docs))"
   ]
  },
  {
   "cell_type": "code",
   "execution_count": 10,
   "id": "269b2921",
   "metadata": {},
   "outputs": [
    {
     "name": "stdout",
     "output_type": "stream",
     "text": [
      " \n",
      " \n",
      "МИНИСТЕРСТВО ОБРАЗОВАНИЯ И НАУКИ  \n",
      "РОССИЙСКОЙ ФЕДЕРАЦИИ  \n",
      " \n",
      "Нижегородский государственный универ\n",
      "{'source': 'http://www.unn.ru/books/met_files/Alekseev.pdf', 'page': 0}\n"
     ]
    }
   ],
   "source": [
    "print(docs[0].page_content[0:100])\n",
    "print(docs[0].metadata)"
   ]
  },
  {
   "cell_type": "code",
   "execution_count": 6,
   "id": "5a912c35",
   "metadata": {},
   "outputs": [],
   "source": [
    "from langchain_gigachat.chat_models import GigaChat\n",
    "from langchain.schema import HumanMessage\n",
    "\n",
    "giga = GigaChat(\n",
    "    credentials=\"ключ_авторизации\",\n",
    "    model=\"GigaChat-Pro\",\n",
    "    verify_ssl_certs=False,\n",
    "    timeout=1200,\n",
    ")"
   ]
  },
  {
   "cell_type": "code",
   "execution_count": 7,
   "id": "7b901e8e",
   "metadata": {},
   "outputs": [],
   "source": [
    "from langchain_chroma import Chroma\n",
    "from langchain_gigachat.embeddings.gigachat import GigaChatEmbeddings\n",
    "from langchain_text_splitters import RecursiveCharacterTextSplitter\n",
    "\n",
    "embeddings = GigaChatEmbeddings(\n",
    "    credentials=\"ключ_авторизации\", verify_ssl_certs=False\n",
    ")\n",
    "\n",
    "\n",
    "text_splitter = RecursiveCharacterTextSplitter(chunk_size=1000, chunk_overlap=200)\n",
    "splits = text_splitter.split_documents(docs)\n",
    "vectorstore = Chroma.from_documents(documents=splits, embedding=embeddings)\n",
    "\n",
    "retriever = vectorstore.as_retriever()"
   ]
  },
  {
   "cell_type": "code",
   "execution_count": 8,
   "id": "1b91b729",
   "metadata": {},
   "outputs": [],
   "source": [
    "from langchain.chains import create_retrieval_chain\n",
    "from langchain.chains.combine_documents import create_stuff_documents_chain\n",
    "from langchain_core.prompts import ChatPromptTemplate\n",
    "\n",
    "system_prompt = (\n",
    "    \"Ты должен ответить на вопрос пользователя с использованием данных из книги.\\n\"\n",
    "    \"Отвечаай коротко, не более 2-3 предложений.\\n\"\n",
    "    \"Вот части книги контекст для ответа:\"\n",
    "    \"\\n\\n\"\n",
    "    \"{context}\"\n",
    ")\n",
    "\n",
    "prompt = ChatPromptTemplate.from_messages(\n",
    "    [\n",
    "        (\"system\", system_prompt),\n",
    "        (\"human\", \"{input}\"),\n",
    "    ]\n",
    ")\n",
    "\n",
    "\n",
    "question_answer_chain = create_stuff_documents_chain(giga, prompt)\n",
    "rag_chain = create_retrieval_chain(retriever, question_answer_chain)"
   ]
  },
  {
   "attachments": {
    "image.png": {
     "image/png": "[encoded data removed]"
    }
   },
   "cell_type": "markdown",
   "id": "b7c94605",
   "metadata": {},
   "source": [
    "## Проверка работы модели\n",
    "\n",
    "Для сравнения мы будем задавать вопрос сначала модели напрямую (pure), затем через rag-цепочку\n",
    "\n",
    "![image.png](attachment:image.png)"
   ]
  },
  {
   "cell_type": "code",
   "execution_count": 9,
   "id": "aae231c4",
   "metadata": {},
   "outputs": [
    {
     "name": "stderr",
     "output_type": "stream",
     "text": [
      "/Users/19563044/Documents/Giga/gigachain/.venv/lib/python3.11/site-packages/langchain_core/_api/deprecation.py:139: LangChainDeprecationWarning: The method `BaseChatModel.__call__` was deprecated in langchain-core 0.1.7 and will be removed in 0.3.0. Use invoke instead.\n",
      "  warn_deprecated(\n"
     ]
    },
    {
     "name": "stdout",
     "output_type": "stream",
     "text": [
      "Pure: Теорема об эйлеровом цикле гласит, что в любом графе без мостов и висячих ребер сумма степеней всех вершин равна удвоенному числу рёбер.\n",
      "RAG: Теорема об эйлеровом цикле гласит, что в связном графе эйлеров цикл существует тогда и только тогда, когда степени всех вершин графа четны.\n"
     ]
    }
   ],
   "source": [
    "\"\"\" Оригинал: Теорема 5.7 (об эйлеровом цикле). Эйлеров цикл в связном графе\n",
    "существует тогда и только тогда, когда степени всех вершин этого графа\n",
    "четны. \"\"\"\n",
    "q = \"О чем говорит теорема об эйлеровом цикле?\"\n",
    "pure = giga([HumanMessage(content=q)]).content\n",
    "print(f\"Pure: {pure}\")\n",
    "\n",
    "rag = rag_chain.invoke({\"input\": q})[\"answer\"]\n",
    "print(f\"RAG: {rag}\")"
   ]
  },
  {
   "cell_type": "code",
   "execution_count": 12,
   "id": "8a69ef6e",
   "metadata": {},
   "outputs": [
    {
     "name": "stdout",
     "output_type": "stream",
     "text": [
      "Pure: Граф не будет двудольным, если он содержит цикл нечётной длины или хотя бы одну пару несмежных рёбер.\n",
      "\n",
      "RAG: Граф не будет двудольным, если в нем содержатся нечетные циклы.\n"
     ]
    }
   ],
   "source": [
    "\"\"\" Оригинал:  Оказывается, присутствие в графе нечетных циклов (т.е. циклов\n",
    "нечетной длины) – единственная причина, по которой граф не является\n",
    "двудольным. \"\"\"\n",
    "q = \"Короткий ответ: По каким причинам граф не будет двудольным? \"\n",
    "pure = giga([HumanMessage(content=q)]).content\n",
    "print(f\"Pure: {pure}\\n\")\n",
    "\n",
    "rag = rag_chain.invoke({\"input\": q})[\"answer\"]\n",
    "print(f\"RAG: {rag}\")"
   ]
  },
  {
   "cell_type": "code",
   "execution_count": 13,
   "id": "33658e37",
   "metadata": {},
   "outputs": [
    {
     "name": "stdout",
     "output_type": "stream",
     "text": [
      "Pure: Слово — это лексическая единица языка, которая имеет определённое значение. Набор — это совокупность предметов, явлений, понятий, объединённых по какому-либо признаку.\n",
      "\n",
      "Пример:\n",
      "\n",
      "Слово «стол» — это лексическая единица русского языка, обозначающая предмет мебели для работы или приёма пищи.\n",
      "\n",
      "Набор столовых приборов — это совокупность различных предметов (ложек, вилок, ножей), которые используются во время еды.\n",
      "\n",
      "RAG: Разница между словом и набором заключается в том, что слово - это упорядоченная последовательность букв, в которой каждая буква может повторяться, тогда как набор - это просто последовательность элементов без учета их повторений или порядка.\n",
      "\n",
      "Пример: \"мама\" - это слово, потому что оно состоит из букв, которые могут повторяться (\"м\" и \"а\"), и порядок букв имеет значение. \"ма\", \"ам\", \"ама\" - это другие слова, но \"мама\" - единственное слово из этих трех.\n",
      "\n",
      "С другой стороны, набор \"мама\" будет содержать только одну запись, потому что набор не учитывает повторения элементов или их порядок.\n"
     ]
    }
   ],
   "source": [
    "\"\"\" Оригинал: Термин набор означает конечную последовательность элементов.\n",
    "Понятие набора отличается от понятия множества тем, что\n",
    "* в наборе могут быть одинаковые элементы,\n",
    "* порядок расположения элементов в наборе важен (наборы, состоящие\n",
    "из одинаковых элементов, расположенных в разном порядке,\n",
    "считаются различными). \"\"\"\n",
    "q = \"Разница между словом и набором. Приведи пример.\"\n",
    "pure = giga([HumanMessage(content=q)]).content\n",
    "print(f\"Pure: {pure}\\n\")\n",
    "\n",
    "rag = rag_chain.invoke({\"input\": q})[\"answer\"]\n",
    "print(f\"RAG: {rag}\")"
   ]
  }
 ],
 "metadata": {
  "kernelspec": {
   "display_name": "Python 3",
   "language": "python",
   "name": "python3"
  },
  "language_info": {
   "codemirror_mode": {
    "name": "ipython",
    "version": 3
   },
   "file_extension": ".py",
   "mimetype": "text/x-python",
   "name": "python",
   "nbconvert_exporter": "python",
   "pygments_lexer": "ipython3",
   "version": "3.9.6"
  }
 },
 "nbformat": 4,
 "nbformat_minor": 5
}
