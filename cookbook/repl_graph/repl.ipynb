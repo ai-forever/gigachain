{
 "cells": [
  {
   "cell_type": "markdown",
   "id": "26c949ebafad1f0",
   "metadata": {},
   "source": [
    "# REPL-граф\n",
    "\n",
    "В этом ноутбуке мы создадим базового агента на langgraph, который может решать задачи пользователя с помощью написания кода.\n",
    "Агент, действует по шагам, поэтому может:\n",
    "\n",
    "1. Работать с файлами без предварительной загрузки информации о них в промпт: сначала узнает какие в файле есть колонки, потом итеративно выполняет задачу.\n",
    "2. Исправлять ошибки, если они возникнут при выполнении его кода.\n",
    "\n",
    "Для запуска кода, мы будем использовать [E2B](https://e2b.dev/)\n",
    "\n",
    "---\n",
    "\n",
    "## Подготовка к запуску\n",
    "\n",
    "Перед выполнением ноутбука необходимо установить следующие библиотеки:"
   ]
  },
  {
   "cell_type": "code",
   "execution_count": 71,
   "id": "874dae04e086c39a",
   "metadata": {
    "ExecuteTime": {
     "end_time": "2025-03-15T17:16:10.896855Z",
     "start_time": "2025-03-15T17:16:09.521818Z"
    }
   },
   "outputs": [],
   "source": [
    "%%capture --no-stderr\n",
    "%pip install langchain_gigachat python-dotenv langgraph e2b-code-interpreter"
   ]
  },
  {
   "cell_type": "markdown",
   "id": "4a3e0b26b5b09ee4",
   "metadata": {},
   "source": [
    "---\n",
    "\n",
    "## Инициализация подключения GigaChat"
   ]
  },
  {
   "cell_type": "code",
   "execution_count": 77,
   "id": "ad02fec01df273f6",
   "metadata": {
    "ExecuteTime": {
     "end_time": "2025-03-15T18:19:52.438925Z",
     "start_time": "2025-03-15T18:19:52.434620Z"
    }
   },
   "outputs": [],
   "source": [
    "import getpass\n",
    "import os\n",
    "from dotenv import load_dotenv\n",
    "\n",
    "load_dotenv()\n",
    "\n",
    "if \"GIGACHAT_CREDENTIALS\" not in os.environ and \"GIGACHAT_USER\" not in os.environ:\n",
    "    os.environ[\"GIGACHAT_CREDENTIALS\"] = getpass.getpass(\"Credentials от GigaChat\")\n",
    "    \n",
    "if \"E2B_API_KEY\" not in os.environ:\n",
    "    os.environ[\"E2B_API_KEY\"] = getpass.getpass(\"Токен от E2B\")\n",
    "\n",
    "scope = \"GIGACHAT_API_PERS\" # Возможно также: GIGACHAT_API_CORP / GIGACHAT_API_B2B"
   ]
  },
  {
   "cell_type": "code",
   "execution_count": 78,
   "id": "d3533e02e55d583a",
   "metadata": {
    "ExecuteTime": {
     "end_time": "2025-03-15T18:19:53.422468Z",
     "start_time": "2025-03-15T18:19:53.420759Z"
    }
   },
   "outputs": [],
   "source": [
    "from langchain_gigachat import GigaChat\n",
    "\n",
    "llm = GigaChat(\n",
    "    model=\"GigaChat-2-Max\",\n",
    "    verify_ssl_certs=False,\n",
    "    scope=scope,\n",
    ")"
   ]
  },
  {
   "cell_type": "markdown",
   "id": "e13b473f738c2152",
   "metadata": {},
   "source": [
    "---\n",
    "## Создаем REPL-цепочку"
   ]
  },
  {
   "cell_type": "code",
   "execution_count": 79,
   "id": "b7b224a2da080fab",
   "metadata": {
    "ExecuteTime": {
     "end_time": "2025-03-15T18:19:55.235353Z",
     "start_time": "2025-03-15T18:19:55.230687Z"
    }
   },
   "outputs": [],
   "source": [
    "from langchain_core.prompts import ChatPromptTemplate, MessagesPlaceholder\n",
    "\n",
    "CODE_PROMPT = ChatPromptTemplate.from_messages([\n",
    "    (\"system\", \"\"\"Ты — Senior Python Developer с глубоким пониманием технологического стека и библиотек Python. Твоя задача — решить\n",
    "    проблему пользователя, предоставив чистый, оптимизированный и профессионально оформленный код.\n",
    "\n",
    "Требования к коду:\n",
    "- Выполнение кода: Чтобы выполнить код, который ты присылаешь, оборачивай его в markdown тег ```python-execute\\n```\n",
    "- Качество кода: Твой код должен следовать стандартам PEP8.\n",
    "- Обработка ошибок: Если в исполнении кода возникла ошибка, необходимо её исправить и предоставить исправленный вариант кода.\n",
    "- Визуализация данных: Используй `matplotlib` для всех графических представлений данных.\n",
    "- Импорты: Начни свой код с четкого и корректного блока импортов.\n",
    "- Типы данных: Следи за корректным преобразованием типов данных в своих операциях.\n",
    "- Формат ответа: Отвечай на запросы пользователя, используя markdown для оформления.\n",
    "- Результат выполнения: Ответы должны базироваться только на выводах, полученных в результате выполнения кода.\n",
    "- Показывание изображение: Ни в коем случае не сохраняй изображения, а показывай их в формате Jupyter ноутбуков\n",
    "\n",
    "Эти требования помогут обеспечить качество твоего кода и его соответствие современным стандартам разработки.\n",
    "\n",
    "Как ты решаешь задачи:\n",
    "Решай задачу по простым шагам!\n",
    "Если у тебя не хватает данных, например ты не знаешь названия колонок в файле,\n",
    "то сначала напиши код, который открывает файл и выводит информацию из файла.\n",
    "Потом не пиши ничего и жди, что в результате выполнения тебе вернет код.\n",
    "После этого переходи к следующему шагу\"\"\"),\n",
    "    MessagesPlaceholder(\"messages\")\n",
    "])\n",
    "\n",
    "code_ch = CODE_PROMPT | llm"
   ]
  },
  {
   "cell_type": "markdown",
   "id": "56f56398c98499a4",
   "metadata": {},
   "source": [
    "---\n",
    "## Создаем граф\n",
    "В нашем графе будут 3 ноды:\n",
    "* **agent** — вызов LLM с вопросом пользователя / результатами выполнения кода\n",
    "* **code** — выполнение кода и создания сообщения о результатах выполнения\n",
    "* **final_answer** — финальный ответ на вопрос пользователя исходя из истории сообщений"
   ]
  },
  {
   "cell_type": "code",
   "execution_count": 98,
   "id": "201f890db2ef1f61",
   "metadata": {
    "ExecuteTime": {
     "end_time": "2025-03-15T18:35:33.396753Z",
     "start_time": "2025-03-15T18:35:32.790833Z"
    }
   },
   "outputs": [],
   "source": [
    "from e2b_code_interpreter import Sandbox\n",
    "from langgraph.graph import END, StateGraph, MessagesState\n",
    "from langchain_core.messages import HumanMessage\n",
    "import re\n",
    "\n",
    "PYTHON_REGEX = r\"```python-execute(.+?)```\"\n",
    "\n",
    "sandbox = Sandbox()\n",
    "\n",
    "\n",
    "def should_continue(state: MessagesState) -> str:\n",
    "    last_message = state['messages'][-1]\n",
    "    # Если GigaChat вернул python-execute переходим в ноду выполнения кода\n",
    "    # Если нет, то заканчиваем выполнение\n",
    "    if re.findall(PYTHON_REGEX, last_message.content, re.DOTALL | re.MULTILINE):\n",
    "        return \"code\"\n",
    "    else:\n",
    "        return \"final_answer\"\n",
    "    \n",
    "\n",
    "def extract_text_from_results(results):\n",
    "    \"\"\"Извлечение текста из результатов выполнения кода\"\"\"\n",
    "    return \"\\n\".join([result.text for result in results if result.text])\n",
    "\n",
    "def extract_images_from_results(results):\n",
    "    \"\"\"Извлечение изображений из результатов выполнения кода\"\"\"\n",
    "    return \"\\n\".join([\"*В результате выполнения кода был сгенерирован график*\" for result in results if result.chart])\n",
    "\n",
    "def call_model(state: MessagesState):\n",
    "    \"\"\"Вызов LLM\"\"\"\n",
    "    response = code_ch.invoke({\"messages\": state[\"messages\"]})\n",
    "    return {\"messages\": response}\n",
    "\n",
    "def final_answer(state: MessagesState):\n",
    "    question = \"\"\n",
    "    for mes in reversed(state[\"messages\"]):\n",
    "        if mes.type == \"human\" and \"executions\" not in mes.additional_kwargs:\n",
    "            question = mes.content\n",
    "    response = code_ch.invoke({\n",
    "        \"messages\": state[\"messages\"] + [\n",
    "            HumanMessage(content=f\"Ответь на вопрос пользователя: \\\"{question}\\\", используя полученную информацию выше.\")\n",
    "        ]\n",
    "    })\n",
    "    return {\"messages\": response}\n",
    "    \n",
    "\n",
    "\n",
    "def execute_code(state: MessagesState):\n",
    "    \"\"\"Выполнение кода\"\"\"\n",
    "    messages = state['messages']\n",
    "    code_blocks = re.findall(PYTHON_REGEX, messages[-1].content, re.DOTALL | re.MULTILINE)\n",
    "    results = []\n",
    "    executions = []\n",
    "    for index, code_block in enumerate(code_blocks):\n",
    "        execution = sandbox.run_code(code_block)\n",
    "        executions.append(execution)\n",
    "        if execution.error:\n",
    "            results.append(f\"\"\"В результате выполнения блока {index} возникла ошибка:\n",
    "```\n",
    "{execution.error.traceback}\n",
    "```\n",
    "Исправь ошибку\"\"\")\n",
    "            break\n",
    "        else:\n",
    "            logs = '\\n'.join(execution.logs.stdout)\n",
    "            results.append(f\"\"\"Результат выполнения блока {index}:\n",
    "```\n",
    "{logs} {extract_text_from_results(execution.results)} {extract_images_from_results(execution.results)}\n",
    "```\"\"\")\n",
    "    message = HumanMessage(content=\"\\n\".join(results), additional_kwargs={\"executions\": executions})\n",
    "    return {\"messages\": message}\n",
    "\n",
    "# Определяем граф\n",
    "workflow = StateGraph(MessagesState)\n",
    "workflow.add_node(\"agent\", call_model)\n",
    "workflow.add_node(\"code\", execute_code)\n",
    "workflow.add_node(\"final_answer\", final_answer)\n",
    "\n",
    "workflow.add_conditional_edges(\n",
    "    \"agent\",\n",
    "    should_continue,\n",
    ")\n",
    "workflow.add_edge(\"code\", \"agent\")\n",
    "workflow.add_edge(\"final_answer\", END)\n",
    "\n",
    "workflow.set_entry_point(\"agent\")\n",
    "\n",
    "app = workflow.compile()"
   ]
  },
  {
   "cell_type": "markdown",
   "id": "f9dc379f6cae3331",
   "metadata": {},
   "source": [
    "---\n",
    "## Примеры работы\n",
    "### Получение текущего курса доллара\n",
    "**Заметьте!** — текущий граф может выполняться очень долго в течении 12 шагов. С помощью параметра **recursion_limit** мы ограничиваем выполнение до 5 шагов. "
   ]
  },
  {
   "cell_type": "code",
   "execution_count": 89,
   "id": "b48d4b9b2b062ffb",
   "metadata": {
    "ExecuteTime": {
     "end_time": "2025-03-15T18:28:35.528021Z",
     "start_time": "2025-03-15T18:28:23.770664Z"
    }
   },
   "outputs": [
    {
     "name": "stdout",
     "output_type": "stream",
     "text": [
      "================================\u001b[1m Human Message \u001b[0m=================================\n",
      "\n",
      "Найди текущий курс доллара с помощью CBR\n",
      "==================================\u001b[1m Ai Message \u001b[0m==================================\n",
      "\n",
      "Для получения курса доллара с сайта Центрального банка России (CBR) можно воспользоваться API или парсингом HTML страницы. Но поскольку сайт предоставляет удобный XML формат для курсов валют, лучше использовать именно этот способ.\n",
      "\n",
      "Чтобы извлечь данные о курсе валюты, воспользуемся модулем `requests` для работы с HTTP-запросами и модулем `xml.etree.ElementTree` для обработки XML.\n",
      "\n",
      "Вот пример реализации:\n",
      "\n",
      "```python-execute\n",
      "import requests\n",
      "from xml.etree import ElementTree as ET\n",
      "\n",
      "# URL для запроса текущих курсов валют от ЦБ РФ\n",
      "url = 'http://www.cbr.ru/scripts/XML_daily.asp'\n",
      "response = requests.get(url)\n",
      "\n",
      "if response.status_code == 200:\n",
      "    # Парсим ответ как XML-документ\n",
      "    root = ET.fromstring(response.content)\n",
      "    \n",
      "    # Находим элемент с USD (Валюта США имеет ID \"R01235\")\n",
      "    usd_element = next((elem for elem in root if elem.find('CharCode').text == 'USD'), None)\n",
      "    \n",
      "    if usd_element is not None:\n",
      "        nominal = int(usd_element.find('Nominal').text)\n",
      "        value_str = usd_element.find('Value').text.replace(',', '.')\n",
      "        \n",
      "        try:\n",
      "            rate = float(value_str) / nominal\n",
      "            print(f\"Текущий курс доллара: {rate:.4f} рублей\")\n",
      "        except ValueError:\n",
      "            print(\"Ошибка преобразования значения курса.\")\n",
      "    else:\n",
      "        print(\"Не удалось найти курс доллара.\")\n",
      "else:\n",
      "    print(f\"Ошибка при запросе: статус-код {response.status_code}\")\n",
      "```\n",
      "\n",
      "Этот скрипт делает следующее:\n",
      "1. Отправляет GET-запрос на официальный ресурс ЦБ РФ для получения актуального списка курсов валют.\n",
      "2. Разбирает полученный XML-документ и ищет элемент, соответствующий доллару США (`<CharCode>USD</CharCode>`).\n",
      "3. Извлекает номинальное значение и курс валюты, после чего конвертирует строку в число и делит на номинал для получения реального курса.\n",
      "4. Выводит результат в консоль.\n",
      "\n",
      "Теперь запустите код, чтобы увидеть текущий курс доллара.\n",
      "================================\u001b[1m Human Message \u001b[0m=================================\n",
      "\n",
      "Результат выполнения блока 0:\n",
      "```\n",
      "Текущий курс доллара: 85.5694 рублей\n",
      " \n",
      "```\n",
      "==================================\u001b[1m Ai Message \u001b[0m==================================\n",
      "\n",
      "Код успешно выполнен, и текущий курс доллара составил **85.5694** рубля.\n",
      "\n",
      "Если вам нужно изменить логику программы или получить дополнительные данные, я готов помочь! Например, вы можете захотеть автоматизировать получение курса каждый день или расширить функционал для других валют. Для этого просто укажите ваши пожелания, и мы продолжим работу над улучшением скрипта.\n",
      "==================================\u001b[1m Ai Message \u001b[0m==================================\n",
      "\n",
      "На основании выполненного кода и полученного результата, ответом на вопрос будет:\n",
      "\n",
      "**Текущий курс доллара согласно данным Центрального Банка России составляет 85.5694 рубля.**\n"
     ]
    }
   ],
   "source": [
    "from base64 import b64decode\n",
    "from IPython.core.display import Image\n",
    "from IPython.display import display\n",
    "\n",
    "for values in app.stream(\n",
    "        {\"messages\": [(\"user\", \"Найди текущий курс доллара с помощью CBR\")]},\n",
    "    config={\"recursion_limit\": 10},\n",
    "    stream_mode=\"values\",\n",
    "):\n",
    "    values[\"messages\"][-1].pretty_print()\n",
    "    if \"executions\" in values[\"messages\"][-1].additional_kwargs:\n",
    "        executions = values[\"messages\"][-1].additional_kwargs[\"executions\"]\n",
    "        for execution in executions:\n",
    "            for result in execution.results:\n",
    "                if result.png:\n",
    "                    display(Image(b64decode(result.png)))"
   ]
  },
  {
   "cell_type": "markdown",
   "id": "7b2ea652b1faaa3e",
   "metadata": {},
   "source": [
    "### Создание графика с ценой доллара за 30 дней"
   ]
  },
  {
   "cell_type": "code",
   "execution_count": 99,
   "id": "6a43f7138537cf5e",
   "metadata": {
    "ExecuteTime": {
     "end_time": "2025-03-15T18:35:52.480816Z",
     "start_time": "2025-03-15T18:35:36.960239Z"
    }
   },
   "outputs": [
    {
     "name": "stdout",
     "output_type": "stream",
     "text": [
      "================================\u001b[1m Human Message \u001b[0m=================================\n",
      "\n",
      "Нарисуй график цены доллара за последние 30 дней используя информацию с cbr\n",
      "==================================\u001b[1m Ai Message \u001b[0m==================================\n",
      "\n",
      "Для построения графика курса доллара за последние 30 дней воспользуемся API Центрального банка России (cbr). \n",
      "\n",
      "Вот пример кода, который выполнит эту задачу:\n",
      "\n",
      "```python-execute\n",
      "import requests\n",
      "from datetime import datetime, timedelta\n",
      "import matplotlib.pyplot as plt\n",
      "\n",
      "# Функция получения курсов валют от ЦБ РФ\n",
      "def get_currency_rates(start_date, end_date):\n",
      "    url = f\"http://www.cbr.ru/scripts/XML_dynamic.asp?date_req1={start_date}&date_req2={end_date}&VAL_NM_RQ=R01235\"\n",
      "    response = requests.get(url)\n",
      "    \n",
      "    if response.status_code == 200:\n",
      "        from xml.etree import ElementTree as ET\n",
      "        \n",
      "        root = ET.fromstring(response.content)\n",
      "        data_points = []\n",
      "        \n",
      "        for record in root.findall('Record'):\n",
      "            date_str = record.attrib['Date']\n",
      "            value = float(record.find('Value').text.replace(',', '.'))\n",
      "            \n",
      "            # Преобразование даты в формат datetime\n",
      "            date_obj = datetime.strptime(date_str, '%d.%m.%Y')\n",
      "            data_points.append((date_obj, value))\n",
      "        \n",
      "        return sorted(data_points)  \n",
      "    else:\n",
      "        print(f'Ошибка при запросе данных: {response.status_code}')\n",
      "        return None\n",
      "\n",
      "\n",
      "# Получение дат начала и конца периода (последние 30 дней)\n",
      "end_date = datetime.now()\n",
      "start_date = end_date - timedelta(days=30)\n",
      "\n",
      "# Форматирование дат для запроса\n",
      "start_date_formatted = start_date.strftime('%d/%m/%Y')\n",
      "end_date_formatted = end_date.strftime('%d/%m/%Y')\n",
      "\n",
      "data = get_currency_rates(start_date_formatted, end_date_formatted)\n",
      "\n",
      "if data is not None and len(data) > 0:\n",
      "    dates, values = zip(*data)\n",
      "    \n",
      "    # Построение графика\n",
      "    plt.figure(figsize=(10,6))\n",
      "    plt.plot(dates, values, marker='o', linestyle='-', color='b')\n",
      "    plt.title('Курс доллара США за последние 30 дней')\n",
      "    plt.xlabel('Дата')\n",
      "    plt.ylabel('Цена ($)')\n",
      "    plt.grid(True)\n",
      "    plt.show()\n",
      "else:\n",
      "    print(\"Не удалось получить данные\")\n",
      "```\n",
      "================================\u001b[1m Human Message \u001b[0m=================================\n",
      "\n",
      "Результат выполнения блока 0:\n",
      "```\n",
      " <Figure size 1000x600 with 1 Axes> *В результате выполнения кода был сгенерирован график*\n",
      "```\n"
     ]
    },
    {
     "data": {
      "image/png": "[encoded data removed]",
      "text/plain": [
       "<IPython.core.display.Image object>"
      ]
     },
     "metadata": {},
     "output_type": "display_data"
    },
    {
     "name": "stdout",
     "output_type": "stream",
     "text": [
      "==================================\u001b[1m Ai Message \u001b[0m==================================\n",
      "\n",
      "Отличная новость! Это означает, что график успешно построен и отображен. Он показывает динамику курса доллара за последние 30 дней.\n",
      "\n",
      "**График включает следующие элементы:**\n",
      "- Заголовок \"Курс доллара США за последние 30 дней\".\n",
      "- Ось X содержит даты за указанный период времени.\n",
      "- Ось Y представляет цену доллара в рублях.\n",
      "- На графике видна линия тренда, которая соединяет точки цен за каждый день, а также сами значения курсовых котировок отмечены маркерами.\n",
      "\n",
      "Этот график позволяет визуально оценить колебания курса доллара за последний месяц.\n",
      "==================================\u001b[1m Ai Message \u001b[0m==================================\n",
      "\n",
      "### График курса доллара за последние 30 дней\n",
      "\n",
      "На основе информации, полученной через API Центрального Банка России (ЦБ РФ), я построил график изменения курса доллара США за последние 30 дней. Этот график наглядно демонстрирует динамику стоимости американской валюты относительно российского рубля.\n",
      "\n",
      "#### Ключевые характеристики графика:\n",
      "- **Заголовок:** Курс доллара США за последние 30 дней.\n",
      "- **Ось X:** Даты за выбранный временной интервал.\n",
      "- **Ось Y:** Цена доллара в российских рублях.\n",
      "- **Линия тренда:** Соединяет ежедневные курсы доллара.\n",
      "- **Маркеры:** Указывают конкретные значения курса на каждую дату.\n",
      "\n",
      "Таким образом, график предоставляет пользователю возможность визуализировать и проанализировать изменение курса доллара за прошедший месяц.\n"
     ]
    }
   ],
   "source": [
    "from base64 import b64decode\n",
    "from IPython.core.display import Image\n",
    "from IPython.display import display\n",
    "\n",
    "for values in app.stream(\n",
    "        {\"messages\": [(\"user\", \"Нарисуй график цены доллара за последние 30 дней используя информацию с cbr\")]},\n",
    "    config={\"recursion_limit\": 10},\n",
    "    stream_mode=\"values\",\n",
    "):\n",
    "    values[\"messages\"][-1].pretty_print()\n",
    "    if \"executions\" in values[\"messages\"][-1].additional_kwargs:\n",
    "        executions = values[\"messages\"][-1].additional_kwargs[\"executions\"]\n",
    "        for execution in executions:\n",
    "            for result in execution.results:\n",
    "                if result.png:\n",
    "                    display(Image(b64decode(result.png)))"
   ]
  },
  {
   "cell_type": "markdown",
   "id": "40a0863f3243b1fe",
   "metadata": {},
   "source": [
    "### Работа с файлами"
   ]
  },
  {
   "cell_type": "code",
   "execution_count": 103,
   "id": "e93686c26b555df9",
   "metadata": {
    "ExecuteTime": {
     "end_time": "2025-03-15T18:40:02.271616Z",
     "start_time": "2025-03-15T18:40:02.049109Z"
    }
   },
   "outputs": [],
   "source": [
    "# Загружаем локальный файл\n",
    "with open(\"sales.xlsx\", \"rb\") as file:\n",
    "\tsandbox.files.write(\"/home/user/sales.xlsx\", file)"
   ]
  },
  {
   "cell_type": "code",
   "execution_count": 104,
   "id": "f551d2f4e23d08ab",
   "metadata": {
    "ExecuteTime": {
     "end_time": "2025-03-15T18:40:16.648648Z",
     "start_time": "2025-03-15T18:40:03.185085Z"
    }
   },
   "outputs": [
    {
     "name": "stdout",
     "output_type": "stream",
     "text": [
      "================================\u001b[1m Human Message \u001b[0m=================================\n",
      "\n",
      "С помощью файла sales.xlsx сделай график среднего чека за год\n",
      "==================================\u001b[1m Ai Message \u001b[0m==================================\n",
      "\n",
      "```python-execute\n",
      "import pandas as pd\n",
      "import matplotlib.pyplot as plt\n",
      "\n",
      "# Загружаем данные из Excel-файла\n",
      "df = pd.read_excel('sales.xlsx')\n",
      "print(df.head())\n",
      "```\n",
      "\n",
      "Этот код загрузит первые 5 строк данных из файла 'sales.xlsx' и выведет их содержимое. Это поможет понять структуру данных перед построением графика среднего чека за год.\n",
      "================================\u001b[1m Human Message \u001b[0m=================================\n",
      "\n",
      "Результат выполнения блока 0:\n",
      "```\n",
      "        Месяц  Электроника  Одежда  Мебель  Игрушки  Книги  \\\n",
      "0  2024-01-01         1023     850     421      932    345   \n",
      "1  2024-02-01         1130     910     392      989    376   \n",
      "2  2024-03-01         1210    1002     410     1005    389   \n",
      "3  2024-04-01         1105     970     387      960    378   \n",
      "4  2024-05-01         1305    1030     402     1025    412   \n",
      "\n",
      "   Доля возвратов (%)  Общая выручка  Средний чек  \n",
      "0                 3.1        8771464      2295.40  \n",
      "1                 3.3        9425952      2393.84  \n",
      "2                 3.2       10006104      2438.00  \n",
      "3                 3.6        9314540      2375.44  \n",
      "4                 3.4       10610544      2484.92  \n",
      "  \n",
      "```\n",
      "==================================\u001b[1m Ai Message \u001b[0m==================================\n",
      "\n",
      "На основе структуры данных видно, что столбец \"Средний чек\" уже существует в таблице. Теперь можно построить график изменения среднего чека за весь период времени.\n",
      "\n",
      "Для построения графика воспользуемся следующими шагами:\n",
      "\n",
      "1. Преобразовать тип данных столбца \"Месяц\" в формат даты.\n",
      "2. Построить линейный график зависимости среднего чека от месяца.\n",
      "\n",
      "Вот соответствующий код:\n",
      "\n",
      "```python-execute\n",
      "import pandas as pd\n",
      "import matplotlib.pyplot as plt\n",
      "\n",
      "# Загрузка данных\n",
      "df = pd.read_excel('sales.xlsx')\n",
      "\n",
      "# Конвертация типа данных в datetime\n",
      "df['Месяц'] = pd.to_datetime(df['Месяц'])\n",
      "\n",
      "# Создание графика\n",
      "plt.figure(figsize=(10, 6))\n",
      "plt.plot(df['Месяц'], df['Средний чек'], marker='o', linestyle='-', color='b')\n",
      "plt.title('График среднего чека за год')\n",
      "plt.xlabel('Дата')\n",
      "plt.ylabel('Средний чек')\n",
      "plt.grid(True)\n",
      "plt.show()\n",
      "```\n",
      "\n",
      "Этот код создаст график среднего чека за каждый месяц года.\n",
      "================================\u001b[1m Human Message \u001b[0m=================================\n",
      "\n",
      "Результат выполнения блока 0:\n",
      "```\n",
      " <Figure size 1000x600 with 1 Axes> *В результате выполнения кода был сгенерирован график*\n",
      "```\n"
     ]
    },
    {
     "data": {
      "image/png": "[encoded data removed]",
      "text/plain": [
       "<IPython.core.display.Image object>"
      ]
     },
     "metadata": {},
     "output_type": "display_data"
    },
    {
     "name": "stdout",
     "output_type": "stream",
     "text": [
      "==================================\u001b[1m Ai Message \u001b[0m==================================\n",
      "\n",
      "Теперь график успешно построен! Он отображает изменение среднего чека за каждый месяц.\n",
      "\n",
      "### Важные моменты:\n",
      "- **Тип данных:** Мы конвертировали строку с датой в объект `datetime`, чтобы правильно упорядочить месяцы на графике.\n",
      "- **Форматирование:** График настроен так, чтобы было удобно видеть динамику среднего чека по каждому месяцу. \n",
      "\n",
      "Вы можете дополнительно настроить внешний вид графика или добавить дополнительные метрики при необходимости. Например, вы могли бы добавить линии трендов или более сложные вычисления.\n",
      "\n",
      "---\n",
      "\n",
      "**Примечание**: При выполнении кода, как упоминалось ранее, результат представлен в виде графика без сохранения изображений, поскольку они сразу же визуализируются в интерактивной среде, такой как Jupyter Notebook.\n",
      "==================================\u001b[1m Ai Message \u001b[0m==================================\n",
      "\n",
      "Чтобы ответить на запрос пользователя о создании графика среднего чека за год с использованием файла `sales.xlsx`, мы выполнили следующие шаги:\n",
      "\n",
      "1. **Загрузили данные** из файла с помощью библиотеки `pandas`.\n",
      "2. **Преобразовали столбец «Месяц»** в формат даты (`datetime`), чтобы обеспечить правильное упорядочивание месяцев.\n",
      "3. **Построили график**, используя модуль `matplotlib`. На этом графике ось X представляет собой временной ряд (месяцы), а ось Y – значения среднего чека.\n",
      "\n",
      "В итоге, после выполнения кода, была построена линия графика, которая показывает среднее значение чека по каждому месяцу в течение года. Этот график наглядно демонстрирует сезонность и тенденции изменений в среднем чеке.\n",
      "\n",
      "Таким образом, ответом на запрос является **графическое представление динамики среднего чека за календарный год**.\n"
     ]
    }
   ],
   "source": [
    "from base64 import b64decode\n",
    "from IPython.core.display import Image\n",
    "from IPython.display import display\n",
    "\n",
    "for values in app.stream(\n",
    "        {\"messages\": [(\"user\", \"С помощью файла sales.xlsx сделай график среднего чека за год\")]},\n",
    "    config={\"recursion_limit\": 10},\n",
    "    stream_mode=\"values\",\n",
    "):\n",
    "    values[\"messages\"][-1].pretty_print()\n",
    "    if \"executions\" in values[\"messages\"][-1].additional_kwargs:\n",
    "        executions = values[\"messages\"][-1].additional_kwargs[\"executions\"]\n",
    "        for execution in executions:\n",
    "            for result in execution.results:\n",
    "                if result.png:\n",
    "                    display(Image(b64decode(result.png)))"
   ]
  }
 ],
 "metadata": {
  "kernelspec": {
   "display_name": "Python 3",
   "language": "python",
   "name": "python3"
  },
  "language_info": {
   "codemirror_mode": {
    "name": "ipython",
    "version": 2
   },
   "file_extension": ".py",
   "mimetype": "text/x-python",
   "name": "python",
   "nbconvert_exporter": "python",
   "pygments_lexer": "ipython2",
   "version": "2.7.6"
  }
 },
 "nbformat": 4,
 "nbformat_minor": 5
}
