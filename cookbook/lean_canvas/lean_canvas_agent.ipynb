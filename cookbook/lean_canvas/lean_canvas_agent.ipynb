{
 "cells": [
  {
   "cell_type": "markdown",
   "id": "4f79a807",
   "metadata": {
    "jp-MarkdownHeadingCollapsed": true
   },
   "source": [
    "# Агент для генерации LeanCanvas\n",
    "\n",
    "## Введение\n",
    "\n",
    "Этот ноутбук демонстрирует создание интеллектуального агента для автоматической генерации **Lean Canvas** — популярного инструмента для описания бизнес-модели стартапов. Lean Canvas помогает структурированно описать ключевые аспекты бизнеса: проблему, решение, целевую аудиторию, каналы привлечения клиентов и другие важные элементы.\n",
    "\n",
    "Данный пример является дополнением к статье [\"Ра­зра­бот­ка и при­ме­не­ние муль­ти­а­гент­ных сис­тем в кор­по­ра­тив­ной сре­де\"](https://giga.chat/help/articles/multi-agent-system)\n",
    "\n",
    "### Решаемая задача\n",
    "Агент автоматизирует процесс создания Lean Canvas на основе краткого описания бизнес-идеи. Вместо ручного заполнения 9 блоков таблицы, пользователь просто описывает свою идею, а агент:\n",
    "- Анализирует конкурентов через поиск в интернете\n",
    "- Генерирует уникальные предложения\n",
    "- Заполняет все разделы Lean Canvas\n",
    "- Позволяет пользователю корректировать результат\n",
    "\n",
    "### Демонстрируемые принципы LangGraph\n",
    "\n",
    "В этом ноутбуке показаны ключевые концепции работы с **LangGraph**:\n",
    "\n",
    "1. **ReAct агенты** — агенты, которые могут рассуждать (Reasoning) и действовать (Acting), используя внешние инструменты (поиск в интернете)\n",
    "\n",
    "2. **Structured Output** — получение структурированных ответов от LLM в виде Pydantic моделей вместо произвольного текста\n",
    "\n",
    "3. **State Graphs** — создание сложных workflow с состоянием, где каждый узел выполняет определенную задачу и обновляет глобальное состояние\n",
    "\n",
    "4. **Human in the Loop** — интеграция человека в процесс работы агента для предоставления обратной связи и корректировок\n",
    "\n",
    "5. **Interrupt & Resume** — механизм прерывания выполнения графа для получения пользовательского ввода и последующего возобновления работы\n",
    "\n",
    "6. **Conditional Routing** — динамическое определение следующего шага на основе результатов анализа (например, переход к генерации нового предложения, если текущее не уникально)\n",
    "\n",
    "7. **Memory & Checkpoints** — сохранение состояния между вызовами для возможности продолжения работы\n",
    "\n",
    "Этот пример показывает, как можно создавать сложные многошаговые агенты, которые сочетают автоматизацию с возможностью человеческого контроля и корректировки."
   ]
  },
  {
   "cell_type": "markdown",
   "id": "aa112c2f",
   "metadata": {},
   "source": [
    "# Настраиваем окружение"
   ]
  },
  {
   "cell_type": "markdown",
   "id": "c62fd785",
   "metadata": {},
   "source": [
    "Установка зависимостей"
   ]
  },
  {
   "cell_type": "code",
   "execution_count": null,
   "id": "e55dcc98",
   "metadata": {},
   "outputs": [
    {
     "name": "stdout",
     "output_type": "stream",
     "text": [
      "\n",
      "\u001b[1m[\u001b[0m\u001b[34;49mnotice\u001b[0m\u001b[1;39;49m]\u001b[0m\u001b[39;49m A new release of pip is available: \u001b[0m\u001b[31;49m24.3.1\u001b[0m\u001b[39;49m -> \u001b[0m\u001b[32;49m25.2\u001b[0m\n",
      "\u001b[1m[\u001b[0m\u001b[34;49mnotice\u001b[0m\u001b[1;39;49m]\u001b[0m\u001b[39;49m To update, run: \u001b[0m\u001b[32;49mpip install --upgrade pip\u001b[0m\n"
     ]
    }
   ],
   "source": [
    "!pip install langchain_gigachat langgraph ddgs langchain_tavily -q"
   ]
  },
  {
   "cell_type": "markdown",
   "id": "16006cff",
   "metadata": {},
   "source": [
    "## Настройка переменных окружения\n",
    "\n",
    "Для корректной работы примера в переменных окружения должны быть указаны параметры для подключения к GigaChat API. Подробно о том, как создать проект GigaChat API — в официальной документации, в разделах [Быстрый старт для физических лиц](https://developers.sber.ru/docs/ru/gigachat/individuals-quickstar) и [Быстрый старт для ИП и юридических лиц](https://developers.sber.ru/docs/ru/gigachat/legal-quickstart).\n",
    "\n",
    "### Шаги настройки:\n",
    "\n",
    "1. **Переименуйте файл `.env.example` в `.env`**\n",
    "2. **Заполните файл `.env` необходимыми данными:**\n",
    "    - Данные для подключения к GigaChat API\n",
    "    - API ключ для Tavily (для поиска в интернете)\n",
    "\n",
    "Подробная инструкция по настройке переменных окружения доступна в [официальном репозитории GigaChat](https://github.com/ai-forever/gigachat?tab=readme-ov-file#%D0%BD%D0%B0%D1%81%D1%82%D1%80%D0%BE%D0%B9%D0%BA%D0%B0-%D0%BF%D0%B5%D1%80%D0%B5%D0%BC%D0%B5%D0%BD%D0%BD%D1%8B%D1%85-%D0%BE%D0%BA%D1%80%D1%83%D0%B6%D0%B5%D0%BD%D0%B8%D1%8F)."
   ]
  },
  {
   "cell_type": "code",
   "execution_count": 7,
   "id": "35a9e575",
   "metadata": {},
   "outputs": [
    {
     "data": {
      "text/plain": [
       "True"
      ]
     },
     "execution_count": 7,
     "metadata": {},
     "output_type": "execute_result"
    }
   ],
   "source": [
    "from rich import print\n",
    "from dotenv import load_dotenv, find_dotenv\n",
    "load_dotenv(find_dotenv())"
   ]
  },
  {
   "cell_type": "markdown",
   "id": "2001434a",
   "metadata": {},
   "source": [
    "## Подключаем GigaChat и проверяем его работу"
   ]
  },
  {
   "cell_type": "code",
   "execution_count": 8,
   "id": "7bd1db0c",
   "metadata": {},
   "outputs": [
    {
     "data": {
      "text/html": [
       "<pre style=\"white-space:pre;overflow-x:auto;line-height:normal;font-family:Menlo,'DejaVu Sans Mono',consolas,'Courier New',monospace\">Меня создала компания Sber в России в <span style=\"color: #008080; text-decoration-color: #008080; font-weight: bold\">2023</span> году.\n",
       "</pre>\n"
      ],
      "text/plain": [
       "Меня создала компания Sber в России в \u001b[1;36m2023\u001b[0m году.\n"
      ]
     },
     "metadata": {},
     "output_type": "display_data"
    }
   ],
   "source": [
    "from langchain_gigachat import GigaChat\n",
    "\n",
    "llm = GigaChat(model=\"GigaChat-2-Max\", \n",
    "    profanity_check=False,\n",
    "    top_p=0,\n",
    "    timeout=120\n",
    ")\n",
    "print(llm.invoke(\"Кто тебя сделал?\").content)"
   ]
  },
  {
   "cell_type": "markdown",
   "id": "386ae738",
   "metadata": {},
   "source": [
    "## Создаем ReAct агента с возможностью поиска в интернете"
   ]
  },
  {
   "cell_type": "code",
   "execution_count": 9,
   "id": "6a1997b5",
   "metadata": {},
   "outputs": [
    {
     "data": {
      "image/png": "[encoded data removed]",
      "text/plain": [
       "<langgraph.graph.state.CompiledStateGraph object at 0x12480d2b0>"
      ]
     },
     "execution_count": 9,
     "metadata": {},
     "output_type": "execute_result"
    }
   ],
   "source": [
    "from langgraph.prebuilt import create_react_agent\n",
    "from ddgs import DDGS\n",
    "from langchain.tools import tool\n",
    "\n",
    "@tool(\"search_tool\", description=\"Ищет в поисковике (RU, неделя, 5 ссылок)\")\n",
    "def search_tool(query: str, max_results: int = 5) -> str:\n",
    "    with DDGS() as ddgs:\n",
    "        hits = ddgs.text(query, region=\"ru-ru\", time=\"w\", max_results=max_results)\n",
    "        return \"\\n\".join(f\"{hit['title']}: {hit['body']} -- {hit['href']}\" for hit in hits[:max_results])\n",
    "\n",
    "\n",
    "agent = create_react_agent(llm, tools=[search_tool], prompt=\"Ты полезный ассистент\")\n",
    "agent"
   ]
  },
  {
   "cell_type": "code",
   "execution_count": 7,
   "id": "1cf2a92f",
   "metadata": {},
   "outputs": [],
   "source": [
    "inputs = {\"messages\": [(\"user\", \"Какая самая дорогая компания в мире на сегодня?\")]}\n",
    "messages = agent.invoke(inputs)['messages']"
   ]
  },
  {
   "cell_type": "code",
   "execution_count": 8,
   "id": "eece7acb",
   "metadata": {},
   "outputs": [
    {
     "data": {
      "text/html": [
       "<pre style=\"white-space:pre;overflow-x:auto;line-height:normal;font-family:Menlo,'DejaVu Sans Mono',consolas,'Courier New',monospace\">На сегодняшний день самой дорогой компанией в мире является **NVIDIA**, которая в <span style=\"color: #008080; text-decoration-color: #008080; font-weight: bold\">2024</span> году впервые в истории \n",
       "достигла капитализации более $<span style=\"color: #008080; text-decoration-color: #008080; font-weight: bold\">4</span> триллионов. Однако стоит учитывать, что рыночные оценки могут изменяться ежедневно \n",
       "из-за колебаний акций.\n",
       "\n",
       "Ранее лидерами были:\n",
       "\n",
       "- **Microsoft** <span style=\"font-weight: bold\">(</span>$<span style=\"color: #008080; text-decoration-color: #008080; font-weight: bold\">2</span>,<span style=\"color: #008080; text-decoration-color: #008080; font-weight: bold\">859</span> трлн<span style=\"font-weight: bold\">)</span>\n",
       "- **Apple**\n",
       "\n",
       "Эти компании также остаются одними из крупнейших по стоимости капитала. Для получения актуальной информации \n",
       "рекомендуется проверять последние новости или специализированные ресурсы, такие как Bloomberg, Yahoo Finance или \n",
       "Google Finance.\n",
       "</pre>\n"
      ],
      "text/plain": [
       "На сегодняшний день самой дорогой компанией в мире является **NVIDIA**, которая в \u001b[1;36m2024\u001b[0m году впервые в истории \n",
       "достигла капитализации более $\u001b[1;36m4\u001b[0m триллионов. Однако стоит учитывать, что рыночные оценки могут изменяться ежедневно \n",
       "из-за колебаний акций.\n",
       "\n",
       "Ранее лидерами были:\n",
       "\n",
       "- **Microsoft** \u001b[1m(\u001b[0m$\u001b[1;36m2\u001b[0m,\u001b[1;36m859\u001b[0m трлн\u001b[1m)\u001b[0m\n",
       "- **Apple**\n",
       "\n",
       "Эти компании также остаются одними из крупнейших по стоимости капитала. Для получения актуальной информации \n",
       "рекомендуется проверять последние новости или специализированные ресурсы, такие как Bloomberg, Yahoo Finance или \n",
       "Google Finance.\n"
      ]
     },
     "metadata": {},
     "output_type": "display_data"
    }
   ],
   "source": [
    "print(messages[-1].content)"
   ]
  },
  {
   "cell_type": "markdown",
   "id": "ea230f5b",
   "metadata": {},
   "source": [
    "## Изучим лог работы агента\n",
    "Видно, что агент сначала сделал вызов функции, затем LLM обработала результат поиска и потом подготовила итоговый ответ для пользователя."
   ]
  },
  {
   "cell_type": "code",
   "execution_count": 9,
   "id": "fcaec226",
   "metadata": {},
   "outputs": [
    {
     "data": {
      "text/html": [
       "<pre style=\"white-space:pre;overflow-x:auto;line-height:normal;font-family:Menlo,'DejaVu Sans Mono',consolas,'Courier New',monospace\"><span style=\"font-weight: bold\">[</span>\n",
       "    <span style=\"color: #800080; text-decoration-color: #800080; font-weight: bold\">HumanMessage</span><span style=\"font-weight: bold\">(</span>\n",
       "        <span style=\"color: #808000; text-decoration-color: #808000\">content</span>=<span style=\"color: #008000; text-decoration-color: #008000\">'Какая самая дорогая компания в мире на сегодня?'</span>,\n",
       "        <span style=\"color: #808000; text-decoration-color: #808000\">additional_kwargs</span>=<span style=\"font-weight: bold\">{}</span>,\n",
       "        <span style=\"color: #808000; text-decoration-color: #808000\">response_metadata</span>=<span style=\"font-weight: bold\">{}</span>,\n",
       "        <span style=\"color: #808000; text-decoration-color: #808000\">id</span>=<span style=\"color: #008000; text-decoration-color: #008000\">'bc97ab55-f7d4-4b19-8170-0b03ba14075b'</span>\n",
       "    <span style=\"font-weight: bold\">)</span>,\n",
       "    <span style=\"color: #800080; text-decoration-color: #800080; font-weight: bold\">AIMessage</span><span style=\"font-weight: bold\">(</span>\n",
       "        <span style=\"color: #808000; text-decoration-color: #808000\">content</span>=<span style=\"color: #008000; text-decoration-color: #008000\">''</span>,\n",
       "        <span style=\"color: #808000; text-decoration-color: #808000\">additional_kwargs</span>=<span style=\"font-weight: bold\">{</span>\n",
       "            <span style=\"color: #008000; text-decoration-color: #008000\">'function_call'</span>: <span style=\"font-weight: bold\">{</span>\n",
       "                <span style=\"color: #008000; text-decoration-color: #008000\">'name'</span>: <span style=\"color: #008000; text-decoration-color: #008000\">'search_tool'</span>,\n",
       "                <span style=\"color: #008000; text-decoration-color: #008000\">'arguments'</span>: <span style=\"font-weight: bold\">{</span><span style=\"color: #008000; text-decoration-color: #008000\">'query'</span>: <span style=\"color: #008000; text-decoration-color: #008000\">'самая дорогая компания в мире на сегодня'</span><span style=\"font-weight: bold\">}</span>\n",
       "            <span style=\"font-weight: bold\">}</span>,\n",
       "            <span style=\"color: #008000; text-decoration-color: #008000\">'functions_state_id'</span>: <span style=\"color: #008000; text-decoration-color: #008000\">'15dac049-56d3-4f0d-a19d-730d85420f5f'</span>\n",
       "        <span style=\"font-weight: bold\">}</span>,\n",
       "        <span style=\"color: #808000; text-decoration-color: #808000\">response_metadata</span>=<span style=\"font-weight: bold\">{</span>\n",
       "            <span style=\"color: #008000; text-decoration-color: #008000\">'token_usage'</span>: <span style=\"font-weight: bold\">{</span>\n",
       "                <span style=\"color: #008000; text-decoration-color: #008000\">'prompt_tokens'</span>: <span style=\"color: #008080; text-decoration-color: #008080; font-weight: bold\">86</span>,\n",
       "                <span style=\"color: #008000; text-decoration-color: #008000\">'completion_tokens'</span>: <span style=\"color: #008080; text-decoration-color: #008080; font-weight: bold\">31</span>,\n",
       "                <span style=\"color: #008000; text-decoration-color: #008000\">'total_tokens'</span>: <span style=\"color: #008080; text-decoration-color: #008080; font-weight: bold\">117</span>,\n",
       "                <span style=\"color: #008000; text-decoration-color: #008000\">'precached_prompt_tokens'</span>: <span style=\"color: #008080; text-decoration-color: #008080; font-weight: bold\">2</span>\n",
       "            <span style=\"font-weight: bold\">}</span>,\n",
       "            <span style=\"color: #008000; text-decoration-color: #008000\">'model_name'</span>: <span style=\"color: #008000; text-decoration-color: #008000\">'GigaChat-2-Max:2.0.28.2'</span>,\n",
       "            <span style=\"color: #008000; text-decoration-color: #008000\">'x_headers'</span>: <span style=\"font-weight: bold\">{</span>\n",
       "                <span style=\"color: #008000; text-decoration-color: #008000\">'x-request-id'</span>: <span style=\"color: #008000; text-decoration-color: #008000\">'286ad213-25f8-4a93-9c84-6e134adfd262'</span>,\n",
       "                <span style=\"color: #008000; text-decoration-color: #008000\">'x-session-id'</span>: <span style=\"color: #008000; text-decoration-color: #008000\">'6a0c736e-4015-4dc8-8b76-199ca8a19867'</span>,\n",
       "                <span style=\"color: #008000; text-decoration-color: #008000\">'x-client-id'</span>: <span style=\"color: #800080; text-decoration-color: #800080; font-style: italic\">None</span>\n",
       "            <span style=\"font-weight: bold\">}</span>,\n",
       "            <span style=\"color: #008000; text-decoration-color: #008000\">'finish_reason'</span>: <span style=\"color: #008000; text-decoration-color: #008000\">'function_call'</span>\n",
       "        <span style=\"font-weight: bold\">}</span>,\n",
       "        <span style=\"color: #808000; text-decoration-color: #808000\">id</span>=<span style=\"color: #008000; text-decoration-color: #008000\">'286ad213-25f8-4a93-9c84-6e134adfd262'</span>,\n",
       "        <span style=\"color: #808000; text-decoration-color: #808000\">tool_calls</span>=<span style=\"font-weight: bold\">[</span>\n",
       "            <span style=\"font-weight: bold\">{</span>\n",
       "                <span style=\"color: #008000; text-decoration-color: #008000\">'name'</span>: <span style=\"color: #008000; text-decoration-color: #008000\">'search_tool'</span>,\n",
       "                <span style=\"color: #008000; text-decoration-color: #008000\">'args'</span>: <span style=\"font-weight: bold\">{</span><span style=\"color: #008000; text-decoration-color: #008000\">'query'</span>: <span style=\"color: #008000; text-decoration-color: #008000\">'самая дорогая компания в мире на сегодня'</span><span style=\"font-weight: bold\">}</span>,\n",
       "                <span style=\"color: #008000; text-decoration-color: #008000\">'id'</span>: <span style=\"color: #008000; text-decoration-color: #008000\">'37588585-135e-4dd5-a798-d32890695398'</span>,\n",
       "                <span style=\"color: #008000; text-decoration-color: #008000\">'type'</span>: <span style=\"color: #008000; text-decoration-color: #008000\">'tool_call'</span>\n",
       "            <span style=\"font-weight: bold\">}</span>\n",
       "        <span style=\"font-weight: bold\">]</span>,\n",
       "        <span style=\"color: #808000; text-decoration-color: #808000\">usage_metadata</span>=<span style=\"font-weight: bold\">{</span>\n",
       "            <span style=\"color: #008000; text-decoration-color: #008000\">'output_tokens'</span>: <span style=\"color: #008080; text-decoration-color: #008080; font-weight: bold\">31</span>,\n",
       "            <span style=\"color: #008000; text-decoration-color: #008000\">'input_tokens'</span>: <span style=\"color: #008080; text-decoration-color: #008080; font-weight: bold\">86</span>,\n",
       "            <span style=\"color: #008000; text-decoration-color: #008000\">'total_tokens'</span>: <span style=\"color: #008080; text-decoration-color: #008080; font-weight: bold\">117</span>,\n",
       "            <span style=\"color: #008000; text-decoration-color: #008000\">'input_token_details'</span>: <span style=\"font-weight: bold\">{</span><span style=\"color: #008000; text-decoration-color: #008000\">'cache_read'</span>: <span style=\"color: #008080; text-decoration-color: #008080; font-weight: bold\">2</span><span style=\"font-weight: bold\">}</span>\n",
       "        <span style=\"font-weight: bold\">}</span>\n",
       "    <span style=\"font-weight: bold\">)</span>,\n",
       "    <span style=\"color: #800080; text-decoration-color: #800080; font-weight: bold\">ToolMessage</span><span style=\"font-weight: bold\">(</span>\n",
       "        <span style=\"color: #808000; text-decoration-color: #808000\">content</span>=<span style=\"color: #008000; text-decoration-color: #008000\">'ТОП самых дорогих в мире компаний — Reuters: Jan 13, 2024 · Рыночная оценка Microsoft достигла </span>\n",
       "<span style=\"color: #008000; text-decoration-color: #008000\">$2,859 трлн после того, как акции компании закрылись на 0,5% выше. В течение сессии они выросли на целых 2%, и </span>\n",
       "<span style=\"color: #008000; text-decoration-color: #008000\">компания кратковременно стоила $2,903 трлн. -- </span>\n",
       "<span style=\"color: #008000; text-decoration-color: #008000\">https://psm7.com/ru/news/top-samyx-dorogix-v-mire-kompanij-reuters.html\\nСамая дорогая компания в мире по версии </span>\n",
       "<span style=\"color: #008000; text-decoration-color: #008000\">Forbes в 2025 году: Apple — самая дорогая компания в мире в 2025 году Технический гигант Apple в 2025 году </span>\n",
       "<span style=\"color: #008000; text-decoration-color: #008000\">по-прежнему обходит Amazon и сохраняет звание самой дорогой и богатой в мире компании. -- </span>\n",
       "<span style=\"color: #008000; text-decoration-color: #008000\">https://bizneslab.com/reyting-samyh-dorogih-kompaniy-v-mire/\\nСамые дорогие компании в мире - Astons: Nov 29, 2023 </span>\n",
       "<span style=\"color: #008000; text-decoration-color: #008000\">· Топ 10 дорогих компаний в мире по рыночной капитализации. Статистика на середину ноября. Получите актуальные </span>\n",
       "<span style=\"color: #008000; text-decoration-color: #008000\">данные на нашем сайте. -- https://www.astons.com/ru/news/samye-dorogie-kompanii-v-mire/\\nСамые дорогии компании в </span>\n",
       "<span style=\"color: #008000; text-decoration-color: #008000\">мире - топ-20 дорогих компаний: Aug 13, 2025 · Собрали самые дорогие компании по рыночной капитализации. Не </span>\n",
       "<span style=\"color: #008000; text-decoration-color: #008000\">забывайте, что этот список постоянно обновляется – данные актуальны на декабрь 2024. -- </span>\n",
       "<span style=\"color: #008000; text-decoration-color: #008000\">https://shop.renlife.ru/articles/samye-dorogie-kompanii-mira-top-20\\nСамые дорогие компании в мире — ТОП-10 по </span>\n",
       "<span style=\"color: #008000; text-decoration-color: #008000\">капитализации: Jul 18, 2025 · Только в 2024 году выручка компании выросла почти в 2,5 раза, а сама Nvidia обогнала </span>\n",
       "<span style=\"color: #008000; text-decoration-color: #008000\">всех и стала первой в истории компанией с капитализацией свыше $4 трлн. -- </span>\n",
       "<span style=\"color: #008000; text-decoration-color: #008000\">https://postium.ru/samye-dorogie-kompanii-v-mire/'</span>,\n",
       "        <span style=\"color: #808000; text-decoration-color: #808000\">name</span>=<span style=\"color: #008000; text-decoration-color: #008000\">'search_tool'</span>,\n",
       "        <span style=\"color: #808000; text-decoration-color: #808000\">id</span>=<span style=\"color: #008000; text-decoration-color: #008000\">'66e8e8ff-c8e4-42ec-a292-76386bf47c6e'</span>,\n",
       "        <span style=\"color: #808000; text-decoration-color: #808000\">tool_call_id</span>=<span style=\"color: #008000; text-decoration-color: #008000\">'37588585-135e-4dd5-a798-d32890695398'</span>\n",
       "    <span style=\"font-weight: bold\">)</span>,\n",
       "    <span style=\"color: #800080; text-decoration-color: #800080; font-weight: bold\">AIMessage</span><span style=\"font-weight: bold\">(</span>\n",
       "        <span style=\"color: #808000; text-decoration-color: #808000\">content</span>=<span style=\"color: #008000; text-decoration-color: #008000\">'На сегодняшний день самой дорогой компанией в мире является **NVIDIA**, которая в 2024 году </span>\n",
       "<span style=\"color: #008000; text-decoration-color: #008000\">впервые в истории достигла капитализации более $4 триллионов. Однако стоит учитывать, что рыночные оценки могут </span>\n",
       "<span style=\"color: #008000; text-decoration-color: #008000\">изменяться ежедневно из-за колебаний акций.\\n\\nРанее лидерами были:\\n\\n- **Microsoft** ($2,859 трлн)\\n- </span>\n",
       "<span style=\"color: #008000; text-decoration-color: #008000\">**Apple**\\n\\nЭти компании также остаются одними из крупнейших по стоимости капитала. Для получения актуальной </span>\n",
       "<span style=\"color: #008000; text-decoration-color: #008000\">информации рекомендуется проверять последние новости или специализированные ресурсы, такие как Bloomberg, Yahoo </span>\n",
       "<span style=\"color: #008000; text-decoration-color: #008000\">Finance или Google Finance.'</span>,\n",
       "        <span style=\"color: #808000; text-decoration-color: #808000\">additional_kwargs</span>=<span style=\"font-weight: bold\">{</span><span style=\"color: #008000; text-decoration-color: #008000\">'functions_state_id'</span>: <span style=\"color: #008000; text-decoration-color: #008000\">'db37cfbf-ceed-42cf-a13e-2628a7f8f764'</span><span style=\"font-weight: bold\">}</span>,\n",
       "        <span style=\"color: #808000; text-decoration-color: #808000\">response_metadata</span>=<span style=\"font-weight: bold\">{</span>\n",
       "            <span style=\"color: #008000; text-decoration-color: #008000\">'token_usage'</span>: <span style=\"font-weight: bold\">{</span>\n",
       "                <span style=\"color: #008000; text-decoration-color: #008000\">'prompt_tokens'</span>: <span style=\"color: #008080; text-decoration-color: #008080; font-weight: bold\">565</span>,\n",
       "                <span style=\"color: #008000; text-decoration-color: #008000\">'completion_tokens'</span>: <span style=\"color: #008080; text-decoration-color: #008080; font-weight: bold\">113</span>,\n",
       "                <span style=\"color: #008000; text-decoration-color: #008000\">'total_tokens'</span>: <span style=\"color: #008080; text-decoration-color: #008080; font-weight: bold\">678</span>,\n",
       "                <span style=\"color: #008000; text-decoration-color: #008000\">'precached_prompt_tokens'</span>: <span style=\"color: #008080; text-decoration-color: #008080; font-weight: bold\">2</span>\n",
       "            <span style=\"font-weight: bold\">}</span>,\n",
       "            <span style=\"color: #008000; text-decoration-color: #008000\">'model_name'</span>: <span style=\"color: #008000; text-decoration-color: #008000\">'GigaChat-2-Max:2.0.28.2'</span>,\n",
       "            <span style=\"color: #008000; text-decoration-color: #008000\">'x_headers'</span>: <span style=\"font-weight: bold\">{</span>\n",
       "                <span style=\"color: #008000; text-decoration-color: #008000\">'x-request-id'</span>: <span style=\"color: #008000; text-decoration-color: #008000\">'193e482c-0ea0-4ff7-aae7-30f63bf2bf3d'</span>,\n",
       "                <span style=\"color: #008000; text-decoration-color: #008000\">'x-session-id'</span>: <span style=\"color: #008000; text-decoration-color: #008000\">'673a7da6-1ac7-40e9-a7c0-cf57e80db8da'</span>,\n",
       "                <span style=\"color: #008000; text-decoration-color: #008000\">'x-client-id'</span>: <span style=\"color: #800080; text-decoration-color: #800080; font-style: italic\">None</span>\n",
       "            <span style=\"font-weight: bold\">}</span>,\n",
       "            <span style=\"color: #008000; text-decoration-color: #008000\">'finish_reason'</span>: <span style=\"color: #008000; text-decoration-color: #008000\">'stop'</span>\n",
       "        <span style=\"font-weight: bold\">}</span>,\n",
       "        <span style=\"color: #808000; text-decoration-color: #808000\">id</span>=<span style=\"color: #008000; text-decoration-color: #008000\">'193e482c-0ea0-4ff7-aae7-30f63bf2bf3d'</span>,\n",
       "        <span style=\"color: #808000; text-decoration-color: #808000\">usage_metadata</span>=<span style=\"font-weight: bold\">{</span>\n",
       "            <span style=\"color: #008000; text-decoration-color: #008000\">'output_tokens'</span>: <span style=\"color: #008080; text-decoration-color: #008080; font-weight: bold\">113</span>,\n",
       "            <span style=\"color: #008000; text-decoration-color: #008000\">'input_tokens'</span>: <span style=\"color: #008080; text-decoration-color: #008080; font-weight: bold\">565</span>,\n",
       "            <span style=\"color: #008000; text-decoration-color: #008000\">'total_tokens'</span>: <span style=\"color: #008080; text-decoration-color: #008080; font-weight: bold\">678</span>,\n",
       "            <span style=\"color: #008000; text-decoration-color: #008000\">'input_token_details'</span>: <span style=\"font-weight: bold\">{</span><span style=\"color: #008000; text-decoration-color: #008000\">'cache_read'</span>: <span style=\"color: #008080; text-decoration-color: #008080; font-weight: bold\">2</span><span style=\"font-weight: bold\">}</span>\n",
       "        <span style=\"font-weight: bold\">}</span>\n",
       "    <span style=\"font-weight: bold\">)</span>\n",
       "<span style=\"font-weight: bold\">]</span>\n",
       "</pre>\n"
      ],
      "text/plain": [
       "\u001b[1m[\u001b[0m\n",
       "    \u001b[1;35mHumanMessage\u001b[0m\u001b[1m(\u001b[0m\n",
       "        \u001b[33mcontent\u001b[0m=\u001b[32m'Какая самая дорогая компания в мире на сегодня?'\u001b[0m,\n",
       "        \u001b[33madditional_kwargs\u001b[0m=\u001b[1m{\u001b[0m\u001b[1m}\u001b[0m,\n",
       "        \u001b[33mresponse_metadata\u001b[0m=\u001b[1m{\u001b[0m\u001b[1m}\u001b[0m,\n",
       "        \u001b[33mid\u001b[0m=\u001b[32m'bc97ab55-f7d4-4b19-8170-0b03ba14075b'\u001b[0m\n",
       "    \u001b[1m)\u001b[0m,\n",
       "    \u001b[1;35mAIMessage\u001b[0m\u001b[1m(\u001b[0m\n",
       "        \u001b[33mcontent\u001b[0m=\u001b[32m''\u001b[0m,\n",
       "        \u001b[33madditional_kwargs\u001b[0m=\u001b[1m{\u001b[0m\n",
       "            \u001b[32m'function_call'\u001b[0m: \u001b[1m{\u001b[0m\n",
       "                \u001b[32m'name'\u001b[0m: \u001b[32m'search_tool'\u001b[0m,\n",
       "                \u001b[32m'arguments'\u001b[0m: \u001b[1m{\u001b[0m\u001b[32m'query'\u001b[0m: \u001b[32m'самая дорогая компания в мире на сегодня'\u001b[0m\u001b[1m}\u001b[0m\n",
       "            \u001b[1m}\u001b[0m,\n",
       "            \u001b[32m'functions_state_id'\u001b[0m: \u001b[32m'15dac049-56d3-4f0d-a19d-730d85420f5f'\u001b[0m\n",
       "        \u001b[1m}\u001b[0m,\n",
       "        \u001b[33mresponse_metadata\u001b[0m=\u001b[1m{\u001b[0m\n",
       "            \u001b[32m'token_usage'\u001b[0m: \u001b[1m{\u001b[0m\n",
       "                \u001b[32m'prompt_tokens'\u001b[0m: \u001b[1;36m86\u001b[0m,\n",
       "                \u001b[32m'completion_tokens'\u001b[0m: \u001b[1;36m31\u001b[0m,\n",
       "                \u001b[32m'total_tokens'\u001b[0m: \u001b[1;36m117\u001b[0m,\n",
       "                \u001b[32m'precached_prompt_tokens'\u001b[0m: \u001b[1;36m2\u001b[0m\n",
       "            \u001b[1m}\u001b[0m,\n",
       "            \u001b[32m'model_name'\u001b[0m: \u001b[32m'GigaChat-2-Max:2.0.28.2'\u001b[0m,\n",
       "            \u001b[32m'x_headers'\u001b[0m: \u001b[1m{\u001b[0m\n",
       "                \u001b[32m'x-request-id'\u001b[0m: \u001b[32m'286ad213-25f8-4a93-9c84-6e134adfd262'\u001b[0m,\n",
       "                \u001b[32m'x-session-id'\u001b[0m: \u001b[32m'6a0c736e-4015-4dc8-8b76-199ca8a19867'\u001b[0m,\n",
       "                \u001b[32m'x-client-id'\u001b[0m: \u001b[3;35mNone\u001b[0m\n",
       "            \u001b[1m}\u001b[0m,\n",
       "            \u001b[32m'finish_reason'\u001b[0m: \u001b[32m'function_call'\u001b[0m\n",
       "        \u001b[1m}\u001b[0m,\n",
       "        \u001b[33mid\u001b[0m=\u001b[32m'286ad213-25f8-4a93-9c84-6e134adfd262'\u001b[0m,\n",
       "        \u001b[33mtool_calls\u001b[0m=\u001b[1m[\u001b[0m\n",
       "            \u001b[1m{\u001b[0m\n",
       "                \u001b[32m'name'\u001b[0m: \u001b[32m'search_tool'\u001b[0m,\n",
       "                \u001b[32m'args'\u001b[0m: \u001b[1m{\u001b[0m\u001b[32m'query'\u001b[0m: \u001b[32m'самая дорогая компания в мире на сегодня'\u001b[0m\u001b[1m}\u001b[0m,\n",
       "                \u001b[32m'id'\u001b[0m: \u001b[32m'37588585-135e-4dd5-a798-d32890695398'\u001b[0m,\n",
       "                \u001b[32m'type'\u001b[0m: \u001b[32m'tool_call'\u001b[0m\n",
       "            \u001b[1m}\u001b[0m\n",
       "        \u001b[1m]\u001b[0m,\n",
       "        \u001b[33musage_metadata\u001b[0m=\u001b[1m{\u001b[0m\n",
       "            \u001b[32m'output_tokens'\u001b[0m: \u001b[1;36m31\u001b[0m,\n",
       "            \u001b[32m'input_tokens'\u001b[0m: \u001b[1;36m86\u001b[0m,\n",
       "            \u001b[32m'total_tokens'\u001b[0m: \u001b[1;36m117\u001b[0m,\n",
       "            \u001b[32m'input_token_details'\u001b[0m: \u001b[1m{\u001b[0m\u001b[32m'cache_read'\u001b[0m: \u001b[1;36m2\u001b[0m\u001b[1m}\u001b[0m\n",
       "        \u001b[1m}\u001b[0m\n",
       "    \u001b[1m)\u001b[0m,\n",
       "    \u001b[1;35mToolMessage\u001b[0m\u001b[1m(\u001b[0m\n",
       "        \u001b[33mcontent\u001b[0m=\u001b[32m'ТОП самых дорогих в мире компаний — Reuters: Jan 13, 2024 · Рыночная оценка Microsoft достигла \u001b[0m\n",
       "\u001b[32m$2,859 трлн после того, как акции компании закрылись на 0,5% выше. В течение сессии они выросли на целых 2%, и \u001b[0m\n",
       "\u001b[32mкомпания кратковременно стоила $2,903 трлн. -- \u001b[0m\n",
       "\u001b[32mhttps://psm7.com/ru/news/top-samyx-dorogix-v-mire-kompanij-reuters.html\\nСамая дорогая компания в мире по версии \u001b[0m\n",
       "\u001b[32mForbes в 2025 году: Apple — самая дорогая компания в мире в 2025 году Технический гигант Apple в 2025 году \u001b[0m\n",
       "\u001b[32mпо-прежнему обходит Amazon и сохраняет звание самой дорогой и богатой в мире компании. -- \u001b[0m\n",
       "\u001b[32mhttps://bizneslab.com/reyting-samyh-dorogih-kompaniy-v-mire/\\nСамые дорогие компании в мире - Astons: Nov 29, 2023 \u001b[0m\n",
       "\u001b[32m· Топ 10 дорогих компаний в мире по рыночной капитализации. Статистика на середину ноября. Получите актуальные \u001b[0m\n",
       "\u001b[32mданные на нашем сайте. -- https://www.astons.com/ru/news/samye-dorogie-kompanii-v-mire/\\nСамые дорогии компании в \u001b[0m\n",
       "\u001b[32mмире - топ-20 дорогих компаний: Aug 13, 2025 · Собрали самые дорогие компании по рыночной капитализации. Не \u001b[0m\n",
       "\u001b[32mзабывайте, что этот список постоянно обновляется – данные актуальны на декабрь 2024. -- \u001b[0m\n",
       "\u001b[32mhttps://shop.renlife.ru/articles/samye-dorogie-kompanii-mira-top-20\\nСамые дорогие компании в мире — ТОП-10 по \u001b[0m\n",
       "\u001b[32mкапитализации: Jul 18, 2025 · Только в 2024 году выручка компании выросла почти в 2,5 раза, а сама Nvidia обогнала \u001b[0m\n",
       "\u001b[32mвсех и стала первой в истории компанией с капитализацией свыше $4 трлн. -- \u001b[0m\n",
       "\u001b[32mhttps://postium.ru/samye-dorogie-kompanii-v-mire/'\u001b[0m,\n",
       "        \u001b[33mname\u001b[0m=\u001b[32m'search_tool'\u001b[0m,\n",
       "        \u001b[33mid\u001b[0m=\u001b[32m'66e8e8ff-c8e4-42ec-a292-76386bf47c6e'\u001b[0m,\n",
       "        \u001b[33mtool_call_id\u001b[0m=\u001b[32m'37588585-135e-4dd5-a798-d32890695398'\u001b[0m\n",
       "    \u001b[1m)\u001b[0m,\n",
       "    \u001b[1;35mAIMessage\u001b[0m\u001b[1m(\u001b[0m\n",
       "        \u001b[33mcontent\u001b[0m=\u001b[32m'На сегодняшний день самой дорогой компанией в мире является **NVIDIA**, которая в 2024 году \u001b[0m\n",
       "\u001b[32mвпервые в истории достигла капитализации более $4 триллионов. Однако стоит учитывать, что рыночные оценки могут \u001b[0m\n",
       "\u001b[32mизменяться ежедневно из-за колебаний акций.\\n\\nРанее лидерами были:\\n\\n- **Microsoft** \u001b[0m\u001b[32m(\u001b[0m\u001b[32m$2,859 трлн\u001b[0m\u001b[32m)\u001b[0m\u001b[32m\\n- \u001b[0m\n",
       "\u001b[32m**Apple**\\n\\nЭти компании также остаются одними из крупнейших по стоимости капитала. Для получения актуальной \u001b[0m\n",
       "\u001b[32mинформации рекомендуется проверять последние новости или специализированные ресурсы, такие как Bloomberg, Yahoo \u001b[0m\n",
       "\u001b[32mFinance или Google Finance.'\u001b[0m,\n",
       "        \u001b[33madditional_kwargs\u001b[0m=\u001b[1m{\u001b[0m\u001b[32m'functions_state_id'\u001b[0m: \u001b[32m'db37cfbf-ceed-42cf-a13e-2628a7f8f764'\u001b[0m\u001b[1m}\u001b[0m,\n",
       "        \u001b[33mresponse_metadata\u001b[0m=\u001b[1m{\u001b[0m\n",
       "            \u001b[32m'token_usage'\u001b[0m: \u001b[1m{\u001b[0m\n",
       "                \u001b[32m'prompt_tokens'\u001b[0m: \u001b[1;36m565\u001b[0m,\n",
       "                \u001b[32m'completion_tokens'\u001b[0m: \u001b[1;36m113\u001b[0m,\n",
       "                \u001b[32m'total_tokens'\u001b[0m: \u001b[1;36m678\u001b[0m,\n",
       "                \u001b[32m'precached_prompt_tokens'\u001b[0m: \u001b[1;36m2\u001b[0m\n",
       "            \u001b[1m}\u001b[0m,\n",
       "            \u001b[32m'model_name'\u001b[0m: \u001b[32m'GigaChat-2-Max:2.0.28.2'\u001b[0m,\n",
       "            \u001b[32m'x_headers'\u001b[0m: \u001b[1m{\u001b[0m\n",
       "                \u001b[32m'x-request-id'\u001b[0m: \u001b[32m'193e482c-0ea0-4ff7-aae7-30f63bf2bf3d'\u001b[0m,\n",
       "                \u001b[32m'x-session-id'\u001b[0m: \u001b[32m'673a7da6-1ac7-40e9-a7c0-cf57e80db8da'\u001b[0m,\n",
       "                \u001b[32m'x-client-id'\u001b[0m: \u001b[3;35mNone\u001b[0m\n",
       "            \u001b[1m}\u001b[0m,\n",
       "            \u001b[32m'finish_reason'\u001b[0m: \u001b[32m'stop'\u001b[0m\n",
       "        \u001b[1m}\u001b[0m,\n",
       "        \u001b[33mid\u001b[0m=\u001b[32m'193e482c-0ea0-4ff7-aae7-30f63bf2bf3d'\u001b[0m,\n",
       "        \u001b[33musage_metadata\u001b[0m=\u001b[1m{\u001b[0m\n",
       "            \u001b[32m'output_tokens'\u001b[0m: \u001b[1;36m113\u001b[0m,\n",
       "            \u001b[32m'input_tokens'\u001b[0m: \u001b[1;36m565\u001b[0m,\n",
       "            \u001b[32m'total_tokens'\u001b[0m: \u001b[1;36m678\u001b[0m,\n",
       "            \u001b[32m'input_token_details'\u001b[0m: \u001b[1m{\u001b[0m\u001b[32m'cache_read'\u001b[0m: \u001b[1;36m2\u001b[0m\u001b[1m}\u001b[0m\n",
       "        \u001b[1m}\u001b[0m\n",
       "    \u001b[1m)\u001b[0m\n",
       "\u001b[1m]\u001b[0m\n"
      ]
     },
     "metadata": {},
     "output_type": "display_data"
    }
   ],
   "source": [
    "print(messages)"
   ]
  },
  {
   "cell_type": "markdown",
   "id": "5f3ff881",
   "metadata": {},
   "source": [
    "# LeanCanvas\n",
    "Мы создадим пример заполнения таблицы Lean Canvas. Подробнее про этот подход можно прочитать на [Хабре](https://habr.com/ru/companies/productstar/articles/508994/)"
   ]
  },
  {
   "cell_type": "markdown",
   "id": "8d1af6d7",
   "metadata": {},
   "source": [
    "## Structured output - наивный подход"
   ]
  },
  {
   "cell_type": "code",
   "execution_count": 10,
   "id": "c231ac1a",
   "metadata": {},
   "outputs": [],
   "source": [
    "from pydantic import BaseModel\n",
    "\n",
    "class LeanCanvasResult(BaseModel):\n",
    "    \"\"\"\n",
    "    Представляет результат генерации Lean Canvas.\n",
    "    Каждое поле соответствует разделу Lean Canvas.\n",
    "    \"\"\"\n",
    "    problem: str  # Проблема, которую пытается решить продукт или услуга.\n",
    "    solution: str  # Краткое описание предлагаемого решения.\n",
    "    key_metrics: str  # Ключевые показатели, которые необходимо измерять для отслеживания прогресса.\n",
    "    unique_value_proposition: str  # Единое, ясное и убедительное сообщение, объясняющее, почему вы отличаетесь от других и почему стоит покупать именно у вас.\n",
    "    unfair_advantage: str  # То, что конкуренты не могут легко скопировать или купить.\n",
    "    channels: str  # Пути охвата ваших клиентских сегментов.\n",
    "    customer_segments: str  # Целевая аудитория или группы людей, которых вы пытаетесь охватить.\n",
    "    cost_structure: str  # Основные затраты, связанные с ведением бизнеса.\n",
    "    revenue_streams: str  # Как бизнес будет зарабатывать деньги."
   ]
  },
  {
   "cell_type": "markdown",
   "id": "9918cc3d",
   "metadata": {},
   "source": [
    "Выше мы создали **Pydantic модель** - это демонстрация технологии **Structured Output**.\n",
    "\n",
    "**Что это дает:**\n",
    "- Вместо произвольного текста LLM возвращает данные в строго определенном формате\n",
    "- Автоматическая валидация ответов\n",
    "- Возможность программно работать с результатами"
   ]
  },
  {
   "cell_type": "code",
   "execution_count": 17,
   "id": "ada47c2c",
   "metadata": {},
   "outputs": [
    {
     "data": {
      "text/html": [
       "<pre style=\"white-space:pre;overflow-x:auto;line-height:normal;font-family:Menlo,'DejaVu Sans Mono',consolas,'Courier New',monospace\"><span style=\"color: #800080; text-decoration-color: #800080; font-weight: bold\">LeanCanvasResult</span><span style=\"font-weight: bold\">(</span>\n",
       "    <span style=\"color: #808000; text-decoration-color: #808000\">problem</span>=<span style=\"color: #008000; text-decoration-color: #008000\">'Трудности в изучении языка, нехватка практики общения с носителями языка, отсутствие мотивации и </span>\n",
       "<span style=\"color: #008000; text-decoration-color: #008000\">дисциплины, высокие цены на языковые курсы, нехватка времени на посещение традиционных языковых школ.  \",\\n    '</span>,\n",
       "    <span style=\"color: #808000; text-decoration-color: #808000\">solution</span>=<span style=\"color: #008000; text-decoration-color: #008000\">'Онлайн-платформа, связывающая изучающих язык с носителями языка для практики общения, доступ к </span>\n",
       "<span style=\"color: #008000; text-decoration-color: #008000\">учебным материалам и курсам, возможность выбора удобного времени и формата занятий, мотивационные программы и </span>\n",
       "<span style=\"color: #008000; text-decoration-color: #008000\">достижения.  \",\\n    '</span>,\n",
       "    <span style=\"color: #808000; text-decoration-color: #808000\">key_metrics</span>=<span style=\"color: #008000; text-decoration-color: #008000\">'Количество активных пользователей, количество проведенных уроков, коэффициент удержания </span>\n",
       "<span style=\"color: #008000; text-decoration-color: #008000\">пользователей, средняя продолжительность урока, количество рефералов, доход на одного пользователя.  \",\\n    '</span>,\n",
       "    <span style=\"color: #808000; text-decoration-color: #808000\">unique_value_proposition</span>=<span style=\"color: #008000; text-decoration-color: #008000\">'Изучение языка с носителями в удобное время и по доступной цене, возможность выбора </span>\n",
       "<span style=\"color: #008000; text-decoration-color: #008000\">формата занятий и учебных материалов, мотивационные программы и достижения, персонализированные рекомендации по </span>\n",
       "<span style=\"color: #008000; text-decoration-color: #008000\">обучению.  \"\\n}'</span>,\n",
       "    <span style=\"color: #808000; text-decoration-color: #808000\">unfair_advantage</span>=<span style=\"color: #008000; text-decoration-color: #008000\">'Уникальная система подбора преподавателей и учеников на основе интересов и целей, </span>\n",
       "<span style=\"color: #008000; text-decoration-color: #008000\">персонализированные рекомендации по обучению, возможность выбора удобного времени и формата занятий, доступ к </span>\n",
       "<span style=\"color: #008000; text-decoration-color: #008000\">эксклюзивным учебным материалам и курсам.  \",\\n    '</span>,\n",
       "    <span style=\"color: #808000; text-decoration-color: #808000\">channels</span>=<span style=\"color: #008000; text-decoration-color: #008000\">'Платформы социальных сетей, реферальные программы, контент-маркетинг, SEO, партнерские программы с </span>\n",
       "<span style=\"color: #008000; text-decoration-color: #008000\">языковыми школами и университетами.  \",\\n    '</span>,\n",
       "    <span style=\"color: #808000; text-decoration-color: #808000\">customer_segments</span>=<span style=\"color: #008000; text-decoration-color: #008000\">'Изучающие иностранные языки, студенты, путешественники, эмигранты, корпоративные клиенты, </span>\n",
       "<span style=\"color: #008000; text-decoration-color: #008000\">преподаватели и репетиторы.  \",\\n    '</span>,\n",
       "    <span style=\"color: #808000; text-decoration-color: #808000\">cost_structure</span>=<span style=\"color: #008000; text-decoration-color: #008000\">'Разработка и поддержка платформы, маркетинг и привлечение пользователей, оплата труда </span>\n",
       "<span style=\"color: #008000; text-decoration-color: #008000\">модераторов и администраторов, юридические и бухгалтерские расходы.  \",\\n    '</span>,\n",
       "    <span style=\"color: #808000; text-decoration-color: #808000\">revenue_streams</span>=<span style=\"color: #008000; text-decoration-color: #008000\">'Подписка на платформу, комиссия с каждого урока, продажа дополнительных материалов и курсов, </span>\n",
       "<span style=\"color: #008000; text-decoration-color: #008000\">реклама и спонсорство, корпоративные контракты.  \",\\n    '</span>\n",
       "<span style=\"font-weight: bold\">)</span>\n",
       "</pre>\n"
      ],
      "text/plain": [
       "\u001b[1;35mLeanCanvasResult\u001b[0m\u001b[1m(\u001b[0m\n",
       "    \u001b[33mproblem\u001b[0m=\u001b[32m'Трудности в изучении языка, нехватка практики общения с носителями языка, отсутствие мотивации и \u001b[0m\n",
       "\u001b[32mдисциплины, высокие цены на языковые курсы, нехватка времени на посещение традиционных языковых школ.  \",\\n    '\u001b[0m,\n",
       "    \u001b[33msolution\u001b[0m=\u001b[32m'Онлайн-платформа, связывающая изучающих язык с носителями языка для практики общения, доступ к \u001b[0m\n",
       "\u001b[32mучебным материалам и курсам, возможность выбора удобного времени и формата занятий, мотивационные программы и \u001b[0m\n",
       "\u001b[32mдостижения.  \",\\n    '\u001b[0m,\n",
       "    \u001b[33mkey_metrics\u001b[0m=\u001b[32m'Количество активных пользователей, количество проведенных уроков, коэффициент удержания \u001b[0m\n",
       "\u001b[32mпользователей, средняя продолжительность урока, количество рефералов, доход на одного пользователя.  \",\\n    '\u001b[0m,\n",
       "    \u001b[33munique_value_proposition\u001b[0m=\u001b[32m'Изучение языка с носителями в удобное время и по доступной цене, возможность выбора \u001b[0m\n",
       "\u001b[32mформата занятий и учебных материалов, мотивационные программы и достижения, персонализированные рекомендации по \u001b[0m\n",
       "\u001b[32mобучению.  \"\\n\u001b[0m\u001b[32m}\u001b[0m\u001b[32m'\u001b[0m,\n",
       "    \u001b[33munfair_advantage\u001b[0m=\u001b[32m'Уникальная система подбора преподавателей и учеников на основе интересов и целей, \u001b[0m\n",
       "\u001b[32mперсонализированные рекомендации по обучению, возможность выбора удобного времени и формата занятий, доступ к \u001b[0m\n",
       "\u001b[32mэксклюзивным учебным материалам и курсам.  \",\\n    '\u001b[0m,\n",
       "    \u001b[33mchannels\u001b[0m=\u001b[32m'Платформы социальных сетей, реферальные программы, контент-маркетинг, SEO, партнерские программы с \u001b[0m\n",
       "\u001b[32mязыковыми школами и университетами.  \",\\n    '\u001b[0m,\n",
       "    \u001b[33mcustomer_segments\u001b[0m=\u001b[32m'Изучающие иностранные языки, студенты, путешественники, эмигранты, корпоративные клиенты, \u001b[0m\n",
       "\u001b[32mпреподаватели и репетиторы.  \",\\n    '\u001b[0m,\n",
       "    \u001b[33mcost_structure\u001b[0m=\u001b[32m'Разработка и поддержка платформы, маркетинг и привлечение пользователей, оплата труда \u001b[0m\n",
       "\u001b[32mмодераторов и администраторов, юридические и бухгалтерские расходы.  \",\\n    '\u001b[0m,\n",
       "    \u001b[33mrevenue_streams\u001b[0m=\u001b[32m'Подписка на платформу, комиссия с каждого урока, продажа дополнительных материалов и курсов, \u001b[0m\n",
       "\u001b[32mреклама и спонсорство, корпоративные контракты.  \",\\n    '\u001b[0m\n",
       "\u001b[1m)\u001b[0m\n"
      ]
     },
     "metadata": {},
     "output_type": "display_data"
    }
   ],
   "source": [
    "structured_llm = llm.with_structured_output(LeanCanvasResult)\n",
    "\n",
    "prompt = \"Создайте Lean Canvas для онлайн-платформы изучения языков, которая связывает изучающих язык с носителями языка.\"\n",
    "\n",
    "print(structured_llm.invoke(prompt))"
   ]
  },
  {
   "cell_type": "markdown",
   "id": "6b7a6f4e",
   "metadata": {},
   "source": [
    "Выше мы увидели как работает принудительное структурирование ответа:\n",
    "- LLM получил свободный запрос про языковую платформу\n",
    "- Но **обязательно** ответил в формате нашей Pydantic модели\n",
    "- Все 9 полей Lean Canvas заполнились автоматически\n",
    "\n",
    "Теперь  реализуем этот подход в рамках агента."
   ]
  },
  {
   "cell_type": "markdown",
   "id": "02fe2262",
   "metadata": {},
   "source": [
    "## Агентный подход"
   ]
  },
  {
   "cell_type": "markdown",
   "id": "99d29683",
   "metadata": {},
   "source": [
    "### Стейт графа\n",
    "Глобальное пространство данных в котором идет работа с графом\n",
    "\n",
    "Используем такой же структурированный подход, но будем получать не сразу заполненный Lean Canvas, а поэтапно, перемещаясь по графу. При этом у нас заранее будет задана структура данных, которая заполнится, когда будут пройдены шаги от начала графа и до конца. "
   ]
  },
  {
   "cell_type": "code",
   "execution_count": 11,
   "id": "84ce7bfe",
   "metadata": {},
   "outputs": [],
   "source": [
    "from langgraph.graph import END, START, StateGraph\n",
    "from typing_extensions import TypedDict, Annotated, Optional\n",
    "\n",
    "class LeanGraphState(TypedDict):\n",
    "    main_task: Annotated[str, \"Основная задача от пользователя\"]\n",
    "    competitors_analysis: Optional[Annotated[str, \"Анализ конкурентов\"]]\n",
    "    feedback: Optional[\n",
    "        Annotated[\n",
    "            str, \"Фидбек от пользователя. Обязательно учитывай его в своих ответах!\"\n",
    "        ]\n",
    "    ]\n",
    "\n",
    "    # Lean Canvas\n",
    "    problem: Optional[\n",
    "        Annotated[str, \"Проблема, которую пытается решить продукт или услуга.\"]\n",
    "    ]\n",
    "    solution: Optional[Annotated[str, \"Краткое описание предлагаемого решения.\"]]\n",
    "    key_metrics: Optional[\n",
    "        Annotated[\n",
    "            str,\n",
    "            \"Ключевые показатели, которые необходимо измерять для отслеживания прогресса.\",\n",
    "        ]\n",
    "    ]\n",
    "    unique_value_proposition: Optional[\n",
    "        Annotated[\n",
    "            str,\n",
    "            \"Единое, ясное и убедительное сообщение, объясняющее, почему вы отличаетесь от других и почему стоит покупать именно у вас.\",\n",
    "        ]\n",
    "    ]\n",
    "    unfair_advantage: Optional[\n",
    "        Annotated[str, \"То, что конкуренты не могут легко скопировать или купить.\"]\n",
    "    ]\n",
    "    channels: Optional[Annotated[str, \"Пути охвата ваших клиентских сегментов.\"]]\n",
    "    customer_segments: Optional[\n",
    "        Annotated[\n",
    "            str, \"Целевая аудитория или группы людей, которых вы пытаетесь охватить.\"\n",
    "        ]\n",
    "    ]\n",
    "    cost_structure: Optional[\n",
    "        Annotated[str, \"Основные затраты, связанные с ведением бизнеса.\"]\n",
    "    ]\n",
    "    revenue_streams: Optional[Annotated[str, \"Как бизнес будет зарабатывать деньги.\"]]\n",
    "\n",
    "\n",
    "def state_to_string(state: LeanGraphState) -> str:\n",
    "    \"\"\"\n",
    "    Преобразует состояние в строку для отображения.\n",
    "    \"\"\"\n",
    "    result = []\n",
    "    for field, annotation in LeanGraphState.__annotations__.items():\n",
    "        value = state.get(field, \"\")\n",
    "        if value:\n",
    "            # annotation is typing.Annotated[type, description]\n",
    "            if hasattr(annotation, \"__metadata__\") and annotation.__metadata__:\n",
    "                desc = annotation.__metadata__[0]\n",
    "            else:\n",
    "                desc = \"\"\n",
    "            result.append(f\"{desc} ({field}): {value}\")\n",
    "    return \"\\n\".join(result)\n"
   ]
  },
  {
   "cell_type": "markdown",
   "id": "2836ff77",
   "metadata": {},
   "source": [
    "### Основные шаги генерации\n",
    "Ниже представлены функция-обертка для обращения к LLM и функции узлов заполнения Lean Canvas."
   ]
  },
  {
   "cell_type": "code",
   "execution_count": 12,
   "id": "ee1de100",
   "metadata": {},
   "outputs": [],
   "source": [
    "from langchain_core.output_parsers import StrOutputParser\n",
    "from langchain.prompts import ChatPromptTemplate\n",
    "from langgraph.types import interrupt\n",
    "from langchain_core.runnables.config import RunnableConfig\n",
    "\n",
    "def ask_llm(state: LeanGraphState, question: str, config: RunnableConfig) -> str:\n",
    "    TEMPLATE = \"\"\"\n",
    "    Ты - эксперт в области стартапов и Lean Canvas. Твоя задача - помочь пользователю создать Lean Canvas для его задачи.\n",
    "    Учитывай уже заполненные части таблицы Lean Canvas и главную задачу пользователя (main_task).\n",
    "    \n",
    "    Обязательно учитывай фидбек от пользователя (feedback), если он задан.\n",
    "    <STATE>\n",
    "    {state}\n",
    "    </STATE>\n",
    "    \n",
    "    Ответь на вопрос: {question}\n",
    "    Отвечай коротко, не более 1-2 коротких предложений и обязательно учти фидбек от пользователя (feedback), если он задан. Оформи ответ в виде буллетов.\n",
    "    \"\"\"\n",
    "    \n",
    "    prompt = ChatPromptTemplate.from_messages([\n",
    "        (\"system\", TEMPLATE)\n",
    "    ])\n",
    "    \n",
    "    model  = config[\"configurable\"].get(\"model\", \"GigaChat-2-Max\")\n",
    "    chain = prompt | llm.bind(model=model) | StrOutputParser()\n",
    "    return chain.invoke({\"state\": state_to_string(state), \"question\": question})\n",
    "\n",
    "def customer_segments(state: LeanGraphState, config: RunnableConfig):\n",
    "    return {\"customer_segments\": ask_llm(state, \"Кто ваши целевые клиенты?\", config)}\n",
    "\n",
    "def problem(state: LeanGraphState, config: RunnableConfig):\n",
    "    return {\"problem\": ask_llm(state, \"Какую проблему вы решаете?\", config)}\n",
    "\n",
    "def unique_value_proposition(state: LeanGraphState, config: RunnableConfig):\n",
    "    return {\"unique_value_proposition\": ask_llm(state, \"Какое уникальное предложение вы предлагаете?\", config)}\n",
    "\n",
    "def solution(state: LeanGraphState, config: RunnableConfig):\n",
    "    return {\"solution\": ask_llm(state, \"Какое решение вы предлагаете для этой проблемы?\", config)}\n",
    "\n",
    "def channels(state: LeanGraphState, config: RunnableConfig):\n",
    "    return {\"channels\": ask_llm(state, \"Какие каналы привлечения клиентов вы используете?\", config)}\n",
    "\n",
    "def revenue_streams(state: LeanGraphState, config: RunnableConfig):\n",
    "    return {\"revenue_streams\": ask_llm(state, \"Как вы планируете зарабатывать деньги?\", config)}\n",
    "\n",
    "def cost_structure(state: LeanGraphState, config: RunnableConfig):\n",
    "    return {\"cost_structure\": ask_llm(state, \"Какова структура ваших затрат?\", config)}\n",
    "\n",
    "def key_metrics(state: LeanGraphState, config: RunnableConfig):\n",
    "    return {\"key_metrics\": ask_llm(state, \"Какие ключевые показатели вы будете отслеживать?\", config)}\n",
    "\n",
    "def unfair_advantage(state: LeanGraphState, config: RunnableConfig):\n",
    "    return {\"unfair_advantage\": ask_llm(state, \"Какое ваше конкурентное преимущество?\", config)}"
   ]
  },
  {
   "cell_type": "markdown",
   "id": "5a97c90a",
   "metadata": {},
   "source": [
    "### Агент (роль) проверки уникальности идеи\n",
    "- Использует интернет для формирования действительно уникальных предложений\n",
    "- Принимает решение - нужно ли генерировать новые идеи или можно продолжать генерацию\n",
    "- Демонстрирует принцип handoff с помощью Command"
   ]
  },
  {
   "cell_type": "code",
   "execution_count": 14,
   "id": "f992ddc8",
   "metadata": {},
   "outputs": [],
   "source": [
    "from typing_extensions import Literal\n",
    "from langgraph.types import Command\n",
    "from pydantic import BaseModel, Field\n",
    "from langchain_core.output_parsers import PydanticOutputParser\n",
    "from langchain_tavily import TavilySearch\n",
    "\n",
    "class CompetitorsAnalysisResult(BaseModel):\n",
    "    \"\"\"Анализ конкурентов\"\"\"\n",
    "    chain_of_thoughts: str = Field(description=\"Мысли по поводу ответа\")\n",
    "    solution: str = Field(description=\"Какие конкуренты существуют и чем они отличаются от вашего продукта\")\n",
    "    unique: bool = Field(description=\"Уникально ли ваше предложение?\")\n",
    "\n",
    "COMPETITION_ANALYSIS_TEMPLATE = \"\"\"Ты работаешь над таблицей Lean Canvas и тебе нужно проанализировать конкурентов.\n",
    "\n",
    "Учитывай уже заполненные части таблицы Lean Canvas и главную задачу пользователя (main_task).\n",
    "<STATE>\n",
    "{state}\n",
    "</STATE>\n",
    "\n",
    "Результаты поиска по запросу \"{unique_value_proposition}\". Учитывай их, чтобы понять, уникальную ли идею ты придумал.\n",
    "Если в поиске нет ничего похожего, значит идея вероятно уникальная.\n",
    "<SEARCH_RESULTS>\n",
    "{search_results}\n",
    "</SEARCH_RESULTS>\n",
    "\n",
    "Выведи только следующую информацию в формате JSON:\n",
    "{format_instructions}\"\"\"\n",
    "\n",
    "def check_unique(state: LeanGraphState, config: RunnableConfig) -> Command[Literal[\"4_solution\", \"3_unique_value_proposition\"]]:\n",
    "    if config[\"configurable\"].get(\"skip_search\", False):\n",
    "        # Если пропускаем поиск, то просто переходим к следующему шагу\n",
    "        return Command(goto=\"4_solution\")\n",
    "    \n",
    "    parser = PydanticOutputParser(pydantic_object=CompetitorsAnalysisResult)\n",
    "    prompt = ChatPromptTemplate.from_messages([\n",
    "        (\"system\", COMPETITION_ANALYSIS_TEMPLATE)\n",
    "    ]).partial(format_instructions=parser.get_format_instructions())\n",
    "    \n",
    "    search_results_text = TavilySearch().run(state[\"unique_value_proposition\"])    \n",
    "    \n",
    "    chain = prompt | llm | parser\n",
    "    res = chain.invoke(\n",
    "        {\n",
    "            \"state\": state_to_string(state),\n",
    "            \"unique_value_proposition\": state[\"unique_value_proposition\"],\n",
    "            \"search_results\": search_results_text\n",
    "        }\n",
    "    )\n",
    "    \n",
    "    competitors_analysis = state.get(\"competitors_analysis\", \"\") + \"\\n\" + state[\"unique_value_proposition\"] + \" - \" + res.solution\n",
    "    \n",
    "    if res.unique:\n",
    "        # Если предложение уникально, переходим к следующему шагу\n",
    "        return Command(\n",
    "            update={\"competitors_analysis\": competitors_analysis.strip()},\n",
    "            goto=\"4_solution\",\n",
    "        )\n",
    "    else:\n",
    "        # Если предложение не уникально, возвращаемся к шагу \"3_unique_value_proposition\"\n",
    "        return Command(\n",
    "            update={\"competitors_analysis\": competitors_analysis.strip()},\n",
    "            goto=\"3_unique_value_proposition\",\n",
    "        )\n"
   ]
  },
  {
   "cell_type": "markdown",
   "id": "e47e0b38",
   "metadata": {},
   "source": [
    "## Проверка работы модуля оценки уникальности\n",
    "Если идея уже релазоивана, то будет принято решение о том, что нужно придумать новые уникальные отличия.\n",
    "В данном примере мы просим оценить идею \"бесконтактная оплата айфоном в России\". Видно, что был найден сервис \"Вжух\" от Сбера (запущен 09.2025), а данные на которых обучена модель на момент запуска собраны до 04.2025. Узел находит информацию в интернете и приходит к выводу, что данное решение не уникально (хотя исходная модель об этом не знает)."
   ]
  },
  {
   "cell_type": "code",
   "execution_count": 25,
   "id": "4352b677",
   "metadata": {},
   "outputs": [
    {
     "data": {
      "text/html": [
       "<pre style=\"white-space:pre;overflow-x:auto;line-height:normal;font-family:Menlo,'DejaVu Sans Mono',consolas,'Courier New',monospace\"><span style=\"color: #800080; text-decoration-color: #800080; font-weight: bold\">Command</span><span style=\"font-weight: bold\">(</span><span style=\"color: #808000; text-decoration-color: #808000\">update</span>=<span style=\"font-weight: bold\">{</span><span style=\"color: #008000; text-decoration-color: #008000\">'competitors_analysis'</span>: <span style=\"color: #008000; text-decoration-color: #008000\">'Бесконтактная оплата айфоном в России - Конкурентами являются решения </span>\n",
       "<span style=\"color: #008000; text-decoration-color: #008000\">банков, такие как приложение \"Активы Онлайн\" от Сбера и сервис \"Вжух\". Оба сервиса предлагают бесконтактную оплату </span>\n",
       "<span style=\"color: #008000; text-decoration-color: #008000\">через iPhone в России, поддерживая разные типы банковских карт и работая даже без постоянного соединения с </span>\n",
       "<span style=\"color: #008000; text-decoration-color: #008000\">интернетом. Основное отличие нашего предложения должно заключаться либо в технологии реализации платежа, либо в </span>\n",
       "<span style=\"color: #008000; text-decoration-color: #008000\">дополнительном функционале, который сделает процесс удобнее или безопаснее для пользователей.'</span><span style=\"font-weight: bold\">}</span>, \n",
       "<span style=\"color: #808000; text-decoration-color: #808000\">goto</span>=<span style=\"color: #008000; text-decoration-color: #008000\">'3_unique_value_proposition'</span><span style=\"font-weight: bold\">)</span>\n",
       "</pre>\n"
      ],
      "text/plain": [
       "\u001b[1;35mCommand\u001b[0m\u001b[1m(\u001b[0m\u001b[33mupdate\u001b[0m=\u001b[1m{\u001b[0m\u001b[32m'competitors_analysis'\u001b[0m: \u001b[32m'Бесконтактная оплата айфоном в России - Конкурентами являются решения \u001b[0m\n",
       "\u001b[32mбанков, такие как приложение \"Активы Онлайн\" от Сбера и сервис \"Вжух\". Оба сервиса предлагают бесконтактную оплату \u001b[0m\n",
       "\u001b[32mчерез iPhone в России, поддерживая разные типы банковских карт и работая даже без постоянного соединения с \u001b[0m\n",
       "\u001b[32mинтернетом. Основное отличие нашего предложения должно заключаться либо в технологии реализации платежа, либо в \u001b[0m\n",
       "\u001b[32mдополнительном функционале, который сделает процесс удобнее или безопаснее для пользователей.'\u001b[0m\u001b[1m}\u001b[0m, \n",
       "\u001b[33mgoto\u001b[0m=\u001b[32m'3_unique_value_proposition'\u001b[0m\u001b[1m)\u001b[0m\n"
      ]
     },
     "metadata": {},
     "output_type": "display_data"
    }
   ],
   "source": [
    "# Проверим работу check_unique вручную\n",
    "state = {\"unique_value_proposition\": \"Бесконтактная оплата айфоном в России\"}\n",
    "config = {\"configurable\": {\"skip_search\": False}}\n",
    "print(check_unique(state, config))"
   ]
  },
  {
   "cell_type": "markdown",
   "id": "09e64984",
   "metadata": {},
   "source": [
    "### Фидбек от пользователя\n",
    "\n",
    "Агент обращается к пользователю с просьбой дать обратную связь по текущей генерации. Пользователь может дать фидбек и указать с какого узла графа следует начать повторную генерацию или он может сказать, что результат его устраивает, тогда будет выполнена финальная генерация структуры Lean Canvas.\n",
    "\n",
    "Список принципов, которые продемонстрированы в данном разделе:\n",
    "- Human in the loop\n",
    "- Interrupt\n",
    "- Handoff"
   ]
  },
  {
   "cell_type": "code",
   "execution_count": 15,
   "id": "30742ef5",
   "metadata": {},
   "outputs": [],
   "source": [
    "from typing import Literal, TypeAlias\n",
    "\n",
    "RedirectStep: TypeAlias = Literal[\n",
    "    \"1_customer_segments\",\n",
    "    \"2_problem\",\n",
    "    \"3_unique_value_proposition\",\n",
    "    \"4_solution\",\n",
    "    \"5_channels\",\n",
    "    \"6_revenue_streams\",\n",
    "    \"7_cost_structure\",\n",
    "    \"8_key_metrics\",\n",
    "    \"9_unfair_advantage\",\n",
    "    \"__end__\"\n",
    "]\n",
    "\n",
    "class UserFeedback(BaseModel):\n",
    "    \"\"\"Анализ конкурентов\"\"\"\n",
    "    feedback: str = Field(description=\"Фидебек пользователя, что надо исправить\")\n",
    "    next_step: RedirectStep = Field(description=\"Следующий шаг в Lean Canvas\")\n",
    "    is_done: bool = Field(description=\"Можно ли завершать создание Lean Canvas?\")\n",
    "    \n",
    "FEEDBACK_TEMPLATE = \"\"\"Ты работаешь над таблицей Lean Canvas. Ты уже сгенерировал версию Lean Canvas и получил фидбек от пользователя.\n",
    "Тебе нужно разобраться фидбек и понять, как действовать дальше, заполнив таблицу с ответом.\n",
    "\n",
    "Учитывай уже заполненные части таблицы Lean Canvas и главную задачу пользователя (main_task).\n",
    "<STATE>\n",
    "{state}\n",
    "</STATE>\n",
    "\n",
    "Вот фидбек пользователя на твою работу:\n",
    "{feedback}\n",
    "\n",
    "Извлеки из него данные для дальнейшей работы. Если пользователь всем доволен или не говорит ничего конкретного, \n",
    "то прими решение закончить генерацию (is_done = True).\n",
    "Выведи только следующую информацию в формате JSON:\n",
    "{format_instructions}\"\"\"\n",
    "\n",
    "def get_feedback(\n",
    "    state: LeanGraphState, config: RunnableConfig\n",
    ") -> Command[Literal[RedirectStep, END]]:\n",
    "    if config[\"configurable\"].get(\"need_interrupt\"):\n",
    "        feedback = interrupt(\"\"\"Пожалуйста, дайте обратную связь по Lean Canvas. Если все хорошо, напишите 'Хорошо'. \n",
    "    Если нужно что-то изменить, напишите, что именно и с какого шага начать.\"\"\")\n",
    "    else:\n",
    "        feedback = \"Все хорошо!\"\n",
    "\n",
    "    parser = PydanticOutputParser(pydantic_object=UserFeedback)\n",
    "    prompt = ChatPromptTemplate.from_messages([\n",
    "        (\"system\", FEEDBACK_TEMPLATE)\n",
    "    ]).partial(format_instructions=parser.get_format_instructions())\n",
    "    \n",
    "  \n",
    "    chain = prompt | llm | parser\n",
    "    res = chain.invoke(\n",
    "        {\n",
    "            \"state\": state_to_string(state),\n",
    "            \"feedback\": feedback,\n",
    "        }\n",
    "    )\n",
    "    \n",
    "    if res.is_done:\n",
    "        return Command(update={}, goto=END)\n",
    "    else:\n",
    "        # Если предложение не уникально, возвращаемся к шагу \"3_unique_value_proposition\"\n",
    "        return Command(\n",
    "            update={\"feedback\": res.feedback},\n",
    "            goto=res.next_step,\n",
    "        )\n"
   ]
  },
  {
   "cell_type": "markdown",
   "id": "0fd6a5bb",
   "metadata": {},
   "source": [
    "# Сборка графа\n",
    "Соберем узлы графа в правильную последовательность действий, добавим чек-пойнт для сохранения состояний и преобразуем в исполняемого агента (компиляция графа)."
   ]
  },
  {
   "cell_type": "code",
   "execution_count": 16,
   "id": "68a6fe3d",
   "metadata": {},
   "outputs": [],
   "source": [
    "from langgraph.checkpoint.memory import MemorySaver\n",
    "\n",
    "class GraphConfig(BaseModel):\n",
    "    need_interrupt: bool = True\n",
    "\n",
    "\n",
    "graph = StateGraph(LeanGraphState, config_schema=GraphConfig)\n",
    "\n",
    "graph.add_node(\"1_customer_segments\", customer_segments)\n",
    "graph.add_node(\"2_problem\", problem)\n",
    "graph.add_node(\"3_unique_value_proposition\", unique_value_proposition)\n",
    "graph.add_node(\"3.1_check_unique\", check_unique)\n",
    "graph.add_node(\"4_solution\", solution)\n",
    "graph.add_node(\"5_channels\", channels)\n",
    "graph.add_node(\"6_revenue_streams\", revenue_streams)\n",
    "graph.add_node(\"7_cost_structure\", cost_structure)\n",
    "graph.add_node(\"8_key_metrics\", key_metrics)\n",
    "graph.add_node(\"9_unfair_advantage\", unfair_advantage)\n",
    "graph.add_node(\"get_feedback\", get_feedback)\n",
    "\n",
    "graph.add_edge(START, \"1_customer_segments\")\n",
    "graph.add_edge(\"1_customer_segments\", \"2_problem\")\n",
    "graph.add_edge(\"2_problem\", \"3_unique_value_proposition\")\n",
    "graph.add_edge(\"3_unique_value_proposition\", \"3.1_check_unique\")\n",
    "graph.add_edge(\"4_solution\", \"5_channels\")\n",
    "graph.add_edge(\"5_channels\", \"6_revenue_streams\")\n",
    "graph.add_edge(\"6_revenue_streams\", \"7_cost_structure\")\n",
    "graph.add_edge(\"7_cost_structure\", \"8_key_metrics\")\n",
    "graph.add_edge(\"8_key_metrics\", \"9_unfair_advantage\")\n",
    "graph.add_edge(\"9_unfair_advantage\", \"get_feedback\")\n",
    "\n",
    "memory = MemorySaver()\n",
    "app = graph.compile(checkpointer=memory)"
   ]
  },
  {
   "cell_type": "markdown",
   "id": "0c521a4f",
   "metadata": {},
   "source": [
    "Визуализируем получившийся граф.\n",
    "На этом этапе может понадобиться установка библиотеки pyppeteer. Он довольно большая, поэтому данный шаг можно пропустить."
   ]
  },
  {
   "cell_type": "code",
   "execution_count": 17,
   "id": "3ac118b9",
   "metadata": {},
   "outputs": [
    {
     "data": {
      "image/png": "[encoded data removed]",
      "text/plain": [
       "<IPython.core.display.Image object>"
      ]
     },
     "execution_count": 17,
     "metadata": {},
     "output_type": "execute_result"
    }
   ],
   "source": [
    "from utils import show_graph\n",
    "show_graph(app)"
   ]
  },
  {
   "cell_type": "markdown",
   "id": "87d30930",
   "metadata": {},
   "source": [
    "Запустим выполнение приложения с помощью функции `execute_graph`."
   ]
  },
  {
   "cell_type": "code",
   "execution_count": 18,
   "id": "8e58787d",
   "metadata": {},
   "outputs": [],
   "source": [
    "def execute_graph(inputs, conf: RunnableConfig):\n",
    "    \"\"\"Выводит поток событий от агента. Обрабатывает прерывания (human in the loop)\"\"\"\n",
    "    for event in app.stream(inputs, config=conf):\n",
    "        print(event)\n",
    "    \n",
    "    while '__interrupt__' in event:\n",
    "        print(f\"Agent interrupted. {event['__interrupt__'][0].value}\")\n",
    "        user_input = input(\"User: \")\n",
    "        print(f\"User input: {user_input}\")\n",
    "        for event in app.stream(Command(resume=user_input), config=conf):\n",
    "            print(event)"
   ]
  },
  {
   "cell_type": "code",
   "execution_count": 20,
   "id": "e4459718",
   "metadata": {},
   "outputs": [
    {
     "data": {
      "text/html": [
       "<pre style=\"white-space:pre;overflow-x:auto;line-height:normal;font-family:Menlo,'DejaVu Sans Mono',consolas,'Courier New',monospace\"><span style=\"font-weight: bold\">{</span>\n",
       "    <span style=\"color: #008000; text-decoration-color: #008000\">'1_customer_segments'</span>: <span style=\"font-weight: bold\">{</span>\n",
       "        <span style=\"color: #008000; text-decoration-color: #008000\">'customer_segments'</span>: <span style=\"color: #008000; text-decoration-color: #008000\">'- Студенты и взрослые, желающие изучать английский язык онлайн  \\n- Пользователи, </span>\n",
       "<span style=\"color: #008000; text-decoration-color: #008000\">интересующиеся инновационными подходами в обучении с помощью AI-технологий'</span>\n",
       "    <span style=\"font-weight: bold\">}</span>\n",
       "<span style=\"font-weight: bold\">}</span>\n",
       "</pre>\n"
      ],
      "text/plain": [
       "\u001b[1m{\u001b[0m\n",
       "    \u001b[32m'1_customer_segments'\u001b[0m: \u001b[1m{\u001b[0m\n",
       "        \u001b[32m'customer_segments'\u001b[0m: \u001b[32m'- Студенты и взрослые, желающие изучать английский язык онлайн  \\n- Пользователи, \u001b[0m\n",
       "\u001b[32mинтересующиеся инновационными подходами в обучении с помощью AI-технологий'\u001b[0m\n",
       "    \u001b[1m}\u001b[0m\n",
       "\u001b[1m}\u001b[0m\n"
      ]
     },
     "metadata": {},
     "output_type": "display_data"
    },
    {
     "data": {
      "text/html": [
       "<pre style=\"white-space:pre;overflow-x:auto;line-height:normal;font-family:Menlo,'DejaVu Sans Mono',consolas,'Courier New',monospace\"><span style=\"font-weight: bold\">{</span>\n",
       "    <span style=\"color: #008000; text-decoration-color: #008000\">'2_problem'</span>: <span style=\"font-weight: bold\">{</span>\n",
       "        <span style=\"color: #008000; text-decoration-color: #008000\">'problem'</span>: <span style=\"color: #008000; text-decoration-color: #008000\">'- Отсутствие персонализированных занятий и интерактивности в изучении английского языка онлайн.</span>\n",
       "<span style=\"color: #008000; text-decoration-color: #008000\">\\n- Сложность поддержания мотивации и вовлеченности учащихся в процессе самостоятельного обучения.'</span>\n",
       "    <span style=\"font-weight: bold\">}</span>\n",
       "<span style=\"font-weight: bold\">}</span>\n",
       "</pre>\n"
      ],
      "text/plain": [
       "\u001b[1m{\u001b[0m\n",
       "    \u001b[32m'2_problem'\u001b[0m: \u001b[1m{\u001b[0m\n",
       "        \u001b[32m'problem'\u001b[0m: \u001b[32m'- Отсутствие персонализированных занятий и интерактивности в изучении английского языка онлайн.\u001b[0m\n",
       "\u001b[32m\\n- Сложность поддержания мотивации и вовлеченности учащихся в процессе самостоятельного обучения.'\u001b[0m\n",
       "    \u001b[1m}\u001b[0m\n",
       "\u001b[1m}\u001b[0m\n"
      ]
     },
     "metadata": {},
     "output_type": "display_data"
    },
    {
     "data": {
      "text/html": [
       "<pre style=\"white-space:pre;overflow-x:auto;line-height:normal;font-family:Menlo,'DejaVu Sans Mono',consolas,'Courier New',monospace\"><span style=\"font-weight: bold\">{</span>\n",
       "    <span style=\"color: #008000; text-decoration-color: #008000\">'3_unique_value_proposition'</span>: <span style=\"font-weight: bold\">{</span>\n",
       "        <span style=\"color: #008000; text-decoration-color: #008000\">'unique_value_proposition'</span>: <span style=\"color: #008000; text-decoration-color: #008000\">'- Персонализированная онлайн-платформа для изучения английского языка с </span>\n",
       "<span style=\"color: #008000; text-decoration-color: #008000\">использованием AI-агентов, обеспечивающая высокую мотивацию и вовлечение через интерактивное обучение.'</span>\n",
       "    <span style=\"font-weight: bold\">}</span>\n",
       "<span style=\"font-weight: bold\">}</span>\n",
       "</pre>\n"
      ],
      "text/plain": [
       "\u001b[1m{\u001b[0m\n",
       "    \u001b[32m'3_unique_value_proposition'\u001b[0m: \u001b[1m{\u001b[0m\n",
       "        \u001b[32m'unique_value_proposition'\u001b[0m: \u001b[32m'- Персонализированная онлайн-платформа для изучения английского языка с \u001b[0m\n",
       "\u001b[32mиспользованием AI-агентов, обеспечивающая высокую мотивацию и вовлечение через интерактивное обучение.'\u001b[0m\n",
       "    \u001b[1m}\u001b[0m\n",
       "\u001b[1m}\u001b[0m\n"
      ]
     },
     "metadata": {},
     "output_type": "display_data"
    },
    {
     "data": {
      "text/html": [
       "<pre style=\"white-space:pre;overflow-x:auto;line-height:normal;font-family:Menlo,'DejaVu Sans Mono',consolas,'Courier New',monospace\"><span style=\"font-weight: bold\">{</span>\n",
       "    <span style=\"color: #008000; text-decoration-color: #008000\">'3.1_check_unique'</span>: <span style=\"font-weight: bold\">{</span>\n",
       "        <span style=\"color: #008000; text-decoration-color: #008000\">'competitors_analysis'</span>: <span style=\"color: #008000; text-decoration-color: #008000\">'- Персонализированная онлайн-платформа для изучения английского языка с </span>\n",
       "<span style=\"color: #008000; text-decoration-color: #008000\">использованием AI-агентов, обеспечивающая высокую мотивацию и вовлечение через интерактивное обучение. - </span>\n",
       "<span style=\"color: #008000; text-decoration-color: #008000\">Конкуренты:\\n- SpeakPal AI: Платформа для изучения множества языков с элементами ИИ, акцентирует внимание на </span>\n",
       "<span style=\"color: #008000; text-decoration-color: #008000\">интерактивном диалоге и индивидуальном подходе.\\n- Talkpal AI Chat: Приложение для изучения английского языка с </span>\n",
       "<span style=\"color: #008000; text-decoration-color: #008000\">использованием ИИ, позволяющее практиковаться в разговорной речи и письме с ботами и носителями языка.\\n\\nРазличие </span>\n",
       "<span style=\"color: #008000; text-decoration-color: #008000\">с нашим продуктом заключается в том, что существующие сервисы используют ИИ преимущественно для практики общения и </span>\n",
       "<span style=\"color: #008000; text-decoration-color: #008000\">отдельных аспектов обучения, тогда как наше решение основано на полноценном взаимодействии с AI-агентами, </span>\n",
       "<span style=\"color: #008000; text-decoration-color: #008000\">направленном именно на повышение мотивации и глубокого вовлечения студентов в образовательный процесс.'</span>\n",
       "    <span style=\"font-weight: bold\">}</span>\n",
       "<span style=\"font-weight: bold\">}</span>\n",
       "</pre>\n"
      ],
      "text/plain": [
       "\u001b[1m{\u001b[0m\n",
       "    \u001b[32m'3.1_check_unique'\u001b[0m: \u001b[1m{\u001b[0m\n",
       "        \u001b[32m'competitors_analysis'\u001b[0m: \u001b[32m'- Персонализированная онлайн-платформа для изучения английского языка с \u001b[0m\n",
       "\u001b[32mиспользованием AI-агентов, обеспечивающая высокую мотивацию и вовлечение через интерактивное обучение. - \u001b[0m\n",
       "\u001b[32mКонкуренты:\\n- SpeakPal AI: Платформа для изучения множества языков с элементами ИИ, акцентирует внимание на \u001b[0m\n",
       "\u001b[32mинтерактивном диалоге и индивидуальном подходе.\\n- Talkpal AI Chat: Приложение для изучения английского языка с \u001b[0m\n",
       "\u001b[32mиспользованием ИИ, позволяющее практиковаться в разговорной речи и письме с ботами и носителями языка.\\n\\nРазличие \u001b[0m\n",
       "\u001b[32mс нашим продуктом заключается в том, что существующие сервисы используют ИИ преимущественно для практики общения и \u001b[0m\n",
       "\u001b[32mотдельных аспектов обучения, тогда как наше решение основано на полноценном взаимодействии с AI-агентами, \u001b[0m\n",
       "\u001b[32mнаправленном именно на повышение мотивации и глубокого вовлечения студентов в образовательный процесс.'\u001b[0m\n",
       "    \u001b[1m}\u001b[0m\n",
       "\u001b[1m}\u001b[0m\n"
      ]
     },
     "metadata": {},
     "output_type": "display_data"
    },
    {
     "data": {
      "text/html": [
       "<pre style=\"white-space:pre;overflow-x:auto;line-height:normal;font-family:Menlo,'DejaVu Sans Mono',consolas,'Courier New',monospace\"><span style=\"font-weight: bold\">{</span>\n",
       "    <span style=\"color: #008000; text-decoration-color: #008000\">'4_solution'</span>: <span style=\"font-weight: bold\">{</span>\n",
       "        <span style=\"color: #008000; text-decoration-color: #008000\">'solution'</span>: <span style=\"color: #008000; text-decoration-color: #008000\">'- Онлайн-платформа для изучения английского языка с персональными AI-агентами, обеспечивающими</span>\n",
       "<span style=\"color: #008000; text-decoration-color: #008000\">глубокое взаимодействие, мотивацию и вовлеченность пользователей.'</span>\n",
       "    <span style=\"font-weight: bold\">}</span>\n",
       "<span style=\"font-weight: bold\">}</span>\n",
       "</pre>\n"
      ],
      "text/plain": [
       "\u001b[1m{\u001b[0m\n",
       "    \u001b[32m'4_solution'\u001b[0m: \u001b[1m{\u001b[0m\n",
       "        \u001b[32m'solution'\u001b[0m: \u001b[32m'- Онлайн-платформа для изучения английского языка с персональными AI-агентами, обеспечивающими\u001b[0m\n",
       "\u001b[32mглубокое взаимодействие, мотивацию и вовлеченность пользователей.'\u001b[0m\n",
       "    \u001b[1m}\u001b[0m\n",
       "\u001b[1m}\u001b[0m\n"
      ]
     },
     "metadata": {},
     "output_type": "display_data"
    },
    {
     "data": {
      "text/html": [
       "<pre style=\"white-space:pre;overflow-x:auto;line-height:normal;font-family:Menlo,'DejaVu Sans Mono',consolas,'Courier New',monospace\"><span style=\"font-weight: bold\">{</span>\n",
       "    <span style=\"color: #008000; text-decoration-color: #008000\">'5_channels'</span>: <span style=\"font-weight: bold\">{</span>\n",
       "        <span style=\"color: #008000; text-decoration-color: #008000\">'channels'</span>: <span style=\"color: #008000; text-decoration-color: #008000\">'- Таргетированная реклама в социальных сетях (Instagram, VK, Facebook)\\n- Партнёрство с </span>\n",
       "<span style=\"color: #008000; text-decoration-color: #008000\">блогерами и инфлюенсерами в сфере образования и технологий'</span>\n",
       "    <span style=\"font-weight: bold\">}</span>\n",
       "<span style=\"font-weight: bold\">}</span>\n",
       "</pre>\n"
      ],
      "text/plain": [
       "\u001b[1m{\u001b[0m\n",
       "    \u001b[32m'5_channels'\u001b[0m: \u001b[1m{\u001b[0m\n",
       "        \u001b[32m'channels'\u001b[0m: \u001b[32m'- Таргетированная реклама в социальных сетях \u001b[0m\u001b[32m(\u001b[0m\u001b[32mInstagram, VK, Facebook\u001b[0m\u001b[32m)\u001b[0m\u001b[32m\\n- Партнёрство с \u001b[0m\n",
       "\u001b[32mблогерами и инфлюенсерами в сфере образования и технологий'\u001b[0m\n",
       "    \u001b[1m}\u001b[0m\n",
       "\u001b[1m}\u001b[0m\n"
      ]
     },
     "metadata": {},
     "output_type": "display_data"
    },
    {
     "data": {
      "text/html": [
       "<pre style=\"white-space:pre;overflow-x:auto;line-height:normal;font-family:Menlo,'DejaVu Sans Mono',consolas,'Courier New',monospace\"><span style=\"font-weight: bold\">{</span>\n",
       "    <span style=\"color: #008000; text-decoration-color: #008000\">'6_revenue_streams'</span>: <span style=\"font-weight: bold\">{</span>\n",
       "        <span style=\"color: #008000; text-decoration-color: #008000\">'revenue_streams'</span>: <span style=\"color: #008000; text-decoration-color: #008000\">'- Подписка на премиум-функционал платформы.  \\n- Продажа дополнительного </span>\n",
       "<span style=\"color: #008000; text-decoration-color: #008000\">образовательного контента и курсов.'</span>\n",
       "    <span style=\"font-weight: bold\">}</span>\n",
       "<span style=\"font-weight: bold\">}</span>\n",
       "</pre>\n"
      ],
      "text/plain": [
       "\u001b[1m{\u001b[0m\n",
       "    \u001b[32m'6_revenue_streams'\u001b[0m: \u001b[1m{\u001b[0m\n",
       "        \u001b[32m'revenue_streams'\u001b[0m: \u001b[32m'- Подписка на премиум-функционал платформы.  \\n- Продажа дополнительного \u001b[0m\n",
       "\u001b[32mобразовательного контента и курсов.'\u001b[0m\n",
       "    \u001b[1m}\u001b[0m\n",
       "\u001b[1m}\u001b[0m\n"
      ]
     },
     "metadata": {},
     "output_type": "display_data"
    },
    {
     "data": {
      "text/html": [
       "<pre style=\"white-space:pre;overflow-x:auto;line-height:normal;font-family:Menlo,'DejaVu Sans Mono',consolas,'Courier New',monospace\"><span style=\"font-weight: bold\">{</span>\n",
       "    <span style=\"color: #008000; text-decoration-color: #008000\">'7_cost_structure'</span>: <span style=\"font-weight: bold\">{</span>\n",
       "        <span style=\"color: #008000; text-decoration-color: #008000\">'cost_structure'</span>: <span style=\"color: #008000; text-decoration-color: #008000\">'- Разработка и поддержка платформы  \\n- Создание и обучение AI-агентов  \\n- Маркетинг и </span>\n",
       "<span style=\"color: #008000; text-decoration-color: #008000\">продвижение'</span>\n",
       "    <span style=\"font-weight: bold\">}</span>\n",
       "<span style=\"font-weight: bold\">}</span>\n",
       "</pre>\n"
      ],
      "text/plain": [
       "\u001b[1m{\u001b[0m\n",
       "    \u001b[32m'7_cost_structure'\u001b[0m: \u001b[1m{\u001b[0m\n",
       "        \u001b[32m'cost_structure'\u001b[0m: \u001b[32m'- Разработка и поддержка платформы  \\n- Создание и обучение AI-агентов  \\n- Маркетинг и \u001b[0m\n",
       "\u001b[32mпродвижение'\u001b[0m\n",
       "    \u001b[1m}\u001b[0m\n",
       "\u001b[1m}\u001b[0m\n"
      ]
     },
     "metadata": {},
     "output_type": "display_data"
    },
    {
     "data": {
      "text/html": [
       "<pre style=\"white-space:pre;overflow-x:auto;line-height:normal;font-family:Menlo,'DejaVu Sans Mono',consolas,'Courier New',monospace\"><span style=\"font-weight: bold\">{</span>\n",
       "    <span style=\"color: #008000; text-decoration-color: #008000\">'8_key_metrics'</span>: <span style=\"font-weight: bold\">{</span>\n",
       "        <span style=\"color: #008000; text-decoration-color: #008000\">'key_metrics'</span>: <span style=\"color: #008000; text-decoration-color: #008000\">'- Уровень удержания и вовлечённости пользователей.\\n- Число активных ежедневных/ежемесячных</span>\n",
       "<span style=\"color: #008000; text-decoration-color: #008000\">пользователей (DAU/MAU).\\n- Количество завершённых уроков и продолжительность сессий взаимодействия с AI-агентом.'</span>\n",
       "    <span style=\"font-weight: bold\">}</span>\n",
       "<span style=\"font-weight: bold\">}</span>\n",
       "</pre>\n"
      ],
      "text/plain": [
       "\u001b[1m{\u001b[0m\n",
       "    \u001b[32m'8_key_metrics'\u001b[0m: \u001b[1m{\u001b[0m\n",
       "        \u001b[32m'key_metrics'\u001b[0m: \u001b[32m'- Уровень удержания и вовлечённости пользователей.\\n- Число активных ежедневных/ежемесячных\u001b[0m\n",
       "\u001b[32mпользователей \u001b[0m\u001b[32m(\u001b[0m\u001b[32mDAU/MAU\u001b[0m\u001b[32m)\u001b[0m\u001b[32m.\\n- Количество завершённых уроков и продолжительность сессий взаимодействия с AI-агентом.'\u001b[0m\n",
       "    \u001b[1m}\u001b[0m\n",
       "\u001b[1m}\u001b[0m\n"
      ]
     },
     "metadata": {},
     "output_type": "display_data"
    },
    {
     "data": {
      "text/html": [
       "<pre style=\"white-space:pre;overflow-x:auto;line-height:normal;font-family:Menlo,'DejaVu Sans Mono',consolas,'Courier New',monospace\"><span style=\"font-weight: bold\">{</span>\n",
       "    <span style=\"color: #008000; text-decoration-color: #008000\">'9_unfair_advantage'</span>: <span style=\"font-weight: bold\">{</span>\n",
       "        <span style=\"color: #008000; text-decoration-color: #008000\">'unfair_advantage'</span>: <span style=\"color: #008000; text-decoration-color: #008000\">'- Полноценное погружение в учебный процесс благодаря взаимодействию с AI-агентами, </span>\n",
       "<span style=\"color: #008000; text-decoration-color: #008000\">направленным на глубокую мотивацию и вовлечённость учеников.'</span>\n",
       "    <span style=\"font-weight: bold\">}</span>\n",
       "<span style=\"font-weight: bold\">}</span>\n",
       "</pre>\n"
      ],
      "text/plain": [
       "\u001b[1m{\u001b[0m\n",
       "    \u001b[32m'9_unfair_advantage'\u001b[0m: \u001b[1m{\u001b[0m\n",
       "        \u001b[32m'unfair_advantage'\u001b[0m: \u001b[32m'- Полноценное погружение в учебный процесс благодаря взаимодействию с AI-агентами, \u001b[0m\n",
       "\u001b[32mнаправленным на глубокую мотивацию и вовлечённость учеников.'\u001b[0m\n",
       "    \u001b[1m}\u001b[0m\n",
       "\u001b[1m}\u001b[0m\n"
      ]
     },
     "metadata": {},
     "output_type": "display_data"
    },
    {
     "data": {
      "text/html": [
       "<pre style=\"white-space:pre;overflow-x:auto;line-height:normal;font-family:Menlo,'DejaVu Sans Mono',consolas,'Courier New',monospace\"><span style=\"font-weight: bold\">{</span>\n",
       "    <span style=\"color: #008000; text-decoration-color: #008000\">'__interrupt__'</span>: <span style=\"font-weight: bold\">(</span>\n",
       "        <span style=\"color: #800080; text-decoration-color: #800080; font-weight: bold\">Interrupt</span><span style=\"font-weight: bold\">(</span>\n",
       "            <span style=\"color: #808000; text-decoration-color: #808000\">value</span>=<span style=\"color: #008000; text-decoration-color: #008000\">\"Пожалуйста, дайте обратную связь по Lean Canvas. Если все хорошо, напишите 'Хорошо'. \\n    Если </span>\n",
       "<span style=\"color: #008000; text-decoration-color: #008000\">нужно что-то изменить, напишите, что именно и с какого шага начать.\"</span>,\n",
       "            <span style=\"color: #808000; text-decoration-color: #808000\">resumable</span>=<span style=\"color: #00ff00; text-decoration-color: #00ff00; font-style: italic\">True</span>,\n",
       "            <span style=\"color: #808000; text-decoration-color: #808000\">ns</span>=<span style=\"font-weight: bold\">[</span><span style=\"color: #008000; text-decoration-color: #008000\">'get_feedback:15d9819b-ff57-0884-d357-f3f3d21679ef'</span><span style=\"font-weight: bold\">]</span>\n",
       "        <span style=\"font-weight: bold\">)</span>,\n",
       "    <span style=\"font-weight: bold\">)</span>\n",
       "<span style=\"font-weight: bold\">}</span>\n",
       "</pre>\n"
      ],
      "text/plain": [
       "\u001b[1m{\u001b[0m\n",
       "    \u001b[32m'__interrupt__'\u001b[0m: \u001b[1m(\u001b[0m\n",
       "        \u001b[1;35mInterrupt\u001b[0m\u001b[1m(\u001b[0m\n",
       "            \u001b[33mvalue\u001b[0m=\u001b[32m\"Пожалуйста\u001b[0m\u001b[32m, дайте обратную связь по Lean Canvas. Если все хорошо, напишите 'Хорошо'. \\n    Если \u001b[0m\n",
       "\u001b[32mнужно что-то изменить, напишите, что именно и с какого шага начать.\"\u001b[0m,\n",
       "            \u001b[33mresumable\u001b[0m=\u001b[3;92mTrue\u001b[0m,\n",
       "            \u001b[33mns\u001b[0m=\u001b[1m[\u001b[0m\u001b[32m'get_feedback:15d9819b-ff57-0884-d357-f3f3d21679ef'\u001b[0m\u001b[1m]\u001b[0m\n",
       "        \u001b[1m)\u001b[0m,\n",
       "    \u001b[1m)\u001b[0m\n",
       "\u001b[1m}\u001b[0m\n"
      ]
     },
     "metadata": {},
     "output_type": "display_data"
    },
    {
     "data": {
      "text/html": [
       "<pre style=\"white-space:pre;overflow-x:auto;line-height:normal;font-family:Menlo,'DejaVu Sans Mono',consolas,'Courier New',monospace\">Agent interrupted. Пожалуйста, дайте обратную связь по Lean Canvas. Если все хорошо, напишите <span style=\"color: #008000; text-decoration-color: #008000\">'Хорошо'</span>. \n",
       "    Если нужно что-то изменить, напишите, что именно и с какого шага начать.\n",
       "</pre>\n"
      ],
      "text/plain": [
       "Agent interrupted. Пожалуйста, дайте обратную связь по Lean Canvas. Если все хорошо, напишите \u001b[32m'Хорошо'\u001b[0m. \n",
       "    Если нужно что-то изменить, напишите, что именно и с какого шага начать.\n"
      ]
     },
     "metadata": {},
     "output_type": "display_data"
    },
    {
     "data": {
      "text/html": [
       "<pre style=\"white-space:pre;overflow-x:auto;line-height:normal;font-family:Menlo,'DejaVu Sans Mono',consolas,'Courier New',monospace\">User input: Все хорошо\n",
       "</pre>\n"
      ],
      "text/plain": [
       "User input: Все хорошо\n"
      ]
     },
     "metadata": {},
     "output_type": "display_data"
    },
    {
     "data": {
      "text/html": [
       "<pre style=\"white-space:pre;overflow-x:auto;line-height:normal;font-family:Menlo,'DejaVu Sans Mono',consolas,'Courier New',monospace\"><span style=\"font-weight: bold\">{</span><span style=\"color: #008000; text-decoration-color: #008000\">'get_feedback'</span>: <span style=\"color: #800080; text-decoration-color: #800080; font-style: italic\">None</span><span style=\"font-weight: bold\">}</span>\n",
       "</pre>\n"
      ],
      "text/plain": [
       "\u001b[1m{\u001b[0m\u001b[32m'get_feedback'\u001b[0m: \u001b[3;35mNone\u001b[0m\u001b[1m}\u001b[0m\n"
      ]
     },
     "metadata": {},
     "output_type": "display_data"
    }
   ],
   "source": [
    "import uuid\n",
    "\n",
    "inputs = {\"main_task\": \"Онлайн платформа для изучения английского языка с AI-агентами\"}\n",
    "conf = {\"configurable\": {\"thread_id\": str(uuid.uuid4()),\n",
    "                         \"need_interrupt\": True,\n",
    "                         \"skip_search\": False,}}\n",
    "\n",
    "execute_graph(inputs, conf)\n",
    "        "
   ]
  },
  {
   "cell_type": "markdown",
   "id": "9669327c",
   "metadata": {},
   "source": [
    "# Вывод результата"
   ]
  },
  {
   "cell_type": "code",
   "execution_count": 21,
   "id": "e2d60a85",
   "metadata": {},
   "outputs": [],
   "source": [
    "from utils import show_lean_canvas\n",
    "\n",
    "current_state_values = app.get_state(config=conf).values\n",
    "state = LeanGraphState(**current_state_values)\n",
    "# show_lean_canvas(state)"
   ]
  },
  {
   "cell_type": "code",
   "execution_count": 22,
   "id": "05557a10-e9fd-4f14-8d74-f9c3fc44a3b3",
   "metadata": {},
   "outputs": [
    {
     "data": {
      "text/html": [
       "\n",
       "    \n",
       "    <style>\n",
       "    .canvas {\n",
       "        display: grid;\n",
       "        grid-template-columns: 13% 30% 13% 30% 13%;   /* ширины колонок */\n",
       "        grid-template-rows: auto auto auto auto;           /* Title + 2 ряда + низ   */\n",
       "        gap: 8px;\n",
       "        background: transparent;\n",
       "        font-family: Arial, sans-serif;\n",
       "    }\n",
       "    .box {\n",
       "        background:#e59a12;\n",
       "        color:#fff;\n",
       "        border:1px solid #fff;\n",
       "        padding:12px 14px;\n",
       "        line-height:1.3;\n",
       "    }\n",
       "    .title { font-weight:700; margin-bottom:6px; }\n",
       "    .canvas-title-cell { /* New class for the title cell */\n",
       "        grid-column: 1 / -1; /* Span all columns */\n",
       "        grid-row: 1 / span 1;    /* First row */\n",
       "        text-align: center;\n",
       "        color: #08c; /* Copied from original h2 */\n",
       "        font-family: Arial, sans-serif; /* Copied from original h2 */\n",
       "        padding: 8px 0; /* Vertical padding */\n",
       "        font-size: 1.3em;\n",
       "        font-weight: bold;\n",
       "    }\n",
       "    /* раскладка по «ячейкам» */\n",
       "    .problem           { grid-area: 2 / 1 / span 2 / span 1; } /* Shifted down */\n",
       "    .solution          { grid-area: 2 / 2 / span 1 / span 1; } /* Shifted down */\n",
       "    .key_metrics       { grid-area: 3 / 2 / span 1 / span 1; } /* Shifted down */\n",
       "    .uvp               { grid-area: 2 / 3 / span 2 / span 1; } /* Shifted down */\n",
       "    .unfair            { grid-area: 2 / 4 / span 1 / span 1; } /* Shifted down */\n",
       "    .channels          { grid-area: 3 / 4 / span 1 / span 1; } /* Shifted down */\n",
       "    .customer_segments { grid-area: 2 / 5 / span 2 / span 1; } /* Shifted down */\n",
       "    .cost_structure    { grid-area: 4 / 1 / span 1 / span 3; } /* Shifted down */\n",
       "    .revenue_streams   { grid-area: 4 / 4 / span 1 / span 2; } /* Shifted down */\n",
       "    </style>\n",
       "    \n",
       "    <div class=\"canvas\">\n",
       "        <div class=\"canvas-title-cell\">Онлайн платформа для изучения английского языка с AI-агентами</div>\n",
       "\n",
       "        <div class=\"box problem\">\n",
       "            <div class=\"title\">2. Problem</div>\n",
       "            - Отсутствие персонализированных занятий и интерактивности в изучении английского языка онлайн.  <br>- Сложность поддержания мотивации и вовлеченности учащихся в процессе самостоятельного обучения.\n",
       "        </div>\n",
       "\n",
       "        <div class=\"box solution\">\n",
       "            <div class=\"title\">4. Solution</div>\n",
       "            - Онлайн-платформа для изучения английского языка с персональными AI-агентами, обеспечивающими глубокое взаимодействие, мотивацию и вовлеченность пользователей.\n",
       "        </div>\n",
       "\n",
       "        <div class=\"box key_metrics\">\n",
       "            <div class=\"title\">8. Key Metrics</div>\n",
       "            - Уровень удержания и вовлечённости пользователей.<br>- Число активных ежедневных/ежемесячных пользователей (DAU/MAU).<br>- Количество завершённых уроков и продолжительность сессий взаимодействия с AI-агентом.\n",
       "        </div>\n",
       "\n",
       "        <div class=\"box uvp\">\n",
       "            <div class=\"title\">3. Unique Value Proposition</div>\n",
       "            - Персонализированная онлайн-платформа для изучения английского языка с использованием AI-агентов, обеспечивающая высокую мотивацию и вовлечение через интерактивное обучение.\n",
       "        </div>\n",
       "\n",
       "        <div class=\"box unfair\">\n",
       "            <div class=\"title\">9. Unfair Advantage</div>\n",
       "            - Полноценное погружение в учебный процесс благодаря взаимодействию с AI-агентами, направленным на глубокую мотивацию и вовлечённость учеников.\n",
       "        </div>\n",
       "\n",
       "        <div class=\"box channels\">\n",
       "            <div class=\"title\">5. Channels</div>\n",
       "            - Таргетированная реклама в социальных сетях (Instagram, VK, Facebook)<br>- Партнёрство с блогерами и инфлюенсерами в сфере образования и технологий\n",
       "        </div>\n",
       "\n",
       "        <div class=\"box customer_segments\">\n",
       "            <div class=\"title\">1. Customer Segments</div>\n",
       "            - Студенты и взрослые, желающие изучать английский язык онлайн  <br>- Пользователи, интересующиеся инновационными подходами в обучении с помощью AI-технологий\n",
       "        </div>\n",
       "\n",
       "        <div class=\"box cost_structure\">\n",
       "            <div class=\"title\">7. Cost Structure</div>\n",
       "            - Разработка и поддержка платформы  <br>- Создание и обучение AI-агентов  <br>- Маркетинг и продвижение\n",
       "        </div>\n",
       "\n",
       "        <div class=\"box revenue_streams\">\n",
       "            <div class=\"title\">6. Revenue Streams</div>\n",
       "            - Подписка на премиум-функционал платформы.  <br>- Продажа дополнительного образовательного контента и курсов.\n",
       "        </div>\n",
       "\n",
       "    </div>\n",
       "    "
      ],
      "text/plain": [
       "<IPython.core.display.HTML object>"
      ]
     },
     "metadata": {},
     "output_type": "display_data"
    }
   ],
   "source": [
    "show_lean_canvas(state)"
   ]
  },
  {
   "cell_type": "markdown",
   "id": "053786fa",
   "metadata": {},
   "source": [
    "# Валидация"
   ]
  },
  {
   "cell_type": "markdown",
   "id": "9dc9a55e",
   "metadata": {},
   "source": [
    "Теперь покажем, как можно проводить логирование и затем качественно и количественно оценивать результаты работы агента. В качестве платформы для логирования используем [Arize Phoenix](https://phoenix.arize.com/). Этот опенсорс инструмент легко использовать как локально, так и развернув на сервере. "
   ]
  },
  {
   "cell_type": "markdown",
   "id": "8b440885",
   "metadata": {},
   "source": [
    "## Запуск Arize Phoenix"
   ]
  },
  {
   "cell_type": "markdown",
   "id": "e0347640",
   "metadata": {},
   "source": [
    "Arize phoenix - opensource решение для отладки и валидации LLM-приложений. Его можно запустить прямо в jupyter notebook. После запуска веб-интерфейс будет доступен по адресу http://localhost:6006/"
   ]
  },
  {
   "cell_type": "code",
   "execution_count": null,
   "id": "9d51c7cf",
   "metadata": {},
   "outputs": [],
   "source": [
    "# !pip install arize-phoenix opentelemetry-exporter-otlp openinference-instrumentation-langchain pandas -U -q"
   ]
  },
  {
   "cell_type": "code",
   "execution_count": 7,
   "id": "d9ff0271",
   "metadata": {},
   "outputs": [
    {
     "name": "stderr",
     "output_type": "stream",
     "text": [
      "/Users/knkrestnikov/Documents/giga/gigachain/.venv/lib/python3.13/site-packages/tqdm/auto.py:21: TqdmWarning: IProgress not found. Please update jupyter and ipywidgets. See https://ipywidgets.readthedocs.io/en/stable/user_install.html\n",
      "  from .autonotebook import tqdm as notebook_tqdm\n"
     ]
    },
    {
     "name": "stdout",
     "output_type": "stream",
     "text": [
      "🌍 To view the Phoenix app in your browser, visit http://localhost:6006/\n",
      "💽 Your data is being persisted to sqlite:////Users/knkrestnikov/.phoenix/phoenix.db\n",
      "📖 For more information on how to use Phoenix, check out https://docs.arize.com/phoenix\n"
     ]
    }
   ],
   "source": [
    "import phoenix as px\n",
    "session = px.launch_app(use_temp_dir=False)"
   ]
  },
  {
   "cell_type": "markdown",
   "id": "e158a65c",
   "metadata": {},
   "source": [
    "### Загружаем датасет в Phoenix\n",
    "В качестве валидационного датасета используем файл validation_data.txt. Преобразуем его в DataFrame и передадим в Phoenix."
   ]
  },
  {
   "cell_type": "code",
   "execution_count": 18,
   "id": "11e1b5d7",
   "metadata": {},
   "outputs": [
    {
     "data": {
      "text/html": [
       "<pre style=\"white-space:pre;overflow-x:auto;line-height:normal;font-family:Menlo,'DejaVu Sans Mono',consolas,'Courier New',monospace\">Total questions: <span style=\"color: #008080; text-decoration-color: #008080; font-weight: bold\">30</span>\n",
       "</pre>\n"
      ],
      "text/plain": [
       "Total questions: \u001b[1;36m30\u001b[0m\n"
      ]
     },
     "metadata": {},
     "output_type": "display_data"
    }
   ],
   "source": [
    "with open('validation_data.txt', 'r') as f:\n",
    "    questions = [line.strip() for line in f]\n",
    "\n",
    "print(f\"Total questions: {len(questions)}\")"
   ]
  },
  {
   "cell_type": "code",
   "execution_count": null,
   "id": "8e5dfa30",
   "metadata": {},
   "outputs": [
    {
     "name": "stderr",
     "output_type": "stream",
     "text": [
      "Existing running Phoenix instance detected! Shutting it down and starting a new instance...\n",
      "/Library/Frameworks/Python.framework/Versions/3.13/lib/python3.13/contextlib.py:148: SAWarning: Skipped unsupported reflection of expression-based index ix_cumulative_llm_token_count_total\n",
      "  next(self.gen)\n",
      "/Library/Frameworks/Python.framework/Versions/3.13/lib/python3.13/contextlib.py:148: SAWarning: Skipped unsupported reflection of expression-based index ix_latency\n",
      "  next(self.gen)\n"
     ]
    },
    {
     "name": "stdout",
     "output_type": "stream",
     "text": [
      "🌍 To view the Phoenix app in your browser, visit http://localhost:6006/\n",
      "📖 For more information on how to use Phoenix, check out https://docs.arize.com/phoenix\n",
      "📤 Uploading dataset...\n",
      "💾 Examples uploaded: http://localhost:6006/datasets/RGF0YXNldDox/examples\n",
      "🗄️ Dataset version ID: RGF0YXNldFZlcnNpb246MQ==\n"
     ]
    },
    {
     "name": "stderr",
     "output_type": "stream",
     "text": [
      "running experiment evaluations |██        | 6/30 (20.0%) | ⏳ 00:32<02:09 |  5.41s/it\n"
     ]
    }
   ],
   "source": [
    "import pandas as pd\n",
    "import phoenix as px\n",
    "\n",
    "dataset_df = pd.DataFrame(data={\"question\": questions})\n",
    "\n",
    "px.launch_app()\n",
    "client = px.Client()\n",
    "\n",
    "dataset = client.upload_dataset(\n",
    "    dataframe=dataset_df,\n",
    "    dataset_name=\"lean_canvas_questions\",\n",
    "    input_keys=[\"question\"],\n",
    ")"
   ]
  },
  {
   "cell_type": "markdown",
   "id": "4fe0f380",
   "metadata": {},
   "source": [
    "![Dataset](dataset.png)"
   ]
  },
  {
   "cell_type": "markdown",
   "id": "efc7d39e",
   "metadata": {},
   "source": [
    "## Проводим эксперимент на GigaChat Lite\n",
    "\n",
    "В качестве критерия оценки работы агента можно создать собственную функцию, которая по жесткому алгоритму будет выдавать оценку ответу. Например, зададим просто оценку по длине. Пусть просто оценивается, что длина ответа входит в диапазон от 400 до 3000 символов, а также все 9 полей присутствуют в виде корректного JSON."
   ]
  },
  {
   "cell_type": "code",
   "execution_count": 32,
   "id": "98704bee",
   "metadata": {},
   "outputs": [
    {
     "name": "stderr",
     "output_type": "stream",
     "text": [
      "🐌!! If running inside a notebook, patching the event loop with nest_asyncio will allow asynchronous eval submission, and is significantly faster. To patch the event loop, run `nest_asyncio.apply()`.\n"
     ]
    },
    {
     "name": "stdout",
     "output_type": "stream",
     "text": [
      "🧪 Experiment started.\n",
      "📺 View dataset experiments: http://localhost:6006/datasets/RGF0YXNldDox/experiments\n",
      "🔗 View this experiment: http://localhost:6006/datasets/RGF0YXNldDox/compare?experimentId=RXhwZXJpbWVudDox\n"
     ]
    },
    {
     "name": "stderr",
     "output_type": "stream",
     "text": [
      "running tasks |██████████| 30/30 (100.0%) | ⏳ 03:43<00:00 |  7.45s/it\n",
      "🐌!! If running inside a notebook, patching the event loop with nest_asyncio will allow asynchronous eval submission, and is significantly faster. To patch the event loop, run `nest_asyncio.apply()`.\n"
     ]
    },
    {
     "name": "stdout",
     "output_type": "stream",
     "text": [
      "✅ Task runs completed.\n",
      "🧠 Evaluation started.\n"
     ]
    },
    {
     "name": "stderr",
     "output_type": "stream",
     "text": [
      "running experiment evaluations |██████████| 30/30 (100.0%) | ⏳ 00:00<00:00 | 119.30it/s"
     ]
    },
    {
     "name": "stdout",
     "output_type": "stream",
     "text": [
      "\n",
      "🔗 View this experiment: http://localhost:6006/datasets/RGF0YXNldDox/compare?experimentId=RXhwZXJpbWVudDox\n",
      "\n",
      "Experiment Summary (05/22/25 11:00 PM +0300)\n",
      "--------------------------------------------\n",
      "         evaluator   n  n_scores  avg_score  n_labels  \\\n",
      "0  check_structure  30        30   0.033333        30   \n",
      "\n",
      "               top_2_labels  \n",
      "0  {'False': 29, 'True': 1}  \n",
      "\n",
      "Tasks Summary (05/22/25 11:00 PM +0300)\n",
      "---------------------------------------\n",
      "   n_examples  n_runs  n_errors\n",
      "0          30      30         0\n"
     ]
    },
    {
     "name": "stderr",
     "output_type": "stream",
     "text": [
      "\n"
     ]
    }
   ],
   "source": [
    "from phoenix.experiments import evaluate_experiment, run_experiment\n",
    "from phoenix.experiments.types import Example\n",
    "import json\n",
    "\n",
    "def create_experiment(name, model):\n",
    "    def run_step(example: Example):\n",
    "        inputs = {\"main_task\": example.input[\"question\"]}\n",
    "        conf = {\"configurable\": {\"thread_id\": str(uuid.uuid4()),\n",
    "                                \"model\": model,\n",
    "                                \"need_interrupt\": False,\n",
    "                                \"skip_search\": True,}}\n",
    "        resp = app.invoke(inputs, config=conf)\n",
    "        resp.pop(\"main_task\")\n",
    "        return resp\n",
    "\n",
    "    def check_structure(expected, output) -> bool:\n",
    "        resp_st = json.dumps(output, ensure_ascii=False)\n",
    "        if len(resp_st) > 3000 or len(resp_st) < 400:\n",
    "            return False\n",
    "        return True\n",
    "\n",
    "    return run_experiment(\n",
    "        client.get_dataset(name=\"lean_canvas_questions\"),\n",
    "        run_step,\n",
    "        evaluators=[check_structure],\n",
    "        experiment_name=name,\n",
    "        experiment_description=\"\",\n",
    "    )\n",
    "\n",
    "experiment = create_experiment(\"Lean Canvas GigaChat-Lite\", \"GigaChat-2\")    "
   ]
  },
  {
   "cell_type": "markdown",
   "id": "9ca8d5c0",
   "metadata": {},
   "source": [
    "## Валидация качества ответа - llm as judge"
   ]
  },
  {
   "cell_type": "markdown",
   "id": "0229a3b2",
   "metadata": {},
   "source": [
    "Часто оценка ответа не может быть оформлена в жесткий алгоритм, поэтому часто используют подход LLM as Judge.\n",
    "\n",
    "Важно! Данный пример показан только для демонстрации того, как можно делать оценку с помощью LLM и содержит два допуска, которые не нужно повторять в реальной жизни:\n",
    "- Оценка модели с помощью нее самой. Нужно использовать другую, желательно более мощную модель.\n",
    "- Оценка по градиентной шкале. Желательно использовать бинарную оценку."
   ]
  },
  {
   "cell_type": "code",
   "execution_count": 35,
   "id": "d6b1a5e6",
   "metadata": {},
   "outputs": [
    {
     "name": "stderr",
     "output_type": "stream",
     "text": [
      "🐌!! If running inside a notebook, patching the event loop with nest_asyncio will allow asynchronous eval submission, and is significantly faster. To patch the event loop, run `nest_asyncio.apply()`.\n"
     ]
    },
    {
     "name": "stdout",
     "output_type": "stream",
     "text": [
      "🧠 Evaluation started.\n"
     ]
    },
    {
     "name": "stderr",
     "output_type": "stream",
     "text": [
      "running experiment evaluations |██████████| 30/30 (100.0%) | ⏳ 00:07<00:00 |  3.83it/s"
     ]
    },
    {
     "name": "stdout",
     "output_type": "stream",
     "text": [
      "\n",
      "🔗 View this experiment: http://localhost:6006/datasets/RGF0YXNldDox/compare?experimentId=RXhwZXJpbWVudDox\n",
      "\n",
      "Experiment Summary (05/22/25 11:06 PM +0300)\n",
      "--------------------------------------------\n",
      "              evaluator   n  n_scores  avg_score\n",
      "0  check_output_quality  30        30   4.433333\n",
      "\n",
      "Experiment Summary (05/22/25 11:00 PM +0300)\n",
      "--------------------------------------------\n",
      "         evaluator   n  n_scores  avg_score  n_labels  \\\n",
      "0  check_structure  30        30   0.033333        30   \n",
      "\n",
      "               top_2_labels  \n",
      "0  {'False': 29, 'True': 1}  \n",
      "\n",
      "Tasks Summary (05/22/25 11:00 PM +0300)\n",
      "---------------------------------------\n",
      "   n_examples  n_runs  n_errors\n",
      "0          30      30         0\n"
     ]
    },
    {
     "name": "stderr",
     "output_type": "stream",
     "text": [
      "\n"
     ]
    },
    {
     "data": {
      "text/plain": [
       "RanExperiment(id='RXhwZXJpbWVudDox', dataset_id='RGF0YXNldDox', dataset_version_id='RGF0YXNldFZlcnNpb246MQ==', repetitions=1)"
      ]
     },
     "execution_count": 35,
     "metadata": {},
     "output_type": "execute_result"
    }
   ],
   "source": [
    "def check_output_quality(output) -> float:\n",
    "    prompt = ChatPromptTemplate.from_messages([\n",
    "        (\"system\", \"Оцени качество заполнения полей по шкале от 1 до 5. Верни только число.\"),\n",
    "        (\"human\", \"{output}\")\n",
    "    ])\n",
    "    chain = prompt | llm | StrOutputParser()\n",
    "    return float(chain.invoke({\"output\": output}))\n",
    "\n",
    "evaluate_experiment(experiment, evaluators=[check_output_quality])"
   ]
  },
  {
   "cell_type": "markdown",
   "id": "73fdb9f7",
   "metadata": {},
   "source": [
    "![Experiment](experement.png)"
   ]
  },
  {
   "cell_type": "markdown",
   "id": "95223316",
   "metadata": {},
   "source": [
    "## Теперь аналогичным образом замерим GigaChat-2-Max"
   ]
  },
  {
   "cell_type": "code",
   "execution_count": 36,
   "id": "a7df78c9",
   "metadata": {},
   "outputs": [
    {
     "name": "stderr",
     "output_type": "stream",
     "text": [
      "🐌!! If running inside a notebook, patching the event loop with nest_asyncio will allow asynchronous eval submission, and is significantly faster. To patch the event loop, run `nest_asyncio.apply()`.\n"
     ]
    },
    {
     "name": "stdout",
     "output_type": "stream",
     "text": [
      "🧪 Experiment started.\n",
      "📺 View dataset experiments: http://localhost:6006/datasets/RGF0YXNldDox/experiments\n",
      "🔗 View this experiment: http://localhost:6006/datasets/RGF0YXNldDox/compare?experimentId=RXhwZXJpbWVudDoy\n"
     ]
    },
    {
     "name": "stderr",
     "output_type": "stream",
     "text": [
      "running tasks |██████████| 30/30 (100.0%) | ⏳ 04:28<00:00 |  8.95s/it\n",
      "🐌!! If running inside a notebook, patching the event loop with nest_asyncio will allow asynchronous eval submission, and is significantly faster. To patch the event loop, run `nest_asyncio.apply()`.\n"
     ]
    },
    {
     "name": "stdout",
     "output_type": "stream",
     "text": [
      "✅ Task runs completed.\n",
      "🧠 Evaluation started.\n"
     ]
    },
    {
     "name": "stderr",
     "output_type": "stream",
     "text": [
      "running experiment evaluations |██████████| 30/30 (100.0%) | ⏳ 00:00<00:00 | 116.09it/s\n",
      "🐌!! If running inside a notebook, patching the event loop with nest_asyncio will allow asynchronous eval submission, and is significantly faster. To patch the event loop, run `nest_asyncio.apply()`.\n"
     ]
    },
    {
     "name": "stdout",
     "output_type": "stream",
     "text": [
      "\n",
      "🔗 View this experiment: http://localhost:6006/datasets/RGF0YXNldDox/compare?experimentId=RXhwZXJpbWVudDoy\n",
      "\n",
      "Experiment Summary (05/22/25 11:11 PM +0300)\n",
      "--------------------------------------------\n",
      "         evaluator   n  n_scores  avg_score  n_labels  top_2_labels\n",
      "0  check_structure  30        30        1.0        30  {'True': 30}\n",
      "\n",
      "Tasks Summary (05/22/25 11:11 PM +0300)\n",
      "---------------------------------------\n",
      "   n_examples  n_runs  n_errors\n",
      "0          30      30         0\n",
      "🧠 Evaluation started.\n"
     ]
    },
    {
     "name": "stderr",
     "output_type": "stream",
     "text": [
      "running experiment evaluations |██████████| 30/30 (100.0%) | ⏳ 00:07<00:00 |  4.11it/s"
     ]
    },
    {
     "name": "stdout",
     "output_type": "stream",
     "text": [
      "\n",
      "🔗 View this experiment: http://localhost:6006/datasets/RGF0YXNldDox/compare?experimentId=RXhwZXJpbWVudDoy\n",
      "\n",
      "Experiment Summary (05/22/25 11:11 PM +0300)\n",
      "--------------------------------------------\n",
      "              evaluator   n  n_scores  avg_score\n",
      "0  check_output_quality  30        30        4.5\n",
      "\n",
      "Experiment Summary (05/22/25 11:11 PM +0300)\n",
      "--------------------------------------------\n",
      "         evaluator   n  n_scores  avg_score  n_labels  top_2_labels\n",
      "0  check_structure  30        30        1.0        30  {'True': 30}\n",
      "\n",
      "Tasks Summary (05/22/25 11:11 PM +0300)\n",
      "---------------------------------------\n",
      "   n_examples  n_runs  n_errors\n",
      "0          30      30         0\n"
     ]
    },
    {
     "name": "stderr",
     "output_type": "stream",
     "text": [
      "\n"
     ]
    },
    {
     "data": {
      "text/plain": [
       "RanExperiment(id='RXhwZXJpbWVudDoy', dataset_id='RGF0YXNldDox', dataset_version_id='RGF0YXNldFZlcnNpb246MQ==', repetitions=1)"
      ]
     },
     "execution_count": 36,
     "metadata": {},
     "output_type": "execute_result"
    }
   ],
   "source": [
    "experiment2 = create_experiment(\"Lean Canvas GigaChat-2-Max\", \"GigaChat-2-Max\")\n",
    "evaluate_experiment(experiment2, evaluators=[check_output_quality])"
   ]
  },
  {
   "cell_type": "markdown",
   "id": "9ec2994f",
   "metadata": {},
   "source": [
    "![Experiment 2](experement_2.png)"
   ]
  },
  {
   "cell_type": "markdown",
   "id": "b51932e7",
   "metadata": {},
   "source": [
    "Стоит отметить, что оценка агентов является сложной задачей, реализация которой может сильно зависить от решаемой агентом задачи, поэтому данный ноутбук показывает лишь техническую сторону (использование платформы Arize Phoenix). Реальная валидация требует качественных данных, глубокого понимания доменной области, для которой создается агент, а также множества итераций по получению инсайтов и постепенному повышению качества ответов агента."
   ]
  }
 ],
 "metadata": {
  "kernelspec": {
   "display_name": ".venv (3.13.2)",
   "language": "python",
   "name": "python3"
  },
  "language_info": {
   "codemirror_mode": {
    "name": "ipython",
    "version": 3
   },
   "file_extension": ".py",
   "mimetype": "text/x-python",
   "name": "python",
   "nbconvert_exporter": "python",
   "pygments_lexer": "ipython3",
   "version": "3.13.2"
  }
 },
 "nbformat": 4,
 "nbformat_minor": 5
}
