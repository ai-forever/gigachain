{
 "cells": [
  {
   "cell_type": "markdown",
   "id": "4f79a807",
   "metadata": {
    "jp-MarkdownHeadingCollapsed": true,
    "jupyter": {
     "source_hidden": true
    }
   },
   "source": [
    "# Агент для генерации LeanCanvas\n",
    "\n",
    "## Введение\n",
    "\n",
    "Этот ноутбук демонстрирует создание интеллектуального агента для автоматической генерации **Lean Canvas** — популярного инструмента для описания бизнес-модели стартапов. Lean Canvas помогает структурированно описать ключевые аспекты бизнеса: проблему, решение, целевую аудиторию, каналы привлечения клиентов и другие важные элементы.\n",
    "\n",
    "### Решаемая задача\n",
    "Агент автоматизирует процесс создания Lean Canvas на основе краткого описания бизнес-идеи. Вместо ручного заполнения 9 блоков таблицы, пользователь просто описывает свою идею, а агент:\n",
    "- Анализирует конкурентов через поиск в интернете\n",
    "- Генерирует уникальные предложения\n",
    "- Заполняет все разделы Lean Canvas\n",
    "- Позволяет пользователю корректировать результат\n",
    "\n",
    "### Демонстрируемые принципы LangGraph\n",
    "\n",
    "В этом ноутбуке показаны ключевые концепции работы с **LangGraph**:\n",
    "\n",
    "1. **ReAct агенты** — агенты, которые могут рассуждать (Reasoning) и действовать (Acting), используя внешние инструменты (поиск в интернете)\n",
    "\n",
    "2. **Structured Output** — получение структурированных ответов от LLM в виде Pydantic моделей вместо произвольного текста\n",
    "\n",
    "3. **State Graphs** — создание сложных workflow с состоянием, где каждый узел выполняет определенную задачу и обновляет глобальное состояние\n",
    "\n",
    "4. **Human in the Loop** — интеграция человека в процесс работы агента для предоставления обратной связи и корректировок\n",
    "\n",
    "5. **Interrupt & Resume** — механизм прерывания выполнения графа для получения пользовательского ввода и последующего возобновления работы\n",
    "\n",
    "6. **Conditional Routing** — динамическое определение следующего шага на основе результатов анализа (например, переход к генерации нового предложения, если текущее не уникально)\n",
    "\n",
    "7. **Memory & Checkpoints** — сохранение состояния между вызовами для возможности продолжения работы\n",
    "\n",
    "Этот пример показывает, как можно создавать сложные многошаговые агенты, которые сочетают автоматизацию с возможностью человеческого контроля и корректировки.\n"
   ]
  },
  {
   "cell_type": "markdown",
   "id": "aa112c2f",
   "metadata": {},
   "source": [
    "# Настраиваем окружение"
   ]
  },
  {
   "cell_type": "markdown",
   "id": "c62fd785",
   "metadata": {},
   "source": [
    "Установка зависимостей"
   ]
  },
  {
   "cell_type": "code",
   "execution_count": 37,
   "id": "e55dcc98",
   "metadata": {},
   "outputs": [
    {
     "name": "stdout",
     "output_type": "stream",
     "text": [
      "\n",
      "\u001b[1m[\u001b[0m\u001b[34;49mnotice\u001b[0m\u001b[1;39;49m]\u001b[0m\u001b[39;49m A new release of pip is available: \u001b[0m\u001b[31;49m24.3.1\u001b[0m\u001b[39;49m -> \u001b[0m\u001b[32;49m25.1.1\u001b[0m\n",
      "\u001b[1m[\u001b[0m\u001b[34;49mnotice\u001b[0m\u001b[1;39;49m]\u001b[0m\u001b[39;49m To update, run: \u001b[0m\u001b[32;49mpip install --upgrade pip\u001b[0m\n"
     ]
    }
   ],
   "source": [
    "!pip install langchain_gigachat langchain_community langgraph duckduckgo-search langchain_tavily -q"
   ]
  },
  {
   "cell_type": "markdown",
   "id": "16006cff",
   "metadata": {},
   "source": [
    "## Настройка переменных окружения\n",
    "\n",
    "Для корректной работы примера в переменных окружения должны быть указаны параметры для подключения к GigaChat API. Подробно о том, как создать проект GigaChat API — в официальной документации, в разделах [Быстрый старт для физических лиц](https://developers.sber.ru/docs/ru/gigachat/individuals-quickstar) и [Быстрый старт для ИП и юридических лиц](https://developers.sber.ru/docs/ru/gigachat/legal-quickstart).\n",
    "\n",
    "### Шаги настройки:\n",
    "\n",
    "1. **Переименуйте файл `.env.example` в `.env`**\n",
    "2. **Заполните файл `.env` необходимыми данными:**\n",
    "    - Данные для подключения к GigaChat API\n",
    "    - API ключ для Tavily (для поиска в интернете)\n",
    "\n",
    "Подробная инструкция по настройке переменных окружения доступна в [официальном репозитории GigaChat](https://github.com/ai-forever/gigachat?tab=readme-ov-file#%D0%BD%D0%B0%D1%81%D1%82%D1%80%D0%BE%D0%B9%D0%BA%D0%B0-%D0%BF%D0%B5%D1%80%D0%B5%D0%BC%D0%B5%D0%BD%D0%BD%D1%8B%D1%85-%D0%BE%D0%BA%D1%80%D1%83%D0%B6%D0%B5%D0%BD%D0%B8%D1%8F)."
   ]
  },
  {
   "cell_type": "markdown",
   "id": "838c501c",
   "metadata": {},
   "source": []
  },
  {
   "cell_type": "code",
   "execution_count": 1,
   "id": "35a9e575",
   "metadata": {},
   "outputs": [
    {
     "data": {
      "text/plain": [
       "True"
      ]
     },
     "execution_count": 1,
     "metadata": {},
     "output_type": "execute_result"
    }
   ],
   "source": [
    "from rich import print\n",
    "from dotenv import load_dotenv, find_dotenv\n",
    "load_dotenv(find_dotenv())"
   ]
  },
  {
   "cell_type": "markdown",
   "id": "2001434a",
   "metadata": {},
   "source": [
    "## Подключаем GigaChat и проверяем его работу"
   ]
  },
  {
   "cell_type": "code",
   "execution_count": 2,
   "id": "7bd1db0c",
   "metadata": {},
   "outputs": [
    {
     "data": {
      "text/html": [
       "<pre style=\"white-space:pre;overflow-x:auto;line-height:normal;font-family:Menlo,'DejaVu Sans Mono',consolas,'Courier New',monospace\">Меня создала компания Sber в России в <span style=\"color: #008080; text-decoration-color: #008080; font-weight: bold\">2023</span> году.\n",
       "</pre>\n"
      ],
      "text/plain": [
       "Меня создала компания Sber в России в \u001b[1;36m2023\u001b[0m году.\n"
      ]
     },
     "metadata": {},
     "output_type": "display_data"
    }
   ],
   "source": [
    "from langchain_gigachat import GigaChat\n",
    "\n",
    "llm = GigaChat(model=\"GigaChat-2-Max\", profanity_check=False, top_p=0, timeout=120)\n",
    "print(llm.invoke(\"Кто тебя сделал?\").content)"
   ]
  },
  {
   "cell_type": "markdown",
   "id": "386ae738",
   "metadata": {},
   "source": [
    "## Создаем ReAct агента с возможностью поиска в интернете"
   ]
  },
  {
   "cell_type": "code",
   "execution_count": 3,
   "id": "6a1997b5",
   "metadata": {},
   "outputs": [
    {
     "data": {
      "image/png": "[encoded data removed]",
      "text/plain": [
       "<langgraph.graph.state.CompiledStateGraph object at 0x10c720230>"
      ]
     },
     "execution_count": 3,
     "metadata": {},
     "output_type": "execute_result"
    }
   ],
   "source": [
    "from langgraph.prebuilt import create_react_agent\n",
    "from langchain_community.tools import DuckDuckGoSearchRun # !pip install duckduckgo_search\n",
    "\n",
    "search_tool = DuckDuckGoSearchRun()\n",
    "\n",
    "agent = create_react_agent(llm, tools=[search_tool], prompt=\"Ты полезный ассистент\")\n",
    "agent"
   ]
  },
  {
   "cell_type": "code",
   "execution_count": 4,
   "id": "1cf2a92f",
   "metadata": {},
   "outputs": [],
   "source": [
    "inputs = {\"messages\": [(\"user\", \"Какая самая дорогая компания в мире на сегодня?\")]}\n",
    "messages = agent.invoke(inputs)['messages']"
   ]
  },
  {
   "cell_type": "code",
   "execution_count": 5,
   "id": "eece7acb",
   "metadata": {},
   "outputs": [
    {
     "data": {
      "text/html": [
       "<pre style=\"white-space:pre;overflow-x:auto;line-height:normal;font-family:Menlo,'DejaVu Sans Mono',consolas,'Courier New',monospace\">На сегодняшний день самой дорогой компанией в мире является **Apple**, ее рыночная капитализация составляет около \n",
       "$<span style=\"color: #008080; text-decoration-color: #008080; font-weight: bold\">3.548</span>$ трлн долларов. За ней следуют:\n",
       "\n",
       "- **Microsoft** — $<span style=\"color: #008080; text-decoration-color: #008080; font-weight: bold\">3.085</span>$ трлн.\n",
       "- **NVIDIA** — $<span style=\"color: #008080; text-decoration-color: #008080; font-weight: bold\">2.940</span>$ трлн.\n",
       "\n",
       "Однако стоит учитывать, что позиции могут меняться ежедневно из-за колебаний стоимости акций.\n",
       "</pre>\n"
      ],
      "text/plain": [
       "На сегодняшний день самой дорогой компанией в мире является **Apple**, ее рыночная капитализация составляет около \n",
       "$\u001b[1;36m3.548\u001b[0m$ трлн долларов. За ней следуют:\n",
       "\n",
       "- **Microsoft** — $\u001b[1;36m3.085\u001b[0m$ трлн.\n",
       "- **NVIDIA** — $\u001b[1;36m2.940\u001b[0m$ трлн.\n",
       "\n",
       "Однако стоит учитывать, что позиции могут меняться ежедневно из-за колебаний стоимости акций.\n"
      ]
     },
     "metadata": {},
     "output_type": "display_data"
    }
   ],
   "source": [
    "print(messages[-1].content)"
   ]
  },
  {
   "cell_type": "markdown",
   "id": "ea230f5b",
   "metadata": {},
   "source": [
    "## Изучим лог работы агента\n",
    "Видно, что агент сначала сделал вызов функции, затем LLM обработала результат поиска и потом подготовила итоговый ответ для пользователя."
   ]
  },
  {
   "cell_type": "code",
   "execution_count": 6,
   "id": "fcaec226",
   "metadata": {},
   "outputs": [
    {
     "data": {
      "text/html": [
       "<pre style=\"white-space:pre;overflow-x:auto;line-height:normal;font-family:Menlo,'DejaVu Sans Mono',consolas,'Courier New',monospace\"><span style=\"font-weight: bold\">[</span>\n",
       "    <span style=\"color: #800080; text-decoration-color: #800080; font-weight: bold\">HumanMessage</span><span style=\"font-weight: bold\">(</span>\n",
       "        <span style=\"color: #808000; text-decoration-color: #808000\">content</span>=<span style=\"color: #008000; text-decoration-color: #008000\">'Какая самая дорогая компания в мире на сегодня?'</span>,\n",
       "        <span style=\"color: #808000; text-decoration-color: #808000\">additional_kwargs</span>=<span style=\"font-weight: bold\">{}</span>,\n",
       "        <span style=\"color: #808000; text-decoration-color: #808000\">response_metadata</span>=<span style=\"font-weight: bold\">{}</span>,\n",
       "        <span style=\"color: #808000; text-decoration-color: #808000\">id</span>=<span style=\"color: #008000; text-decoration-color: #008000\">'dda53a52-8fac-4569-92f2-f54203b998e0'</span>\n",
       "    <span style=\"font-weight: bold\">)</span>,\n",
       "    <span style=\"color: #800080; text-decoration-color: #800080; font-weight: bold\">AIMessage</span><span style=\"font-weight: bold\">(</span>\n",
       "        <span style=\"color: #808000; text-decoration-color: #808000\">content</span>=<span style=\"color: #008000; text-decoration-color: #008000\">''</span>,\n",
       "        <span style=\"color: #808000; text-decoration-color: #808000\">additional_kwargs</span>=<span style=\"font-weight: bold\">{</span>\n",
       "            <span style=\"color: #008000; text-decoration-color: #008000\">'function_call'</span>: <span style=\"font-weight: bold\">{</span>\n",
       "                <span style=\"color: #008000; text-decoration-color: #008000\">'name'</span>: <span style=\"color: #008000; text-decoration-color: #008000\">'duckduckgo_search'</span>,\n",
       "                <span style=\"color: #008000; text-decoration-color: #008000\">'arguments'</span>: <span style=\"font-weight: bold\">{</span><span style=\"color: #008000; text-decoration-color: #008000\">'query'</span>: <span style=\"color: #008000; text-decoration-color: #008000\">'самая дорогая компания в мире на сегодня'</span><span style=\"font-weight: bold\">}</span>\n",
       "            <span style=\"font-weight: bold\">}</span>,\n",
       "            <span style=\"color: #008000; text-decoration-color: #008000\">'functions_state_id'</span>: <span style=\"color: #008000; text-decoration-color: #008000\">'c96bf35f-6807-4892-b457-b9ba6234b906'</span>\n",
       "        <span style=\"font-weight: bold\">}</span>,\n",
       "        <span style=\"color: #808000; text-decoration-color: #808000\">response_metadata</span>=<span style=\"font-weight: bold\">{</span>\n",
       "            <span style=\"color: #008000; text-decoration-color: #008000\">'token_usage'</span>: <span style=\"font-weight: bold\">{</span>\n",
       "                <span style=\"color: #008000; text-decoration-color: #008000\">'prompt_tokens'</span>: <span style=\"color: #008080; text-decoration-color: #008080; font-weight: bold\">105</span>,\n",
       "                <span style=\"color: #008000; text-decoration-color: #008000\">'completion_tokens'</span>: <span style=\"color: #008080; text-decoration-color: #008080; font-weight: bold\">35</span>,\n",
       "                <span style=\"color: #008000; text-decoration-color: #008000\">'total_tokens'</span>: <span style=\"color: #008080; text-decoration-color: #008080; font-weight: bold\">140</span>,\n",
       "                <span style=\"color: #008000; text-decoration-color: #008000\">'precached_prompt_tokens'</span>: <span style=\"color: #008080; text-decoration-color: #008080; font-weight: bold\">2</span>\n",
       "            <span style=\"font-weight: bold\">}</span>,\n",
       "            <span style=\"color: #008000; text-decoration-color: #008000\">'model_name'</span>: <span style=\"color: #008000; text-decoration-color: #008000\">'GigaChat-2-Max:2.0.28.02'</span>,\n",
       "            <span style=\"color: #008000; text-decoration-color: #008000\">'x_headers'</span>: <span style=\"font-weight: bold\">{</span>\n",
       "                <span style=\"color: #008000; text-decoration-color: #008000\">'x-request-id'</span>: <span style=\"color: #008000; text-decoration-color: #008000\">'9c508037-d637-4209-a6e0-6bf6bd1b6d5a'</span>,\n",
       "                <span style=\"color: #008000; text-decoration-color: #008000\">'x-session-id'</span>: <span style=\"color: #008000; text-decoration-color: #008000\">'affb8502-0739-4251-84a3-daad2b1f91d6'</span>,\n",
       "                <span style=\"color: #008000; text-decoration-color: #008000\">'x-client-id'</span>: <span style=\"color: #800080; text-decoration-color: #800080; font-style: italic\">None</span>\n",
       "            <span style=\"font-weight: bold\">}</span>,\n",
       "            <span style=\"color: #008000; text-decoration-color: #008000\">'finish_reason'</span>: <span style=\"color: #008000; text-decoration-color: #008000\">'function_call'</span>\n",
       "        <span style=\"font-weight: bold\">}</span>,\n",
       "        <span style=\"color: #808000; text-decoration-color: #808000\">id</span>=<span style=\"color: #008000; text-decoration-color: #008000\">'9c508037-d637-4209-a6e0-6bf6bd1b6d5a'</span>,\n",
       "        <span style=\"color: #808000; text-decoration-color: #808000\">tool_calls</span>=<span style=\"font-weight: bold\">[</span>\n",
       "            <span style=\"font-weight: bold\">{</span>\n",
       "                <span style=\"color: #008000; text-decoration-color: #008000\">'name'</span>: <span style=\"color: #008000; text-decoration-color: #008000\">'duckduckgo_search'</span>,\n",
       "                <span style=\"color: #008000; text-decoration-color: #008000\">'args'</span>: <span style=\"font-weight: bold\">{</span><span style=\"color: #008000; text-decoration-color: #008000\">'query'</span>: <span style=\"color: #008000; text-decoration-color: #008000\">'самая дорогая компания в мире на сегодня'</span><span style=\"font-weight: bold\">}</span>,\n",
       "                <span style=\"color: #008000; text-decoration-color: #008000\">'id'</span>: <span style=\"color: #008000; text-decoration-color: #008000\">'8ff7f9c2-6a06-4cf7-b7c1-61c4515ae4e8'</span>,\n",
       "                <span style=\"color: #008000; text-decoration-color: #008000\">'type'</span>: <span style=\"color: #008000; text-decoration-color: #008000\">'tool_call'</span>\n",
       "            <span style=\"font-weight: bold\">}</span>\n",
       "        <span style=\"font-weight: bold\">]</span>,\n",
       "        <span style=\"color: #808000; text-decoration-color: #808000\">usage_metadata</span>=<span style=\"font-weight: bold\">{</span>\n",
       "            <span style=\"color: #008000; text-decoration-color: #008000\">'output_tokens'</span>: <span style=\"color: #008080; text-decoration-color: #008080; font-weight: bold\">35</span>,\n",
       "            <span style=\"color: #008000; text-decoration-color: #008000\">'input_tokens'</span>: <span style=\"color: #008080; text-decoration-color: #008080; font-weight: bold\">105</span>,\n",
       "            <span style=\"color: #008000; text-decoration-color: #008000\">'total_tokens'</span>: <span style=\"color: #008080; text-decoration-color: #008080; font-weight: bold\">140</span>,\n",
       "            <span style=\"color: #008000; text-decoration-color: #008000\">'input_token_details'</span>: <span style=\"font-weight: bold\">{</span><span style=\"color: #008000; text-decoration-color: #008000\">'cache_read'</span>: <span style=\"color: #008080; text-decoration-color: #008080; font-weight: bold\">2</span><span style=\"font-weight: bold\">}</span>\n",
       "        <span style=\"font-weight: bold\">}</span>\n",
       "    <span style=\"font-weight: bold\">)</span>,\n",
       "    <span style=\"color: #800080; text-decoration-color: #800080; font-weight: bold\">ToolMessage</span><span style=\"font-weight: bold\">(</span>\n",
       "        <span style=\"color: #808000; text-decoration-color: #808000\">content</span>=<span style=\"color: #008000; text-decoration-color: #008000\">'Собрали самые дорогие компании по рыночной капитализации. Не забывайте, что этот список постоянно </span>\n",
       "<span style=\"color: #008000; text-decoration-color: #008000\">обновляется - данные актуальны на декабрь 2024. 1. Apple Inc. (AAPL) Apple остаётся лидером, предлагая </span>\n",
       "<span style=\"color: #008000; text-decoration-color: #008000\">инновационные устройства и укрепляя свою экосистему продуктов. 2. NVIDIA Corporation (NVDA) Акции Nvidia на прошлой</span>\n",
       "<span style=\"color: #008000; text-decoration-color: #008000\">неделе достигли рекордного максимума, сделав производителя чипов первой компанией в истории, чья стоимость на </span>\n",
       "<span style=\"color: #008000; text-decoration-color: #008000\">фондовом рынке превысила 3,6 триллиона долларов. Рассказываем о рейтинге самых дорогих компаний в мире, месте </span>\n",
       "<span style=\"color: #008000; text-decoration-color: #008000\">Nvidia в нем и объясняем, какие действия, технологии и чипы компании в сфере искусственного интеллекта на это </span>\n",
       "<span style=\"color: #008000; text-decoration-color: #008000\">повлияли В 2025 году самой дорогой компанией в мире является Apple с рыночной капитализацией в 3.548 трлн долларов </span>\n",
       "<span style=\"color: #008000; text-decoration-color: #008000\">. На втором месте - Microsoft ($3.085 трлн). Третье место занимает NVIDIA с капитализацией 2.940 трлн долларов. </span>\n",
       "<span style=\"color: #008000; text-decoration-color: #008000\">Далее мы рассмотрим рейтинг десяти крупнейших компаний в мире, отсортированных по рыночной капитализации. NVIDIA. </span>\n",
       "<span style=\"color: #008000; text-decoration-color: #008000\">На прошлой неделе Nvidia на время стала самой дорогой компанией в мире, обогнав Microsoft. Однако затем цена акций </span>\n",
       "<span style=\"color: #008000; text-decoration-color: #008000\">компании снизилась, и она опустилась на третью строчку рейтинга самых дорогих корпораций. Однако Nvidia по-прежнему</span>\n",
       "<span style=\"color: #008000; text-decoration-color: #008000\">остается самой быстрорастущей компанией в мире.'</span>,\n",
       "        <span style=\"color: #808000; text-decoration-color: #808000\">name</span>=<span style=\"color: #008000; text-decoration-color: #008000\">'duckduckgo_search'</span>,\n",
       "        <span style=\"color: #808000; text-decoration-color: #808000\">id</span>=<span style=\"color: #008000; text-decoration-color: #008000\">'ec76a6d8-c52a-460b-b5bd-15223a17f1ad'</span>,\n",
       "        <span style=\"color: #808000; text-decoration-color: #808000\">tool_call_id</span>=<span style=\"color: #008000; text-decoration-color: #008000\">'8ff7f9c2-6a06-4cf7-b7c1-61c4515ae4e8'</span>\n",
       "    <span style=\"font-weight: bold\">)</span>,\n",
       "    <span style=\"color: #800080; text-decoration-color: #800080; font-weight: bold\">AIMessage</span><span style=\"font-weight: bold\">(</span>\n",
       "        <span style=\"color: #808000; text-decoration-color: #808000\">content</span>=<span style=\"color: #008000; text-decoration-color: #008000\">'На сегодняшний день самой дорогой компанией в мире является **Apple**, ее рыночная капитализация </span>\n",
       "<span style=\"color: #008000; text-decoration-color: #008000\">составляет около $3.548$ трлн долларов. За ней следуют:\\n\\n- **Microsoft** — $3.085$ трлн.\\n- **NVIDIA** — $2.940$ </span>\n",
       "<span style=\"color: #008000; text-decoration-color: #008000\">трлн.\\n\\nОднако стоит учитывать, что позиции могут меняться ежедневно из-за колебаний стоимости акций.'</span>,\n",
       "        <span style=\"color: #808000; text-decoration-color: #808000\">additional_kwargs</span>=<span style=\"font-weight: bold\">{</span><span style=\"color: #008000; text-decoration-color: #008000\">'functions_state_id'</span>: <span style=\"color: #008000; text-decoration-color: #008000\">'2bbf11fd-aa2a-4405-8688-46b1ba97fa8f'</span><span style=\"font-weight: bold\">}</span>,\n",
       "        <span style=\"color: #808000; text-decoration-color: #808000\">response_metadata</span>=<span style=\"font-weight: bold\">{</span>\n",
       "            <span style=\"color: #008000; text-decoration-color: #008000\">'token_usage'</span>: <span style=\"font-weight: bold\">{</span>\n",
       "                <span style=\"color: #008000; text-decoration-color: #008000\">'prompt_tokens'</span>: <span style=\"color: #008080; text-decoration-color: #008080; font-weight: bold\">440</span>,\n",
       "                <span style=\"color: #008000; text-decoration-color: #008000\">'completion_tokens'</span>: <span style=\"color: #008080; text-decoration-color: #008080; font-weight: bold\">85</span>,\n",
       "                <span style=\"color: #008000; text-decoration-color: #008000\">'total_tokens'</span>: <span style=\"color: #008080; text-decoration-color: #008080; font-weight: bold\">525</span>,\n",
       "                <span style=\"color: #008000; text-decoration-color: #008000\">'precached_prompt_tokens'</span>: <span style=\"color: #008080; text-decoration-color: #008080; font-weight: bold\">2</span>\n",
       "            <span style=\"font-weight: bold\">}</span>,\n",
       "            <span style=\"color: #008000; text-decoration-color: #008000\">'model_name'</span>: <span style=\"color: #008000; text-decoration-color: #008000\">'GigaChat-2-Max:2.0.28.02'</span>,\n",
       "            <span style=\"color: #008000; text-decoration-color: #008000\">'x_headers'</span>: <span style=\"font-weight: bold\">{</span>\n",
       "                <span style=\"color: #008000; text-decoration-color: #008000\">'x-request-id'</span>: <span style=\"color: #008000; text-decoration-color: #008000\">'d43b83cf-4bb2-47c3-8279-bf7855d55d8b'</span>,\n",
       "                <span style=\"color: #008000; text-decoration-color: #008000\">'x-session-id'</span>: <span style=\"color: #008000; text-decoration-color: #008000\">'3b6a78b8-1bde-4060-8459-6319e979da21'</span>,\n",
       "                <span style=\"color: #008000; text-decoration-color: #008000\">'x-client-id'</span>: <span style=\"color: #800080; text-decoration-color: #800080; font-style: italic\">None</span>\n",
       "            <span style=\"font-weight: bold\">}</span>,\n",
       "            <span style=\"color: #008000; text-decoration-color: #008000\">'finish_reason'</span>: <span style=\"color: #008000; text-decoration-color: #008000\">'stop'</span>\n",
       "        <span style=\"font-weight: bold\">}</span>,\n",
       "        <span style=\"color: #808000; text-decoration-color: #808000\">id</span>=<span style=\"color: #008000; text-decoration-color: #008000\">'d43b83cf-4bb2-47c3-8279-bf7855d55d8b'</span>,\n",
       "        <span style=\"color: #808000; text-decoration-color: #808000\">usage_metadata</span>=<span style=\"font-weight: bold\">{</span>\n",
       "            <span style=\"color: #008000; text-decoration-color: #008000\">'output_tokens'</span>: <span style=\"color: #008080; text-decoration-color: #008080; font-weight: bold\">85</span>,\n",
       "            <span style=\"color: #008000; text-decoration-color: #008000\">'input_tokens'</span>: <span style=\"color: #008080; text-decoration-color: #008080; font-weight: bold\">440</span>,\n",
       "            <span style=\"color: #008000; text-decoration-color: #008000\">'total_tokens'</span>: <span style=\"color: #008080; text-decoration-color: #008080; font-weight: bold\">525</span>,\n",
       "            <span style=\"color: #008000; text-decoration-color: #008000\">'input_token_details'</span>: <span style=\"font-weight: bold\">{</span><span style=\"color: #008000; text-decoration-color: #008000\">'cache_read'</span>: <span style=\"color: #008080; text-decoration-color: #008080; font-weight: bold\">2</span><span style=\"font-weight: bold\">}</span>\n",
       "        <span style=\"font-weight: bold\">}</span>\n",
       "    <span style=\"font-weight: bold\">)</span>\n",
       "<span style=\"font-weight: bold\">]</span>\n",
       "</pre>\n"
      ],
      "text/plain": [
       "\u001b[1m[\u001b[0m\n",
       "    \u001b[1;35mHumanMessage\u001b[0m\u001b[1m(\u001b[0m\n",
       "        \u001b[33mcontent\u001b[0m=\u001b[32m'Какая самая дорогая компания в мире на сегодня?'\u001b[0m,\n",
       "        \u001b[33madditional_kwargs\u001b[0m=\u001b[1m{\u001b[0m\u001b[1m}\u001b[0m,\n",
       "        \u001b[33mresponse_metadata\u001b[0m=\u001b[1m{\u001b[0m\u001b[1m}\u001b[0m,\n",
       "        \u001b[33mid\u001b[0m=\u001b[32m'dda53a52-8fac-4569-92f2-f54203b998e0'\u001b[0m\n",
       "    \u001b[1m)\u001b[0m,\n",
       "    \u001b[1;35mAIMessage\u001b[0m\u001b[1m(\u001b[0m\n",
       "        \u001b[33mcontent\u001b[0m=\u001b[32m''\u001b[0m,\n",
       "        \u001b[33madditional_kwargs\u001b[0m=\u001b[1m{\u001b[0m\n",
       "            \u001b[32m'function_call'\u001b[0m: \u001b[1m{\u001b[0m\n",
       "                \u001b[32m'name'\u001b[0m: \u001b[32m'duckduckgo_search'\u001b[0m,\n",
       "                \u001b[32m'arguments'\u001b[0m: \u001b[1m{\u001b[0m\u001b[32m'query'\u001b[0m: \u001b[32m'самая дорогая компания в мире на сегодня'\u001b[0m\u001b[1m}\u001b[0m\n",
       "            \u001b[1m}\u001b[0m,\n",
       "            \u001b[32m'functions_state_id'\u001b[0m: \u001b[32m'c96bf35f-6807-4892-b457-b9ba6234b906'\u001b[0m\n",
       "        \u001b[1m}\u001b[0m,\n",
       "        \u001b[33mresponse_metadata\u001b[0m=\u001b[1m{\u001b[0m\n",
       "            \u001b[32m'token_usage'\u001b[0m: \u001b[1m{\u001b[0m\n",
       "                \u001b[32m'prompt_tokens'\u001b[0m: \u001b[1;36m105\u001b[0m,\n",
       "                \u001b[32m'completion_tokens'\u001b[0m: \u001b[1;36m35\u001b[0m,\n",
       "                \u001b[32m'total_tokens'\u001b[0m: \u001b[1;36m140\u001b[0m,\n",
       "                \u001b[32m'precached_prompt_tokens'\u001b[0m: \u001b[1;36m2\u001b[0m\n",
       "            \u001b[1m}\u001b[0m,\n",
       "            \u001b[32m'model_name'\u001b[0m: \u001b[32m'GigaChat-2-Max:2.0.28.02'\u001b[0m,\n",
       "            \u001b[32m'x_headers'\u001b[0m: \u001b[1m{\u001b[0m\n",
       "                \u001b[32m'x-request-id'\u001b[0m: \u001b[32m'9c508037-d637-4209-a6e0-6bf6bd1b6d5a'\u001b[0m,\n",
       "                \u001b[32m'x-session-id'\u001b[0m: \u001b[32m'affb8502-0739-4251-84a3-daad2b1f91d6'\u001b[0m,\n",
       "                \u001b[32m'x-client-id'\u001b[0m: \u001b[3;35mNone\u001b[0m\n",
       "            \u001b[1m}\u001b[0m,\n",
       "            \u001b[32m'finish_reason'\u001b[0m: \u001b[32m'function_call'\u001b[0m\n",
       "        \u001b[1m}\u001b[0m,\n",
       "        \u001b[33mid\u001b[0m=\u001b[32m'9c508037-d637-4209-a6e0-6bf6bd1b6d5a'\u001b[0m,\n",
       "        \u001b[33mtool_calls\u001b[0m=\u001b[1m[\u001b[0m\n",
       "            \u001b[1m{\u001b[0m\n",
       "                \u001b[32m'name'\u001b[0m: \u001b[32m'duckduckgo_search'\u001b[0m,\n",
       "                \u001b[32m'args'\u001b[0m: \u001b[1m{\u001b[0m\u001b[32m'query'\u001b[0m: \u001b[32m'самая дорогая компания в мире на сегодня'\u001b[0m\u001b[1m}\u001b[0m,\n",
       "                \u001b[32m'id'\u001b[0m: \u001b[32m'8ff7f9c2-6a06-4cf7-b7c1-61c4515ae4e8'\u001b[0m,\n",
       "                \u001b[32m'type'\u001b[0m: \u001b[32m'tool_call'\u001b[0m\n",
       "            \u001b[1m}\u001b[0m\n",
       "        \u001b[1m]\u001b[0m,\n",
       "        \u001b[33musage_metadata\u001b[0m=\u001b[1m{\u001b[0m\n",
       "            \u001b[32m'output_tokens'\u001b[0m: \u001b[1;36m35\u001b[0m,\n",
       "            \u001b[32m'input_tokens'\u001b[0m: \u001b[1;36m105\u001b[0m,\n",
       "            \u001b[32m'total_tokens'\u001b[0m: \u001b[1;36m140\u001b[0m,\n",
       "            \u001b[32m'input_token_details'\u001b[0m: \u001b[1m{\u001b[0m\u001b[32m'cache_read'\u001b[0m: \u001b[1;36m2\u001b[0m\u001b[1m}\u001b[0m\n",
       "        \u001b[1m}\u001b[0m\n",
       "    \u001b[1m)\u001b[0m,\n",
       "    \u001b[1;35mToolMessage\u001b[0m\u001b[1m(\u001b[0m\n",
       "        \u001b[33mcontent\u001b[0m=\u001b[32m'Собрали самые дорогие компании по рыночной капитализации. Не забывайте, что этот список постоянно \u001b[0m\n",
       "\u001b[32mобновляется - данные актуальны на декабрь 2024. 1. Apple Inc. \u001b[0m\u001b[32m(\u001b[0m\u001b[32mAAPL\u001b[0m\u001b[32m)\u001b[0m\u001b[32m Apple остаётся лидером, предлагая \u001b[0m\n",
       "\u001b[32mинновационные устройства и укрепляя свою экосистему продуктов. 2. NVIDIA Corporation \u001b[0m\u001b[32m(\u001b[0m\u001b[32mNVDA\u001b[0m\u001b[32m)\u001b[0m\u001b[32m Акции Nvidia на прошлой\u001b[0m\n",
       "\u001b[32mнеделе достигли рекордного максимума, сделав производителя чипов первой компанией в истории, чья стоимость на \u001b[0m\n",
       "\u001b[32mфондовом рынке превысила 3,6 триллиона долларов. Рассказываем о рейтинге самых дорогих компаний в мире, месте \u001b[0m\n",
       "\u001b[32mNvidia в нем и объясняем, какие действия, технологии и чипы компании в сфере искусственного интеллекта на это \u001b[0m\n",
       "\u001b[32mповлияли В 2025 году самой дорогой компанией в мире является Apple с рыночной капитализацией в 3.548 трлн долларов \u001b[0m\n",
       "\u001b[32m. На втором месте - Microsoft \u001b[0m\u001b[32m(\u001b[0m\u001b[32m$3.085 трлн\u001b[0m\u001b[32m)\u001b[0m\u001b[32m. Третье место занимает NVIDIA с капитализацией 2.940 трлн долларов. \u001b[0m\n",
       "\u001b[32mДалее мы рассмотрим рейтинг десяти крупнейших компаний в мире, отсортированных по рыночной капитализации. NVIDIA. \u001b[0m\n",
       "\u001b[32mНа прошлой неделе Nvidia на время стала самой дорогой компанией в мире, обогнав Microsoft. Однако затем цена акций \u001b[0m\n",
       "\u001b[32mкомпании снизилась, и она опустилась на третью строчку рейтинга самых дорогих корпораций. Однако Nvidia по-прежнему\u001b[0m\n",
       "\u001b[32mостается самой быстрорастущей компанией в мире.'\u001b[0m,\n",
       "        \u001b[33mname\u001b[0m=\u001b[32m'duckduckgo_search'\u001b[0m,\n",
       "        \u001b[33mid\u001b[0m=\u001b[32m'ec76a6d8-c52a-460b-b5bd-15223a17f1ad'\u001b[0m,\n",
       "        \u001b[33mtool_call_id\u001b[0m=\u001b[32m'8ff7f9c2-6a06-4cf7-b7c1-61c4515ae4e8'\u001b[0m\n",
       "    \u001b[1m)\u001b[0m,\n",
       "    \u001b[1;35mAIMessage\u001b[0m\u001b[1m(\u001b[0m\n",
       "        \u001b[33mcontent\u001b[0m=\u001b[32m'На сегодняшний день самой дорогой компанией в мире является **Apple**, ее рыночная капитализация \u001b[0m\n",
       "\u001b[32mсоставляет около $3.548$ трлн долларов. За ней следуют:\\n\\n- **Microsoft** — $3.085$ трлн.\\n- **NVIDIA** — $2.940$ \u001b[0m\n",
       "\u001b[32mтрлн.\\n\\nОднако стоит учитывать, что позиции могут меняться ежедневно из-за колебаний стоимости акций.'\u001b[0m,\n",
       "        \u001b[33madditional_kwargs\u001b[0m=\u001b[1m{\u001b[0m\u001b[32m'functions_state_id'\u001b[0m: \u001b[32m'2bbf11fd-aa2a-4405-8688-46b1ba97fa8f'\u001b[0m\u001b[1m}\u001b[0m,\n",
       "        \u001b[33mresponse_metadata\u001b[0m=\u001b[1m{\u001b[0m\n",
       "            \u001b[32m'token_usage'\u001b[0m: \u001b[1m{\u001b[0m\n",
       "                \u001b[32m'prompt_tokens'\u001b[0m: \u001b[1;36m440\u001b[0m,\n",
       "                \u001b[32m'completion_tokens'\u001b[0m: \u001b[1;36m85\u001b[0m,\n",
       "                \u001b[32m'total_tokens'\u001b[0m: \u001b[1;36m525\u001b[0m,\n",
       "                \u001b[32m'precached_prompt_tokens'\u001b[0m: \u001b[1;36m2\u001b[0m\n",
       "            \u001b[1m}\u001b[0m,\n",
       "            \u001b[32m'model_name'\u001b[0m: \u001b[32m'GigaChat-2-Max:2.0.28.02'\u001b[0m,\n",
       "            \u001b[32m'x_headers'\u001b[0m: \u001b[1m{\u001b[0m\n",
       "                \u001b[32m'x-request-id'\u001b[0m: \u001b[32m'd43b83cf-4bb2-47c3-8279-bf7855d55d8b'\u001b[0m,\n",
       "                \u001b[32m'x-session-id'\u001b[0m: \u001b[32m'3b6a78b8-1bde-4060-8459-6319e979da21'\u001b[0m,\n",
       "                \u001b[32m'x-client-id'\u001b[0m: \u001b[3;35mNone\u001b[0m\n",
       "            \u001b[1m}\u001b[0m,\n",
       "            \u001b[32m'finish_reason'\u001b[0m: \u001b[32m'stop'\u001b[0m\n",
       "        \u001b[1m}\u001b[0m,\n",
       "        \u001b[33mid\u001b[0m=\u001b[32m'd43b83cf-4bb2-47c3-8279-bf7855d55d8b'\u001b[0m,\n",
       "        \u001b[33musage_metadata\u001b[0m=\u001b[1m{\u001b[0m\n",
       "            \u001b[32m'output_tokens'\u001b[0m: \u001b[1;36m85\u001b[0m,\n",
       "            \u001b[32m'input_tokens'\u001b[0m: \u001b[1;36m440\u001b[0m,\n",
       "            \u001b[32m'total_tokens'\u001b[0m: \u001b[1;36m525\u001b[0m,\n",
       "            \u001b[32m'input_token_details'\u001b[0m: \u001b[1m{\u001b[0m\u001b[32m'cache_read'\u001b[0m: \u001b[1;36m2\u001b[0m\u001b[1m}\u001b[0m\n",
       "        \u001b[1m}\u001b[0m\n",
       "    \u001b[1m)\u001b[0m\n",
       "\u001b[1m]\u001b[0m\n"
      ]
     },
     "metadata": {},
     "output_type": "display_data"
    }
   ],
   "source": [
    "print(messages)"
   ]
  },
  {
   "cell_type": "markdown",
   "id": "5f3ff881",
   "metadata": {},
   "source": [
    "# LeanCanvas\n",
    "Мы создадим пример заполнения таблицы Lean Canvas. Подробнее про этот подход можно прочитать на [Хабре](https://habr.com/ru/companies/productstar/articles/508994/)"
   ]
  },
  {
   "cell_type": "markdown",
   "id": "8d1af6d7",
   "metadata": {},
   "source": [
    "## Structured output - наивный подход"
   ]
  },
  {
   "cell_type": "code",
   "execution_count": 7,
   "id": "c231ac1a",
   "metadata": {},
   "outputs": [],
   "source": [
    "from pydantic import BaseModel\n",
    "\n",
    "class LeanCanvasResult(BaseModel):\n",
    "    \"\"\"\n",
    "    Представляет результат генерации Lean Canvas.\n",
    "    Каждое поле соответствует разделу Lean Canvas.\n",
    "    \"\"\"\n",
    "    problem: str  # Проблема, которую пытается решить продукт или услуга.\n",
    "    solution: str  # Краткое описание предлагаемого решения.\n",
    "    key_metrics: str  # Ключевые показатели, которые необходимо измерять для отслеживания прогресса.\n",
    "    unique_value_proposition: str  # Единое, ясное и убедительное сообщение, объясняющее, почему вы отличаетесь от других и почему стоит покупать именно у вас.\n",
    "    unfair_advantage: str  # То, что конкуренты не могут легко скопировать или купить.\n",
    "    channels: str  # Пути охвата ваших клиентских сегментов.\n",
    "    customer_segments: str  # Целевая аудитория или группы людей, которых вы пытаетесь охватить.\n",
    "    cost_structure: str  # Основные затраты, связанные с ведением бизнеса.\n",
    "    revenue_streams: str  # Как бизнес будет зарабатывать деньги."
   ]
  },
  {
   "cell_type": "markdown",
   "id": "9918cc3d",
   "metadata": {},
   "source": [
    "Выше мы создали **Pydantic модель** - это демонстрация технологии **Structured Output**.\n",
    "\n",
    "**Что это дает:**\n",
    "- Вместо произвольного текста LLM возвращает данные в строго определенном формате\n",
    "- Автоматическая валидация ответов\n",
    "- Возможность программно работать с результатами"
   ]
  },
  {
   "cell_type": "code",
   "execution_count": 9,
   "id": "ada47c2c",
   "metadata": {},
   "outputs": [
    {
     "data": {
      "text/html": [
       "<pre style=\"white-space:pre;overflow-x:auto;line-height:normal;font-family:Menlo,'DejaVu Sans Mono',consolas,'Courier New',monospace\"><span style=\"color: #800080; text-decoration-color: #800080; font-weight: bold\">LeanCanvasResult</span><span style=\"font-weight: bold\">(</span>\n",
       "    <span style=\"color: #808000; text-decoration-color: #808000\">problem</span>=<span style=\"color: #008000; text-decoration-color: #008000\">'Трудности в изучении языка самостоятельно, нехватка практики общения с носителями языка, отсутствие </span>\n",
       "<span style=\"color: #008000; text-decoration-color: #008000\">мотивации и дисциплины, высокие цены на традиционные курсы.  \",\\n    '</span>,\n",
       "    <span style=\"color: #808000; text-decoration-color: #808000\">solution</span>=<span style=\"color: #008000; text-decoration-color: #008000\">'Онлайн-платформа, связывающая изучающих язык с носителями языка для практики общения, доступ к </span>\n",
       "<span style=\"color: #008000; text-decoration-color: #008000\">учебным материалам и сообществу единомышленников.  \",\\n    '</span>,\n",
       "    <span style=\"color: #808000; text-decoration-color: #808000\">key_metrics</span>=<span style=\"color: #008000; text-decoration-color: #008000\">'Количество активных пользователей, количество проведенных уроков, средняя продолжительность урока,</span>\n",
       "<span style=\"color: #008000; text-decoration-color: #008000\">коэффициент удержания пользователей, доход на одного пользователя.  \",\\n    '</span>,\n",
       "    <span style=\"color: #808000; text-decoration-color: #808000\">unique_value_proposition</span>=<span style=\"color: #008000; text-decoration-color: #008000\">'Изучение языка с носителями в удобном формате и по доступной цене, возможность </span>\n",
       "<span style=\"color: #008000; text-decoration-color: #008000\">практиковаться в реальном общении и получать обратную связь от опытных пользователей.  \"\\n}'</span>,\n",
       "    <span style=\"color: #808000; text-decoration-color: #808000\">unfair_advantage</span>=<span style=\"color: #008000; text-decoration-color: #008000\">'Уникальная система подбора партнеров по языку, персонализированные рекомендации, доступ к </span>\n",
       "<span style=\"color: #008000; text-decoration-color: #008000\">носителям языка из разных стран, возможность учиться в удобное время.  \",\\n    '</span>,\n",
       "    <span style=\"color: #808000; text-decoration-color: #808000\">channels</span>=<span style=\"color: #008000; text-decoration-color: #008000\">'Платформы социальных сетей, реферальные программы, SEO, контент-маркетинг, партнерства с языковыми </span>\n",
       "<span style=\"color: #008000; text-decoration-color: #008000\">школами и университетами.  \",\\n    '</span>,\n",
       "    <span style=\"color: #808000; text-decoration-color: #808000\">customer_segments</span>=<span style=\"color: #008000; text-decoration-color: #008000\">'Изучающие иностранные языки, студенты, путешественники, эмигранты, профессионалы, желающие </span>\n",
       "<span style=\"color: #008000; text-decoration-color: #008000\">улучшить свои языковые навыки.  \",\\n    '</span>,\n",
       "    <span style=\"color: #808000; text-decoration-color: #808000\">cost_structure</span>=<span style=\"color: #008000; text-decoration-color: #008000\">'Разработка и поддержка платформы, маркетинг и привлечение пользователей, оплата труда </span>\n",
       "<span style=\"color: #008000; text-decoration-color: #008000\">модераторов и администраторов, юридические и бухгалтерские расходы.  \",\\n    '</span>,\n",
       "    <span style=\"color: #808000; text-decoration-color: #808000\">revenue_streams</span>=<span style=\"color: #008000; text-decoration-color: #008000\">'Подписка на платформу, комиссия с каждого урока, продажа дополнительных материалов и услуг, </span>\n",
       "<span style=\"color: #008000; text-decoration-color: #008000\">премиум-функции.  \",\\n    '</span>\n",
       "<span style=\"font-weight: bold\">)</span>\n",
       "</pre>\n"
      ],
      "text/plain": [
       "\u001b[1;35mLeanCanvasResult\u001b[0m\u001b[1m(\u001b[0m\n",
       "    \u001b[33mproblem\u001b[0m=\u001b[32m'Трудности в изучении языка самостоятельно, нехватка практики общения с носителями языка, отсутствие \u001b[0m\n",
       "\u001b[32mмотивации и дисциплины, высокие цены на традиционные курсы.  \",\\n    '\u001b[0m,\n",
       "    \u001b[33msolution\u001b[0m=\u001b[32m'Онлайн-платформа, связывающая изучающих язык с носителями языка для практики общения, доступ к \u001b[0m\n",
       "\u001b[32mучебным материалам и сообществу единомышленников.  \",\\n    '\u001b[0m,\n",
       "    \u001b[33mkey_metrics\u001b[0m=\u001b[32m'Количество активных пользователей, количество проведенных уроков, средняя продолжительность урока,\u001b[0m\n",
       "\u001b[32mкоэффициент удержания пользователей, доход на одного пользователя.  \",\\n    '\u001b[0m,\n",
       "    \u001b[33munique_value_proposition\u001b[0m=\u001b[32m'Изучение языка с носителями в удобном формате и по доступной цене, возможность \u001b[0m\n",
       "\u001b[32mпрактиковаться в реальном общении и получать обратную связь от опытных пользователей.  \"\\n\u001b[0m\u001b[32m}\u001b[0m\u001b[32m'\u001b[0m,\n",
       "    \u001b[33munfair_advantage\u001b[0m=\u001b[32m'Уникальная система подбора партнеров по языку, персонализированные рекомендации, доступ к \u001b[0m\n",
       "\u001b[32mносителям языка из разных стран, возможность учиться в удобное время.  \",\\n    '\u001b[0m,\n",
       "    \u001b[33mchannels\u001b[0m=\u001b[32m'Платформы социальных сетей, реферальные программы, SEO, контент-маркетинг, партнерства с языковыми \u001b[0m\n",
       "\u001b[32mшколами и университетами.  \",\\n    '\u001b[0m,\n",
       "    \u001b[33mcustomer_segments\u001b[0m=\u001b[32m'Изучающие иностранные языки, студенты, путешественники, эмигранты, профессионалы, желающие \u001b[0m\n",
       "\u001b[32mулучшить свои языковые навыки.  \",\\n    '\u001b[0m,\n",
       "    \u001b[33mcost_structure\u001b[0m=\u001b[32m'Разработка и поддержка платформы, маркетинг и привлечение пользователей, оплата труда \u001b[0m\n",
       "\u001b[32mмодераторов и администраторов, юридические и бухгалтерские расходы.  \",\\n    '\u001b[0m,\n",
       "    \u001b[33mrevenue_streams\u001b[0m=\u001b[32m'Подписка на платформу, комиссия с каждого урока, продажа дополнительных материалов и услуг, \u001b[0m\n",
       "\u001b[32mпремиум-функции.  \",\\n    '\u001b[0m\n",
       "\u001b[1m)\u001b[0m\n"
      ]
     },
     "metadata": {},
     "output_type": "display_data"
    }
   ],
   "source": [
    "structured_llm = llm.with_structured_output(LeanCanvasResult)\n",
    "\n",
    "prompt = \"Создайте Lean Canvas для онлайн-платформы изучения языков, которая связывает изучающих язык с носителями языка.\"\n",
    "\n",
    "print(structured_llm.invoke(prompt))"
   ]
  },
  {
   "cell_type": "markdown",
   "id": "6b7a6f4e",
   "metadata": {},
   "source": [
    "Выше мы увидели как работает принудительное структурирование ответа:\n",
    "- LLM получил свободный запрос про языковую платформу\n",
    "- Но **обязательно** ответил в формате нашей Pydantic модели\n",
    "- Все 9 полей Lean Canvas заполнились автоматически\n",
    "\n",
    "Теперь  реализуем этот подход в рамках агента."
   ]
  },
  {
   "cell_type": "markdown",
   "id": "02fe2262",
   "metadata": {},
   "source": [
    "## Агентный подход"
   ]
  },
  {
   "cell_type": "markdown",
   "id": "99d29683",
   "metadata": {},
   "source": [
    "### Стейт графа\n",
    "Глобальное пространство данных в котором идет работа с графом\n",
    "\n",
    "Используем такой же структурированный подход, но будем получать не сразу заполненный Lean Canvas, а поэтапно, перемещаясь по графу. При этом у нас заранее будет задана структура данных, которая заполнится, когда будут пройдены шаги от начала графа и до конца. "
   ]
  },
  {
   "cell_type": "code",
   "execution_count": 10,
   "id": "84ce7bfe",
   "metadata": {},
   "outputs": [],
   "source": [
    "from langgraph.graph import END, START, StateGraph\n",
    "from typing_extensions import TypedDict, Annotated\n",
    "\n",
    "class LeanGraphState(TypedDict):\n",
    "    main_task: Annotated[str, \"Основная задача от пользователя\"]\n",
    "    competitors_analysis: Annotated[str, \"Анализ конкурентов\"]\n",
    "    feedback: Annotated[str, \"Фидбек от пользователя. Обязательно учитывай его в своих ответах!\"]\n",
    "\n",
    "    # Lean Canvas\n",
    "    problem: Annotated[str, \"Проблема, которую пытается решить продукт или услуга.\"]\n",
    "    solution: Annotated[str, \"Краткое описание предлагаемого решения.\"]\n",
    "    key_metrics: Annotated[str, \"Ключевые показатели, которые необходимо измерять для отслеживания прогресса.\"]\n",
    "    unique_value_proposition: Annotated[str, \"Единое, ясное и убедительное сообщение, объясняющее, почему вы отличаетесь от других и почему стоит покупать именно у вас.\"]\n",
    "    unfair_advantage: Annotated[str, \"То, что конкуренты не могут легко скопировать или купить.\"]\n",
    "    channels: Annotated[str, \"Пути охвата ваших клиентских сегментов.\"]\n",
    "    customer_segments: Annotated[str, \"Целевая аудитория или группы людей, которых вы пытаетесь охватить.\"]\n",
    "    cost_structure: Annotated[str, \"Основные затраты, связанные с ведением бизнеса.\"]\n",
    "    revenue_streams: Annotated[str, \"Как бизнес будет зарабатывать деньги.\"]\n",
    "\n",
    "\n",
    "def state_to_string(state: LeanGraphState) -> str:\n",
    "    \"\"\"\n",
    "    Преобразует состояние в строку для отображения.\n",
    "    \"\"\"\n",
    "    result = []\n",
    "    for field, annotation in LeanGraphState.__annotations__.items():\n",
    "        value = state.get(field, \"\")\n",
    "        if value:\n",
    "            # annotation is typing.Annotated[type, description]\n",
    "            if hasattr(annotation, \"__metadata__\") and annotation.__metadata__:\n",
    "                desc = annotation.__metadata__[0]\n",
    "            else:\n",
    "                desc = \"\"\n",
    "            result.append(f\"{desc} ({field}): {value}\")\n",
    "    return \"\\n\".join(result)\n"
   ]
  },
  {
   "cell_type": "markdown",
   "id": "2836ff77",
   "metadata": {},
   "source": [
    "### Основные шаги генерации\n",
    "Ниже представлены функция-обертка для обращения к LLM и функции узлов заполнения Lean Canvas."
   ]
  },
  {
   "cell_type": "code",
   "execution_count": 11,
   "id": "ee1de100",
   "metadata": {},
   "outputs": [],
   "source": [
    "from langchain_core.output_parsers import StrOutputParser\n",
    "from langchain.prompts import ChatPromptTemplate\n",
    "from langgraph.types import interrupt\n",
    "from langchain_core.runnables.config import RunnableConfig\n",
    "\n",
    "def ask_llm(state: LeanGraphState, question: str, config: RunnableConfig) -> str:\n",
    "    TEMPLATE = \"\"\"\n",
    "    Ты - эксперт в области стартапов и Lean Canvas. Твоя задача - помочь пользователю создать Lean Canvas для его задачи.\n",
    "    Учитывай уже заполненные части таблицы Lean Canvas и главную задачу пользователя (main_task).\n",
    "    \n",
    "    Обязательно учитывай фидбек от пользователя (feedback), если он задан.\n",
    "    <STATE>\n",
    "    {state}\n",
    "    </STATE>\n",
    "    \n",
    "    Ответь на вопрос: {question}\n",
    "    Отвечай коротко, не более 1-2 коротких предложений и обязательно учти фидбек от пользователя (feedback), если он задан. Оформи ответ в виде буллетов.\n",
    "    \"\"\"\n",
    "    \n",
    "    prompt = ChatPromptTemplate.from_messages([\n",
    "        (\"system\", TEMPLATE)\n",
    "    ])\n",
    "    \n",
    "    model  = config[\"configurable\"].get(\"model\", \"GigaChat-2-Max\")\n",
    "    chain = prompt | llm.bind(model=model) | StrOutputParser()\n",
    "    return chain.invoke({\"state\": state_to_string(state), \"question\": question})\n",
    "\n",
    "def customer_segments(state: LeanGraphState, config: RunnableConfig):\n",
    "    return {\"customer_segments\": ask_llm(state, \"Кто ваши целевые клиенты?\", config)}\n",
    "\n",
    "def problem(state: LeanGraphState, config: RunnableConfig):\n",
    "    return {\"problem\": ask_llm(state, \"Какую проблему вы решаете?\", config)}\n",
    "\n",
    "def unique_value_proposition(state: LeanGraphState, config: RunnableConfig):\n",
    "    return {\"unique_value_proposition\": ask_llm(state, \"Какое уникальное предложение вы предлагаете?\", config)}\n",
    "\n",
    "def solution(state: LeanGraphState, config: RunnableConfig):\n",
    "    return {\"solution\": ask_llm(state, \"Какое решение вы предлагаете для этой проблемы?\", config)}\n",
    "\n",
    "def channels(state: LeanGraphState, config: RunnableConfig):\n",
    "    return {\"channels\": ask_llm(state, \"Какие каналы привлечения клиентов вы используете?\", config)}\n",
    "\n",
    "def revenue_streams(state: LeanGraphState, config: RunnableConfig):\n",
    "    return {\"revenue_streams\": ask_llm(state, \"Как вы планируете зарабатывать деньги?\", config)}\n",
    "\n",
    "def cost_structure(state: LeanGraphState, config: RunnableConfig):\n",
    "    return {\"cost_structure\": ask_llm(state, \"Какова структура ваших затрат?\", config)}\n",
    "\n",
    "def key_metrics(state: LeanGraphState, config: RunnableConfig):\n",
    "    return {\"key_metrics\": ask_llm(state, \"Какие ключевые показатели вы будете отслеживать?\", config)}\n",
    "\n",
    "def unfair_advantage(state: LeanGraphState, config: RunnableConfig):\n",
    "    return {\"unfair_advantage\": ask_llm(state, \"Какое ваше конкурентное преимущество?\", config)}"
   ]
  },
  {
   "cell_type": "markdown",
   "id": "5a97c90a",
   "metadata": {},
   "source": [
    "### Агент проверки уникальности идеи\n",
    "- Использует интернет для формирования действительно уникальных предложений\n",
    "- Принимает решение - нужно ли генерировать новые идеи или можно продолжать генерацию\n",
    "- Демонстрирует принцип handoff с помощью Command"
   ]
  },
  {
   "cell_type": "code",
   "execution_count": 12,
   "id": "f992ddc8",
   "metadata": {},
   "outputs": [],
   "source": [
    "from typing_extensions import Literal\n",
    "from langgraph.types import Command\n",
    "from pydantic import BaseModel, Field\n",
    "from langchain_core.output_parsers import PydanticOutputParser\n",
    "from langchain_tavily import TavilySearch\n",
    "\n",
    "class CompetitorsAnalysisResult(BaseModel):\n",
    "    \"\"\"Анализ конкурентов\"\"\"\n",
    "    thoughts: str = Field(description=\"Мысли по поводу ответа\")\n",
    "    solution: str = Field(description=\"Какие конкуренты существуют и чем они отличаются от вашего продукта\")\n",
    "    is_unique: bool = Field(description=\"Уникально ли ваше предложение?\")\n",
    "\n",
    "COMPETITION_ANALYSIS_TEMPLATE = \"\"\"Ты работаешь над таблицей Lean Canvas и тебе нужно проанализировать конкурентов.\n",
    "\n",
    "Учитывай уже заполненные части таблицы Lean Canvas и главную задачу пользователя (main_task).\n",
    "<STATE>\n",
    "{state}\n",
    "</STATE>\n",
    "\n",
    "Результаты поиска по запросу \"{unique_value_proposition}\". Учитывай их, чтобы понять, уникальную ли идею ты придумал.\n",
    "Если в поиске нет ничего похожего, значит идея вероятно уникальная.\n",
    "<SEARCH_RESULTS>\n",
    "{search_results}\n",
    "</SEARCH_RESULTS>\n",
    "\n",
    "Выведи только следующую информацию в формате JSON:\n",
    "{format_instructions}\"\"\"\n",
    "\n",
    "def check_unique(state: LeanGraphState, config: RunnableConfig) -> Command[Literal[\"4_solution\", \"3_unique_value_proposition\"]]:\n",
    "    if config[\"configurable\"].get(\"skip_search\", False):\n",
    "        # Если пропускаем поиск, то просто переходим к следующему шагу\n",
    "        return Command(goto=\"4_solution\")\n",
    "    \n",
    "    parser = PydanticOutputParser(pydantic_object=CompetitorsAnalysisResult)\n",
    "    prompt = ChatPromptTemplate.from_messages([\n",
    "        (\"system\", COMPETITION_ANALYSIS_TEMPLATE)\n",
    "    ]).partial(format_instructions=parser.get_format_instructions())\n",
    "    \n",
    "    search_results_text = TavilySearch().run(state[\"unique_value_proposition\"])    \n",
    "    \n",
    "    chain = prompt | llm | parser\n",
    "    res = chain.invoke(\n",
    "        {\n",
    "            \"state\": state_to_string(state),\n",
    "            \"unique_value_proposition\": state[\"unique_value_proposition\"],\n",
    "            \"search_results\": search_results_text\n",
    "        }\n",
    "    )\n",
    "    \n",
    "    competitors_analysis = state.get(\"competitors_analysis\", \"\") + \"\\n\" + state[\"unique_value_proposition\"] + \" - \" + res.solution\n",
    "    \n",
    "    if res.is_unique:\n",
    "        # Если предложение уникально, переходим к следующему шагу\n",
    "        return Command(\n",
    "            update={\"competitors_analysis\": competitors_analysis.strip()},\n",
    "            goto=\"4_solution\",\n",
    "        )\n",
    "    else:\n",
    "        # Если предложение не уникально, возвращаемся к шагу \"3_unique_value_proposition\"\n",
    "        return Command(\n",
    "            update={\"competitors_analysis\": competitors_analysis.strip()},\n",
    "            goto=\"3_unique_value_proposition\",\n",
    "        )\n"
   ]
  },
  {
   "cell_type": "markdown",
   "id": "09e64984",
   "metadata": {},
   "source": [
    "### Фидбек от пользователя\n",
    "- Human in the loop\n",
    "- Interrupt\n",
    "- Handoff"
   ]
  },
  {
   "cell_type": "code",
   "execution_count": 13,
   "id": "30742ef5",
   "metadata": {},
   "outputs": [],
   "source": [
    "from typing import Literal, TypeAlias\n",
    "\n",
    "RedirectStep: TypeAlias = Literal[\n",
    "    \"1_customer_segments\",\n",
    "    \"2_problem\",\n",
    "    \"3_unique_value_proposition\",\n",
    "    \"4_solution\",\n",
    "    \"5_channels\",\n",
    "    \"6_revenue_streams\",\n",
    "    \"7_cost_structure\",\n",
    "    \"8_key_metrics\",\n",
    "    \"9_unfair_advantage\",\n",
    "    \"__end__\"\n",
    "]\n",
    "\n",
    "class UserFeedback(BaseModel):\n",
    "    \"\"\"Анализ конкурентов\"\"\"\n",
    "    feedback: str = Field(description=\"Фидебек пользователя, что надо исправить\")\n",
    "    next_step: RedirectStep = Field(description=\"Следующий шаг в Lean Canvas\")\n",
    "    is_done: bool = Field(description=\"Можно ли завершать создание Lean Canvas?\")\n",
    "    \n",
    "FEEDBACK_TEMPLATE = \"\"\"Ты работаешь над таблицей Lean Canvas. Ты уже сгенерировал версию Lean Canvas и получил фидбек от пользователя.\n",
    "Тебе нужно разобраться фидбек и понять, как действовать дальше, заполнив таблицу с ответом.\n",
    "\n",
    "Учитывай уже заполненные части таблицы Lean Canvas и главную задачу пользователя (main_task).\n",
    "<STATE>\n",
    "{state}\n",
    "</STATE>\n",
    "\n",
    "Вот фидбек пользователя на твою работу:\n",
    "{feedback}\n",
    "\n",
    "Извлеки из него данные для дальнейшей работы. Если пользователь всем доволен или не говорит ничего конкретного, \n",
    "то прими решение закончить генерацию (is_done = True).\n",
    "Выведи только следующую информацию в формате JSON:\n",
    "{format_instructions}\"\"\"\n",
    "\n",
    "def get_feedback(state: LeanGraphState, config: RunnableConfig) -> Command[RedirectStep]:\n",
    "    if config[\"configurable\"].get(\"need_interrupt\"):\n",
    "        feedback = interrupt(\"\"\"Пожалуйста, дайте обратную связь по Lean Canvas. Если все хорошо, напишите 'Хорошо'. \n",
    "    Если нужно что-то изменить, напишите, что именно и с какого шага начать.\"\"\")\n",
    "    else:\n",
    "        feedback = \"Все хорошо!\"\n",
    "\n",
    "    parser = PydanticOutputParser(pydantic_object=UserFeedback)\n",
    "    prompt = ChatPromptTemplate.from_messages([\n",
    "        (\"system\", FEEDBACK_TEMPLATE)\n",
    "    ]).partial(format_instructions=parser.get_format_instructions())\n",
    "    \n",
    "  \n",
    "    chain = prompt | llm | parser\n",
    "    res = chain.invoke(\n",
    "        {\n",
    "            \"state\": state_to_string(state),\n",
    "            \"feedback\": feedback,\n",
    "        }\n",
    "    )\n",
    "    \n",
    "    if res.is_done:\n",
    "        return Command(update={}, goto=END)\n",
    "    else:\n",
    "        # Если предложение не уникально, возвращаемся к шагу \"3_unique_value_proposition\"\n",
    "        return Command(\n",
    "            update={\"feedback\": res.feedback},\n",
    "            goto=res.next_step,\n",
    "        )\n"
   ]
  },
  {
   "cell_type": "markdown",
   "id": "0fd6a5bb",
   "metadata": {},
   "source": [
    "# Сборка графа\n",
    "Соберем узлы графа в правильную последовательность действий, добавим чек-пойнты для сохранения состояний и преобразуем в исполняемое приложение."
   ]
  },
  {
   "cell_type": "code",
   "execution_count": 14,
   "id": "68a6fe3d",
   "metadata": {},
   "outputs": [],
   "source": [
    "from langgraph.checkpoint.memory import MemorySaver\n",
    "\n",
    "graph = StateGraph(LeanGraphState)\n",
    "\n",
    "graph.add_node(\"1_customer_segments\", customer_segments)\n",
    "graph.add_node(\"2_problem\", problem)\n",
    "graph.add_node(\"3_unique_value_proposition\", unique_value_proposition)\n",
    "graph.add_node(\"3.1_check_unique\", check_unique)\n",
    "graph.add_node(\"4_solution\", solution)\n",
    "graph.add_node(\"5_channels\", channels)\n",
    "graph.add_node(\"6_revenue_streams\", revenue_streams)\n",
    "graph.add_node(\"7_cost_structure\", cost_structure)\n",
    "graph.add_node(\"8_key_metrics\", key_metrics)\n",
    "graph.add_node(\"9_unfair_advantage\", unfair_advantage)\n",
    "graph.add_node(\"get_feedback\", get_feedback)\n",
    "\n",
    "graph.add_edge(START, \"1_customer_segments\")\n",
    "graph.add_edge(\"1_customer_segments\", \"2_problem\")\n",
    "graph.add_edge(\"2_problem\", \"3_unique_value_proposition\")\n",
    "graph.add_edge(\"3_unique_value_proposition\", \"3.1_check_unique\")\n",
    "graph.add_edge(\"4_solution\", \"5_channels\")\n",
    "graph.add_edge(\"5_channels\", \"6_revenue_streams\")\n",
    "graph.add_edge(\"6_revenue_streams\", \"7_cost_structure\")\n",
    "graph.add_edge(\"7_cost_structure\", \"8_key_metrics\")\n",
    "graph.add_edge(\"8_key_metrics\", \"9_unfair_advantage\")\n",
    "graph.add_edge(\"9_unfair_advantage\", \"get_feedback\")\n",
    "\n",
    "memory = MemorySaver()\n",
    "app = graph.compile(checkpointer=memory)"
   ]
  },
  {
   "cell_type": "markdown",
   "id": "0c521a4f",
   "metadata": {},
   "source": [
    "Визуализируем получившийся граф."
   ]
  },
  {
   "cell_type": "code",
   "execution_count": 15,
   "id": "3ac118b9",
   "metadata": {},
   "outputs": [
    {
     "data": {
      "image/png": "[encoded data removed]",
      "text/plain": [
       "<IPython.core.display.Image object>"
      ]
     },
     "execution_count": 15,
     "metadata": {},
     "output_type": "execute_result"
    }
   ],
   "source": [
    "from utils import show_graph\n",
    "show_graph(app)"
   ]
  },
  {
   "cell_type": "markdown",
   "id": "87d30930",
   "metadata": {},
   "source": [
    "Запустим выполнение приложения с помощью функции `execute_graph`."
   ]
  },
  {
   "cell_type": "code",
   "execution_count": 16,
   "id": "8e58787d",
   "metadata": {},
   "outputs": [],
   "source": [
    "def execute_graph(inputs, conf: RunnableConfig):\n",
    "    \"\"\"Выводит поток событий от агента. Обрабатывает прерывания (human in the loop)\"\"\"\n",
    "    for event in app.stream(inputs, config=conf):\n",
    "        print(event)\n",
    "    \n",
    "    while '__interrupt__' in event:\n",
    "        print(f\"Agent interrupted. {event['__interrupt__'][0].value}\")\n",
    "        user_input = input(\"User: \")\n",
    "        print(f\"User input: {user_input}\")\n",
    "        for event in app.stream(Command(resume=user_input), config=conf):\n",
    "            print(event)"
   ]
  },
  {
   "cell_type": "code",
   "execution_count": 17,
   "id": "e4459718",
   "metadata": {},
   "outputs": [
    {
     "data": {
      "text/html": [
       "<pre style=\"white-space:pre;overflow-x:auto;line-height:normal;font-family:Menlo,'DejaVu Sans Mono',consolas,'Courier New',monospace\"><span style=\"font-weight: bold\">{</span>\n",
       "    <span style=\"color: #008000; text-decoration-color: #008000\">'1_customer_segments'</span>: <span style=\"font-weight: bold\">{</span>\n",
       "        <span style=\"color: #008000; text-decoration-color: #008000\">'customer_segments'</span>: <span style=\"color: #008000; text-decoration-color: #008000\">'- Студенты и взрослые, изучающие английский язык самостоятельно  \\n- Преподаватели </span>\n",
       "<span style=\"color: #008000; text-decoration-color: #008000\">иностранных языков, использующие современные технологии в обучении'</span>\n",
       "    <span style=\"font-weight: bold\">}</span>\n",
       "<span style=\"font-weight: bold\">}</span>\n",
       "</pre>\n"
      ],
      "text/plain": [
       "\u001b[1m{\u001b[0m\n",
       "    \u001b[32m'1_customer_segments'\u001b[0m: \u001b[1m{\u001b[0m\n",
       "        \u001b[32m'customer_segments'\u001b[0m: \u001b[32m'- Студенты и взрослые, изучающие английский язык самостоятельно  \\n- Преподаватели \u001b[0m\n",
       "\u001b[32mиностранных языков, использующие современные технологии в обучении'\u001b[0m\n",
       "    \u001b[1m}\u001b[0m\n",
       "\u001b[1m}\u001b[0m\n"
      ]
     },
     "metadata": {},
     "output_type": "display_data"
    },
    {
     "data": {
      "text/html": [
       "<pre style=\"white-space:pre;overflow-x:auto;line-height:normal;font-family:Menlo,'DejaVu Sans Mono',consolas,'Courier New',monospace\"><span style=\"font-weight: bold\">{</span>\n",
       "    <span style=\"color: #008000; text-decoration-color: #008000\">'2_problem'</span>: <span style=\"font-weight: bold\">{</span>\n",
       "        <span style=\"color: #008000; text-decoration-color: #008000\">'problem'</span>: <span style=\"color: #008000; text-decoration-color: #008000\">'- Отсутствие эффективных интерактивных инструментов для самостоятельного изучения английского </span>\n",
       "<span style=\"color: #008000; text-decoration-color: #008000\">языка.  \\n- Ограниченность традиционных методов обучения и нехватка персонализированного подхода.'</span>\n",
       "    <span style=\"font-weight: bold\">}</span>\n",
       "<span style=\"font-weight: bold\">}</span>\n",
       "</pre>\n"
      ],
      "text/plain": [
       "\u001b[1m{\u001b[0m\n",
       "    \u001b[32m'2_problem'\u001b[0m: \u001b[1m{\u001b[0m\n",
       "        \u001b[32m'problem'\u001b[0m: \u001b[32m'- Отсутствие эффективных интерактивных инструментов для самостоятельного изучения английского \u001b[0m\n",
       "\u001b[32mязыка.  \\n- Ограниченность традиционных методов обучения и нехватка персонализированного подхода.'\u001b[0m\n",
       "    \u001b[1m}\u001b[0m\n",
       "\u001b[1m}\u001b[0m\n"
      ]
     },
     "metadata": {},
     "output_type": "display_data"
    },
    {
     "data": {
      "text/html": [
       "<pre style=\"white-space:pre;overflow-x:auto;line-height:normal;font-family:Menlo,'DejaVu Sans Mono',consolas,'Courier New',monospace\"><span style=\"font-weight: bold\">{</span>\n",
       "    <span style=\"color: #008000; text-decoration-color: #008000\">'3_unique_value_proposition'</span>: <span style=\"font-weight: bold\">{</span>\n",
       "        <span style=\"color: #008000; text-decoration-color: #008000\">'unique_value_proposition'</span>: <span style=\"color: #008000; text-decoration-color: #008000\">'- Уникальная онлайн-платформа с AI-агентами для эффективного и увлекательного </span>\n",
       "<span style=\"color: #008000; text-decoration-color: #008000\">изучения английского языка.  \\n- Персонализированные занятия и интерактивное взаимодействие для быстрого прогресса </span>\n",
       "<span style=\"color: #008000; text-decoration-color: #008000\">каждого ученика.'</span>\n",
       "    <span style=\"font-weight: bold\">}</span>\n",
       "<span style=\"font-weight: bold\">}</span>\n",
       "</pre>\n"
      ],
      "text/plain": [
       "\u001b[1m{\u001b[0m\n",
       "    \u001b[32m'3_unique_value_proposition'\u001b[0m: \u001b[1m{\u001b[0m\n",
       "        \u001b[32m'unique_value_proposition'\u001b[0m: \u001b[32m'- Уникальная онлайн-платформа с AI-агентами для эффективного и увлекательного \u001b[0m\n",
       "\u001b[32mизучения английского языка.  \\n- Персонализированные занятия и интерактивное взаимодействие для быстрого прогресса \u001b[0m\n",
       "\u001b[32mкаждого ученика.'\u001b[0m\n",
       "    \u001b[1m}\u001b[0m\n",
       "\u001b[1m}\u001b[0m\n"
      ]
     },
     "metadata": {},
     "output_type": "display_data"
    },
    {
     "data": {
      "text/html": [
       "<pre style=\"white-space:pre;overflow-x:auto;line-height:normal;font-family:Menlo,'DejaVu Sans Mono',consolas,'Courier New',monospace\"><span style=\"font-weight: bold\">{</span>\n",
       "    <span style=\"color: #008000; text-decoration-color: #008000\">'3.1_check_unique'</span>: <span style=\"font-weight: bold\">{</span>\n",
       "        <span style=\"color: #008000; text-decoration-color: #008000\">'competitors_analysis'</span>: <span style=\"color: #008000; text-decoration-color: #008000\">'- Уникальная онлайн-платформа с AI-агентами для эффективного и увлекательного </span>\n",
       "<span style=\"color: #008000; text-decoration-color: #008000\">изучения английского языка.  \\n- Персонализированные занятия и интерактивное взаимодействие для быстрого прогресса </span>\n",
       "<span style=\"color: #008000; text-decoration-color: #008000\">каждого ученика. - Конкуренты включают такие платформы, как Cambly, Vocalo.ai и другие приложения, основанные на </span>\n",
       "<span style=\"color: #008000; text-decoration-color: #008000\">искусственном интеллекте. Эти решения предлагают различные подходы к изучению языка, включая практику разговорной </span>\n",
       "<span style=\"color: #008000; text-decoration-color: #008000\">речи и использование видеоматериалов. Ваше предложение отличается наличием AI-агентов, обеспечивающих </span>\n",
       "<span style=\"color: #008000; text-decoration-color: #008000\">индивидуализированный подход и интерактивность, что делает его уникальным среди существующих предложений.'</span>\n",
       "    <span style=\"font-weight: bold\">}</span>\n",
       "<span style=\"font-weight: bold\">}</span>\n",
       "</pre>\n"
      ],
      "text/plain": [
       "\u001b[1m{\u001b[0m\n",
       "    \u001b[32m'3.1_check_unique'\u001b[0m: \u001b[1m{\u001b[0m\n",
       "        \u001b[32m'competitors_analysis'\u001b[0m: \u001b[32m'- Уникальная онлайн-платформа с AI-агентами для эффективного и увлекательного \u001b[0m\n",
       "\u001b[32mизучения английского языка.  \\n- Персонализированные занятия и интерактивное взаимодействие для быстрого прогресса \u001b[0m\n",
       "\u001b[32mкаждого ученика. - Конкуренты включают такие платформы, как Cambly, Vocalo.ai и другие приложения, основанные на \u001b[0m\n",
       "\u001b[32mискусственном интеллекте. Эти решения предлагают различные подходы к изучению языка, включая практику разговорной \u001b[0m\n",
       "\u001b[32mречи и использование видеоматериалов. Ваше предложение отличается наличием AI-агентов, обеспечивающих \u001b[0m\n",
       "\u001b[32mиндивидуализированный подход и интерактивность, что делает его уникальным среди существующих предложений.'\u001b[0m\n",
       "    \u001b[1m}\u001b[0m\n",
       "\u001b[1m}\u001b[0m\n"
      ]
     },
     "metadata": {},
     "output_type": "display_data"
    },
    {
     "data": {
      "text/html": [
       "<pre style=\"white-space:pre;overflow-x:auto;line-height:normal;font-family:Menlo,'DejaVu Sans Mono',consolas,'Courier New',monospace\"><span style=\"font-weight: bold\">{</span>\n",
       "    <span style=\"color: #008000; text-decoration-color: #008000\">'4_solution'</span>: <span style=\"font-weight: bold\">{</span>\n",
       "        <span style=\"color: #008000; text-decoration-color: #008000\">'solution'</span>: <span style=\"color: #008000; text-decoration-color: #008000\">'- Онлайн-платформа с AI-агентами для индивидуального и интерактивного изучения английского </span>\n",
       "<span style=\"color: #008000; text-decoration-color: #008000\">языка.  \\n- Персонализированные занятия обеспечивают быстрый прогресс и увлекательное обучение каждому </span>\n",
       "<span style=\"color: #008000; text-decoration-color: #008000\">пользователю.'</span>\n",
       "    <span style=\"font-weight: bold\">}</span>\n",
       "<span style=\"font-weight: bold\">}</span>\n",
       "</pre>\n"
      ],
      "text/plain": [
       "\u001b[1m{\u001b[0m\n",
       "    \u001b[32m'4_solution'\u001b[0m: \u001b[1m{\u001b[0m\n",
       "        \u001b[32m'solution'\u001b[0m: \u001b[32m'- Онлайн-платформа с AI-агентами для индивидуального и интерактивного изучения английского \u001b[0m\n",
       "\u001b[32mязыка.  \\n- Персонализированные занятия обеспечивают быстрый прогресс и увлекательное обучение каждому \u001b[0m\n",
       "\u001b[32mпользователю.'\u001b[0m\n",
       "    \u001b[1m}\u001b[0m\n",
       "\u001b[1m}\u001b[0m\n"
      ]
     },
     "metadata": {},
     "output_type": "display_data"
    },
    {
     "data": {
      "text/html": [
       "<pre style=\"white-space:pre;overflow-x:auto;line-height:normal;font-family:Menlo,'DejaVu Sans Mono',consolas,'Courier New',monospace\"><span style=\"font-weight: bold\">{</span>\n",
       "    <span style=\"color: #008000; text-decoration-color: #008000\">'5_channels'</span>: <span style=\"font-weight: bold\">{</span>\n",
       "        <span style=\"color: #008000; text-decoration-color: #008000\">'channels'</span>: <span style=\"color: #008000; text-decoration-color: #008000\">'- Контекстная реклама и таргетинг в социальных сетях (VK, Instagram).  \\n- Партнерство с </span>\n",
       "<span style=\"color: #008000; text-decoration-color: #008000\">образовательными платформами и языковой школой.'</span>\n",
       "    <span style=\"font-weight: bold\">}</span>\n",
       "<span style=\"font-weight: bold\">}</span>\n",
       "</pre>\n"
      ],
      "text/plain": [
       "\u001b[1m{\u001b[0m\n",
       "    \u001b[32m'5_channels'\u001b[0m: \u001b[1m{\u001b[0m\n",
       "        \u001b[32m'channels'\u001b[0m: \u001b[32m'- Контекстная реклама и таргетинг в социальных сетях \u001b[0m\u001b[32m(\u001b[0m\u001b[32mVK, Instagram\u001b[0m\u001b[32m)\u001b[0m\u001b[32m.  \\n- Партнерство с \u001b[0m\n",
       "\u001b[32mобразовательными платформами и языковой школой.'\u001b[0m\n",
       "    \u001b[1m}\u001b[0m\n",
       "\u001b[1m}\u001b[0m\n"
      ]
     },
     "metadata": {},
     "output_type": "display_data"
    },
    {
     "data": {
      "text/html": [
       "<pre style=\"white-space:pre;overflow-x:auto;line-height:normal;font-family:Menlo,'DejaVu Sans Mono',consolas,'Courier New',monospace\"><span style=\"font-weight: bold\">{</span>\n",
       "    <span style=\"color: #008000; text-decoration-color: #008000\">'6_revenue_streams'</span>: <span style=\"font-weight: bold\">{</span>\n",
       "        <span style=\"color: #008000; text-decoration-color: #008000\">'revenue_streams'</span>: <span style=\"color: #008000; text-decoration-color: #008000\">'- Подписка на премиум-функциональность платформы.  \\n- Продажа дополнительного </span>\n",
       "<span style=\"color: #008000; text-decoration-color: #008000\">образовательного контента и индивидуальных курсов.'</span>\n",
       "    <span style=\"font-weight: bold\">}</span>\n",
       "<span style=\"font-weight: bold\">}</span>\n",
       "</pre>\n"
      ],
      "text/plain": [
       "\u001b[1m{\u001b[0m\n",
       "    \u001b[32m'6_revenue_streams'\u001b[0m: \u001b[1m{\u001b[0m\n",
       "        \u001b[32m'revenue_streams'\u001b[0m: \u001b[32m'- Подписка на премиум-функциональность платформы.  \\n- Продажа дополнительного \u001b[0m\n",
       "\u001b[32mобразовательного контента и индивидуальных курсов.'\u001b[0m\n",
       "    \u001b[1m}\u001b[0m\n",
       "\u001b[1m}\u001b[0m\n"
      ]
     },
     "metadata": {},
     "output_type": "display_data"
    },
    {
     "data": {
      "text/html": [
       "<pre style=\"white-space:pre;overflow-x:auto;line-height:normal;font-family:Menlo,'DejaVu Sans Mono',consolas,'Courier New',monospace\"><span style=\"font-weight: bold\">{</span>\n",
       "    <span style=\"color: #008000; text-decoration-color: #008000\">'7_cost_structure'</span>: <span style=\"font-weight: bold\">{</span>\n",
       "        <span style=\"color: #008000; text-decoration-color: #008000\">'cost_structure'</span>: <span style=\"color: #008000; text-decoration-color: #008000\">'- Разработка и поддержка платформы с AI-агентами  \\n- Маркетинговые расходы на </span>\n",
       "<span style=\"color: #008000; text-decoration-color: #008000\">привлечение пользователей через социальные сети и партнерства  \\n- Создание и обновление образовательного контента'</span>\n",
       "    <span style=\"font-weight: bold\">}</span>\n",
       "<span style=\"font-weight: bold\">}</span>\n",
       "</pre>\n"
      ],
      "text/plain": [
       "\u001b[1m{\u001b[0m\n",
       "    \u001b[32m'7_cost_structure'\u001b[0m: \u001b[1m{\u001b[0m\n",
       "        \u001b[32m'cost_structure'\u001b[0m: \u001b[32m'- Разработка и поддержка платформы с AI-агентами  \\n- Маркетинговые расходы на \u001b[0m\n",
       "\u001b[32mпривлечение пользователей через социальные сети и партнерства  \\n- Создание и обновление образовательного контента'\u001b[0m\n",
       "    \u001b[1m}\u001b[0m\n",
       "\u001b[1m}\u001b[0m\n"
      ]
     },
     "metadata": {},
     "output_type": "display_data"
    },
    {
     "data": {
      "text/html": [
       "<pre style=\"white-space:pre;overflow-x:auto;line-height:normal;font-family:Menlo,'DejaVu Sans Mono',consolas,'Courier New',monospace\"><span style=\"font-weight: bold\">{</span>\n",
       "    <span style=\"color: #008000; text-decoration-color: #008000\">'8_key_metrics'</span>: <span style=\"font-weight: bold\">{</span>\n",
       "        <span style=\"color: #008000; text-decoration-color: #008000\">'key_metrics'</span>: <span style=\"color: #008000; text-decoration-color: #008000\">'- Количество активных пользователей ежемесячно (MAU)\\n- Уровень удержания пользователей </span>\n",
       "<span style=\"color: #008000; text-decoration-color: #008000\">(Retention Rate)\\n- Средняя продолжительность занятий на платформе\\n- Коэффициент конверсии бесплатных </span>\n",
       "<span style=\"color: #008000; text-decoration-color: #008000\">пользователей в платных подписчиков\\n- Оценки удовлетворенности клиентов (NPS — Net Promoter Score)\\n- Доход от </span>\n",
       "<span style=\"color: #008000; text-decoration-color: #008000\">подписки и продажи дополнительного контента'</span>\n",
       "    <span style=\"font-weight: bold\">}</span>\n",
       "<span style=\"font-weight: bold\">}</span>\n",
       "</pre>\n"
      ],
      "text/plain": [
       "\u001b[1m{\u001b[0m\n",
       "    \u001b[32m'8_key_metrics'\u001b[0m: \u001b[1m{\u001b[0m\n",
       "        \u001b[32m'key_metrics'\u001b[0m: \u001b[32m'- Количество активных пользователей ежемесячно \u001b[0m\u001b[32m(\u001b[0m\u001b[32mMAU\u001b[0m\u001b[32m)\u001b[0m\u001b[32m\\n- Уровень удержания пользователей \u001b[0m\n",
       "\u001b[32m(\u001b[0m\u001b[32mRetention Rate\u001b[0m\u001b[32m)\u001b[0m\u001b[32m\\n- Средняя продолжительность занятий на платформе\\n- Коэффициент конверсии бесплатных \u001b[0m\n",
       "\u001b[32mпользователей в платных подписчиков\\n- Оценки удовлетворенности клиентов \u001b[0m\u001b[32m(\u001b[0m\u001b[32mNPS — Net Promoter Score\u001b[0m\u001b[32m)\u001b[0m\u001b[32m\\n- Доход от \u001b[0m\n",
       "\u001b[32mподписки и продажи дополнительного контента'\u001b[0m\n",
       "    \u001b[1m}\u001b[0m\n",
       "\u001b[1m}\u001b[0m\n"
      ]
     },
     "metadata": {},
     "output_type": "display_data"
    },
    {
     "data": {
      "text/html": [
       "<pre style=\"white-space:pre;overflow-x:auto;line-height:normal;font-family:Menlo,'DejaVu Sans Mono',consolas,'Courier New',monospace\"><span style=\"font-weight: bold\">{</span>\n",
       "    <span style=\"color: #008000; text-decoration-color: #008000\">'9_unfair_advantage'</span>: <span style=\"font-weight: bold\">{</span>\n",
       "        <span style=\"color: #008000; text-decoration-color: #008000\">'unfair_advantage'</span>: <span style=\"color: #008000; text-decoration-color: #008000\">'- Наличие уникальных AI-агентов, обеспечивающих индивидуальный и интерактивный подход </span>\n",
       "<span style=\"color: #008000; text-decoration-color: #008000\">к обучению английскому языку.  \\n- Отличие от конкурентов заключается в высокой степени персонализации занятий и </span>\n",
       "<span style=\"color: #008000; text-decoration-color: #008000\">вовлечении студентов благодаря инновационным технологиям.'</span>\n",
       "    <span style=\"font-weight: bold\">}</span>\n",
       "<span style=\"font-weight: bold\">}</span>\n",
       "</pre>\n"
      ],
      "text/plain": [
       "\u001b[1m{\u001b[0m\n",
       "    \u001b[32m'9_unfair_advantage'\u001b[0m: \u001b[1m{\u001b[0m\n",
       "        \u001b[32m'unfair_advantage'\u001b[0m: \u001b[32m'- Наличие уникальных AI-агентов, обеспечивающих индивидуальный и интерактивный подход \u001b[0m\n",
       "\u001b[32mк обучению английскому языку.  \\n- Отличие от конкурентов заключается в высокой степени персонализации занятий и \u001b[0m\n",
       "\u001b[32mвовлечении студентов благодаря инновационным технологиям.'\u001b[0m\n",
       "    \u001b[1m}\u001b[0m\n",
       "\u001b[1m}\u001b[0m\n"
      ]
     },
     "metadata": {},
     "output_type": "display_data"
    },
    {
     "data": {
      "text/html": [
       "<pre style=\"white-space:pre;overflow-x:auto;line-height:normal;font-family:Menlo,'DejaVu Sans Mono',consolas,'Courier New',monospace\"><span style=\"font-weight: bold\">{</span>\n",
       "    <span style=\"color: #008000; text-decoration-color: #008000\">'__interrupt__'</span>: <span style=\"font-weight: bold\">(</span>\n",
       "        <span style=\"color: #800080; text-decoration-color: #800080; font-weight: bold\">Interrupt</span><span style=\"font-weight: bold\">(</span>\n",
       "            <span style=\"color: #808000; text-decoration-color: #808000\">value</span>=<span style=\"color: #008000; text-decoration-color: #008000\">\"Пожалуйста, дайте обратную связь по Lean Canvas. Если все хорошо, напишите 'Хорошо'. \\n    Если </span>\n",
       "<span style=\"color: #008000; text-decoration-color: #008000\">нужно что-то изменить, напишите, что именно и с какого шага начать.\"</span>,\n",
       "            <span style=\"color: #808000; text-decoration-color: #808000\">resumable</span>=<span style=\"color: #00ff00; text-decoration-color: #00ff00; font-style: italic\">True</span>,\n",
       "            <span style=\"color: #808000; text-decoration-color: #808000\">ns</span>=<span style=\"font-weight: bold\">[</span><span style=\"color: #008000; text-decoration-color: #008000\">'get_feedback:5b313d21-f5c4-92b6-e1c3-9b16a111e6f1'</span><span style=\"font-weight: bold\">]</span>\n",
       "        <span style=\"font-weight: bold\">)</span>,\n",
       "    <span style=\"font-weight: bold\">)</span>\n",
       "<span style=\"font-weight: bold\">}</span>\n",
       "</pre>\n"
      ],
      "text/plain": [
       "\u001b[1m{\u001b[0m\n",
       "    \u001b[32m'__interrupt__'\u001b[0m: \u001b[1m(\u001b[0m\n",
       "        \u001b[1;35mInterrupt\u001b[0m\u001b[1m(\u001b[0m\n",
       "            \u001b[33mvalue\u001b[0m=\u001b[32m\"Пожалуйста\u001b[0m\u001b[32m, дайте обратную связь по Lean Canvas. Если все хорошо, напишите 'Хорошо'. \\n    Если \u001b[0m\n",
       "\u001b[32mнужно что-то изменить, напишите, что именно и с какого шага начать.\"\u001b[0m,\n",
       "            \u001b[33mresumable\u001b[0m=\u001b[3;92mTrue\u001b[0m,\n",
       "            \u001b[33mns\u001b[0m=\u001b[1m[\u001b[0m\u001b[32m'get_feedback:5b313d21-f5c4-92b6-e1c3-9b16a111e6f1'\u001b[0m\u001b[1m]\u001b[0m\n",
       "        \u001b[1m)\u001b[0m,\n",
       "    \u001b[1m)\u001b[0m\n",
       "\u001b[1m}\u001b[0m\n"
      ]
     },
     "metadata": {},
     "output_type": "display_data"
    },
    {
     "data": {
      "text/html": [
       "<pre style=\"white-space:pre;overflow-x:auto;line-height:normal;font-family:Menlo,'DejaVu Sans Mono',consolas,'Courier New',monospace\">Agent interrupted. Пожалуйста, дайте обратную связь по Lean Canvas. Если все хорошо, напишите <span style=\"color: #008000; text-decoration-color: #008000\">'Хорошо'</span>. \n",
       "    Если нужно что-то изменить, напишите, что именно и с какого шага начать.\n",
       "</pre>\n"
      ],
      "text/plain": [
       "Agent interrupted. Пожалуйста, дайте обратную связь по Lean Canvas. Если все хорошо, напишите \u001b[32m'Хорошо'\u001b[0m. \n",
       "    Если нужно что-то изменить, напишите, что именно и с какого шага начать.\n"
      ]
     },
     "metadata": {},
     "output_type": "display_data"
    },
    {
     "name": "stdout",
     "output_type": "stream",
     "text": [
      "User:  хорошо\n"
     ]
    },
    {
     "data": {
      "text/html": [
       "<pre style=\"white-space:pre;overflow-x:auto;line-height:normal;font-family:Menlo,'DejaVu Sans Mono',consolas,'Courier New',monospace\">User input: хорошо\n",
       "</pre>\n"
      ],
      "text/plain": [
       "User input: хорошо\n"
      ]
     },
     "metadata": {},
     "output_type": "display_data"
    },
    {
     "data": {
      "text/html": [
       "<pre style=\"white-space:pre;overflow-x:auto;line-height:normal;font-family:Menlo,'DejaVu Sans Mono',consolas,'Courier New',monospace\"><span style=\"font-weight: bold\">{</span><span style=\"color: #008000; text-decoration-color: #008000\">'get_feedback'</span>: <span style=\"color: #800080; text-decoration-color: #800080; font-style: italic\">None</span><span style=\"font-weight: bold\">}</span>\n",
       "</pre>\n"
      ],
      "text/plain": [
       "\u001b[1m{\u001b[0m\u001b[32m'get_feedback'\u001b[0m: \u001b[3;35mNone\u001b[0m\u001b[1m}\u001b[0m\n"
      ]
     },
     "metadata": {},
     "output_type": "display_data"
    }
   ],
   "source": [
    "import uuid\n",
    "\n",
    "inputs = {\"main_task\": \"Онлайн платформа для изучения английского языка с AI-агентами\"}\n",
    "conf = {\"configurable\": {\"thread_id\": str(uuid.uuid4()),\n",
    "                         \"need_interrupt\": True,\n",
    "                         \"skip_search\": False,}}\n",
    "\n",
    "execute_graph(inputs, conf)\n",
    "        "
   ]
  },
  {
   "cell_type": "markdown",
   "id": "9669327c",
   "metadata": {},
   "source": [
    "# Вывод результата"
   ]
  },
  {
   "cell_type": "code",
   "execution_count": 18,
   "id": "e2d60a85",
   "metadata": {},
   "outputs": [],
   "source": [
    "from utils import show_lean_canvas\n",
    "\n",
    "current_state_values = app.get_state(config=conf).values\n",
    "state = LeanGraphState(**current_state_values)\n",
    "# show_lean_canvas(state)"
   ]
  },
  {
   "cell_type": "code",
   "execution_count": 19,
   "id": "05557a10-e9fd-4f14-8d74-f9c3fc44a3b3",
   "metadata": {},
   "outputs": [
    {
     "data": {
      "text/html": [
       "\n",
       "    \n",
       "    <style>\n",
       "    .canvas {\n",
       "        display: grid;\n",
       "        grid-template-columns: 13% 30% 13% 30% 13%;   /* ширины колонок */\n",
       "        grid-template-rows: auto auto auto auto;           /* Title + 2 ряда + низ   */\n",
       "        gap: 8px;\n",
       "        background: transparent;\n",
       "        font-family: Arial, sans-serif;\n",
       "    }\n",
       "    .box {\n",
       "        background:#e59a12;\n",
       "        color:#fff;\n",
       "        border:1px solid #fff;\n",
       "        padding:12px 14px;\n",
       "        line-height:1.3;\n",
       "    }\n",
       "    .title { font-weight:700; margin-bottom:6px; }\n",
       "    .canvas-title-cell { /* New class for the title cell */\n",
       "        grid-column: 1 / -1; /* Span all columns */\n",
       "        grid-row: 1 / span 1;    /* First row */\n",
       "        text-align: center;\n",
       "        color: #08c; /* Copied from original h2 */\n",
       "        font-family: Arial, sans-serif; /* Copied from original h2 */\n",
       "        padding: 8px 0; /* Vertical padding */\n",
       "        font-size: 1.3em;\n",
       "        font-weight: bold;\n",
       "    }\n",
       "    /* раскладка по «ячейкам» */\n",
       "    .problem           { grid-area: 2 / 1 / span 2 / span 1; } /* Shifted down */\n",
       "    .solution          { grid-area: 2 / 2 / span 1 / span 1; } /* Shifted down */\n",
       "    .key_metrics       { grid-area: 3 / 2 / span 1 / span 1; } /* Shifted down */\n",
       "    .uvp               { grid-area: 2 / 3 / span 2 / span 1; } /* Shifted down */\n",
       "    .unfair            { grid-area: 2 / 4 / span 1 / span 1; } /* Shifted down */\n",
       "    .channels          { grid-area: 3 / 4 / span 1 / span 1; } /* Shifted down */\n",
       "    .customer_segments { grid-area: 2 / 5 / span 2 / span 1; } /* Shifted down */\n",
       "    .cost_structure    { grid-area: 4 / 1 / span 1 / span 3; } /* Shifted down */\n",
       "    .revenue_streams   { grid-area: 4 / 4 / span 1 / span 2; } /* Shifted down */\n",
       "    </style>\n",
       "    \n",
       "    <div class=\"canvas\">\n",
       "        <div class=\"canvas-title-cell\">Онлайн платформа для изучения английского языка с AI-агентами</div>\n",
       "\n",
       "        <div class=\"box problem\">\n",
       "            <div class=\"title\">2. Problem</div>\n",
       "            - Отсутствие эффективных интерактивных инструментов для самостоятельного изучения английского языка.  <br>- Ограниченность традиционных методов обучения и нехватка персонализированного подхода.\n",
       "        </div>\n",
       "\n",
       "        <div class=\"box solution\">\n",
       "            <div class=\"title\">4. Solution</div>\n",
       "            - Онлайн-платформа с AI-агентами для индивидуального и интерактивного изучения английского языка.  <br>- Персонализированные занятия обеспечивают быстрый прогресс и увлекательное обучение каждому пользователю.\n",
       "        </div>\n",
       "\n",
       "        <div class=\"box key_metrics\">\n",
       "            <div class=\"title\">8. Key Metrics</div>\n",
       "            - Количество активных пользователей ежемесячно (MAU)<br>- Уровень удержания пользователей (Retention Rate)<br>- Средняя продолжительность занятий на платформе<br>- Коэффициент конверсии бесплатных пользователей в платных подписчиков<br>- Оценки удовлетворенности клиентов (NPS — Net Promoter Score)<br>- Доход от подписки и продажи дополнительного контента\n",
       "        </div>\n",
       "\n",
       "        <div class=\"box uvp\">\n",
       "            <div class=\"title\">3. Unique Value Proposition</div>\n",
       "            - Уникальная онлайн-платформа с AI-агентами для эффективного и увлекательного изучения английского языка.  <br>- Персонализированные занятия и интерактивное взаимодействие для быстрого прогресса каждого ученика.\n",
       "        </div>\n",
       "\n",
       "        <div class=\"box unfair\">\n",
       "            <div class=\"title\">9. Unfair Advantage</div>\n",
       "            - Наличие уникальных AI-агентов, обеспечивающих индивидуальный и интерактивный подход к обучению английскому языку.  <br>- Отличие от конкурентов заключается в высокой степени персонализации занятий и вовлечении студентов благодаря инновационным технологиям.\n",
       "        </div>\n",
       "\n",
       "        <div class=\"box channels\">\n",
       "            <div class=\"title\">5. Channels</div>\n",
       "            - Контекстная реклама и таргетинг в социальных сетях (VK, Instagram).  <br>- Партнерство с образовательными платформами и языковой школой.\n",
       "        </div>\n",
       "\n",
       "        <div class=\"box customer_segments\">\n",
       "            <div class=\"title\">1. Customer Segments</div>\n",
       "            - Студенты и взрослые, изучающие английский язык самостоятельно  <br>- Преподаватели иностранных языков, использующие современные технологии в обучении\n",
       "        </div>\n",
       "\n",
       "        <div class=\"box cost_structure\">\n",
       "            <div class=\"title\">7. Cost Structure</div>\n",
       "            - Разработка и поддержка платформы с AI-агентами  <br>- Маркетинговые расходы на привлечение пользователей через социальные сети и партнерства  <br>- Создание и обновление образовательного контента\n",
       "        </div>\n",
       "\n",
       "        <div class=\"box revenue_streams\">\n",
       "            <div class=\"title\">6. Revenue Streams</div>\n",
       "            - Подписка на премиум-функциональность платформы.  <br>- Продажа дополнительного образовательного контента и индивидуальных курсов.\n",
       "        </div>\n",
       "\n",
       "    </div>\n",
       "    "
      ],
      "text/plain": [
       "<IPython.core.display.HTML object>"
      ]
     },
     "metadata": {},
     "output_type": "display_data"
    }
   ],
   "source": [
    "show_lean_canvas(state)"
   ]
  },
  {
   "cell_type": "markdown",
   "id": "71e2459f",
   "metadata": {},
   "source": [
    "![Lean Canvas](lean_canvas.png)"
   ]
  },
  {
   "cell_type": "markdown",
   "id": "053786fa",
   "metadata": {},
   "source": [
    "# Валидация"
   ]
  },
  {
   "cell_type": "markdown",
   "id": "9dc9a55e",
   "metadata": {},
   "source": [
    "Теперь покажем, как можно проводить логирование и затем качественно и количественно оценивать результаты работы агента. В качестве платформы для логирования используем [Arize Phoenix](https://phoenix.arize.com/). Этот опенсорс инструмент легко использовать как локально, так и развернув на сервере. "
   ]
  },
  {
   "cell_type": "markdown",
   "id": "8b440885",
   "metadata": {},
   "source": [
    "## Запуск Arize Phoenix"
   ]
  },
  {
   "cell_type": "code",
   "execution_count": null,
   "id": "9d51c7cf",
   "metadata": {},
   "outputs": [],
   "source": [
    "# !pip install arize-phoenix opentelemetry-exporter-otlp openinference-instrumentation-langchain pandas -U -q"
   ]
  },
  {
   "cell_type": "code",
   "execution_count": 16,
   "id": "d9ff0271",
   "metadata": {},
   "outputs": [
    {
     "name": "stderr",
     "output_type": "stream",
     "text": [
      "/Users/knkrestnikov/Documents/giga/gigachain/.venv/lib/python3.13/site-packages/tqdm/auto.py:21: TqdmWarning: IProgress not found. Please update jupyter and ipywidgets. See https://ipywidgets.readthedocs.io/en/stable/user_install.html\n",
      "  from .autonotebook import tqdm as notebook_tqdm\n"
     ]
    },
    {
     "name": "stdout",
     "output_type": "stream",
     "text": [
      "🌍 To view the Phoenix app in your browser, visit http://localhost:6006/\n",
      "💽 Your data is being persisted to sqlite:////Users/knkrestnikov/.phoenix/phoenix.db\n",
      "📖 For more information on how to use Phoenix, check out https://docs.arize.com/phoenix\n"
     ]
    }
   ],
   "source": [
    "# import phoenix as px\n",
    "# session = px.launch_app(use_temp_dir=False)"
   ]
  },
  {
   "cell_type": "markdown",
   "id": "e158a65c",
   "metadata": {},
   "source": [
    "### Загружаем датасет в Phoenix\n",
    "В качестве валидационного датасета используем файл validation_data.txt. Преобразуем его в DataFrame и передадим в Phoenix."
   ]
  },
  {
   "cell_type": "code",
   "execution_count": 18,
   "id": "11e1b5d7",
   "metadata": {},
   "outputs": [
    {
     "data": {
      "text/html": [
       "<pre style=\"white-space:pre;overflow-x:auto;line-height:normal;font-family:Menlo,'DejaVu Sans Mono',consolas,'Courier New',monospace\">Total questions: <span style=\"color: #008080; text-decoration-color: #008080; font-weight: bold\">30</span>\n",
       "</pre>\n"
      ],
      "text/plain": [
       "Total questions: \u001b[1;36m30\u001b[0m\n"
      ]
     },
     "metadata": {},
     "output_type": "display_data"
    }
   ],
   "source": [
    "with open('validation_data.txt', 'r') as f:\n",
    "    questions = [line.strip() for line in f]\n",
    "\n",
    "print(f\"Total questions: {len(questions)}\")"
   ]
  },
  {
   "cell_type": "code",
   "execution_count": null,
   "id": "8e5dfa30",
   "metadata": {},
   "outputs": [
    {
     "name": "stderr",
     "output_type": "stream",
     "text": [
      "Existing running Phoenix instance detected! Shutting it down and starting a new instance...\n",
      "/Library/Frameworks/Python.framework/Versions/3.13/lib/python3.13/contextlib.py:148: SAWarning: Skipped unsupported reflection of expression-based index ix_cumulative_llm_token_count_total\n",
      "  next(self.gen)\n",
      "/Library/Frameworks/Python.framework/Versions/3.13/lib/python3.13/contextlib.py:148: SAWarning: Skipped unsupported reflection of expression-based index ix_latency\n",
      "  next(self.gen)\n"
     ]
    },
    {
     "name": "stdout",
     "output_type": "stream",
     "text": [
      "🌍 To view the Phoenix app in your browser, visit http://localhost:6006/\n",
      "📖 For more information on how to use Phoenix, check out https://docs.arize.com/phoenix\n",
      "📤 Uploading dataset...\n",
      "💾 Examples uploaded: http://localhost:6006/datasets/RGF0YXNldDox/examples\n",
      "🗄️ Dataset version ID: RGF0YXNldFZlcnNpb246MQ==\n"
     ]
    },
    {
     "name": "stderr",
     "output_type": "stream",
     "text": [
      "running experiment evaluations |██        | 6/30 (20.0%) | ⏳ 00:32<02:09 |  5.41s/it\n"
     ]
    }
   ],
   "source": [
    "import pandas as pd\n",
    "import phoenix as px\n",
    "\n",
    "dataset_df = pd.DataFrame(data={\"question\": questions})\n",
    "\n",
    "px.launch_app()\n",
    "client = px.Client()\n",
    "\n",
    "dataset = client.upload_dataset(\n",
    "    dataframe=dataset_df,\n",
    "    dataset_name=\"lean_canvas_questions\",\n",
    "    input_keys=[\"question\"],\n",
    ")"
   ]
  },
  {
   "cell_type": "markdown",
   "id": "4fe0f380",
   "metadata": {},
   "source": [
    "![Dataset](dataset.png)"
   ]
  },
  {
   "cell_type": "markdown",
   "id": "efc7d39e",
   "metadata": {},
   "source": [
    "## Проводим эксперимент на GigaChat Lite\n",
    "\n",
    "В качестве критерия оценки работы агента можно создать собственную функцию, которая по жесткому алгоритму будет выдавать оценку ответу. Например, зададим просто оценку по длине. Пусть просто оценивается, что длина ответа входит в диапазон от 400 до 3000 символов, а также все 9 полей присутствуют в виде корректного JSON."
   ]
  },
  {
   "cell_type": "code",
   "execution_count": 32,
   "id": "98704bee",
   "metadata": {},
   "outputs": [
    {
     "name": "stderr",
     "output_type": "stream",
     "text": [
      "🐌!! If running inside a notebook, patching the event loop with nest_asyncio will allow asynchronous eval submission, and is significantly faster. To patch the event loop, run `nest_asyncio.apply()`.\n"
     ]
    },
    {
     "name": "stdout",
     "output_type": "stream",
     "text": [
      "🧪 Experiment started.\n",
      "📺 View dataset experiments: http://localhost:6006/datasets/RGF0YXNldDox/experiments\n",
      "🔗 View this experiment: http://localhost:6006/datasets/RGF0YXNldDox/compare?experimentId=RXhwZXJpbWVudDox\n"
     ]
    },
    {
     "name": "stderr",
     "output_type": "stream",
     "text": [
      "running tasks |██████████| 30/30 (100.0%) | ⏳ 03:43<00:00 |  7.45s/it\n",
      "🐌!! If running inside a notebook, patching the event loop with nest_asyncio will allow asynchronous eval submission, and is significantly faster. To patch the event loop, run `nest_asyncio.apply()`.\n"
     ]
    },
    {
     "name": "stdout",
     "output_type": "stream",
     "text": [
      "✅ Task runs completed.\n",
      "🧠 Evaluation started.\n"
     ]
    },
    {
     "name": "stderr",
     "output_type": "stream",
     "text": [
      "running experiment evaluations |██████████| 30/30 (100.0%) | ⏳ 00:00<00:00 | 119.30it/s"
     ]
    },
    {
     "name": "stdout",
     "output_type": "stream",
     "text": [
      "\n",
      "🔗 View this experiment: http://localhost:6006/datasets/RGF0YXNldDox/compare?experimentId=RXhwZXJpbWVudDox\n",
      "\n",
      "Experiment Summary (05/22/25 11:00 PM +0300)\n",
      "--------------------------------------------\n",
      "         evaluator   n  n_scores  avg_score  n_labels  \\\n",
      "0  check_structure  30        30   0.033333        30   \n",
      "\n",
      "               top_2_labels  \n",
      "0  {'False': 29, 'True': 1}  \n",
      "\n",
      "Tasks Summary (05/22/25 11:00 PM +0300)\n",
      "---------------------------------------\n",
      "   n_examples  n_runs  n_errors\n",
      "0          30      30         0\n"
     ]
    },
    {
     "name": "stderr",
     "output_type": "stream",
     "text": [
      "\n"
     ]
    }
   ],
   "source": [
    "from phoenix.experiments import evaluate_experiment, run_experiment\n",
    "from phoenix.experiments.types import Example\n",
    "import json\n",
    "\n",
    "def create_experiment(name, model):\n",
    "    def run_step(example: Example):\n",
    "        inputs = {\"main_task\": example.input[\"question\"]}\n",
    "        conf = {\"configurable\": {\"thread_id\": str(uuid.uuid4()),\n",
    "                                \"model\": model,\n",
    "                                \"need_interrupt\": False,\n",
    "                                \"skip_search\": True,}}\n",
    "        resp = app.invoke(inputs, config=conf)\n",
    "        resp.pop(\"main_task\")\n",
    "        return resp\n",
    "\n",
    "    def check_structure(expected, output) -> bool:\n",
    "        resp_st = json.dumps(output, ensure_ascii=False)\n",
    "        if len(resp_st) > 3000 or len(resp_st) < 400:\n",
    "            return False\n",
    "        return True\n",
    "\n",
    "    return run_experiment(\n",
    "        client.get_dataset(name=\"lean_canvas_questions\"),\n",
    "        run_step,\n",
    "        evaluators=[check_structure],\n",
    "        experiment_name=name,\n",
    "        experiment_description=\"\",\n",
    "    )\n",
    "\n",
    "experiment = create_experiment(\"Lean Canvas GigaChat-Lite\", \"GigaChat-2\")    "
   ]
  },
  {
   "cell_type": "markdown",
   "id": "9ca8d5c0",
   "metadata": {},
   "source": [
    "## Валидация качества ответа - llm as judge"
   ]
  },
  {
   "cell_type": "markdown",
   "id": "0229a3b2",
   "metadata": {},
   "source": [
    "Часто оценка ответа не может быть оформлена в жесткий алгоритм, поэтому часто используют подход LLM as Judge.\n",
    "\n",
    "Важно! Данный пример показан только для демонстрации того, как можно делать оценку с помощью LLM и содержит два допуска, которые не нужно повторять в реальной жизни:\n",
    "- Оценка модели с помощью нее самой. Нужно использовать другую, желательно более мощную модель.\n",
    "- Оценка по градиентной шкале. Желательно использовать бинарную оценку."
   ]
  },
  {
   "cell_type": "code",
   "execution_count": 35,
   "id": "d6b1a5e6",
   "metadata": {},
   "outputs": [
    {
     "name": "stderr",
     "output_type": "stream",
     "text": [
      "🐌!! If running inside a notebook, patching the event loop with nest_asyncio will allow asynchronous eval submission, and is significantly faster. To patch the event loop, run `nest_asyncio.apply()`.\n"
     ]
    },
    {
     "name": "stdout",
     "output_type": "stream",
     "text": [
      "🧠 Evaluation started.\n"
     ]
    },
    {
     "name": "stderr",
     "output_type": "stream",
     "text": [
      "running experiment evaluations |██████████| 30/30 (100.0%) | ⏳ 00:07<00:00 |  3.83it/s"
     ]
    },
    {
     "name": "stdout",
     "output_type": "stream",
     "text": [
      "\n",
      "🔗 View this experiment: http://localhost:6006/datasets/RGF0YXNldDox/compare?experimentId=RXhwZXJpbWVudDox\n",
      "\n",
      "Experiment Summary (05/22/25 11:06 PM +0300)\n",
      "--------------------------------------------\n",
      "              evaluator   n  n_scores  avg_score\n",
      "0  check_output_quality  30        30   4.433333\n",
      "\n",
      "Experiment Summary (05/22/25 11:00 PM +0300)\n",
      "--------------------------------------------\n",
      "         evaluator   n  n_scores  avg_score  n_labels  \\\n",
      "0  check_structure  30        30   0.033333        30   \n",
      "\n",
      "               top_2_labels  \n",
      "0  {'False': 29, 'True': 1}  \n",
      "\n",
      "Tasks Summary (05/22/25 11:00 PM +0300)\n",
      "---------------------------------------\n",
      "   n_examples  n_runs  n_errors\n",
      "0          30      30         0\n"
     ]
    },
    {
     "name": "stderr",
     "output_type": "stream",
     "text": [
      "\n"
     ]
    },
    {
     "data": {
      "text/plain": [
       "RanExperiment(id='RXhwZXJpbWVudDox', dataset_id='RGF0YXNldDox', dataset_version_id='RGF0YXNldFZlcnNpb246MQ==', repetitions=1)"
      ]
     },
     "execution_count": 35,
     "metadata": {},
     "output_type": "execute_result"
    }
   ],
   "source": [
    "def check_output_quality(output) -> float:\n",
    "    prompt = ChatPromptTemplate.from_messages([\n",
    "        (\"system\", \"Оцени качество заполнения полей по шкале от 1 до 5. Верни только число.\"),\n",
    "        (\"human\", \"{output}\")\n",
    "    ])\n",
    "    chain = prompt | llm | StrOutputParser()\n",
    "    return float(chain.invoke({\"output\": output}))\n",
    "\n",
    "evaluate_experiment(experiment, evaluators=[check_output_quality])"
   ]
  },
  {
   "cell_type": "markdown",
   "id": "73fdb9f7",
   "metadata": {},
   "source": [
    "![Experiment](experement.png)"
   ]
  },
  {
   "cell_type": "markdown",
   "id": "95223316",
   "metadata": {},
   "source": [
    "## Теперь аналогичным образом замерим GigaChat-2-Max"
   ]
  },
  {
   "cell_type": "code",
   "execution_count": 36,
   "id": "a7df78c9",
   "metadata": {},
   "outputs": [
    {
     "name": "stderr",
     "output_type": "stream",
     "text": [
      "🐌!! If running inside a notebook, patching the event loop with nest_asyncio will allow asynchronous eval submission, and is significantly faster. To patch the event loop, run `nest_asyncio.apply()`.\n"
     ]
    },
    {
     "name": "stdout",
     "output_type": "stream",
     "text": [
      "🧪 Experiment started.\n",
      "📺 View dataset experiments: http://localhost:6006/datasets/RGF0YXNldDox/experiments\n",
      "🔗 View this experiment: http://localhost:6006/datasets/RGF0YXNldDox/compare?experimentId=RXhwZXJpbWVudDoy\n"
     ]
    },
    {
     "name": "stderr",
     "output_type": "stream",
     "text": [
      "running tasks |██████████| 30/30 (100.0%) | ⏳ 04:28<00:00 |  8.95s/it\n",
      "🐌!! If running inside a notebook, patching the event loop with nest_asyncio will allow asynchronous eval submission, and is significantly faster. To patch the event loop, run `nest_asyncio.apply()`.\n"
     ]
    },
    {
     "name": "stdout",
     "output_type": "stream",
     "text": [
      "✅ Task runs completed.\n",
      "🧠 Evaluation started.\n"
     ]
    },
    {
     "name": "stderr",
     "output_type": "stream",
     "text": [
      "running experiment evaluations |██████████| 30/30 (100.0%) | ⏳ 00:00<00:00 | 116.09it/s\n",
      "🐌!! If running inside a notebook, patching the event loop with nest_asyncio will allow asynchronous eval submission, and is significantly faster. To patch the event loop, run `nest_asyncio.apply()`.\n"
     ]
    },
    {
     "name": "stdout",
     "output_type": "stream",
     "text": [
      "\n",
      "🔗 View this experiment: http://localhost:6006/datasets/RGF0YXNldDox/compare?experimentId=RXhwZXJpbWVudDoy\n",
      "\n",
      "Experiment Summary (05/22/25 11:11 PM +0300)\n",
      "--------------------------------------------\n",
      "         evaluator   n  n_scores  avg_score  n_labels  top_2_labels\n",
      "0  check_structure  30        30        1.0        30  {'True': 30}\n",
      "\n",
      "Tasks Summary (05/22/25 11:11 PM +0300)\n",
      "---------------------------------------\n",
      "   n_examples  n_runs  n_errors\n",
      "0          30      30         0\n",
      "🧠 Evaluation started.\n"
     ]
    },
    {
     "name": "stderr",
     "output_type": "stream",
     "text": [
      "running experiment evaluations |██████████| 30/30 (100.0%) | ⏳ 00:07<00:00 |  4.11it/s"
     ]
    },
    {
     "name": "stdout",
     "output_type": "stream",
     "text": [
      "\n",
      "🔗 View this experiment: http://localhost:6006/datasets/RGF0YXNldDox/compare?experimentId=RXhwZXJpbWVudDoy\n",
      "\n",
      "Experiment Summary (05/22/25 11:11 PM +0300)\n",
      "--------------------------------------------\n",
      "              evaluator   n  n_scores  avg_score\n",
      "0  check_output_quality  30        30        4.5\n",
      "\n",
      "Experiment Summary (05/22/25 11:11 PM +0300)\n",
      "--------------------------------------------\n",
      "         evaluator   n  n_scores  avg_score  n_labels  top_2_labels\n",
      "0  check_structure  30        30        1.0        30  {'True': 30}\n",
      "\n",
      "Tasks Summary (05/22/25 11:11 PM +0300)\n",
      "---------------------------------------\n",
      "   n_examples  n_runs  n_errors\n",
      "0          30      30         0\n"
     ]
    },
    {
     "name": "stderr",
     "output_type": "stream",
     "text": [
      "\n"
     ]
    },
    {
     "data": {
      "text/plain": [
       "RanExperiment(id='RXhwZXJpbWVudDoy', dataset_id='RGF0YXNldDox', dataset_version_id='RGF0YXNldFZlcnNpb246MQ==', repetitions=1)"
      ]
     },
     "execution_count": 36,
     "metadata": {},
     "output_type": "execute_result"
    }
   ],
   "source": [
    "experiment2 = create_experiment(\"Lean Canvas GigaChat-2-Max\", \"GigaChat-2-Max\")\n",
    "evaluate_experiment(experiment2, evaluators=[check_output_quality])"
   ]
  },
  {
   "cell_type": "markdown",
   "id": "9ec2994f",
   "metadata": {},
   "source": [
    "![Experiment 2](experement_2.png)"
   ]
  },
  {
   "cell_type": "markdown",
   "id": "b51932e7",
   "metadata": {},
   "source": [
    "Стоит отметить, что оценка агентов является сложной задачей, реализация которой может сильно зависить от решаемой агентом задачи, поэтому данный ноутбук показывает лишь техническую сторону (использование платформы Arize Phoenix). Реальная валидация требует качественных данных, глубокого понимания доменной области, для которой создается агент, а также множества итераций по получению инсайтов и постепенному повышению качества ответов агента."
   ]
  }
 ],
 "metadata": {
  "kernelspec": {
   "display_name": "Python 3 (ipykernel)",
   "language": "python",
   "name": "python3"
  },
  "language_info": {
   "codemirror_mode": {
    "name": "ipython",
    "version": 3
   },
   "file_extension": ".py",
   "mimetype": "text/x-python",
   "name": "python",
   "nbconvert_exporter": "python",
   "pygments_lexer": "ipython3",
   "version": "3.12.10"
  }
 },
 "nbformat": 4,
 "nbformat_minor": 5
}
