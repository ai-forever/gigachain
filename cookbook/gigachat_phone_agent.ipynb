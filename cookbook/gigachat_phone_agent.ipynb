{
 "cells": [
  {
   "cell_type": "markdown",
   "metadata": {},
   "source": [
    "# Агент «Продавец телефонов»\n",
    "\n",
    "Раздел содержит пример разработки агента, который использует модель GigaChat, чтобы:\n",
    "\n",
    "* Рассказывать о доступных моделях телефонов на основе заданной базы данных.\n",
    "* Детально описывать характеристики выбранной модели телефона.\n",
    "* Оформлять заказы на покупку телефонов.\n",
    "\n"
   ]
  },
  {
   "cell_type": "markdown",
   "metadata": {},
   "source": [
    "## Установка зависимостей\n",
    "\n",
    "Для работы примера установите библиотеки langchain-gigachat и langgraph:"
   ]
  },
  {
   "cell_type": "code",
   "execution_count": null,
   "metadata": {},
   "outputs": [],
   "source": [
    "pip install langchain-gigachat langgraph python-dotenv"
   ]
  },
  {
   "cell_type": "markdown",
   "metadata": {},
   "source": [
    "## Добавление базы данных и инструментов\n",
    "\n",
    "Чтобы агент мог рассказать пользователю о доступных телефонах, создайте массив с описанием каждой модели:"
   ]
  },
  {
   "cell_type": "code",
   "execution_count": 1,
   "metadata": {},
   "outputs": [],
   "source": [
    "stuff_database = [\n",
    "    {\n",
    "        \"name\": \"iPhone 8 mini\",\n",
    "        \"price\": 300,\n",
    "        \"memory\": 128,\n",
    "        \"ram\": 8,\n",
    "        \"camera\": 12,\n",
    "        \"description\": \"Самая дешевая модель iPhone\",\n",
    "    },\n",
    "    {\n",
    "        \"name\": \"iPhone 14\",\n",
    "        \"price\": 1000,\n",
    "        \"memory\": 128,\n",
    "        \"ram\": 8,\n",
    "        \"camera\": 12,\n",
    "        \"description\": \"Телефон будущего, уже сегодня!\",\n",
    "    },\n",
    "    {\n",
    "        \"name\": \"Samsung Galaxy S23\",\n",
    "        \"price\": 900,\n",
    "        \"memory\": 256,\n",
    "        \"ram\": 12,\n",
    "        \"camera\": 108,\n",
    "        \"description\": \"Камера такая острая, что сможет увидеть даже ваши ошибки\",\n",
    "    },\n",
    "    {\n",
    "        \"name\": \"Google Pixel 7\",\n",
    "        \"price\": 850,\n",
    "        \"memory\": 128,\n",
    "        \"ram\": 8,\n",
    "        \"camera\": 16,\n",
    "        \"description\": \"Для тех, кто хочет получить стоковый Android и хорошие фотки\",\n",
    "    },\n",
    "    {\n",
    "        \"name\": \"OnePlus 9T\",\n",
    "        \"price\": 700,\n",
    "        \"memory\": 128,\n",
    "        \"ram\": 8,\n",
    "        \"camera\": 48,\n",
    "        \"description\": \"Зарядка быстрее, чем ваш кофе\",\n",
    "    },\n",
    "    {\n",
    "        \"name\": \"Xiaomi Mi 12\",\n",
    "        \"price\": 600,\n",
    "        \"memory\": 128,\n",
    "        \"ram\": 6,\n",
    "        \"camera\": 64,\n",
    "        \"description\": \"Бюджетный флагман для ценителей вкуса\",\n",
    "    },\n",
    "    {\n",
    "        \"name\": \"Sony Xperia 3\",\n",
    "        \"price\": 1100,\n",
    "        \"memory\": 256,\n",
    "        \"ram\": 12,\n",
    "        \"camera\": 20,\n",
    "        \"description\": \"Телефон для тех, кто скучал по кнопке для камеры\",\n",
    "    },\n",
    "    {\n",
    "        \"name\": \"Huawei P60\",\n",
    "        \"price\": 800,\n",
    "        \"memory\": 128,\n",
    "        \"ram\": 8,\n",
    "        \"camera\": 50,\n",
    "        \"description\": \"Для любителей ночной съемки и без Google Play\",\n",
    "    },\n",
    "    {\n",
    "        \"name\": \"Nokia 10 PureView\",\n",
    "        \"price\": 750,\n",
    "        \"memory\": 128,\n",
    "        \"ram\": 6,\n",
    "        \"camera\": 48,\n",
    "        \"description\": \"Nokia вернулась, и у неё есть змейка!\",\n",
    "    },\n",
    "    {\n",
    "        \"name\": \"LG Velvet 2\",\n",
    "        \"price\": 650,\n",
    "        \"memory\": 128,\n",
    "        \"ram\": 8,\n",
    "        \"camera\": 32,\n",
    "        \"description\": \"Потому что жизнь хороша\",\n",
    "    },\n",
    "    {\n",
    "        \"name\": \"Asus ROG Phone 6\",\n",
    "        \"price\": 1000,\n",
    "        \"memory\": 512,\n",
    "        \"ram\": 16,\n",
    "        \"camera\": 64,\n",
    "        \"description\": \"Играй как профи, заряжай как новичок\",\n",
    "    },\n",
    "    {\n",
    "        \"name\": \"Motorola Edge Plus\",\n",
    "        \"price\": 700,\n",
    "        \"memory\": 128,\n",
    "        \"ram\": 8,\n",
    "        \"camera\": 108,\n",
    "        \"description\": \"Край к краю, пиксель к пикселю\",\n",
    "    },\n",
    "    {\n",
    "        \"name\": \"Realme X4 Pro\",\n",
    "        \"price\": 450,\n",
    "        \"memory\": 128,\n",
    "        \"ram\": 8,\n",
    "        \"camera\": 48,\n",
    "        \"description\": \"Экономия без потерь в качестве\",\n",
    "    },\n",
    "    {\n",
    "        \"name\": \"Oppo Find X4\",\n",
    "        \"price\": 900,\n",
    "        \"memory\": 256,\n",
    "        \"ram\": 12,\n",
    "        \"camera\": 50,\n",
    "        \"description\": \"Найди X, но без математики\",\n",
    "    },\n",
    "    {\n",
    "        \"name\": \"BlackBerry Secure\",\n",
    "        \"price\": 1200,\n",
    "        \"memory\": 128,\n",
    "        \"ram\": 8,\n",
    "        \"camera\": 12,\n",
    "        \"description\": \"Для тех, кто ещё помнит, что такое физическая клавиатура\",\n",
    "    },\n",
    "    {\n",
    "        \"name\": \"Fairphone 4\",\n",
    "        \"price\": 500,\n",
    "        \"memory\": 64,\n",
    "        \"ram\": 4,\n",
    "        \"camera\": 12,\n",
    "        \"description\": \"Этичный выбор для заботливого потребителя\",\n",
    "    },\n",
    "]"
   ]
  },
  {
   "cell_type": "markdown",
   "metadata": {},
   "source": [
    "Добавьте функции, которые агент будет вызывать для работы с базой данных.\n",
    "\n",
    "Чтобы упросить создание функций из python-кода используйте декоратор `@tool`.\n",
    "Он преобразует любую функцию в инструмент, доступный модели для вызова.\n",
    "\n",
    "> Модель ориентируется как на название и описание функции, так и на описание и типы аргументов возвращаемого значения.\n",
    "> Чтобы модель правильно понимала как нужно использовать инструмент, все значения функции нужно явно указать.\n",
    "> Подробнее о работе с функциями с помощью GigaChat API — в разделе [Работа с функциями](https://developers.sber.ru/docs/ru/gigachat/api/function-calling)."
   ]
  },
  {
   "cell_type": "code",
   "execution_count": 3,
   "metadata": {},
   "outputs": [],
   "source": [
    "from typing import Dict\n",
    "\n",
    "from langchain.tools import tool\n",
    "\n",
    "\n",
    "@tool\n",
    "def get_all_phone_names() -> str:\n",
    "    \"\"\"Возвращает названия моделей всех телефонов через запятую\"\"\"\n",
    "    # Подсвечивает вызов функции зеленым цветом\n",
    "    print(\"\\033[92m\" + \"Bot requested get_all_phone_names()\" + \"\\033[0m\")\n",
    "    return \", \".join([stuff[\"name\"] for stuff in stuff_database])\n",
    "\n",
    "\n",
    "@tool\n",
    "def get_phone_data_by_name(name: str) -> Dict:\n",
    "    \"\"\"\n",
    "    Возвращает цену в долларах, характеристики и описание телефона по точному названию модели.\n",
    "\n",
    "    Args:\n",
    "        name (str): Точное название модели телефона.\n",
    "\n",
    "    Returns:\n",
    "        Dict: Словарь с информацией о телефоне (цена, характеристики и описание).\n",
    "    \"\"\"\n",
    "    # Подсвечивает вызов функции зеленым цветом\n",
    "    print(\"\\033[92m\" + f\"Bot requested get_phone_data_by_name({name})\" + \"\\033[0m\")\n",
    "    for stuff in stuff_database:\n",
    "        if stuff[\"name\"] == name.strip():\n",
    "            return stuff\n",
    "\n",
    "    return {\"error\": \"Телефон с таким названием не найден\"}"
   ]
  },
  {
   "cell_type": "markdown",
   "metadata": {},
   "source": [
    "Добавьте функцию, с помощью которой агент будет создавать заказы:"
   ]
  },
  {
   "cell_type": "code",
   "execution_count": 4,
   "metadata": {},
   "outputs": [],
   "source": [
    "@tool\n",
    "def create_order(name: str, phone: str) -> None:\n",
    "    \"\"\"\n",
    "    Создает новый заказ на телефон.\n",
    "\n",
    "    Args:\n",
    "        name (str): Название телефона.\n",
    "        phone (str): Телефонный номер пользователя.\n",
    "\n",
    "    Returns:\n",
    "        str: Статус заказа.\n",
    "    \"\"\"\n",
    "    # Подсвечивает вызов функции зеленым цветом\n",
    "    print(\"\\033[92m\" + f\"Bot requested create_order({name}, {phone})\" + \"\\033[0m\")\n",
    "    print(f\"!!! NEW ORDER !!! {name} {phone}\")"
   ]
  },
  {
   "cell_type": "markdown",
   "metadata": {},
   "source": [
    "С помощью системного промпта опишите роль, которой должна следовать модель:"
   ]
  },
  {
   "cell_type": "code",
   "execution_count": 5,
   "metadata": {},
   "outputs": [],
   "source": [
    "system_prompt = \"Ты бот-продавец телефонов. Твоя задача продать телефон пользователю, получив от него заказ. Если тебе не хватает каких-то данных, запрашивай их у пользователя.\""
   ]
  },
  {
   "cell_type": "markdown",
   "metadata": {},
   "source": [
    "Чтобы дать модели доступ ко всем инструментам, перечислите их в массиве:"
   ]
  },
  {
   "cell_type": "code",
   "execution_count": 6,
   "metadata": {},
   "outputs": [],
   "source": [
    "tools = [get_all_phone_names, get_phone_data_by_name, create_order]"
   ]
  },
  {
   "cell_type": "markdown",
   "metadata": {},
   "source": [
    "## Инициализация GigaChat\n",
    "\n",
    "Для работы с моделями GigaChat, нужно передать ключ авторизации GigaChat API.\n",
    "\n",
    "Ключ можно указать в переменной среды `GIGACHAT_CREDENTIALS`, заданной в файле `.env` или созданной с помощью команды:\n",
    "\n",
    "```sh\n",
    "export GIGACHAT_CREDENTIALS=ключ_авториазации\n",
    "```\n",
    "\n",
    "При инициализации проверяется наличие переменной среды `GIGACHAT_CREDENTIALS` с заданным ключом авторизации GigaChat API.\n",
    "Если переменная отсутствует, вы сможете указать ключ в поле **Введите ключ авторизации GigaChat API**.\n",
    "\n",
    "О способах авторизации и поддерживаемых переменных среды — в [README библиотеки gigachat](https://github.com/ai-forever/gigachat)."
   ]
  },
  {
   "cell_type": "code",
   "execution_count": null,
   "metadata": {},
   "outputs": [],
   "source": [
    "import getpass\n",
    "import os\n",
    "from dotenv import find_dotenv, load_dotenv\n",
    "from langchain_gigachat.chat_models import GigaChat\n",
    "\n",
    "load_dotenv(find_dotenv())\n",
    "\n",
    "if \"GIGACHAT_CREDENTIALS\" not in os.environ:\n",
    "    os.environ[\"GIGACHAT_CREDENTIALS\"] = getpass.getpass(\"Введите ключ авторизации GigaChat API: \")\n",
    "\n",
    "\n",
    "model = GigaChat(\n",
    "    model=\"GigaChat-Pro\"\n",
    "    verify_ssl_certs=False,\n",
    ")"
   ]
  },
  {
   "cell_type": "markdown",
   "metadata": {},
   "source": [
    "## Создание агента\n",
    "\n",
    "Инициализируйте агента и передайте ему экземпляр класса GigaChat, и массив доступных функций `tools`:"
   ]
  },
  {
   "cell_type": "code",
   "execution_count": 8,
   "metadata": {},
   "outputs": [],
   "source": [
    "from langgraph.prebuilt import create_react_agent\n",
    "from langgraph.checkpoint.memory import MemorySaver\n",
    "\n",
    "agent = create_react_agent(model,\n",
    "                           tools=tools,\n",
    "                           checkpointer=MemorySaver(),\n",
    "                           state_modifier=system_prompt)"
   ]
  },
  {
   "cell_type": "markdown",
   "metadata": {},
   "source": [
    "## Пример разговора с агентом"
   ]
  },
  {
   "cell_type": "code",
   "execution_count": null,
   "metadata": {},
   "outputs": [],
   "source": [
    "import time\n",
    "\n",
    "def chat(thread_id: str):\n",
    "    config = {\"configurable\": {\"thread_id\": thread_id}}\n",
    "    while(True):\n",
    "        rq = input(\"\\nHuman: \")\n",
    "        print(\"User: \", rq)\n",
    "        if rq == \"\":\n",
    "            break\n",
    "        resp = agent.invoke({\"messages\": [(\"user\", rq)]}, config=config)\n",
    "        print(\"Assistant: \", resp[\"messages\"][-1].content)\n",
    "        time.sleep(1) # For notebook capability\n",
    "\n",
    "chat(\"123\")"
   ]
  }
 ],
 "metadata": {
  "kernelspec": {
   "display_name": "Python 3 (ipykernel)",
   "language": "python",
   "name": "python3"
  },
  "language_info": {
   "codemirror_mode": {
    "name": "ipython",
    "version": 3
   },
   "file_extension": ".py",
   "mimetype": "text/x-python",
   "name": "python",
   "nbconvert_exporter": "python",
   "pygments_lexer": "ipython3",
   "version": "3.12.9"
  }
 },
 "nbformat": 4,
 "nbformat_minor": 4
}
