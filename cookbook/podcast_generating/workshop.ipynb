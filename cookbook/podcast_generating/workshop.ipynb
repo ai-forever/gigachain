{
 "cells": [
  {
   "cell_type": "code",
   "execution_count": 10,
   "id": "bf686482",
   "metadata": {},
   "outputs": [],
   "source": [
    "import os\n",
    "from dotenv import load_dotenv\n",
    "load_dotenv(dotenv_path=\"workshop.env\")\n",
    "\n",
    "\n",
    "from pprint import pprint\n",
    "from pathlib import Path\n",
    "import shutil\n",
    "from time import time\n",
    "from pydub import AudioSegment\n",
    "\n",
    "from core.download_webpage_as_pdf import download_webpage_as_pdf_pdfkit\n",
    "from core.pdf_text_extractor import extract_text\n",
    "from core.podcast_generator import PodcastGenerator\n",
    "from core.salutespeech_utils import synthesize_sber_speech_sync\n",
    "\n",
    "def write_bytes(bytes_arr, fp):\n",
    "    with open(file=fp, mode=\"wb\") as f:\n",
    "        f.write(bytes_arr)"
   ]
  },
  {
   "cell_type": "markdown",
   "id": "acd0a36f",
   "metadata": {},
   "source": [
    "# Как сгенерировать подкаст на основе отечественных технологий\n",
    "\n",
    "## План\n",
    "\n",
    "1) Скачаем и сконвертируем веб страничку\n",
    "\n",
    "2) Сгенерируем сценарий подкаста\n",
    "\n",
    "3) Озвучим подкаст\n",
    "\n",
    "4) А сколько это стоит?"
   ]
  },
  {
   "cell_type": "markdown",
   "id": "4ebd4a6d",
   "metadata": {},
   "source": [
    "# Скачаем страничку и извлечем текст\n",
    "\n",
    "### pdfkit, mupdf"
   ]
  },
  {
   "cell_type": "code",
   "execution_count": 11,
   "id": "0bdbf8a3",
   "metadata": {},
   "outputs": [
    {
     "name": "stdout",
     "output_type": "stream",
     "text": [
      "Converting https://habr.com/ru/companies/sberbank/articles/919884/ to PDF: 919884.pdf\n",
      "Successfully created PDF: 919884.pdf\n",
      "15741 symbols, 2193 words\n"
     ]
    }
   ],
   "source": [
    "URL = \"https://habr.com/ru/companies/sberbank/articles/919884/\"\n",
    "pdf_path = \"./919884.pdf\"\n",
    "\n",
    "download_webpage_as_pdf_pdfkit(\n",
    "    URL,\n",
    "    pdf_path,\n",
    "    \".\",\n",
    "    True\n",
    ")\n",
    "assert os.path.exists(pdf_path)\n",
    "\n",
    "\n",
    "text = extract_text(pdf_path)\n",
    "print(f\"{len(text)} symbols, {len(text.split())} words\")"
   ]
  },
  {
   "cell_type": "markdown",
   "id": "811b6e63",
   "metadata": {},
   "source": [
    "# Сгенерируем сценарий подкаста\n",
    "\n",
    "### Gigachat, langchain"
   ]
  },
  {
   "cell_type": "code",
   "execution_count": 12,
   "id": "fc3c2e8c",
   "metadata": {},
   "outputs": [],
   "source": [
    "generator = PodcastGenerator(\n",
    "    os.environ[\"GIGACHAT_USER\"],\n",
    "    os.environ[\"GIGACHAT_PASSWORD\"],\n",
    "    os.environ[\"GIGACHAT_URL\"]\n",
    ")"
   ]
  },
  {
   "cell_type": "code",
   "execution_count": null,
   "id": "72d0e280",
   "metadata": {
    "scrolled": true
   },
   "outputs": [],
   "source": [
    "tb = time()\n",
    "\n",
    "script = generator.generate_podcast(text)\n",
    "dialog = []\n",
    "for line in script.split(\"\\n\"):\n",
    "    line = line.strip()\n",
    "    if len(line) > 0:\n",
    "        replic = {}\n",
    "        replic[\"speaker\"] = line[:line.find(\":\")]\n",
    "        replic[\"text\"] = line[len(replic[\"speaker\"]) + 1:]\n",
    "        dialog.append(replic)\n",
    "\n",
    "\n",
    "tt = time()-tb\n",
    "symbols_for_tts = len(\" \".join([d[\"text\"] for d in dialog]))\n",
    "print(f\"Время на генерацию подкаста: {tt:.2f} sec\")\n",
    "print(f\"Сгенерировано реплик: {len(dialog)}\")\n",
    "print(f\"Длина текста для озвучивания: {symbols_for_tts}\")"
   ]
  },
  {
   "cell_type": "code",
   "execution_count": 14,
   "id": "fb449f5b",
   "metadata": {},
   "outputs": [
    {
     "name": "stdout",
     "output_type": "stream",
     "text": [
      "[{'speaker': 'Алиса',\n",
      "  'text': ' Привет, Михаил! Сегодня поговорим про технологии будущего. Ты '\n",
      "          'занимаешься разработкой системы, способной понимать жестовый язык '\n",
      "          'глухонемых людей. Расскажи попроще, зачем это нужно?'},\n",
      " {'speaker': 'Михаил',\n",
      "  'text': ' Привет, Алиса! Представь себе ситуацию: ты приходишь в кафе, '\n",
      "          'заказываешь кофе, а бариста вдруг показывает тебе жестами меню. '\n",
      "          'Удобно? Вот именно такую коммуникацию мы хотим сделать доступной '\n",
      "          'каждому!'},\n",
      " {'speaker': 'Алиса',\n",
      "  'text': ' Круто звучит! Значит, компьютер теперь сможет читать мысли через '\n",
      "          'руки? Шутка... Но правда ли, что жестовый язык сложнее устного?'},\n",
      " {'speaker': 'Михаил',\n",
      "  'text': ' Ха, ну считай, что наши компьютеры скоро станут телепатами! Только '\n",
      "          'вот жестовый язык действительно устроен иначе. Например, порядок '\n",
      "          'жестов в предложении отличается от привычного нам порядка слов. И '\n",
      "          'ещё одна сложность — похожие жесты могут означать совершенно разные '\n",
      "          'вещи. Скажем, жест «овца» легко спутать с жестом «злой». Мы даже '\n",
      "          'шутим, мол, овечка обиделась и стала злой!'}]\n"
     ]
    }
   ],
   "source": [
    "pprint(dialog[:4])"
   ]
  },
  {
   "cell_type": "markdown",
   "id": "f2c05142",
   "metadata": {},
   "source": [
    "## Озвучим подкаст"
   ]
  },
  {
   "cell_type": "code",
   "execution_count": 15,
   "id": "a32d47d0",
   "metadata": {},
   "outputs": [
    {
     "name": "stderr",
     "output_type": "stream",
     "text": [
      "\u001b[32m2025-06-25 09:50:57.488\u001b[0m | \u001b[1mINFO    \u001b[0m | \u001b[36mcore.salutespeech_utils\u001b[0m:\u001b[36msynthesize_sber_speech_sync\u001b[0m:\u001b[36m106\u001b[0m - \u001b[1mАудио синтезировано: podcast_tmp_out/record_0.wav\u001b[0m\n",
      "\u001b[32m2025-06-25 09:50:58.462\u001b[0m | \u001b[1mINFO    \u001b[0m | \u001b[36mcore.salutespeech_utils\u001b[0m:\u001b[36msynthesize_sber_speech_sync\u001b[0m:\u001b[36m106\u001b[0m - \u001b[1mАудио синтезировано: podcast_tmp_out/record_1.wav\u001b[0m\n",
      "\u001b[32m2025-06-25 09:50:59.273\u001b[0m | \u001b[1mINFO    \u001b[0m | \u001b[36mcore.salutespeech_utils\u001b[0m:\u001b[36msynthesize_sber_speech_sync\u001b[0m:\u001b[36m106\u001b[0m - \u001b[1mАудио синтезировано: podcast_tmp_out/record_2.wav\u001b[0m\n",
      "\u001b[32m2025-06-25 09:51:00.433\u001b[0m | \u001b[1mINFO    \u001b[0m | \u001b[36mcore.salutespeech_utils\u001b[0m:\u001b[36msynthesize_sber_speech_sync\u001b[0m:\u001b[36m106\u001b[0m - \u001b[1mАудио синтезировано: podcast_tmp_out/record_3.wav\u001b[0m\n",
      "\u001b[32m2025-06-25 09:51:01.146\u001b[0m | \u001b[1mINFO    \u001b[0m | \u001b[36mcore.salutespeech_utils\u001b[0m:\u001b[36msynthesize_sber_speech_sync\u001b[0m:\u001b[36m106\u001b[0m - \u001b[1mАудио синтезировано: podcast_tmp_out/record_4.wav\u001b[0m\n",
      "\u001b[32m2025-06-25 09:51:02.133\u001b[0m | \u001b[1mINFO    \u001b[0m | \u001b[36mcore.salutespeech_utils\u001b[0m:\u001b[36msynthesize_sber_speech_sync\u001b[0m:\u001b[36m106\u001b[0m - \u001b[1mАудио синтезировано: podcast_tmp_out/record_5.wav\u001b[0m\n",
      "\u001b[32m2025-06-25 09:51:02.935\u001b[0m | \u001b[1mINFO    \u001b[0m | \u001b[36mcore.salutespeech_utils\u001b[0m:\u001b[36msynthesize_sber_speech_sync\u001b[0m:\u001b[36m106\u001b[0m - \u001b[1mАудио синтезировано: podcast_tmp_out/record_6.wav\u001b[0m\n",
      "\u001b[32m2025-06-25 09:51:03.952\u001b[0m | \u001b[1mINFO    \u001b[0m | \u001b[36mcore.salutespeech_utils\u001b[0m:\u001b[36msynthesize_sber_speech_sync\u001b[0m:\u001b[36m106\u001b[0m - \u001b[1mАудио синтезировано: podcast_tmp_out/record_7.wav\u001b[0m\n",
      "\u001b[32m2025-06-25 09:51:04.879\u001b[0m | \u001b[1mINFO    \u001b[0m | \u001b[36mcore.salutespeech_utils\u001b[0m:\u001b[36msynthesize_sber_speech_sync\u001b[0m:\u001b[36m106\u001b[0m - \u001b[1mАудио синтезировано: podcast_tmp_out/record_8.wav\u001b[0m\n",
      "\u001b[32m2025-06-25 09:51:05.728\u001b[0m | \u001b[1mINFO    \u001b[0m | \u001b[36mcore.salutespeech_utils\u001b[0m:\u001b[36msynthesize_sber_speech_sync\u001b[0m:\u001b[36m106\u001b[0m - \u001b[1mАудио синтезировано: podcast_tmp_out/record_9.wav\u001b[0m\n",
      "\u001b[32m2025-06-25 09:51:06.480\u001b[0m | \u001b[1mINFO    \u001b[0m | \u001b[36mcore.salutespeech_utils\u001b[0m:\u001b[36msynthesize_sber_speech_sync\u001b[0m:\u001b[36m106\u001b[0m - \u001b[1mАудио синтезировано: podcast_tmp_out/record_10.wav\u001b[0m\n",
      "\u001b[32m2025-06-25 09:51:07.192\u001b[0m | \u001b[1mINFO    \u001b[0m | \u001b[36mcore.salutespeech_utils\u001b[0m:\u001b[36msynthesize_sber_speech_sync\u001b[0m:\u001b[36m106\u001b[0m - \u001b[1mАудио синтезировано: podcast_tmp_out/record_11.wav\u001b[0m\n"
     ]
    },
    {
     "name": "stdout",
     "output_type": "stream",
     "text": [
      "Время на генерацию звука: 10.81 sec\n"
     ]
    }
   ],
   "source": [
    "# mood = None\n",
    "mood = 'whisper'\n",
    "# mood = 'sad'\n",
    "# mood = 'annoyed'\n",
    "# mood = 'happy'\n",
    "\n",
    "tmp_path = Path(\"./podcast_tmp_out\")\n",
    "shutil.rmtree(tmp_path, ignore_errors=True)\n",
    "os.makedirs(tmp_path)\n",
    "\n",
    "\n",
    "tb = time()\n",
    "\n",
    "generated_files_in_order = []\n",
    "for i, replica in enumerate(dialog):\n",
    "    file_path = tmp_path/f\"record_{i}.wav\"\n",
    "    generated_files_in_order.append(file_path)\n",
    "    \n",
    "    voice = \"Erm_24000\"\n",
    "    if replica[\"speaker\"] != \"Алиса\":\n",
    "        voice = \"Pon_24000\"\n",
    "    \n",
    "    synthesize_sber_speech_sync(\n",
    "        text=replica[\"text\"],\n",
    "        output_filename=file_path,\n",
    "        format=\"wav16\",\n",
    "        voice=voice,\n",
    "        mood=mood\n",
    "    )\n",
    "\n",
    "tt = time()-tb\n",
    "print(f\"Время на генерацию звука: {tt:.2f} sec\")"
   ]
  },
  {
   "cell_type": "markdown",
   "id": "8f644e50-7669-4a4f-aba0-792562e87fc7",
   "metadata": {},
   "source": [
    "Объединим кусочки"
   ]
  },
  {
   "cell_type": "code",
   "execution_count": 16,
   "id": "e90fa380",
   "metadata": {},
   "outputs": [
    {
     "name": "stdout",
     "output_type": "stream",
     "text": [
      "Время на объединение кусочков: 2.07 sec\n",
      "Сгенерировано 166 секунд подкаста\n"
     ]
    }
   ],
   "source": [
    "tb = time()\n",
    "\n",
    "audio_segments = []\n",
    "for wav_fp in generated_files_in_order:\n",
    "    audio_segment = AudioSegment.from_file(wav_fp)\n",
    "    audio_segments.append(audio_segment)\n",
    "\n",
    "combined_audio = sum(audio_segments)\n",
    "audio_bytes = combined_audio.export(format=\"mp3\").read()\n",
    "write_bytes(audio_bytes, tmp_path/\"podcast_full.mp3\")\n",
    "\n",
    "tt = time()-tb\n",
    "print(f\"Время на объединение кусочков: {tt:.2f} sec\")\n",
    "\n",
    "generated_duration = int(len(combined_audio)/1000)\n",
    "print(f\"Сгенерировано {generated_duration} секунд подкаста\")"
   ]
  },
  {
   "cell_type": "code",
   "execution_count": 17,
   "id": "a61b78fd",
   "metadata": {},
   "outputs": [
    {
     "data": {
      "text/html": [
       "<audio controls><source src=./podcast_tmp_out/podcast_full.mp3 type='audio/mpeg'></audio>"
      ],
      "text/plain": [
       "<IPython.core.display.HTML object>"
      ]
     },
     "metadata": {},
     "output_type": "display_data"
    }
   ],
   "source": [
    "from IPython.display import display, HTML\n",
    "def show_audio_with_controls(file_path):\n",
    "    display(HTML(\"<audio controls><source src={} type='audio/mpeg'></audio>\".format(file_path)))\n",
    "\n",
    "show_audio_with_controls(\"./podcast_tmp_out/podcast_full.mp3\")"
   ]
  },
  {
   "cell_type": "markdown",
   "id": "6f70e27a-2359-40dc-b7f2-0cef42b32c71",
   "metadata": {},
   "source": [
    "gigachat: https://developers.sber.ru/docs/ru/gigachat/api/tariffs\n",
    "\n",
    "salutespeech: https://developers.sber.ru/portal/products/smartspeech"
   ]
  },
  {
   "cell_type": "code",
   "execution_count": 18,
   "id": "4c081084",
   "metadata": {},
   "outputs": [
    {
     "name": "stdout",
     "output_type": "stream",
     "text": [
      "GigaChat costs: 1.14 руб.\n",
      "Salutespeech costs: 0.43 руб.\n",
      "Total costs: 1.57 руб.\n"
     ]
    }
   ],
   "source": [
    "gigachat_vect_k = 0.00004 # rub/token\n",
    "gigachat_gen_k = 0.00195 # rub/token\n",
    "token_usage = generator.token_callback.token_usage\n",
    "gigachat_costs = token_usage[\"prompt_tokens\"]*gigachat_vect_k + token_usage[\"completion_tokens\"]*gigachat_gen_k\n",
    "print(f\"GigaChat costs: {gigachat_costs:.2f} руб.\")\n",
    "\n",
    "tts_k = 0.000186 # rub/symbol\n",
    "tts_costs = symbols_for_tts * tts_k\n",
    "print(f\"Salutespeech costs: {tts_costs:.2f} руб.\")\n",
    "\n",
    "print(f\"Total costs: {gigachat_costs+tts_costs:.2f} руб.\")"
   ]
  },
  {
   "cell_type": "code",
   "execution_count": null,
   "id": "4fbb20f7-c3cf-48ad-bfa7-0548c47e6e07",
   "metadata": {},
   "outputs": [],
   "source": []
  }
 ],
 "metadata": {
  "kernelspec": {
   "display_name": "Python 3 (ipykernel)",
   "language": "python",
   "name": "python3"
  },
  "language_info": {
   "codemirror_mode": {
    "name": "ipython",
    "version": 3
   },
   "file_extension": ".py",
   "mimetype": "text/x-python",
   "name": "python",
   "nbconvert_exporter": "python",
   "pygments_lexer": "ipython3",
   "version": "3.10.12"
  }
 },
 "nbformat": 4,
 "nbformat_minor": 5
}
