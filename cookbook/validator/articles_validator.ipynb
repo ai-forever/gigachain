{
 "cells": [
  {
   "cell_type": "code",
   "execution_count": 16,
   "id": "a8f9c2cb-c419-4e4c-923c-d51cf2cbce4d",
   "metadata": {},
   "outputs": [
    {
     "name": "stdout",
     "output_type": "stream",
     "text": [
      "Requirement already satisfied: pdfminer.six in ./myenv/lib/python3.12/site-packages (20250506)\n",
      "Requirement already satisfied: langchain-gigachat in ./myenv/lib/python3.12/site-packages (0.3.10)\n",
      "Requirement already satisfied: dotenv in ./myenv/lib/python3.12/site-packages (0.9.9)\n",
      "\u001b[31mERROR: Could not find a version that satisfies the requirement getpass (from versions: none)\u001b[0m\u001b[31m\n",
      "\u001b[0m\u001b[31mERROR: No matching distribution found for getpass\u001b[0m\u001b[31m\n",
      "\u001b[0mNote: you may need to restart the kernel to use updated packages.\n"
     ]
    }
   ],
   "source": [
    "pip install pdfminer.six langchain-gigachat dotenv getpass"
   ]
  },
  {
   "cell_type": "code",
   "execution_count": 62,
   "id": "49ba5957-6778-4bff-aa93-f6ed2058dd32",
   "metadata": {},
   "outputs": [],
   "source": [
    "from pdfminer.high_level import extract_text\n",
    "from pdfminer.layout import LAParams\n",
    "\n",
    "def extract_text_with_pdfminer(pdf_path: Union[str, Path]) -> Optional[str]:\n",
    "    \"\"\"\n",
    "    Extract text from PDF using pdfminer.six (slower but handles complex layouts better)\n",
    "    \n",
    "    Args:\n",
    "        pdf_path: Path to PDF file\n",
    "        \n",
    "    Returns:\n",
    "        Extracted text or None if extraction fails\n",
    "    \"\"\"\n",
    "    try:\n",
    "        laparams = LAParams(\n",
    "            line_overlap=0.5,\n",
    "            char_margin=2.0,\n",
    "            line_margin=0.5,\n",
    "            word_margin=0.1,\n",
    "            boxes_flow=0.5,\n",
    "            detect_vertical=True\n",
    "        )\n",
    "        return extract_text(pdf_path, laparams=laparams)\n",
    "    except Exception as e:\n",
    "        logger.error(f\"PDFMiner extraction failed: {e}\")\n",
    "        return None"
   ]
  },
  {
   "cell_type": "code",
   "execution_count": 63,
   "id": "ceeb9bad-05fc-434a-8116-1eb2c1ff18c5",
   "metadata": {},
   "outputs": [],
   "source": [
    "# input path for analysed article\n",
    "article = '/home/ilya/jupiter_projects/Breastfeeding Is Not a Risk Factor for Mother-to-Child Transmission of Hepatitis B Virus.pdf'"
   ]
  },
  {
   "cell_type": "code",
   "execution_count": 64,
   "id": "3e359de8-c04c-49d4-9c13-ce4ef8356859",
   "metadata": {},
   "outputs": [],
   "source": [
    "article_text = extract_text_with_pdfminer(article)"
   ]
  },
  {
   "cell_type": "code",
   "execution_count": 65,
   "id": "06bd0f41-cd7d-46e9-a54e-6396b21244cd",
   "metadata": {},
   "outputs": [
    {
     "data": {
      "text/plain": [
       "'Breastfeeding Is Not a Risk Factor for Mother-to-Child\\nTransmission of Hepatitis B Virus\\nXiangru Chen1., Jie Chen2., Jian Wen3, Chenyu Xu3, Shu Zhang2, Yi-Hua Zhou4,5*, Yali Hu2,5*\\n\\n1 Faculty of Nursing, Nanjing Drum Tower Hospital, Nanjing Medical University, Jiangsu, China, 2 Department of Obstetrics and Gynecology, Nanjing Drum Tower\\nHospital, Nanjing Medical University, Jiangsu, China, 3 Department of Obstetrics and Gynecology, Zhenjiang Fourth People’s Hospital, Jiangsu, China, 4 Departments of\\nExperimental Medicine and Infectious Diseases, Nanjing Drum Tower Hospital, Nanjing University Medical School, Jiangsu, China, 5 Jiangsu Key Laboratory for Molecular\\nMedicine, Nanjing University Medical School, Jiangsu, China\\n\\nAbstract\\n\\nBackground: Many clinicians do not encourage breastfeeding in hepatitis B virus (HBV) carriers, since HBV DNA can be\\ndetected in breast milk and breast lesions may increase exposure of infants to HBV. The aim of this study was to determine\\nwhether breastfeeding may add risk for perinatal HBV transmission.\\n\\nMethodology/PrincipalFindings:Totally 546 children (1–7-year-old) of 544 HBV-infected mothers were investigated, with\\n397 breastfed and 149 formula-fed; 137 were born to HBeAg-positive mothers. All children had been vaccinated against\\nhepatitis B but only 53.3% received hepatitis B immune globulin (HBIG). The overall prevalence of HBsAg+, HBsAg2/anti-\\nHBc+, and anti-HBs ($10 mIU/ml) in children was 2.4%, 3.1%, and 71.6% respectively. The HBsAg prevalence in breast- and\\nformula-fed children was 1.5% and 4.7% respectively (P = 0.063); the difference was likely due to the higher mothers’ HBeAg-\\npositive rate in formula-fed group (formula-fed 49.0% vs. breastfed 15.9%, P,0.001). Further logistic regression analyses\\nshowed that breastfeeding was not associated with the HBV infection in the children, adjusting for the effect of maternal\\nHBeAg status and other factors different between the two groups.\\n\\nConclusions/Significance: Under the recommended prophylaxis, breastfeeding is not a risk factor for mother-to-child\\ntransmission of HBV. Therefore, clinicians should encourage HBV-infected mothers to breastfeed their infants.\\n\\nCitation: Chen X, Chen J, Wen J, Xu C, Zhang S, et al. (2013) Breastfeeding Is Not a Risk Factor for Mother-to-Child Transmission of Hepatitis B Virus. PLoS ONE 8(1):\\ne55303. doi:10.1371/journal.pone.0055303\\n\\nEditor: James Fung, The University of Hong Kong, Hong Kong\\n\\nReceived October 6, 2012; Accepted December 31, 2012; Published January 28, 2013\\n\\nCopyright: (cid:2) 2013 Chen et al. This is an open-access article distributed under the terms of the Creative Commons Attribution License, which permits\\nunrestricted use, distribution, and reproduction in any medium, provided the original author and source are credited.\\n\\nFunding: This study was supported by a Special Research Grant (XK201102) for the Key Laboratory from the Department of Health, Jiangsu Province, by Nanjing\\nMedical Science and Technique Development Foundation (2011024), Nanjing, and by a Grant (2010CB945104) from National Key Basic Research Project (973\\nPlanning), China. The funders had no role in study design, data collection and analysis, decision to publish, or preparation of the manuscript.\\n\\nCompeting Interests: The authors have declared that no competing interests exist.\\n\\n* E-mail: yzh20061111@yahoo.com (Y-HZ); dtylhu@126.com (YH)\\n\\n. These authors contributed equally to this work.\\n\\nIntroduction\\n\\nits\\n\\nsevere sequelae,\\n\\nHepatitis B virus (HBV) infection is a global health problem\\nliver cirrhosis and\\nbecause of\\nsuch as\\nhepatocellular carcinoma. Once infected,\\nthe main factor to\\ninfluence the outcome is the age when the infection occurs; as high\\nas 70–90% of the perinatal infection will become chronic [1].\\nThus, prevention in infants as early as possible is critical, especially\\nin those born to HBV-infected mothers. The recommended\\nimmunoprophylaxis against hepatitis B,\\nsimultaneous use of\\nhepatitis B immune globulin (HBIG) and hepatitis B vaccine in\\nis most effective to prevent\\ninfants of HBV-infected mothers,\\nmother-to-child transmission of HBV.\\n\\nBreast milk is the optimal and natural food for infants. Although\\nWorld Health Organization and US Advisory Committee on\\nImmunization Practices postulate that chronic HBV infection of\\nthe mother could not be an argument against breastfeeding [2,3],\\nmany clinicians do not encourage HBV carrier mothers\\nto\\nbreastfeed their babies [4,5], since HBV DNA can be detected in\\nbreast milk [6] and breast lesions such as cracked or bleeding\\nnipples may increase exposure of infants to HBV. Recent studies\\n\\nreported that many HBV-infected mothers tend to formula-feed\\ntheir infants to prevent mother-to-child transmission of HBV [7–\\n9], although there are studies suggesting that breastfeeding does\\nnot add risk for the mother-to-child transmission of HBV [10–12].\\nIn this study, we compared the HBV infection rates in HBV-\\ninfected mothers’ children, who were breastfed and formula-fed\\nrespectively, to clarify whether breastfeeding may pose additional\\nrisk for the mother-to-child transmission of HBV.\\n\\nMaterials and Methods\\n\\nSubjects and serum specimens\\n\\nIn a retrospective study on the prevalence of hepatitis B surface\\nantigen (HBsAg) among 6398 pregnant women, whose serum\\nsamples were collected during 2002–2004, 429 (6.71%) women\\nwere positive for HBsAg and antibody against hepatitis B core\\nantigen (anti-HBc) [13]. From October 2009 to March 2010, we\\ninvited these mothers and their children to participate in the\\npresent study. After getting the written informed consent from 296\\nmothers, a total of 296 serum samples (,3 ml each) from their 296\\nchildren (aged 5–7 years) were collected. In addition, we invited\\n\\nPLOS ONE | www.plosone.org\\n\\n1\\n\\nJanuary 2013 | Volume 8 |\\n\\nIssue 1 | e55303\\n\\n\\x0c385 HBsAg-positive pregnant women who delivered their babies\\nin Zhenjiang Fourth People’s Hospital\\nfrom January 2006 to\\nDecember 2010 to join this study; 248 accepted our invitation and\\nconsented their own and their 250 children’s blood sampling\\nduring November 2011 to March 2012. Therefore, totally 546\\nchildren (2 pairs of twins) born to 544 HBsAg-positive mothers\\nwere enrolled in our investigation.\\n\\nEach mother was asked to complete a questionnaire, including\\ndemographic information of the mother and her child/children,\\nvaccination against hepatitis B, especially timely first dose vaccine\\nand administration of HBIG in the child. Formula-fed infants were\\nfed exclusively with formula, while breastfed infants were defined\\nas those who received breast milk for at least 2 weeks as previously\\ndescribed [11]; those who received breast milk fewer than 2 weeks\\nwere not included in either group. HBV serological markers and\\nHBV DNA in pregnant women were tested or obtained from the\\nhospital chart records. Administration of HBIG and the first dose\\nvaccine was further validated by the hospital discharge records.\\nThe injection of second and third doses vaccine was confirmed by\\nchildren’s vaccination records.\\n\\nThis study was performed according to the Declaration of\\nHelsinki and approved by the institutional review boards of\\nNanjing Drum Tower Hospital and Zhenjiang Fourth People’s\\nHospital. Each mother signed the written informed consent for\\nherself and her child.\\n\\nDetection of HBV serologic markers and HBV DNA\\n\\nAll serum samples were measured using commercially available\\nenzyme immunoassay kits (Huakang Biotech, Shenzhen; Kehua\\nBio-Engineering, Shanghai, China) for the presence of HBsAg,\\nantibody against HBsAg (anti-HBs), and anti-HBc. The HBsAg-\\npositive sera were further tested for hepatitis B e antigen (HBeAg)\\nand antibody against HBeAg by enzyme immunoassay kits\\n(Huakang Biotech; Kehua Bio-Engineering). Quantitative levels\\nof anti-HBs were tested with microparticle immunoassay (Archi-\\ntect system, Abbott, North Chicago) and expressed in international\\nunits. HBV DNA was quantitatively measured using real-time\\nPCR assay (Shenyou Biotech, Shanghai, China), with the\\ndetection range 100–26107 IU/ml.\\n\\nStatistical analysis\\n\\nStatistical analysis was performed with the SPSS software (SPSS\\nStandard version 17.0, SPSS Inc., Chicago, IL). Continuous\\nvariables normally distributed were expressed as mean 6 standard\\ndeviation and compared by t-test between two groups; quantitative\\ndata non-normally distributed were presented as median and\\ninterquartile range. Categorical variables were reported as number\\nand percentage and compared by x2 test or Fisher’s exact test\\nwhere appropriate. Binary logistic regression analyses were further\\nperformed to determine the independent role of the feeding mode\\nin the mother-to-child transmission of HBV or the immune\\nresponse against HBV, after adjusting for the confounding effect of\\nthe other factors significantly different (with a P,0.20) between\\nthe two groups; the results were expressed by the adjusted odds\\nratios (aOR) with 95% confidence intervals (CI). A two-sided P\\nvalue,0.05 is considered statistically significant.\\n\\nResults\\n\\nPerinatal HBV Infection and Breastfeeding\\n\\nanti-HBV therapy before and during pregnancy. The children\\nwere at the age of 1–7 years (mean, 4.761.7). Of them, 137\\n(25.1%) were born to carrier mothers with HBeAg positive. All\\nchildren had been vaccinated against hepatitis B and 291 (53.3%)\\nreceived HBIG.\\n\\nOf the children, 397 (72.7%) were breastfed and 149 (27.3%)\\nothers were formula-fed. Compared with those in formula-fed\\ngroup, the mothers who breastfed their babies had similar ages\\nand delivery modes (Table 1). However, the mothers’ HBeAg-\\npositive rate in formula-fed group was significantly higher than\\nthat in breastfed group (49.0% vs. 15.9%, P,0.001). This is\\npossibly due to the notion that HBeAg-positive mothers are more\\ncontagious than HBeAg-negative carrier mothers. On the other\\nhand, children’s ages, gender ratios, and hepatitis B vaccine\\ncoverage and administration of HBIG were comparable between\\nthe two groups.\\n\\nHBV infection in breastfed and formula-fed children\\n\\nOverall, of the total 546 children, 13 (2.4%) were chronically\\ninfected with HBV since positive results of HBsAg, anti-HBc, and\\nHBeAg were observed in the children at the age of 1–7 years. Of\\nthe 13 children, 5 were administrated both HBIG and hepatitis B\\nvaccine after birth, but the 8 others were only vaccinated against\\nhepatitis B. Thus, the rate of chronic infection in the children with\\npassive-active prophylaxis was 1.7% (5/291), which was lower\\nin the children with only active\\nthan that\\nprophylaxis\\nImportantly, chronic HBV infection\\noccurred in 1.5% (6/397) of breastfed children and 4.7% (7/\\n149) of formula-fed children respectively (Table 2); the difference\\nwas borderline statistical significance (P = 0.063). Additionally, the\\nrate of self-resolved infection, presented as anti-HBc-positive but\\nHBsAg-negative, was 2.3% in breastfed children, comparable to\\nthat (5.4%) in formula-fed children (P = 0.114).\\n\\n(3.1%, 8/255)\\n(P = 0.278).\\n\\nIt has been recognized that mother-to-child transmission of\\nHBV is more likely to occur in infants of HBV-infected mothers\\nwith HBeAg positive and high HBV DNA levels [14,15]. In\\naccordance with this finding, we found that all 13 chronically\\ninfected children were born to HBeAg-positive mothers, while\\nnone of\\nthe children born to HBeAg-negative mothers was\\ninfected during follow-up. Thus, we further compared the\\ninfection rate in 137 children born to HBeAg positive mothers.\\nOf\\ntheir\\nthem, 63 were breastfed and 74 were formula-fed;\\nmothers had similar HBV DNA levels (breastfed 2.326106 vs.\\nformula-fed 2.476106 IU/ml, P = 0.613). Breast- and formula-fed\\ninfants had comparable prevalence of HBsAg (6/63, 9.5% vs. 7/\\n74, 9.5%, P = 0.990) and of anti-HBc-positive/HBsAg-negative\\n(7.9% vs. 10.8%, P = 0.567).\\n\\nTo further\\n\\ninvestigate whether breastfeeding may be an\\nindependent risk for the mother-to-child transmission of HBV,\\nwe performed two logistic regression analyses, one for the HBsAg\\npositivity and the other for the prevalence of anti-HBc. As shown\\nin Table 3, adjusting for the confounding effects of maternal\\nHBeAg status and the child’s age, breastfeeding was neither\\nassociated with chronic HBV infection (P = 0.995, aOR 0.99,\\n95%CI 0.28–3.58) or with the self-resolved infection (P = 0.301,\\naOR 0.57, 95%CI 0.20–1.65) in the children. In addition, we\\nfound that maternal HBeAg carriage was an independent risk for\\nthe mother-to-child transmission.\\n\\nGeneral characteristics of the study population\\n\\nAnti-HBs in breastfed and formula-fed children\\n\\nTotally, 546 children (2 pairs of twins) of 544 HBsAg-positive\\nmothers were included in the study. The mothers were 23–48\\nyears old (mean, 31.063.5), had no coinfection with hepatitis C\\nvirus and human immunodeficiency virus, and did not receive\\n\\nOf the 546 children who underwent regular immunoprophy-\\nlaxis against hepatitis B, 391 (71.6%) showed anti-HBs $10 mIU/\\nml, which is in agreement with that of the children at the same age\\nin a recent study [17]. As shown in Table 2, the positive rate of\\n\\nPLOS ONE | www.plosone.org\\n\\n2\\n\\nJanuary 2013 | Volume 8 |\\n\\nIssue 1 | e55303\\n\\n\\x0cPerinatal HBV Infection and Breastfeeding\\n\\nTable 1. General characteristic of children and their mothers in breast- and formula-fed groups.\\n\\nCharacteristic\\n\\nMaternal age (years)\\n\\nMother with positive HBeAg\\n\\nChild’s age (years)\\n\\nChild’s sex\\n\\nMale\\n\\nFemale\\n\\nDelivery\\n\\nCesarean section\\n\\nVaginal delivery\\n\\nTimely first dose vaccine\\n\\nHepatitis B vaccine coverage\\n\\nHBIG\\n\\nBreastfed n = 397 (%)\\n\\nFormula-fed n = 149 (%)\\n\\n31.263.5\\n\\n63 (15.9)\\n\\n4.861.7\\n\\n215 (54.2)\\n\\n182 (45.8)\\n\\n202 (50.9)\\n\\n195 (49.1)\\n\\n359 (90.4)\\n\\n397 (100)\\n\\n205 (51.6)\\n\\n30.763.7\\n\\n72* (49.0)\\n\\n4.561.7\\n\\n81 (54.4)\\n\\n68 (45.6)\\n\\n83 (55.7)\\n\\n66 (44.3)\\n\\n130 (87.2)\\n\\n149 (100)\\n\\n86 (57.7)\\n\\nPvalue\\n\\n0.181\\n\\n,0.001\\n\\n0.058\\n\\n0.966\\n\\n0.315\\n\\n0.279\\n\\nND\\n\\n0.205\\n\\nND, not determined; HBIG, hepatitis B immune globulin; HBeAg, hepatitis B e antigen.\\n*Two pairs of twins were born to HBeAg-positive mothers in formula-fed group.\\ndoi:10.1371/journal.pone.0055303.t001\\n\\nanti-HBs in breastfed children was comparable to that in formula-\\nfed children (290/397, 73.0% vs. 101/149, 67.8%, P = 0.224).\\nin the logistic regression analysis, we found that\\nFurthermore,\\nbreastfeeding was independently associated with higher prevalence\\nof anti-HBs in the children (P = 0.024, aOR 1.67, 95%CI 1.07–\\n2.61).\\n\\nDiscussion\\n\\nIn our study, the HBV infection rates were comparable in\\nbreastfed and formula-fed children of HBV-infected mothers after\\ncurrently recommended immunoprophylaxis against hepatitis B,\\nindicating that breastfeeding in high-risk children does not add\\nany risk for mother-to-child transmission of HBV. In addition,\\nbreastfeeding may not interfere with humoral immune response to\\nhepatitis B vaccine and HBIG. Therefore, we should not\\nrecommend HBV-infected mothers to formula-feed their children\\nto prevent mother-to-child transmission of HBV.\\n\\nin formula-fed children (Table 2). However,\\n\\nAlthough HBV DNA may be detected in breast milk, especially\\nin colostrum [6], in the present study, we observed that breastfed\\nchildren had statistically comparable rate of HBV infection with\\nthe HBV\\nthat\\ninfection rate in formula-fed children was higher than that in\\nbreastfed children (breastfed 4.7% vs.\\nthe\\ndifference was likely due to the higher mothers’ HBeAg-positive\\nrate in formula-fed group than that in breast-fed group (49.0% vs.\\n15.9%), since children born to mothers with HBeAg positive are at\\na higher risk of being infected with HBV [14] and other general\\n\\nformula-fed 1.5%);\\n\\ncharacteristics were comparable between the two groups (Table 1).\\nFurther analysis of the HBV infection in 137 children of HBeAg-\\npositive mothers showed that breastfed and formula-fed children,\\nwhose mothers had similar HBV DNA levels, were at comparable\\nrisk of being infected with HBV. Additionally, logistic regression\\nanalyses demonstrated that breastfeeding does not pose additional\\nrisk for mother-to-child transmission of HBV (Table 3).\\n\\nBefore the availability of HBIG and hepatitis B vaccine, Beasley\\net al [10] reported a cohort of 92 breastfed babies and 55 non-\\nbreastfed babies, whose mothers were HBsAg-positive during and\\nafter delivery. When the infants were tested at 3 or more months\\nold, with a mean follow-up period of 11 months, no significant\\ndifference was found in the acquisition rate of HBsAg (49% vs.\\n53%) or anti-HBs between the two groups. These results\\ndemonstrated no correlation between breastfeeding and the\\ndevelopment of HBV infection in children of carrier mothers. It\\nmay be related to the finding that the exposure to HBV associated\\nwith breast milk is negligible compared to that from maternal\\nblood and other body fluids during delivery or labor, and therefore\\nchildren rarely acquire HBV infection through breast milk with\\nweaker infectiousness [2]. With the availability of HBIG and\\nhepatitis B vaccine, a study conducted in United States found\\ncomparable rates of HBV transmission in breast- and formula-fed\\nchildren (0% vs. 3%) at the age of 9–15 months, indicating that\\nbreastfeeding does not add any risk for mother-to-child transmis-\\nsion of HBV [11]. Our data in the present study are in accordance\\nwith these reported results.\\n\\nTable 2. HBV serologic markers in breast- and formula-fed children of HBsAg-positive mothers.\\n\\nHBsAg+\\n\\nAnti-HBc+/HBsAg2\\n\\nAnti-HBs $10 mIU/ml\\n\\nBreastfed n = 397 (%)\\n\\nFormula-fed n = 149 (%)\\n\\nP value\\n\\n6 (1.5)\\n\\n9 (2.3)\\n\\n290 (73.0)\\n\\n7 (4.7)\\n\\n8 (5.4)\\n\\n101 (67.8)\\n\\n0.063\\n\\n0.114\\n\\n0.224\\n\\nHBV, hepatitis B virus; HBsAg, hepatitis B surface antigen; anti-HBc, antibody against hepatitis B core antigen; anti-HBs, antibody against HBsAg; OR, odds ratio; CI,\\nconfidence interval.\\ndoi:10.1371/journal.pone.0055303.t002\\n\\nPLOS ONE | www.plosone.org\\n\\n3\\n\\nJanuary 2013 | Volume 8 |\\n\\nIssue 1 | e55303\\n\\n\\x0cTable 3. Logistic regression analyses for the prevalence of\\nHBsAg or anti-HBc in the children*.\\n\\nHBsAg+\\n\\nanti-HBc+/HBsAg2\\n\\naOR\\n\\n95%CI\\n\\nPvalue aOR\\n\\n95%CI\\n\\nP value\\n\\nBreastfeeding 0.99\\n\\n0.28–3.58\\n\\n0.995\\n\\nMaternal\\nHBeAg carriage\\n\\n1.69E8\\n\\n0.00–‘\\n\\n0.992\\n\\n0.57\\n\\n8.93\\n\\n0.20–1.65\\n\\n0.301\\n\\n2.76–28.88 ,0.001\\n\\nChild’s age\\n\\n1.01\\n\\n0.68–1.51\\n\\n0.968\\n\\n1.44\\n\\n0.97–2.13\\n\\n0.068\\n\\nHBV, hepatitis B virus; HBsAg, hepatitis B surface antigen; anti-HBc, antibody\\nagainst hepatitis B core antigen; aOR, adjusted odds ratio; CI, confidence\\ninterval.\\n*Including all the factors different (with a P,0.20) between the breastfed and\\nformula-fed children except the mother’s age, as which is not associated with\\nthe mother-to-child transmission of HBV [16].\\ndoi:10.1371/journal.pone.0055303.t003\\n\\nAlthough all the children in our study were vaccinated against\\nhepatitis B, only 53.3% were administered HBIG, considerably\\nlower than the rate in the developed countries [18,19]. The\\nsubstantial gaps in the immunoprophylaxis of the infants between\\nthe recommendations and routine practices were attributable to\\nthe unavailability of HBIG,\\nincomplete knowledge on the\\nprophylaxis of the health care providers, and low prenatal HBsAg\\nscreening rate, particularly in rural areas [20]. Additionally, we\\nobserved that the children who received HBIG had a lower rate of\\nchronic infection than those who did not receive HBIG (1.7% vs.\\n3.1%). Therefore, full adherence to the prophylaxis recommen-\\nthan whether the mother\\ndations is a more important point\\nbreastfeeds or not in reducing the mother-to-child transmission.\\n\\nRecently, the efficacy of oral antiviral therapy in HBV-infected\\npregnant women for preventing mother-to-child transmission has\\nbeen investigated [21–24]. There appears to be a shift towards\\nimplementing selective antiviral prophylaxis in the third trimester\\nfor pregnant women with higher viral\\nloads. However, some\\nstudies were non-prospective or recruited only limited number of\\nstudy subjects [21,22]. The data in a randomized controlled trial\\nwere difficult to interpret because as high as 39% of the infants\\nwho received standard administration of HBIG and hepatitis B\\nvaccine after birth were infected at age of 12 months [23]. So far,\\nthere is no consensus or guideline on the therapy choice regarding\\nmaternal viral loads and nucleoside/nucleotide analogues [25,26],\\nand more convincing prospective controlled trials are required to\\n\\nReferences\\n\\n1. Liaw YF, Chu CM (2009) Hepatitis B virus infection. Lancet 373: 582–592.\\n2. World Health Organization (1998) Hepatitis B and breastfeeding. J Int Assoc\\n\\nPhysicians AIDS Care 4: 20–21.\\n\\n3. Mast EE, Margolis HS, Fiore AE, Brink EW, Goldstein ST, et al. (2005) A\\ncomprehensive immunization strategy to eliminate transmission of hepatitis B\\nvirus\\nthe Advisory\\nCommittee on Immunization Practices (ACIP) part 1: immunization of infants,\\nchildren, and adolescents. MMWR Recomm Rep 54: 1–31.\\n\\ninfection in the United States: recommendations of\\n\\n4. Giles ML, Garland SM, Grover SR, Lewin SM, Hellard ME (2006) Impact of\\nan education campaign on management in pregnancy of women infected with a\\nblood-borne virus. Med J Aust 184: 389–392.\\n\\n5. Ahn J, Salem SB, Cohen SM (2010) Evaluation and management of hepatitis B\\nin pregnancy: a survey of current practices. Gastroenterol Hepatol 6: 570–578.\\n6. de Oliveira PR, Yamamoto AY, de Souza CB, de Arau´jo NM, de Andrade\\nGomes S, et al. (2009) Hepatitis B viral markers in banked human milk before\\nand after Holder pasteurization. J Clin Virol 45: 281–284.\\n\\n7. Qiu L, Binns CW, Zhao Y, Zhang K, Xie X (2010) Hepatitis B and\\nbreastfeeding in Hangzhou, Zhejiang Province, People’s Republic of China.\\nBreastfeed Med 5: 109–112.\\n\\nPerinatal HBV Infection and Breastfeeding\\n\\ndemonstrate the benefit of therapy in reducing the likelihood of\\ntransmission, when the newborn infants are\\nmaternal-infant\\nadministered both HBIG and vaccination on time [27,28]. Thus,\\nthe pregnant women in the present study had not been advised to\\nreceive antiviral therapy.\\n\\nThe main limitation in our study was its non-randomized\\ndesign. The children’s feeding modes were not randomly assigned\\nand the HBeAg-positive rate was much higher in the mothers of\\nthe formula-fed children; this may contribute to the relatively\\nlower prevalences of HBsAg and anti-HBc in breastfed children\\n(Table 2). To overcome the bias due to maternal HBeAg status\\nand other different characteristics between the breastfed and\\nformula-fed children, we further performed logistic regression\\nanalyses to evaluate the impact of breastfeeding on the mother-to-\\nchild transmission. Our results indicated that breastfeeding was\\nnot associated with the HBV infection in the children (Table 3).\\nThere may be other potential bias or even unknown different\\nfactors in the non-randomized study. Nevertheless, the compara-\\nble prevalence of HBsAg in formula-fed and breastfed children\\nindicates that breastfeeding does not\\nincrease maternal-infant\\ntransmission of HBV. Additionally, we did not consider it ethically\\njustified to decide the children’s feeding modes.\\n\\nIn view of these results, we conclude that breastfeeding is not a\\nrisk factor for mother-to-child transmission of HBV after the\\nrecommended prophylaxis is implemented. Therefore, regardless\\nof mothers’ status of HBeAg, clinicians should encourage HBV-\\ninfected mothers\\ninfants with available\\nto breastfeed their\\nimmunoprophylaxis against hepatitis B.\\n\\nAcknowledgments\\n\\nWe thank Dr. Biyun Xu for the excellent statistical analyses, Ms. Yongchun\\nBi and Ms. Tianli Zhu for the quantitative detection of anti-HBs and anti-\\nHBc, and Mr. Lei Li for the quantification of HBV DNA. We also thank\\nMs. Qilan Liu, Ms. Jihong Sun, Ms. Fengxiang He, and members in\\nFamily Planning Institutes of Xuzhou, Tongshan, Ganyu, Lianyungang,\\nSheyang, Baoying, Qidong, Yangzhou, Liuhe, Zhenjiang, Liyang, Wuxi,\\nWujiang, and Nanjing Xuanwu for blood sampling and assistance in\\ncollecting relevant information.\\n\\nAuthor Contributions\\n\\nConceived and designed the experiments: Y-HZ YH. Performed the\\nexperiments: JW CX XC JC. Analyzed the data: XC JC JW CX SZ Y-HZ\\nYH. Contributed reagents/materials/analysis tools: JW CX SZ XC JC.\\nWrote the paper: XC JC Y-HZ YH.\\n\\n8. Guo Y, Liu J, Meng L, Meina H, Du Y (2010) Survey of HBsAg-positive\\npregnant women and their infants regarding measures to prevent maternal-\\ninfantile transmission. BMC Infect Dis 10: 26.\\n\\n9. Tong Leung VK, Lao TT, Suen SS, Chan OK, Singh Sahota D, et al. (2012)\\nBreastfeeding initiation: is this influenced by maternal hepatitis B infection?\\nJ Matern Fetal Neonatal Med 25: 2390–2394.\\n\\n10. Beasley RP, Stevens CE, Shiao IS, Meng HC (1975) Evidence against breast-\\nfeeding as a mechanism for vertical transmission of hepatitis B. Lancet 2: 740–\\n741.\\n\\n11. Hill JB, Sheffield JS, Kim MJ, Alexander JM, Sercely B, et al. (2002) Risk of\\nhepatitis B transmission in breast-fed infants of chronic hepatitis B carriers.\\nObstet Gynecol 99: 1049–1052.\\n\\n12. Shi Z, Yang Y, Wang H, Ma L, Schreiber A, et al. (2011) Breastfeeding of\\nnewborns by mothers carrying hepatitis B virus: a meta-analysis and systematic\\nreview. Arch Pediatr Adolesc Med 165: 837–846.\\n\\n13. Zhang S, Li RT, Wang Y, Liu Q, Zhou YH, et al. (2010) Seroprevalence of\\nhepatitis B surface antigen among pregnant women in Jiangsu, China, 17 years\\nafter introduction of hepatitis B vaccine. Int J Gynaecol Obstet 109: 194–197.\\n14. Chen HL, Lin LH, Hu FC, Lee JT, Lin WT, et al. (2012) Effects of maternal\\nscreening and universal immunization to prevent mother-to-infant transmission\\nof HBV. Gastroenterology 142: 773–781.\\n\\nPLOS ONE | www.plosone.org\\n\\n4\\n\\nJanuary 2013 | Volume 8 |\\n\\nIssue 1 | e55303\\n\\n\\x0c15. Zou H, Chen Y, Duan Z, Zhang H, Pan C (2012) Virologic factors associated\\nwith failure to passive-active immunoprophylaxis in infants born to HBsAg-\\npositive mothers. J Viral Hepat 19: e18–25.\\n\\n16. Zou H, Chen Y, Duan Z, Zhang H (2011) Protective effect of hepatitis B vaccine\\ncombined with two-dose hepatitis B immunoglobulin on infants born to HBsAg-\\npositive mothers. PLoS One 6: e26748.\\n\\n17. Liang X, Bi S, Yang W, Wang L, Cui G, et al. (2009) Evaluation of the impact of\\nhepatitis B vaccination among children born during 1992–2005 in China. J Infect\\nDis 200: 39–47.\\n\\n18. Heininger U, Vaudaux B, Nidecker M, Pfister RE, Posfay-Barbe KM, et al.\\n(2010) Evaluation of the compliance with recommended procedures in newborns\\nexposed to HBsAg-positive mothers: a multicenter collaborative study. Pediatr\\nInfect Dis J 29: 248–250.\\n\\n19. Spada E, Tosti ME, Zuccaro O, Stroffolini T, Mele A, et al. (2011) Evaluation of\\nthe compliance with the protocol for preventing perinatal hepatitis B infection in\\nItaly. J Infect 62: 165–171.\\n\\n20. Hu Y, Zhang S, Luo C, Liu Q, Zhou YH (2012) Gaps in the prevention of\\nperinatal\\ntransmission of hepatitis B virus between recommendations and\\nroutine practices in a highly endemic region: a provincial population-based study\\nin China. BMC Infect Dis 12: 221.\\n\\n21. van Zonneveld M, van Nunen AB, Niesters HG, de Man RA, Schalm SW, et al.\\n(2003) Lamivudine treatment during pregnancy to prevent perinatal transmis-\\nsion of hepatitis B virus infection. J Viral Hepat 10: 294–297.\\n\\nPerinatal HBV Infection and Breastfeeding\\n\\n22. Ko¨se S, Tu¨rken M, Devrim I, Taner C (2011) Efficacy and safety of lamivudine\\ntreatment in late pregnancy with high HBV DNA: a perspective for mother and\\ninfants. J Infect Dev Ctries 5: 303–306.\\n\\n23. Xu WM, Cui YT, Wang L, Yang H, Liang ZQ, et al. (2009) Lamivudine in late\\npregnancy to prevent perinatal transmission of hepatitis B virus infection: a\\nmulticentre, randomized, double-blind, placebo-controlled study. J Viral Hepat\\n16: 94–103.\\n\\n24. Han GR, Cao MK, Zhao W, Jiang HX, Wang CM, et al. (2011) A prospective\\nand open-label study for the efficacy and safety of telbivudine in pregnancy for\\nthe prevention of perinatal transmission of hepatitis B virus infection. J Hepatol\\n55: 1215–1221.\\n\\n25. Dusheiko G (2012) Interruption of mother-to-infant transmission of hepatitis B:\\n\\ntime to include selective antiviral prophylaxis? Lancet 379: 2019–2021.\\n\\n26. Borgia G, Carleo MA, Gaeta GB, Gentile I (2012) Hepatitis B in pregnancy.\\n\\nWorld J Gastroenterol 18: 4677–4683.\\n\\n27. Peters MG (2009) Special populations with hepatitis B virus\\n\\ninfection.\\n\\nHepatology 49: S146–155.\\n\\n28. United States Department of Health & Human Services (2011) Combating the\\nSilent Epidemic of Viral Hepatitis: Action Plan for the Prevention, Care and\\nTreatment of Viral Hepatitis. 36 p.\\n\\nPLOS ONE | www.plosone.org\\n\\n5\\n\\nJanuary 2013 | Volume 8 |\\n\\nIssue 1 | e55303\\n\\n\\x0c'"
      ]
     },
     "execution_count": 65,
     "metadata": {},
     "output_type": "execute_result"
    }
   ],
   "source": [
    "article_text"
   ]
  },
  {
   "cell_type": "code",
   "execution_count": 72,
   "id": "e59c793f-9bf1-4638-86a4-d6254f6ddfd8",
   "metadata": {},
   "outputs": [],
   "source": [
    "import os\n",
    "import json\n",
    "from dotenv import find_dotenv, load_dotenv\n",
    "from langchain_gigachat.chat_models.gigachat import GigaChat\n",
    "from langchain_core.prompts import ChatPromptTemplate\n",
    "from langchain_core.output_parsers import StrOutputParser\n",
    "import getpass\n",
    "\n",
    "load_dotenv(find_dotenv())\n",
    "\n",
    "if \"GIGACHAT_CREDENTIALS\" not in os.environ:\n",
    "    os.environ[\"GIGACHAT_CREDENTIALS\"] = getpass.getpass(\"Введите ключ авторизации GigaChat API: \")\n",
    "\n",
    "client = GigaChat(\n",
    "    model=\"GigaChat-2-Max\",\n",
    "    verify_ssl_certs=False,\n",
    "    credentials=os.getenv('GIGACHAT_CREDENTIALS')\n",
    ")\n",
    "\n",
    "def analyse_article(article_text):\n",
    "    analysis_prompt = ChatPromptTemplate.from_messages([\n",
    "        (\"system\", \"\"\"\n",
    "        You are a physics professor with cross-disciplinary expertise (biology to nanotechnology) \n",
    "        serving as editor for a prestigious scientific journal. Analyze articles with strict objectivity.\n",
    "        \n",
    "        Analysis Protocol:\n",
    "        1. Generate 150-200 word summary\n",
    "        2. Compare abstract with full text\n",
    "        3. Check for ideological biases\n",
    "        4. Detect logical fallacies\n",
    "        5. Evaluate paradigm compliance\n",
    "        \n",
    "        Output in this EXACT structure:\n",
    "        {{\n",
    "            \"summary\": \"Concise summary\",\n",
    "            \"abstract_analysis\": {{\n",
    "                \"match_score\": \"X%\",\n",
    "                \"discrepancies\": [\"list of discrepancies\"],\n",
    "                \"omissions\": [\"list of omissions\"]\n",
    "            }},\n",
    "            \"ideological_issues\": {{\n",
    "                \"unsupported_claims\": [\"list of claims\"],\n",
    "                \"speculative_statements\": [\"list of statements\"]\n",
    "            }},\n",
    "            \"logical_errors\": {{\n",
    "                \"fallacies\": [\"list of fallacies\"],\n",
    "                \"sections\": [\"section numbers\"]\n",
    "            }},\n",
    "            \"paradigm_compliance\": {{\n",
    "                \"level\": \"High/Medium/Low\",\n",
    "                \"anomalies\": [\"list of anomalies\"]\n",
    "            }},\n",
    "            \"recommendation\": {{\n",
    "                \"decision\": \"Accept/Revise/Reject\",\n",
    "                \"reasoning\": \"Technical justification\"\n",
    "            }}\n",
    "        }}\n",
    "        \"\"\"),\n",
    "        (\"human\", \"Article text: {input_text}\")\n",
    "    ])\n",
    "    \n",
    "    output_parser = StrOutputParser()\n",
    "\n",
    "    try:\n",
    "        chain = analysis_prompt | client | output_parser\n",
    "        result = chain.invoke({\"input_text\": article_text})\n",
    "        \n",
    "        return json.loads(result.strip())\n",
    "        \n",
    "    except json.JSONDecodeError:\n",
    "        return {\"error\": \"Failed to parse analysis results\"}\n",
    "    except Exception as e:\n",
    "        return {\"error\": str(e)}\n"
   ]
  },
  {
   "cell_type": "code",
   "execution_count": 70,
   "id": "7b1d3372-bb8d-4c32-a997-948bcfe0c68c",
   "metadata": {},
   "outputs": [],
   "source": [
    "analysis_result = analyse_article(article_text)"
   ]
  },
  {
   "cell_type": "code",
   "execution_count": 71,
   "id": "3d5cb828-167d-4a97-a59f-f0ea2bdde509",
   "metadata": {},
   "outputs": [
    {
     "name": "stdout",
     "output_type": "stream",
     "text": [
      "{\n",
      "  \"summary\": \"A comprehensive study investigates whether breastfeeding increases the risk of mother-to-child transmission of Hepatitis B virus (HBV). Involving 546 children of HBV-infected mothers, the research compares breastfed versus formula-fed infants, accounting for various factors like maternal HBeAg status, infant vaccination, and hepatitis B immune globulin (HBIG) usage. Results indicate no association between breastfeeding and increased HBV transmission risk. Furthermore, breastfeeding does not hinder the immune response to hepatitis B vaccines.\",\n",
      "  \"abstract_analysis\": {\n",
      "    \"match_score\": \"95%\",\n",
      "    \"discrepancies\": [\n",
      "      \"Minor differences in phrasing and emphasis.\"\n",
      "    ],\n",
      "    \"omissions\": []\n",
      "  },\n",
      "  \"ideological_issues\": {\n",
      "    \"unsupported_claims\": [],\n",
      "    \"speculative_statements\": []\n",
      "  },\n",
      "  \"logical_errors\": {\n",
      "    \"fallacies\": [],\n",
      "    \"sections\": []\n",
      "  },\n",
      "  \"paradigm_compliance\": {\n",
      "    \"level\": \"High\",\n",
      "    \"anomalies\": []\n",
      "  },\n",
      "  \"recommendation\": {\n",
      "    \"decision\": \"Accept\",\n",
      "    \"reasoning\": \"The methodology is robust, conclusions align well with findings, and no substantial methodological flaws or biases are evident.\"\n",
      "  }\n",
      "}\n"
     ]
    }
   ],
   "source": [
    "print(json.dumps(analysis_result, indent=2, ensure_ascii=False))"
   ]
  },
  {
   "cell_type": "code",
   "execution_count": null,
   "id": "1ca1f5ec-160f-45b7-96ae-a4a06bcafcb7",
   "metadata": {},
   "outputs": [],
   "source": []
  }
 ],
 "metadata": {
  "kernelspec": {
   "display_name": "Python 3 (ipykernel)",
   "language": "python",
   "name": "python3"
  },
  "language_info": {
   "codemirror_mode": {
    "name": "ipython",
    "version": 3
   },
   "file_extension": ".py",
   "mimetype": "text/x-python",
   "name": "python",
   "nbconvert_exporter": "python",
   "pygments_lexer": "ipython3",
   "version": "3.12.3"
  }
 },
 "nbformat": 4,
 "nbformat_minor": 5
}
