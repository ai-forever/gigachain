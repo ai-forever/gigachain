{
 "cells": [
  {
   "cell_type": "code",
   "execution_count": 9,
   "id": "fcba3ba3",
   "metadata": {},
   "outputs": [],
   "source": [
    "import os\n",
    "from os import environ\n",
    "from typing import cast\n",
    "\n",
    "from langchain_chroma import Chroma\n",
    "from langchain_core.documents import Document\n",
    "from langchain_core.language_models import LanguageModelInput\n",
    "from langchain_core.messages import BaseMessage\n",
    "from langchain_core.prompts import ChatPromptTemplate\n",
    "from langchain_core.runnables import RunnableLambda, RunnablePassthrough\n",
    "from langchain_gigachat.chat_models import GigaChat\n",
    "from langchain_gigachat.embeddings import GigaChatEmbeddings"
   ]
  },
  {
   "cell_type": "markdown",
   "id": "d6eddca6",
   "metadata": {},
   "source": [
    "### Examples\n"
   ]
  },
  {
   "cell_type": "markdown",
   "id": "a945d530",
   "metadata": {},
   "source": [
    "#### init\n"
   ]
  },
  {
   "cell_type": "markdown",
   "id": "0e48a095",
   "metadata": {},
   "source": [
    "Установка `tagme_gigachain`"
   ]
  },
  {
   "cell_type": "code",
   "execution_count": 17,
   "id": "5c70e371",
   "metadata": {},
   "outputs": [
    {
     "name": "stdout",
     "output_type": "stream",
     "text": [
      "Processing /Users/red/projects/gigachain/cookbook/tagme_gigachain\n",
      "  Installing build dependencies ... \u001b[?25ldone\n",
      "\u001b[?25h  Getting requirements to build wheel ... \u001b[?25ldone\n",
      "\u001b[?25h  Preparing metadata (pyproject.toml) ... \u001b[?25ldone\n",
      "\u001b[?25hBuilding wheels for collected packages: tagme_gigachain\n",
      "  Building wheel for tagme_gigachain (pyproject.toml) ... \u001b[?25ldone\n",
      "\u001b[?25h  Created wheel for tagme_gigachain: filename=tagme_gigachain-0.1.5-py3-none-any.whl size=17191 sha256=3c9ad2693d481c889a603ffa496457c855e61a6b7129404078b5d79fd6f60f37\n",
      "  Stored in directory: /private/var/folders/vc/l2_j90hx25zc34c03s2v566c0000gn/T/pip-ephem-wheel-cache-qskeogmy/wheels/71/71/59/6de7c2f0150ef0006263d88a8bc02a175bd2f38c0568b8f4f6\n",
      "Successfully built tagme_gigachain\n",
      "Installing collected packages: tagme_gigachain\n",
      "  Attempting uninstall: tagme_gigachain\n",
      "    Found existing installation: tagme_gigachain 0.1.5\n",
      "    Uninstalling tagme_gigachain-0.1.5:\n",
      "      Successfully uninstalled tagme_gigachain-0.1.5\n",
      "Successfully installed tagme_gigachain-0.1.5\n",
      "Note: you may need to restart the kernel to use updated packages.\n"
     ]
    }
   ],
   "source": [
    "%pip install .."
   ]
  },
  {
   "cell_type": "markdown",
   "id": "87d1b307",
   "metadata": {},
   "source": [
    "Для работы нужны переменные TAGME_GIGACHAIN_TOKEN и TAGME_GIGACHAIN_BASE_URL. Клиент автоматически поднянет их. Или можно указать напрямую в kwargs клиентов или декораторов"
   ]
  },
  {
   "cell_type": "code",
   "execution_count": null,
   "id": "99f466a2",
   "metadata": {},
   "outputs": [],
   "source": [
    "token = os.environ.get(\"TAGME_GIGACHAIN_TOKEN\",\n",
    "                       \"0a3618fa-97a2-404a-b95d-15d0c3a6fa4d\")\n",
    "base_url = os.environ.get(\n",
    "    \"TAGME_GIGACHAIN_BASE_URL\", \"https://tagme.sberdevices.ru/dev/chatwm/plugin_statistics/trace\"\n",
    ")"
   ]
  },
  {
   "cell_type": "code",
   "execution_count": 11,
   "id": "6b45ea2d",
   "metadata": {},
   "outputs": [
    {
     "name": "stdout",
     "output_type": "stream",
     "text": [
      "env: TAGME_GIGACHAIN_TOKEN=0a3618fa-97a2-404a-b95d-15d0c3a6fa4d\n",
      "env: TAGME_GIGACHAIN_BASE_URL=https://tagme.sberdevices.ru/dev/chatwm/plugin_statistics/trace\n"
     ]
    }
   ],
   "source": [
    "%set_env TAGME_GIGACHAIN_TOKEN=0a3618fa-97a2-404a-b95d-15d0c3a6fa4d\n",
    "%set_env TAGME_GIGACHAIN_BASE_URL=https://tagme.sberdevices.ru/dev/chatwm/plugin_statistics/trace"
   ]
  },
  {
   "cell_type": "markdown",
   "id": "06cdc7be",
   "metadata": {},
   "source": [
    "#### Использование декораторов на примере пойплайна по генерации ответа модели с использованием RAG\n"
   ]
  },
  {
   "cell_type": "markdown",
   "id": "3d62527f",
   "metadata": {},
   "source": [
    "##### Формируем пайплайн"
   ]
  },
  {
   "cell_type": "code",
   "execution_count": 12,
   "id": "d6870483",
   "metadata": {},
   "outputs": [
    {
     "data": {
      "text/plain": [
       "[[Document(id='076cec87-ee8d-46ae-aebc-e0acb919d3ee', metadata={}, page_content='Кошки — независимые животные, которым нужно собственное пространство.')],\n",
       " [Document(id='c9b36384-0e49-41fd-942c-5b23cd7a567c', metadata={}, page_content='Собаки — отличные компаньоны, известные своей преданностью.')]]"
      ]
     },
     "execution_count": 12,
     "metadata": {},
     "output_type": "execute_result"
    }
   ],
   "source": [
    "# Создание документов\n",
    "documents = [\n",
    "    Document(page_content=\"Собаки — отличные компаньоны, известные своей преданностью.\"),\n",
    "    Document(page_content=\"Кошки — независимые животные, которым нужно собственное пространство.\"),\n",
    "    Document(page_content=\"Попугаи — умные птицы, способные имитировать человеческую речь.\"),\n",
    "]\n",
    "\n",
    "# Инициализация модели эмбеддингов\n",
    "embeddings = GigaChatEmbeddings(\n",
    "    credentials=environ.get(\"GIGA_TOKEN\"),\n",
    "    # base_url=\"https://gigachat.devices.sberbank.ru/api\",\n",
    "    # auth_url=\"https://ngw.devices.sberbank.ru:9443/api\",\n",
    "    verify_ssl_certs=False,\n",
    "    scope=\"GIGACHAT_API_CORP\",\n",
    ")\n",
    "\n",
    "# Создание векторного хранилища\n",
    "vectorstore = Chroma.from_documents(documents, embeddings)\n",
    "\n",
    "\n",
    "retriever = RunnableLambda(vectorstore.similarity_search).bind(k=1)  # выбор наиболе подходящего результата\n",
    "\n",
    "retriever.batch([\"кошка\", \"акула\"])"
   ]
  },
  {
   "cell_type": "code",
   "execution_count": 13,
   "id": "07d5ae2e",
   "metadata": {},
   "outputs": [],
   "source": [
    "model = GigaChat(\n",
    "    credentials=environ.get(\"GIGA_TOKEN\"),\n",
    "    verify_ssl_certs=False,\n",
    "    scope=\"GIGACHAT_API_CORP\",\n",
    ")"
   ]
  },
  {
   "cell_type": "code",
   "execution_count": 14,
   "id": "f399c76f",
   "metadata": {},
   "outputs": [],
   "source": [
    "message = \"\"\"\n",
    "Отвечай на вопросы только с помощью полученного контекста.\n",
    "\n",
    "{question}\n",
    "\n",
    "Контекст:\n",
    "{context}\n",
    "\"\"\"\n",
    "\n",
    "prompt = ChatPromptTemplate.from_messages(\n",
    "    [(\"human\", message), (\"assistant\", \"не могу тебе помочь\"), (\"human\", \"почему?\")]\n",
    ")\n",
    "\n",
    "rag_chain = {\"context\": retriever, \"question\": RunnablePassthrough()} | prompt | model\n"
   ]
  },
  {
   "cell_type": "markdown",
   "id": "669e177d",
   "metadata": {},
   "source": [
    "##### Асинхронный декоратор\n"
   ]
  },
  {
   "cell_type": "code",
   "execution_count": null,
   "id": "0cdbaa66",
   "metadata": {},
   "outputs": [],
   "source": [
    "from tagme_gigachain import tagme_trace_async\n",
    "\n",
    "\n",
    "@tagme_trace_async(token=token, metadata={\"experiment\": \"#1\"}, base_url=base_url)\n",
    "async def run_model_async(input: LanguageModelInput) -> BaseMessage:\n",
    "    return await model.ainvoke(input)\n",
    "\n",
    "\n",
    "rag_chain = {\"context\": retriever, \"question\": RunnablePassthrough()} | prompt | run_model_async\n",
    "\n",
    "response = cast(BaseMessage, await rag_chain.ainvoke(\"Опиши кошек двумя словами\"))\n",
    "\n",
    "response.content"
   ]
  },
  {
   "cell_type": "markdown",
   "id": "6f361025",
   "metadata": {},
   "source": [
    "##### Синхронный декоратор"
   ]
  },
  {
   "cell_type": "code",
   "execution_count": null,
   "id": "d486d6fa",
   "metadata": {},
   "outputs": [
    {
     "data": {
      "text/plain": [
       "'Потому что в представленном контексте содержится лишь информация о кошках как о независимых животных, нуждающихся в собственном пространстве. Однако одного слова недостаточно, чтобы обобщённо описать характер и поведение всех кошек. В данном случае использование единственного термина приведёт к упрощению и искажению восприятия кошек как живых существ. Если нужно конкретное слово, попробуй уточнить вопрос, указав направление описания (например: ласковые, игривые, домашние, дикие).'"
      ]
     },
     "execution_count": 10,
     "metadata": {},
     "output_type": "execute_result"
    }
   ],
   "source": [
    "from tagme_gigachain import tagme_trace\n",
    "\n",
    "\n",
    "@tagme_trace(token=token, metadata={\"model\": \"GigaChat-2\"})\n",
    "def run_model_sync(input: LanguageModelInput) -> BaseMessage:\n",
    "    return model.invoke(input)\n",
    "\n",
    "\n",
    "rag_chain = {\"context\": retriever, \"question\": RunnablePassthrough()} | prompt | run_model_sync\n",
    "\n",
    "response = rag_chain.invoke(\"Опиши кошек одним словом\")\n",
    "\n",
    "response.content"
   ]
  },
  {
   "cell_type": "markdown",
   "id": "1b482920",
   "metadata": {},
   "source": [
    "#### Прямой запрос\n"
   ]
  },
  {
   "cell_type": "markdown",
   "id": "590f4eef",
   "metadata": {},
   "source": [
    "Инициализируем клиент"
   ]
  },
  {
   "cell_type": "code",
   "execution_count": 30,
   "id": "56f9c1c1",
   "metadata": {},
   "outputs": [],
   "source": [
    "from tagme_gigachain import TagmeIntegrationClientAsync, TagmeIntegrationClientSync"
   ]
  },
  {
   "cell_type": "code",
   "execution_count": null,
   "id": "dae0e8ea",
   "metadata": {},
   "outputs": [],
   "source": [
    "tagme_trace_client = TagmeIntegrationClientAsync(\n",
    "    token=token,  # передаём токен или используем env TAGME_GIGACHAIN_TOKEN\n",
    "    base_url=None,  # передаём base_url или используем env TAGME_GIGACHAIN_BASE_URL\n",
    "    ignore_missing_functions=True  # не вызываеть ошибки, если в диалоге содержится функция, описание которой заранее не было отправлено на сервер\n",
    ")"
   ]
  },
  {
   "cell_type": "markdown",
   "id": "70fc0c04",
   "metadata": {},
   "source": [
    "##### Отправка диалога\n"
   ]
  },
  {
   "cell_type": "code",
   "execution_count": null,
   "id": "c2b468c2",
   "metadata": {},
   "outputs": [],
   "source": [
    "from tagme_gigachain.entities import DialogData, ChatMessage\n",
    "\n",
    "\n",
    "dialog_delete_alarm = DialogData(\n",
    "    input=[\n",
    "        ChatMessage.from_dict({\"role\": \"system\", \"content\": \"You are a smart home assistant.\"}),\n",
    "        ChatMessage.from_dict({\"role\": \"user\", \"content\": \"Удалите будильник на 7 утра.\"}),\n",
    "        ChatMessage.from_dict(\n",
    "            {\n",
    "                \"role\": \"assistant\",\n",
    "                \"content\": None,\n",
    "                \"function_call\": {\"name\": \"delete_alarm_unknown\", \"arguments\": {\"time\": \"07:00\"}},\n",
    "            }\n",
    "        ),\n",
    "        ChatMessage.from_dict(\n",
    "            {\n",
    "                \"role\": \"function\",\n",
    "                \"content\": None,\n",
    "                \"function_result\": {\"name\": \"delete_alarm_unknown\", \"result\": {\"status\": \"success\"}},\n",
    "            }\n",
    "        ),\n",
    "        ChatMessage.from_dict({\"role\": \"assistant\", \"content\": \"Будильник на 7:00 удалён.\"}),\n",
    "    ],\n",
    "    metadata={\"test\": \"delete_alarm_unknown\"},\n",
    ")\n"
   ]
  },
  {
   "cell_type": "code",
   "execution_count": 32,
   "id": "e520c2f2",
   "metadata": {},
   "outputs": [
    {
     "data": {
      "text/plain": [
       "{'id': '8e7ceea8-7960-4e30-b85a-f83624831347',\n",
       " 'missing': ['delete_alarm_unknown_2'],\n",
       " 'linked_functions': [],\n",
       " 'warning': True}"
      ]
     },
     "execution_count": 32,
     "metadata": {},
     "output_type": "execute_result"
    }
   ],
   "source": [
    "await tagme_trace_client.send_dialog(dialog_delete_alarm)"
   ]
  },
  {
   "cell_type": "markdown",
   "id": "5dddc68b",
   "metadata": {},
   "source": [
    "##### Отравка описания функции на сервер\n"
   ]
  },
  {
   "cell_type": "code",
   "execution_count": null,
   "id": "dce1968f",
   "metadata": {},
   "outputs": [],
   "source": [
    "function_delete_alarm = {\n",
    "    \"name\": \"delete_alarm_unknown\",\n",
    "    \"description\": \"Функция удаления будильника по id. Данная функция запускается только при наличии необходимых идентификаторов id будильников в контексте. Если пользователь явно не передал id будильника, то получи метаинформацию об установленных будильниках, вызвав сначала соответствую функцию и только затем используй функцию удаления по id. Если пользователь просит удалить все будильники и в контексте диалога есть необходимые id или пользователь явно передает id будильника, который надо удалить, то вызови эту функцию, переспрашивать пользователя не нужно. В остальных случаях, при наличии необходимых id в контексте диалога и готовности удалить будильник, сначала переспроси пользователя подтверждает ли он удаление будильника и вызывай функцию только при наличии подтверждения от пользователя.\",\n",
    "    \"parameters\": {\n",
    "        \"properties\": {\n",
    "            \"ids\": {\n",
    "                \"description\": \"Список id будильников, которые нужно удалить\",\n",
    "                \"items\": {\"description\": \"Идентификатор id будильника, который нужно удалить\", \"type\": \"string\"},\n",
    "                \"type\": \"array\",\n",
    "            }\n",
    "        },\n",
    "        \"required\": [\"ids\"],\n",
    "        \"type\": \"object\",\n",
    "    },\n",
    "    \"return_parameters\": {\n",
    "        \"description\": \"Ответ на delete_alarm\",\n",
    "        \"properties\": {\n",
    "            \"error\": {\"description\": \"Текст ошибки в случае, если status == fail\", \"type\": \"string\"},\n",
    "            \"ids\": {\n",
    "                \"description\": \"Список id будильников, которые удалились\",\n",
    "                \"items\": {\"description\": \"Идентификатор id будильника, который удалился\", \"type\": \"string\"},\n",
    "                \"type\": \"array\",\n",
    "            },\n",
    "            \"status\": {\n",
    "                \"description\": \"Статус - удалось ли удалить будильник.\",\n",
    "                \"type\": \"string\",\n",
    "                \"enum\": [\"success\", \"fail\"],\n",
    "            },\n",
    "        },\n",
    "        \"required\": [\"status\"],\n",
    "        \"type\": \"object\",\n",
    "    },\n",
    "    \"few_shot_examples\": [],\n",
    "}\n"
   ]
  },
  {
   "cell_type": "code",
   "execution_count": 17,
   "id": "46b04587",
   "metadata": {},
   "outputs": [
    {
     "data": {
      "text/plain": [
       "{'results': [{'name': 'delete_alarm_unknown',\n",
       "   'id': 4,\n",
       "   'version': 1,\n",
       "   'status': 'skipped'}]}"
      ]
     },
     "execution_count": 17,
     "metadata": {},
     "output_type": "execute_result"
    }
   ],
   "source": [
    "from tagme_gigachain.entities import FunctionDef\n",
    "\n",
    "\n",
    "await tagme_trace_client.send_functions(functions=[FunctionDef.from_dict(function_delete_alarm)])"
   ]
  },
  {
   "cell_type": "code",
   "execution_count": 18,
   "id": "b7754352",
   "metadata": {},
   "outputs": [
    {
     "data": {
      "text/plain": [
       "[FunctionResponse(id=1, name='delete_alarm2', version=1, definition={'description': 'Функция удаления будильника по id. Данная функция запускается только при наличии необходимых идентификаторов id будильников в контексте. Если пользователь явно не передал id будильника, то получи метаинформацию об установленных будильниках, вызвав сначала соответствую функцию и только затем используй функцию удаления по id. Если пользователь просит удалить все будильники и в контексте диалога есть необходимые id или пользователь явно передает id будильника, который надо удалить, то вызови эту функцию, переспрашивать пользователя не нужно. В остальных случаях, при наличии необходимых id в контексте диалога и готовности удалить будильник, сначала переспроси пользователя подтверждает ли он удаление будильника и вызывай функцию только при наличии подтверждения от пользователя.', 'parameters': {'properties': {'ids': {'description': 'Список id будильников, которые нужно удалить', 'items': {'description': 'Идентификатор id будильника, который нужно удалить', 'type': 'string'}, 'type': 'array'}}, 'required': ['ids'], 'type': 'object'}, 'return_parameters': {'description': 'Ответ на delete_alarm', 'properties': {'error': {'description': 'Текст ошибки в случае, если status == fail', 'type': 'string'}, 'ids': {'description': 'Список id будильников, которые удалились', 'items': {'description': 'Идентификатор id будильника, который удалился', 'type': 'string'}, 'type': 'array'}, 'status': {'description': 'Статус - удалось ли удалить будильник.', 'type': 'string', 'enum': ['success', 'fail']}}, 'required': ['status'], 'type': 'object'}, 'few_shot_examples': []}, is_active=True, created_at='2025-09-12T13:36:52.115835'),\n",
       " FunctionResponse(id=3, name='delete_alarm_real', version=1, definition={'description': 'Функция удаления будильника по id. Данная функция запускается только при наличии необходимых идентификаторов id будильников в контексте. Если пользователь явно не передал id будильника, то получи метаинформацию об установленных будильниках, вызвав сначала соответствую функцию и только затем используй функцию удаления по id. Если пользователь просит удалить все будильники и в контексте диалога есть необходимые id или пользователь явно передает id будильника, который надо удалить, то вызови эту функцию, переспрашивать пользователя не нужно. В остальных случаях, при наличии необходимых id в контексте диалога и готовности удалить будильник, сначала переспроси пользователя подтверждает ли он удаление будильника и вызывай функцию только при наличии подтверждения от пользователя.', 'parameters': {'properties': {'ids': {'description': 'Список id будильников, которые нужно удалить', 'items': {'description': 'Идентификатор id будильника, который нужно удалить', 'type': 'string'}, 'type': 'array'}}, 'required': ['ids'], 'type': 'object'}, 'return_parameters': {'description': 'Ответ на delete_alarm', 'properties': {'error': {'description': 'Текст ошибки в случае, если status == fail', 'type': 'string'}, 'ids': {'description': 'Список id будильников, которые удалились', 'items': {'description': 'Идентификатор id будильника, который удалился', 'type': 'string'}, 'type': 'array'}, 'status': {'description': 'Статус - удалось ли удалить будильник.', 'type': 'string', 'enum': ['success', 'fail']}}, 'required': ['status'], 'type': 'object'}, 'few_shot_examples': []}, is_active=True, created_at='2025-09-12T15:23:55.482201'),\n",
       " FunctionResponse(id=4, name='delete_alarm_unknown', version=1, definition={'description': 'Функция удаления будильника по id. Данная функция запускается только при наличии необходимых идентификаторов id будильников в контексте. Если пользователь явно не передал id будильника, то получи метаинформацию об установленных будильниках, вызвав сначала соответствую функцию и только затем используй функцию удаления по id. Если пользователь просит удалить все будильники и в контексте диалога есть необходимые id или пользователь явно передает id будильника, который надо удалить, то вызови эту функцию, переспрашивать пользователя не нужно. В остальных случаях, при наличии необходимых id в контексте диалога и готовности удалить будильник, сначала переспроси пользователя подтверждает ли он удаление будильника и вызывай функцию только при наличии подтверждения от пользователя.', 'parameters': {'properties': {'ids': {'description': 'Список id будильников, которые нужно удалить', 'items': {'description': 'Идентификатор id будильника, который нужно удалить', 'type': 'string'}, 'type': 'array'}}, 'required': ['ids'], 'type': 'object'}, 'return_parameters': {'description': 'Ответ на delete_alarm', 'properties': {'error': {'description': 'Текст ошибки в случае, если status == fail', 'type': 'string'}, 'ids': {'description': 'Список id будильников, которые удалились', 'items': {'description': 'Идентификатор id будильника, который удалился', 'type': 'string'}, 'type': 'array'}, 'status': {'description': 'Статус - удалось ли удалить будильник.', 'type': 'string', 'enum': ['success', 'fail']}}, 'required': ['status'], 'type': 'object'}, 'few_shot_examples': []}, is_active=True, created_at='2025-09-12T15:24:20.935593'),\n",
       " FunctionResponse(id=2, name='get_weather', version=1, definition={'description': 'Return weather for a city', 'parameters': {'type': 'object', 'properties': {'city': {'type': 'string'}}, 'required': ['city']}, 'return_parameters': {'type': 'object'}, 'few_shot_examples': None}, is_active=True, created_at='2025-09-12T14:46:03.157073')]"
      ]
     },
     "execution_count": 18,
     "metadata": {},
     "output_type": "execute_result"
    }
   ],
   "source": [
    "await tagme_trace_client.get_functions()"
   ]
  },
  {
   "cell_type": "markdown",
   "id": "ce4f1e90",
   "metadata": {},
   "source": [
    "Уже не будет missing - описание функции подвязалось с использованной в диалоге и будет отправляться разметчикам\n"
   ]
  },
  {
   "cell_type": "code",
   "execution_count": 19,
   "id": "19f198c6",
   "metadata": {},
   "outputs": [
    {
     "data": {
      "text/plain": [
       "{'id': '4829e51c-c948-41df-9322-5e700b0fe728',\n",
       " 'missing': [],\n",
       " 'linked_functions': [{'id': 4, 'name': 'delete_alarm_unknown', 'version': 1}],\n",
       " 'warning': False}"
      ]
     },
     "execution_count": 19,
     "metadata": {},
     "output_type": "execute_result"
    }
   ],
   "source": [
    "await tagme_trace_client.send_dialog(dialog_delete_alarm)"
   ]
  },
  {
   "cell_type": "markdown",
   "id": "8586a041",
   "metadata": {},
   "source": [
    "#### Получение результатов и статистики разметки\n"
   ]
  },
  {
   "cell_type": "code",
   "execution_count": 20,
   "id": "eda764e3",
   "metadata": {},
   "outputs": [
    {
     "data": {
      "text/plain": [
       "[]"
      ]
     },
     "execution_count": 20,
     "metadata": {},
     "output_type": "execute_result"
    }
   ],
   "source": [
    "await tagme_trace_client.get_results()"
   ]
  },
  {
   "cell_type": "code",
   "execution_count": 21,
   "id": "6f9a6ea9",
   "metadata": {},
   "outputs": [
    {
     "data": {
      "text/plain": [
       "[]"
      ]
     },
     "execution_count": 21,
     "metadata": {},
     "output_type": "execute_result"
    }
   ],
   "source": [
    "await tagme_trace_client.get_markup_quality()"
   ]
  },
  {
   "cell_type": "code",
   "execution_count": 22,
   "id": "f8379adf",
   "metadata": {},
   "outputs": [
    {
     "data": {
      "text/plain": [
       "{'task_id': '656d8511-fc9a-4d17-b608-8094b6f6ac23',\n",
       " 'total_dialogs': 49,\n",
       " 'marked_dialogs': 0,\n",
       " 'total_markups': 0,\n",
       " 'accepted_markups': 0,\n",
       " 'overlap': 1}"
      ]
     },
     "execution_count": 22,
     "metadata": {},
     "output_type": "execute_result"
    }
   ],
   "source": [
    "await tagme_trace_client.get_markup_statistics()"
   ]
  }
 ],
 "metadata": {
  "kernelspec": {
   "display_name": ".venv",
   "language": "python",
   "name": "python3"
  },
  "language_info": {
   "codemirror_mode": {
    "name": "ipython",
    "version": 3
   },
   "file_extension": ".py",
   "mimetype": "text/x-python",
   "name": "python",
   "nbconvert_exporter": "python",
   "pygments_lexer": "ipython3",
   "version": "3.11.9"
  }
 },
 "nbformat": 4,
 "nbformat_minor": 5
}
