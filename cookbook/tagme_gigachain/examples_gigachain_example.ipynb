{
 "cells": [
  {
   "cell_type": "code",
   "execution_count": null,
   "id": "fcba3ba3",
   "metadata": {},
   "outputs": [],
   "source": [
    "import os\n",
    "from os import environ\n",
    "from typing import cast\n",
    "\n",
    "from langchain_chroma import Chroma\n",
    "from langchain_core.documents import Document\n",
    "from langchain_core.language_models import LanguageModelInput\n",
    "from langchain_core.messages import BaseMessage\n",
    "from langchain_core.prompts import ChatPromptTemplate\n",
    "from langchain_core.runnables import RunnableLambda, RunnablePassthrough\n",
    "from langchain_gigachat.chat_models import GigaChat\n",
    "from langchain_gigachat.embeddings import GigaChatEmbeddings"
   ]
  },
  {
   "cell_type": "markdown",
   "id": "d6eddca6",
   "metadata": {},
   "source": [
    "### Examples\n"
   ]
  },
  {
   "cell_type": "markdown",
   "id": "a945d530",
   "metadata": {},
   "source": [
    "#### init\n"
   ]
  },
  {
   "cell_type": "markdown",
   "id": "87d1b307",
   "metadata": {},
   "source": [
    "Нужны переменные TAGME_GIGACHAIN_TOKEN и TAGME_GIGACHAIN_BASE_URL. Клиент автоматически поднянет их. Или можно указать напрямую в kwargs клиентов или декораторов"
   ]
  },
  {
   "cell_type": "code",
   "execution_count": 3,
   "id": "99f466a2",
   "metadata": {},
   "outputs": [],
   "source": [
    "token = os.environ.get(\"TAGME_GIGACHAIN_TOKEN\", \"0a3618fa-97a2-404a-b95d-15d0c3a6fa4d\")\n",
    "base_url = os.environ.get(\"TAGME_GIGACHAIN_BASE_URL\", \"http://127.0.0.1:8000/api\")"
   ]
  },
  {
   "cell_type": "code",
   "execution_count": null,
   "id": "6b45ea2d",
   "metadata": {},
   "outputs": [
    {
     "name": "stdout",
     "output_type": "stream",
     "text": [
      "env: TAGME_GIGACHAIN_BASE_URL=http://127.0.0.1:8000/api\n",
      "env: TAGME_GIGACHAIN_TOKEN=0a3618fa-97a2-404a-b95d-15d0c3a6fa4d\n"
     ]
    }
   ],
   "source": [
    "%set_env TAGME_GIGACHAIN_TOKEN=0a3618fa-97a2-404a-b95d-15d0c3a6fa4d\n",
    "%set_env TAGME_GIGACHAIN_BASE_URL=http://127.0.0.1:8000/api"
   ]
  },
  {
   "cell_type": "markdown",
   "id": "06cdc7be",
   "metadata": {},
   "source": [
    "#### формируем пайплайн"
   ]
  },
  {
   "cell_type": "code",
   "execution_count": 4,
   "id": "d6870483",
   "metadata": {},
   "outputs": [
    {
     "data": {
      "text/plain": [
       "[[Document(id='8e2d040d-667a-4a62-8c44-07ab28d014b7', metadata={}, page_content='Кошки — независимые животные, которым нужно собственное пространство.')],\n",
       " [Document(id='72d8f1c2-f108-40ec-a680-6439110d67d5', metadata={}, page_content='Собаки — отличные компаньоны, известные своей преданностью.')]]"
      ]
     },
     "execution_count": 4,
     "metadata": {},
     "output_type": "execute_result"
    }
   ],
   "source": [
    "# Создание документов\n",
    "documents = [\n",
    "    Document(page_content=\"Собаки — отличные компаньоны, известные своей преданностью.\"),\n",
    "    Document(page_content=\"Кошки — независимые животные, которым нужно собственное пространство.\"),\n",
    "    Document(page_content=\"Попугаи — умные птицы, способные имитировать человеческую речь.\"),\n",
    "]\n",
    "\n",
    "# Инициализация модели эмбеддингов\n",
    "embeddings = GigaChatEmbeddings(\n",
    "    credentials=environ.get(\"GIGA_TOKEN\"),\n",
    "    # base_url=\"https://gigachat.devices.sberbank.ru/api\",\n",
    "    # auth_url=\"https://ngw.devices.sberbank.ru:9443/api\",\n",
    "    verify_ssl_certs=False,\n",
    "    scope=\"GIGACHAT_API_CORP\",\n",
    ")\n",
    "\n",
    "# Создание векторного хранилища\n",
    "vectorstore = Chroma.from_documents(documents, embeddings)\n",
    "\n",
    "\n",
    "retriever = RunnableLambda(vectorstore.similarity_search).bind(k=1)  # выбор наиболе подходящего результата\n",
    "\n",
    "retriever.batch([\"кошка\", \"акула\"])"
   ]
  },
  {
   "cell_type": "code",
   "execution_count": 5,
   "id": "07d5ae2e",
   "metadata": {},
   "outputs": [],
   "source": [
    "model = GigaChat(\n",
    "    credentials=environ.get(\"GIGA_TOKEN\"),\n",
    "    verify_ssl_certs=False,\n",
    "    scope=\"GIGACHAT_API_CORP\",\n",
    ")"
   ]
  },
  {
   "cell_type": "code",
   "execution_count": 6,
   "id": "f399c76f",
   "metadata": {},
   "outputs": [],
   "source": [
    "message = \"\"\"\n",
    "Отвечай на вопросы только с помощью полученного контекста.\n",
    "\n",
    "{question}\n",
    "\n",
    "Контекст:\n",
    "{context}\n",
    "\"\"\"\n",
    "\n",
    "prompt = ChatPromptTemplate.from_messages([(\"human\", message), (\"assistant\", \"не могу тебе помочь\"), (\"human\", \"почему?\")])\n",
    "\n",
    "rag_chain = {\"context\": retriever, \"question\": RunnablePassthrough()} | prompt | model\n"
   ]
  },
  {
   "cell_type": "markdown",
   "id": "669e177d",
   "metadata": {},
   "source": [
    "#### Async"
   ]
  },
  {
   "cell_type": "code",
   "execution_count": null,
   "id": "0cdbaa66",
   "metadata": {},
   "outputs": [
    {
     "data": {
      "text/plain": [
       "'Потому что в данном контексте нет дополнительной информации, позволяющей описать кошек двумя словами. Из предоставленного описания («кошки — независимые животные, которым нужно собственное пространство») невозможно однозначно выделить именно два слова, характеризующих кошек во всей полноте их особенностей.'"
      ]
     },
     "execution_count": 7,
     "metadata": {},
     "output_type": "execute_result"
    }
   ],
   "source": [
    "from tagme_gigachain import tagme_trace_async\n",
    "\n",
    "\n",
    "@tagme_trace_async(token=token, metadata={\"model\": \"GigaChat-2\"}, base_url=base_url)\n",
    "async def run_model_async(input: LanguageModelInput) -> BaseMessage:\n",
    "    return await model.ainvoke(input)\n",
    "\n",
    "\n",
    "rag_chain = {\"context\": retriever, \"question\": RunnablePassthrough()} | prompt | run_model_async\n",
    "\n",
    "response = cast(BaseMessage, await rag_chain.ainvoke(\"Опиши кошек двумя словами\"))\n",
    "\n",
    "response.content"
   ]
  },
  {
   "cell_type": "markdown",
   "id": "6f361025",
   "metadata": {},
   "source": [
    "#### Sync\n"
   ]
  },
  {
   "cell_type": "code",
   "execution_count": 10,
   "id": "d486d6fa",
   "metadata": {},
   "outputs": [
    {
     "data": {
      "text/plain": [
       "'Потому что в представленном контексте содержится лишь информация о кошках как о независимых животных, нуждающихся в собственном пространстве. Однако одного слова недостаточно, чтобы обобщённо описать характер и поведение всех кошек. В данном случае использование единственного термина приведёт к упрощению и искажению восприятия кошек как живых существ. Если нужно конкретное слово, попробуй уточнить вопрос, указав направление описания (например: ласковые, игривые, домашние, дикие).'"
      ]
     },
     "execution_count": 10,
     "metadata": {},
     "output_type": "execute_result"
    }
   ],
   "source": [
    "from tagme_gigachain import tagme_trace\n",
    "\n",
    "\n",
    "@tagme_trace(token=token, metadata={\"model\": \"GigaChat-2\"})\n",
    "def run_model_sync(input: LanguageModelInput) -> BaseMessage:\n",
    "    return model.invoke(input)\n",
    "\n",
    "\n",
    "rag_chain = {\"context\": retriever, \"question\": RunnablePassthrough()} | prompt | run_model_sync\n",
    "\n",
    "response = rag_chain.invoke(\"Опиши кошек одним словом\")\n",
    "\n",
    "response.content"
   ]
  },
  {
   "cell_type": "markdown",
   "id": "1b482920",
   "metadata": {},
   "source": [
    "#### Прямой запрос\n"
   ]
  },
  {
   "cell_type": "markdown",
   "id": "70fc0c04",
   "metadata": {},
   "source": [
    "##### Отправка диалога"
   ]
  },
  {
   "cell_type": "code",
   "execution_count": 11,
   "id": "56f9c1c1",
   "metadata": {},
   "outputs": [],
   "source": [
    "from tagme_gigachain import TagmeIntegrationClientAsync, TagmeIntegrationClientSync"
   ]
  },
  {
   "cell_type": "code",
   "execution_count": 12,
   "id": "dae0e8ea",
   "metadata": {},
   "outputs": [],
   "source": [
    "tagme_trace_client = TagmeIntegrationClientAsync(token)"
   ]
  },
  {
   "cell_type": "code",
   "execution_count": 19,
   "id": "c2b468c2",
   "metadata": {},
   "outputs": [],
   "source": [
    "dialog_delete_alarm = {\n",
    "    \"input\": [\n",
    "        {\"role\": \"system\", \"content\": \"You are a smart home assistant.\"},\n",
    "        {\"role\": \"user\", \"content\": \"Удалите будильник на 7 утра.\"},\n",
    "        {\n",
    "            \"role\": \"assistant\",\n",
    "            \"content\": None,\n",
    "            \"function_call\": {\"name\": \"delete_alarm_unknown\", \"arguments\": {\"time\": \"07:00\"}},\n",
    "        },\n",
    "        {\n",
    "            \"role\": \"function\",\n",
    "            \"content\": None,\n",
    "            \"function_result\": {\"name\": \"delete_alarm_unknown\", \"result\": {\"status\": \"success\"}},\n",
    "        },\n",
    "        {\"role\": \"assistant\", \"content\": \"Будильник на 7:00 удалён.\"},\n",
    "    ],\n",
    "    \"metadata\": {\"test\": \"delete_alarm_unknown\"},\n",
    "}"
   ]
  },
  {
   "cell_type": "code",
   "execution_count": 20,
   "id": "e520c2f2",
   "metadata": {},
   "outputs": [
    {
     "data": {
      "text/plain": [
       "{'id': '395800b2-b562-447d-acf2-cff46ac3696e',\n",
       " 'missing': ['delete_alarm_unknown'],\n",
       " 'linked_functions': [],\n",
       " 'warning': True}"
      ]
     },
     "execution_count": 20,
     "metadata": {},
     "output_type": "execute_result"
    }
   ],
   "source": [
    "await tagme_trace_client.send_dialog(dialog_delete_alarm)"
   ]
  },
  {
   "cell_type": "markdown",
   "id": "5dddc68b",
   "metadata": {},
   "source": [
    "##### Отравка описания функции на сервер"
   ]
  },
  {
   "cell_type": "code",
   "execution_count": 28,
   "id": "dce1968f",
   "metadata": {},
   "outputs": [],
   "source": [
    "function_delete_alarm = {\n",
    "  \"name\": \"delete_alarm_unknown\",\n",
    "  \"description\": \"Функция удаления будильника по id. Данная функция запускается только при наличии необходимых идентификаторов id будильников в контексте. Если пользователь явно не передал id будильника, то получи метаинформацию об установленных будильниках, вызвав сначала соответствую функцию и только затем используй функцию удаления по id. Если пользователь просит удалить все будильники и в контексте диалога есть необходимые id или пользователь явно передает id будильника, который надо удалить, то вызови эту функцию, переспрашивать пользователя не нужно. В остальных случаях, при наличии необходимых id в контексте диалога и готовности удалить будильник, сначала переспроси пользователя подтверждает ли он удаление будильника и вызывай функцию только при наличии подтверждения от пользователя.\",\n",
    "  \"parameters\": {\n",
    "    \"properties\": {\n",
    "      \"ids\": {\n",
    "        \"description\": \"Список id будильников, которые нужно удалить\",\n",
    "        \"items\": {\n",
    "          \"description\": \"Идентификатор id будильника, который нужно удалить\",\n",
    "          \"type\": \"string\"\n",
    "        },\n",
    "        \"type\": \"array\"\n",
    "      }\n",
    "    },\n",
    "    \"required\": [\"ids\"],\n",
    "    \"type\": \"object\"\n",
    "  },\n",
    "  \"return_parameters\": {\n",
    "    \"description\": \"Ответ на delete_alarm\",\n",
    "    \"properties\": {\n",
    "      \"error\": {\n",
    "        \"description\": \"Текст ошибки в случае, если status == fail\",\n",
    "        \"type\": \"string\"\n",
    "      },\n",
    "      \"ids\": {\n",
    "        \"description\": \"Список id будильников, которые удалились\",\n",
    "        \"items\": {\n",
    "          \"description\": \"Идентификатор id будильника, который удалился\",\n",
    "          \"type\": \"string\"\n",
    "        },\n",
    "        \"type\": \"array\"\n",
    "      },\n",
    "      \"status\": {\n",
    "        \"description\": \"Статус - удалось ли удалить будильник.\",\n",
    "        \"type\": \"string\",\n",
    "        \"enum\": [\"success\", \"fail\"]\n",
    "      }\n",
    "    },\n",
    "    \"required\": [\"status\"],\n",
    "    \"type\": \"object\"\n",
    "  },\n",
    "  \"few_shot_examples\": []\n",
    "}\n"
   ]
  },
  {
   "cell_type": "code",
   "execution_count": 29,
   "id": "46b04587",
   "metadata": {},
   "outputs": [],
   "source": [
    "from tagme_gigachain.types import FunctionDef\n",
    "\n",
    "\n",
    "await tagme_trace_client.send_functions(\n",
    "    functions=[\n",
    "        FunctionDef.from_dict(function_delete_alarm)\n",
    "    ]\n",
    ")"
   ]
  },
  {
   "cell_type": "code",
   "execution_count": 30,
   "id": "b7754352",
   "metadata": {},
   "outputs": [
    {
     "data": {
      "text/plain": [
       "[FunctionResponse(id=1, name='delete_alarm2', version=1, definition={'description': 'Функция удаления будильника по id. Данная функция запускается только при наличии необходимых идентификаторов id будильников в контексте. Если пользователь явно не передал id будильника, то получи метаинформацию об установленных будильниках, вызвав сначала соответствую функцию и только затем используй функцию удаления по id. Если пользователь просит удалить все будильники и в контексте диалога есть необходимые id или пользователь явно передает id будильника, который надо удалить, то вызови эту функцию, переспрашивать пользователя не нужно. В остальных случаях, при наличии необходимых id в контексте диалога и готовности удалить будильник, сначала переспроси пользователя подтверждает ли он удаление будильника и вызывай функцию только при наличии подтверждения от пользователя.', 'parameters': {'properties': {'ids': {'description': 'Список id будильников, которые нужно удалить', 'items': {'description': 'Идентификатор id будильника, который нужно удалить', 'type': 'string'}, 'type': 'array'}}, 'required': ['ids'], 'type': 'object'}, 'return_parameters': {'description': 'Ответ на delete_alarm', 'properties': {'error': {'description': 'Текст ошибки в случае, если status == fail', 'type': 'string'}, 'ids': {'description': 'Список id будильников, которые удалились', 'items': {'description': 'Идентификатор id будильника, который удалился', 'type': 'string'}, 'type': 'array'}, 'status': {'description': 'Статус - удалось ли удалить будильник.', 'type': 'string', 'enum': ['success', 'fail']}}, 'required': ['status'], 'type': 'object'}, 'few_shot_examples': []}, is_active=True, created_at='2025-09-12T13:36:52.115835'),\n",
       " FunctionResponse(id=3, name='delete_alarm_real', version=1, definition={'description': 'Функция удаления будильника по id. Данная функция запускается только при наличии необходимых идентификаторов id будильников в контексте. Если пользователь явно не передал id будильника, то получи метаинформацию об установленных будильниках, вызвав сначала соответствую функцию и только затем используй функцию удаления по id. Если пользователь просит удалить все будильники и в контексте диалога есть необходимые id или пользователь явно передает id будильника, который надо удалить, то вызови эту функцию, переспрашивать пользователя не нужно. В остальных случаях, при наличии необходимых id в контексте диалога и готовности удалить будильник, сначала переспроси пользователя подтверждает ли он удаление будильника и вызывай функцию только при наличии подтверждения от пользователя.', 'parameters': {'properties': {'ids': {'description': 'Список id будильников, которые нужно удалить', 'items': {'description': 'Идентификатор id будильника, который нужно удалить', 'type': 'string'}, 'type': 'array'}}, 'required': ['ids'], 'type': 'object'}, 'return_parameters': {'description': 'Ответ на delete_alarm', 'properties': {'error': {'description': 'Текст ошибки в случае, если status == fail', 'type': 'string'}, 'ids': {'description': 'Список id будильников, которые удалились', 'items': {'description': 'Идентификатор id будильника, который удалился', 'type': 'string'}, 'type': 'array'}, 'status': {'description': 'Статус - удалось ли удалить будильник.', 'type': 'string', 'enum': ['success', 'fail']}}, 'required': ['status'], 'type': 'object'}, 'few_shot_examples': []}, is_active=True, created_at='2025-09-12T15:23:55.482201'),\n",
       " FunctionResponse(id=4, name='delete_alarm_unknown', version=1, definition={'description': 'Функция удаления будильника по id. Данная функция запускается только при наличии необходимых идентификаторов id будильников в контексте. Если пользователь явно не передал id будильника, то получи метаинформацию об установленных будильниках, вызвав сначала соответствую функцию и только затем используй функцию удаления по id. Если пользователь просит удалить все будильники и в контексте диалога есть необходимые id или пользователь явно передает id будильника, который надо удалить, то вызови эту функцию, переспрашивать пользователя не нужно. В остальных случаях, при наличии необходимых id в контексте диалога и готовности удалить будильник, сначала переспроси пользователя подтверждает ли он удаление будильника и вызывай функцию только при наличии подтверждения от пользователя.', 'parameters': {'properties': {'ids': {'description': 'Список id будильников, которые нужно удалить', 'items': {'description': 'Идентификатор id будильника, который нужно удалить', 'type': 'string'}, 'type': 'array'}}, 'required': ['ids'], 'type': 'object'}, 'return_parameters': {'description': 'Ответ на delete_alarm', 'properties': {'error': {'description': 'Текст ошибки в случае, если status == fail', 'type': 'string'}, 'ids': {'description': 'Список id будильников, которые удалились', 'items': {'description': 'Идентификатор id будильника, который удалился', 'type': 'string'}, 'type': 'array'}, 'status': {'description': 'Статус - удалось ли удалить будильник.', 'type': 'string', 'enum': ['success', 'fail']}}, 'required': ['status'], 'type': 'object'}, 'few_shot_examples': []}, is_active=True, created_at='2025-09-12T15:24:20.935593'),\n",
       " FunctionResponse(id=2, name='get_weather', version=1, definition={'description': 'Return weather for a city', 'parameters': {'type': 'object', 'properties': {'city': {'type': 'string'}}, 'required': ['city']}, 'return_parameters': {'type': 'object'}, 'few_shot_examples': None}, is_active=True, created_at='2025-09-12T14:46:03.157073')]"
      ]
     },
     "execution_count": 30,
     "metadata": {},
     "output_type": "execute_result"
    }
   ],
   "source": [
    "await tagme_trace_client.get_functions()"
   ]
  },
  {
   "cell_type": "markdown",
   "id": "ce4f1e90",
   "metadata": {},
   "source": [
    "Уже не будет missing - описание функции подвязалось с использованной в диалоге и будет отправляться разметчикам"
   ]
  },
  {
   "cell_type": "code",
   "execution_count": 31,
   "id": "19f198c6",
   "metadata": {},
   "outputs": [
    {
     "data": {
      "text/plain": [
       "{'id': '4439326a-8ff4-4814-b67d-5aae5b6e3a33',\n",
       " 'missing': [],\n",
       " 'linked_functions': [{'id': 4, 'name': 'delete_alarm_unknown', 'version': 1}],\n",
       " 'warning': False}"
      ]
     },
     "execution_count": 31,
     "metadata": {},
     "output_type": "execute_result"
    }
   ],
   "source": [
    "await tagme_trace_client.send_dialog(dialog_delete_alarm)"
   ]
  },
  {
   "cell_type": "markdown",
   "id": "8586a041",
   "metadata": {},
   "source": [
    "#### Получение результатов и статистики разметки"
   ]
  },
  {
   "cell_type": "code",
   "execution_count": 37,
   "id": "eda764e3",
   "metadata": {},
   "outputs": [
    {
     "data": {
      "text/plain": [
       "[]"
      ]
     },
     "execution_count": 37,
     "metadata": {},
     "output_type": "execute_result"
    }
   ],
   "source": [
    "await tagme_trace_client.get_results()"
   ]
  },
  {
   "cell_type": "code",
   "execution_count": 34,
   "id": "6f9a6ea9",
   "metadata": {},
   "outputs": [
    {
     "data": {
      "text/plain": [
       "[]"
      ]
     },
     "execution_count": 34,
     "metadata": {},
     "output_type": "execute_result"
    }
   ],
   "source": [
    "await tagme_trace_client.get_markup_quality()"
   ]
  },
  {
   "cell_type": "code",
   "execution_count": 36,
   "id": "f8379adf",
   "metadata": {},
   "outputs": [
    {
     "data": {
      "text/plain": [
       "{'task_id': '656d8511-fc9a-4d17-b608-8094b6f6ac23',\n",
       " 'total_dialogs': 39,\n",
       " 'marked_dialogs': 0,\n",
       " 'total_markups': 0,\n",
       " 'accepted_markups': 0,\n",
       " 'overlap': 1}"
      ]
     },
     "execution_count": 36,
     "metadata": {},
     "output_type": "execute_result"
    }
   ],
   "source": [
    "await tagme_trace_client.get_markup_statistics()"
   ]
  }
 ],
 "metadata": {
  "kernelspec": {
   "display_name": ".venv",
   "language": "python",
   "name": "python3"
  },
  "language_info": {
   "codemirror_mode": {
    "name": "ipython",
    "version": 3
   },
   "file_extension": ".py",
   "mimetype": "text/x-python",
   "name": "python",
   "nbconvert_exporter": "python",
   "pygments_lexer": "ipython3",
   "version": "3.11.9"
  }
 },
 "nbformat": 4,
 "nbformat_minor": 5
}
